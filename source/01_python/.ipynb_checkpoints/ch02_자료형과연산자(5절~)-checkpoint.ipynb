{
 "cells": [
  {
   "cell_type": "code",
   "execution_count": 1,
   "id": "31015405",
   "metadata": {},
   "outputs": [
    {
     "data": {
      "text/html": [
       "\n",
       "<style>\n",
       "div.container{width:86% !important;}\n",
       "div.cell.code_cell.rendered{width:100%;}\n",
       "div.CodeMirror {font family: Consolas; font-size:12pt;}\n",
       "div.output {font-size:12pt; font-weight:bold;}\n",
       "div.input {font-family: Consolas; font-size:12pt;}\n",
       "div.prompt {min-width:70px;}\n",
       "div#toc-wrapper{padding top:120px;}\n",
       "div.text_cell_render ul li {font-size:12pt;padding:5px;}\n",
       "table.dataframe{font-size:12px;}\n",
       "</style>\n"
      ],
      "text/plain": [
       "<IPython.core.display.HTML object>"
      ]
     },
     "metadata": {},
     "output_type": "display_data"
    }
   ],
   "source": [
    "from IPython.display import display, HTML\n",
    "display(HTML(\"\"\"\n",
    "<style>\n",
    "div.container{width:86% !important;}\n",
    "div.cell.code_cell.rendered{width:100%;}\n",
    "div.CodeMirror {font family: Consolas; font-size:12pt;}\n",
    "div.output {font-size:12pt; font-weight:bold;}\n",
    "div.input {font-family: Consolas; font-size:12pt;}\n",
    "div.prompt {min-width:70px;}\n",
    "div#toc-wrapper{padding top:120px;}\n",
    "div.text_cell_render ul li {font-size:12pt;padding:5px;}\n",
    "table.dataframe{font-size:12px;}\n",
    "</style>\n",
    "\"\"\"))"
   ]
  },
  {
   "cell_type": "markdown",
   "id": "e3715115",
   "metadata": {},
   "source": [
    "<font size=\"5\" color=\"red\">ch02 자료형과 연산자</font>\n",
    "\n",
    "# 5절. 연산자\n",
    "## 5.1 산술연산자 : +, -, *, /, //(몫연산자), %(나머지), **(제곱)\n"
   ]
  },
  {
   "cell_type": "code",
   "execution_count": 115,
   "id": "82be097d",
   "metadata": {},
   "outputs": [
    {
     "name": "stdout",
     "output_type": "stream",
     "text": [
      "10의 5승 :  100000\n",
      "4/2(결과 실수) : 2.0\n",
      "4//2(몫) : 2\n",
      "4%2(나머지) : 0\n"
     ]
    }
   ],
   "source": [
    "print('10의 5승 : ', 10**5)\n",
    "print('4/2(결과 실수) :', 4/2)\n",
    "print('4//2(몫) :', 4//2)\n",
    "print('4%2(나머지) :', 4%2)"
   ]
  },
  {
   "cell_type": "markdown",
   "id": "38cb8e65",
   "metadata": {},
   "source": [
    "#### quiz 1. 정수를 입력받아 짝수인지 홀수인지 여부를 출력"
   ]
  },
  {
   "cell_type": "code",
   "execution_count": 116,
   "id": "2cca5403",
   "metadata": {},
   "outputs": [
    {
     "name": "stdout",
     "output_type": "stream",
     "text": [
      "정수를 입력하세요 :\n"
     ]
    },
    {
     "ename": "ValueError",
     "evalue": "invalid literal for int() with base 10: ''",
     "output_type": "error",
     "traceback": [
      "\u001b[1;31m------------------------------------------------------------------\u001b[0m",
      "\u001b[1;31mValueError\u001b[0m                       Traceback (most recent call last)",
      "Cell \u001b[1;32mIn[116], line 2\u001b[0m\n\u001b[0;32m      1\u001b[0m \u001b[38;5;66;03m# quiz 1. 정수를 입력받아 짝수인지 홀수인지 여부를 출력\u001b[39;00m\n\u001b[1;32m----> 2\u001b[0m num \u001b[38;5;241m=\u001b[39m \u001b[38;5;28;43mint\u001b[39;49m\u001b[43m(\u001b[49m\u001b[38;5;28;43minput\u001b[39;49m\u001b[43m(\u001b[49m\u001b[38;5;124;43m'\u001b[39;49m\u001b[38;5;124;43m정수를 입력하세요 :\u001b[39;49m\u001b[38;5;124;43m'\u001b[39;49m\u001b[43m)\u001b[49m\u001b[43m)\u001b[49m \n\u001b[0;32m      3\u001b[0m result \u001b[38;5;241m=\u001b[39m num\u001b[38;5;241m%\u001b[39m\u001b[38;5;241m2\u001b[39m \u001b[38;5;66;03m# if 는 0은 False 1은 True\u001b[39;00m\n\u001b[0;32m      4\u001b[0m \u001b[38;5;28;01mif\u001b[39;00m result\u001b[38;5;241m==\u001b[39m\u001b[38;5;241m1\u001b[39m:\n",
      "\u001b[1;31mValueError\u001b[0m: invalid literal for int() with base 10: ''"
     ]
    }
   ],
   "source": [
    "# quiz 1. 정수를 입력받아 짝수인지 홀수인지 여부를 출력\n",
    "num = int(input('정수를 입력하세요 :')) \n",
    "result = num%2 # if 는 0은 False 1은 True\n",
    "if result==1:\n",
    "    temp = \"홀수\"\n",
    "\n",
    "else:\n",
    "    temp = \"짝수\"\n",
    "print(f\"입력하신 수는 {num}, 2로 나눈 나머지는 {result}, 그래서 {temp}를 입력하셨군요\")"
   ]
  },
  {
   "cell_type": "markdown",
   "id": "bdc14df1",
   "metadata": {},
   "source": [
    "#### quiz 2정수를 입력받아 5의 배수인지 여부를 출력"
   ]
  },
  {
   "cell_type": "code",
   "execution_count": 117,
   "id": "b1567710",
   "metadata": {},
   "outputs": [
    {
     "name": "stdout",
     "output_type": "stream",
     "text": [
      "정수를 입력하세요 :\n"
     ]
    },
    {
     "ename": "ValueError",
     "evalue": "invalid literal for int() with base 10: ''",
     "output_type": "error",
     "traceback": [
      "\u001b[1;31m------------------------------------------------------------------\u001b[0m",
      "\u001b[1;31mValueError\u001b[0m                       Traceback (most recent call last)",
      "Cell \u001b[1;32mIn[117], line 2\u001b[0m\n\u001b[0;32m      1\u001b[0m \u001b[38;5;66;03m# 정수를 입력받아 5의 배수인지 여부를 출력\u001b[39;00m\n\u001b[1;32m----> 2\u001b[0m num \u001b[38;5;241m=\u001b[39m \u001b[38;5;28;43mint\u001b[39;49m\u001b[43m(\u001b[49m\u001b[38;5;28;43minput\u001b[39;49m\u001b[43m(\u001b[49m\u001b[38;5;124;43m'\u001b[39;49m\u001b[38;5;124;43m정수를 입력하세요 :\u001b[39;49m\u001b[38;5;124;43m'\u001b[39;49m\u001b[43m)\u001b[49m\u001b[43m)\u001b[49m\n\u001b[0;32m      3\u001b[0m result \u001b[38;5;241m=\u001b[39m num\u001b[38;5;241m%\u001b[39m\u001b[38;5;241m5\u001b[39m\n\u001b[0;32m      4\u001b[0m \u001b[38;5;28;01mif\u001b[39;00m result:\n",
      "\u001b[1;31mValueError\u001b[0m: invalid literal for int() with base 10: ''"
     ]
    }
   ],
   "source": [
    "# 정수를 입력받아 5의 배수인지 여부를 출력\n",
    "num = int(input('정수를 입력하세요 :'))\n",
    "result = num%5\n",
    "if result:\n",
    "    temp = \"5의 배수가 아닙니다\"\n",
    "    \n",
    "else:\n",
    "    temp = \"5의 배수가 맞습니다\"\n",
    "print('입력하신 수는 {}, 5를 나누어보면 값은 {}, 그래서 {}'.format(num, result, temp))"
   ]
  },
  {
   "cell_type": "markdown",
   "id": "988a0a08",
   "metadata": {},
   "source": [
    "#### quiz3 국, 영, 수 점수를 입력받아 다음셀에서 다음과 같이 출력하도록 구현하시오"
   ]
  },
  {
   "cell_type": "code",
   "execution_count": 118,
   "id": "0701a9af",
   "metadata": {},
   "outputs": [
    {
     "name": "stdout",
     "output_type": "stream",
     "text": [
      "국어 점수를 입력해주세요 \n"
     ]
    },
    {
     "ename": "ValueError",
     "evalue": "invalid literal for int() with base 10: ''",
     "output_type": "error",
     "traceback": [
      "\u001b[1;31m------------------------------------------------------------------\u001b[0m",
      "\u001b[1;31mValueError\u001b[0m                       Traceback (most recent call last)",
      "Cell \u001b[1;32mIn[118], line 2\u001b[0m\n\u001b[0;32m      1\u001b[0m \u001b[38;5;66;03m# 국, 영, 수 점수를 입력받아 다음셀에서 다음과 같이 출력하도록 구현하시오\u001b[39;00m\n\u001b[1;32m----> 2\u001b[0m korlanguage \u001b[38;5;241m=\u001b[39m \u001b[38;5;28;43mint\u001b[39;49m\u001b[43m(\u001b[49m\u001b[38;5;28;43minput\u001b[39;49m\u001b[43m(\u001b[49m\u001b[38;5;124;43m'\u001b[39;49m\u001b[38;5;124;43m국어 점수를 입력해주세요 \u001b[39;49m\u001b[38;5;124;43m'\u001b[39;49m\u001b[43m)\u001b[49m\u001b[43m)\u001b[49m\n\u001b[0;32m      3\u001b[0m english \u001b[38;5;241m=\u001b[39m \u001b[38;5;28mint\u001b[39m(\u001b[38;5;28minput\u001b[39m(\u001b[38;5;124m'\u001b[39m\u001b[38;5;124m영어 점수를 입력해주세요 \u001b[39m\u001b[38;5;124m'\u001b[39m))\n\u001b[0;32m      4\u001b[0m math_ \u001b[38;5;241m=\u001b[39m \u001b[38;5;28mint\u001b[39m(\u001b[38;5;28minput\u001b[39m(\u001b[38;5;124m'\u001b[39m\u001b[38;5;124m수학 점수를 입력해주세요 \u001b[39m\u001b[38;5;124m'\u001b[39m))\n",
      "\u001b[1;31mValueError\u001b[0m: invalid literal for int() with base 10: ''"
     ]
    }
   ],
   "source": [
    "# 국, 영, 수 점수를 입력받아 다음셀에서 다음과 같이 출력하도록 구현하시오\n",
    "korlanguage = int(input('국어 점수를 입력해주세요 '))\n",
    "english = int(input('영어 점수를 입력해주세요 '))\n",
    "math_ = int(input('수학 점수를 입력해주세요 '))\n",
    "sum_ = (korlanguage + english + math_)\n",
    "per_ = sum_/3"
   ]
  },
  {
   "cell_type": "code",
   "execution_count": 119,
   "id": "972b07ab",
   "metadata": {},
   "outputs": [
    {
     "name": "stdout",
     "output_type": "stream",
     "text": [
      "국어: 10\t 영어 20\t 수학100\t\n",
      "총점:130\t 평균 43.3\t\n"
     ]
    }
   ],
   "source": [
    "print(\"국어:{0:3}\\t 영어{1:3}\\t 수학{2:3}\\t\".format(korlanguage, english, math_))\n",
    "print(\"총점:{0:3}\\t 평균{1:>5.1f}\\t\".format(sum_, per_))"
   ]
  },
  {
   "cell_type": "code",
   "execution_count": 120,
   "id": "3f3d1a51",
   "metadata": {},
   "outputs": [
    {
     "name": "stdout",
     "output_type": "stream",
     "text": [
      "국어: 10\t영어: 20\t수학:100\n",
      "총점:130\t평균: 43.3\n"
     ]
    }
   ],
   "source": [
    "print(\"국어:{:3d}\\t영어:{:3d}\\t수학:{:3d}\".format(korlanguage, english, math_))\n",
    "print(\"총점:{:3d}\\t평균:{:5.1f}\".format(sum_, per_))"
   ]
  },
  {
   "cell_type": "code",
   "execution_count": 121,
   "id": "4fd8c787",
   "metadata": {},
   "outputs": [
    {
     "name": "stdout",
     "output_type": "stream",
     "text": [
      "    국어: 10\t영어: 20\t수학:100\n",
      "    총점:130\t평균: 43.3\n"
     ]
    }
   ],
   "source": [
    "print(\"\"\"    국어:{:3d}\\t영어:{:3d}\\t수학:{:3d}\n",
    "    총점:{:3d}\\t평균:{:5.1f}\"\"\".format(korlanguage, english, math_, sum_, per_))"
   ]
  },
  {
   "cell_type": "markdown",
   "id": "f9524b9f",
   "metadata": {},
   "source": [
    "## 5.2 할당연산자 : =, +=, -=, *=, /=, //=, %="
   ]
  },
  {
   "cell_type": "code",
   "execution_count": 122,
   "id": "5fc70288",
   "metadata": {},
   "outputs": [
    {
     "name": "stdout",
     "output_type": "stream",
     "text": [
      "5더하기 : 15\n"
     ]
    }
   ],
   "source": [
    "a = 10\n",
    "a += 5 # a = a+5\n",
    "print('5더하기 :', a)"
   ]
  },
  {
   "cell_type": "code",
   "execution_count": 123,
   "id": "1e8362b7",
   "metadata": {},
   "outputs": [
    {
     "name": "stdout",
     "output_type": "stream",
     "text": [
      "5빼기 : 10\n",
      "5배 : 50\n"
     ]
    }
   ],
   "source": [
    "a -= 5 # a = a - 5\n",
    "print('5빼기 :', a)\n",
    "a *= 5 # a = a*5\n",
    "print('5배 :', a)"
   ]
  },
  {
   "cell_type": "markdown",
   "id": "88fda5b9",
   "metadata": {},
   "source": [
    "## 5.3 논리연산자 : &(and), and(short circuit), |(or), or(short circuit), not"
   ]
  },
  {
   "cell_type": "code",
   "execution_count": 124,
   "id": "a6c1c282",
   "metadata": {},
   "outputs": [
    {
     "name": "stdout",
     "output_type": "stream",
     "text": [
      "True\n",
      "0\n"
     ]
    }
   ],
   "source": [
    "# & 논리연산, 비트연산자\n",
    "print((10>3) & (10>5)) # 논리연산 True & True\n",
    "print(12 & 1) # 비트연산 12 : 0000 1100\n",
    "              #           1 : 0000 0001\n",
    "              #      12 & 1 : 0000 0000"
   ]
  },
  {
   "cell_type": "code",
   "execution_count": 125,
   "id": "a443e44e",
   "metadata": {},
   "outputs": [
    {
     "name": "stdout",
     "output_type": "stream",
     "text": [
      "3\n",
      "0\n",
      "abc\n",
      "False\n",
      "[]\n"
     ]
    }
   ],
   "source": [
    "# 논리연산\n",
    "# and : 거짓(False)으로 판별되는 첫번째 항의 결과 반환\n",
    "#       모든 항이 참이면 마지막 항을 반환 \n",
    "print(True and 99 and 3)\n",
    "print(0 and True)\n",
    "print(True and 'abc')\n",
    "print(True and False and True) # 처음이 True(1)일경우 False값이 나오는 순간 이후는 관계없음\n",
    "print(True and [] and True and True and True)"
   ]
  },
  {
   "cell_type": "code",
   "execution_count": 126,
   "id": "336b2215",
   "metadata": {},
   "outputs": [
    {
     "name": "stdout",
     "output_type": "stream",
     "text": [
      "True True\n",
      "논리연산(연산자 앞뒤에 논리형일 때) : True\n",
      "비트연산(연산자 앞이나 뒤에 숫자일 때) : 3\n"
     ]
    }
   ],
   "source": [
    "# | : 논리연산, 비트연산\n",
    "result = False | True\n",
    "print(result, True | False)\n",
    "print('논리연산(연산자 앞뒤에 논리형일 때) :', result)\n",
    "result = False | 3 # 0000 0000 (False)\n",
    "                    # 0000 0011 (3)\n",
    "print('비트연산(연산자 앞이나 뒤에 숫자일 때) :', result)"
   ]
  },
  {
   "cell_type": "code",
   "execution_count": 127,
   "id": "e95291cd",
   "metadata": {},
   "outputs": [
    {
     "name": "stdout",
     "output_type": "stream",
     "text": [
      "None\n",
      "Hong\n"
     ]
    }
   ],
   "source": [
    "# or : 논리연산, 참으로 판별되는 첫번째 항을 반환\n",
    "#      모든 항이 거짓이면, 마지막항을 반환\n",
    "print(False or False or None)\n",
    "print('Hong' or ' ' or False)"
   ]
  },
  {
   "cell_type": "code",
   "execution_count": 128,
   "id": "73942139",
   "metadata": {},
   "outputs": [
    {
     "name": "stdout",
     "output_type": "stream",
     "text": [
      "False\n",
      "True\n"
     ]
    }
   ],
   "source": [
    "print(not True)\n",
    "print(not False)"
   ]
  },
  {
   "cell_type": "markdown",
   "id": "c4749a09",
   "metadata": {},
   "source": [
    "## 5.4 비교연산자 : >, >=, <, <=, ==(같다), !=(다르다)"
   ]
  },
  {
   "cell_type": "code",
   "execution_count": 129,
   "id": "dc1caf70",
   "metadata": {},
   "outputs": [
    {
     "name": "stdout",
     "output_type": "stream",
     "text": [
      "True\n",
      "True\n"
     ]
    }
   ],
   "source": [
    "# 비교연산자는 이항, 삼항, 사항... 다항연산자\n",
    "x = 5\n",
    "print((4<x) & (x<10)) #java\n",
    "print(4 < x < 10)"
   ]
  },
  {
   "cell_type": "code",
   "execution_count": 130,
   "id": "d0c09e6d",
   "metadata": {},
   "outputs": [
    {
     "name": "stdout",
     "output_type": "stream",
     "text": [
      "True\n",
      "False\n",
      "False\n",
      "True\n"
     ]
    }
   ],
   "source": [
    "# 비교연산자(<)의 우선순위가 논리연산(&)의 우선순위보다 낮다\n",
    "print((10>5) & (10>7)) #반드시 괄호를 쳐야한다\n",
    "print(10>5 & 10>7) # 0101\n",
    "                   # 1010\n",
    "print(10> 0> 7)\n",
    "print(10>5 and 10>7)"
   ]
  },
  {
   "cell_type": "code",
   "execution_count": 132,
   "id": "7d0a4d56",
   "metadata": {},
   "outputs": [
    {
     "name": "stdout",
     "output_type": "stream",
     "text": [
      "False\n",
      "False\n"
     ]
    }
   ],
   "source": [
    "adress = '서울'\n",
    "age = 29\n",
    "# print(adress=='서울' & age>=30) => Error\n",
    "print((adress=='서울') & (age>=30)) #우선순위 때문에 무조건 괄호를 해야함\n",
    "print((adress!='서울') & (age>=30))"
   ]
  },
  {
   "cell_type": "code",
   "execution_count": 134,
   "id": "249e9fd2",
   "metadata": {},
   "outputs": [
    {
     "data": {
      "text/plain": [
       "True"
      ]
     },
     "execution_count": 134,
     "metadata": {},
     "output_type": "execute_result"
    }
   ],
   "source": [
    "# 문자 비교 : ASCII 코드 순으로 비교 가능 : 특수문자 < 숫자 < 대문자 < 소문자\n",
    "'scott' < 'sctiger'"
   ]
  },
  {
   "cell_type": "code",
   "execution_count": 135,
   "id": "4d7d4e64",
   "metadata": {},
   "outputs": [
    {
     "data": {
      "text/plain": [
       "True"
      ]
     },
     "execution_count": 135,
     "metadata": {},
     "output_type": "execute_result"
    }
   ],
   "source": [
    "'9' > '10'"
   ]
  },
  {
   "cell_type": "code",
   "execution_count": 137,
   "id": "a784df5f",
   "metadata": {},
   "outputs": [
    {
     "data": {
      "text/plain": [
       "True"
      ]
     },
     "execution_count": 137,
     "metadata": {},
     "output_type": "execute_result"
    }
   ],
   "source": [
    "'김길동김수한무거북이와' < '홍길동'"
   ]
  },
  {
   "cell_type": "markdown",
   "id": "974f5b3e",
   "metadata": {},
   "source": [
    "## 5.5 비트연산자 : &, |, ^(XOR), ~"
   ]
  },
  {
   "cell_type": "code",
   "execution_count": 138,
   "id": "524ca7a9",
   "metadata": {},
   "outputs": [],
   "source": [
    "#x y   x&Y   X^Y\n",
    "#0 0    0     0\n",
    "#0 1    0     1\n",
    "#1 0    0     1\n",
    "#1 1    1     0"
   ]
  },
  {
   "cell_type": "code",
   "execution_count": 143,
   "id": "966bb254",
   "metadata": {
    "scrolled": true
   },
   "outputs": [
    {
     "name": "stdout",
     "output_type": "stream",
     "text": [
      " a = 15 : 1111\n",
      " b =  2 : 0010\n",
      "a^b = 13 : 1101\n"
     ]
    }
   ],
   "source": [
    "a = 15 # 1111\n",
    "b = 2  # 0010\n",
    "print(\" a = {0:2} : {0:04b}\".format(a))\n",
    "print(\" b = {0:2} : {0:04b}\".format(b))\n",
    "print(\"a^b = {0:2} : {0:04b}\".format(a^b))"
   ]
  },
  {
   "cell_type": "markdown",
   "id": "5ccc5233",
   "metadata": {},
   "source": [
    "#### 연산자\n",
    "    - 산술연산 : + - * / // % **\n",
    "    - 할당연산 : = += -= *= /= //= %=\n",
    "    - 논리연산 : & and | or not\n",
    "    - 비트연산 : > >= < <= == !=\n",
    "    - 비교연산 : & | ^\n",
    "    - &와 |은 비교연산자보다 우선순위가 높다"
   ]
  },
  {
   "cell_type": "markdown",
   "id": "c56f7f6d",
   "metadata": {},
   "source": [
    "# 6절. 문자열 다루기\n",
    "- 문자열 슬라이싱 변수[from:stop:step]\n",
    "- len(문자열변수) : 문자갯수\n",
    "\n",
    "- 문자열변수.\n",
    "- upper() : 모든 글을 대문자로 바꾸어 반환\n",
    "- lower() : 모든 글을 소문자로 바꾸어 반환\n",
    "- title() : 각 어절의 첫 글자만 대문자로 바꾸어 반환\n",
    "- capitalize() : 첫 문자만 대문자로 바꾸어 반환\n",
    "- count('찾을문자열') : '찾을문자열'이 몇 개 들어있는지 갯수 반환\n",
    "- find('찾을문자열') : '찾을문자열'이 왼쪽부터 시작하여 몇 번째에 있는지 인덱스를 반환\n",
    "- rfind('찾을문자열') : '찾을문자열'이 오른쪽부터 시작하여 몇 번째에 있는지 인덱스를 반환\n",
    "        **찾을문자열이 없으면 -1을 반환**\n",
    "    cf) index('찾을문자열') : find와 같으나 찾을 문자열이 없으면 에러가 발생\n",
    "- startswith('특정문자열') : 특정문자열로 시작하는지 여부\n",
    "- endswith('특정문자열') : 특정문자열로 끝나는지 여부\n",
    "- strip() : 좌우 공백 제거 #자바는trip()\n",
    "- rstrip() : 오른쪽 공백 제거\n",
    "- lstrip() : 왼쪽 공백 제거\n",
    "- isdigit() : 문자열이 숫자문자열인지 여부\n",
    "- islower() : 소문자 문자열인지 여부\n",
    "- isupper() : 대문자 문자열인지 여부\n",
    "- replace(oldStr, newStr) : oldStr을 newStr로 변경\n",
    "\n",
    ".Python - HTML/CSS - JavaScript(jQuery, node, react) - DBMS(oracle) -"
   ]
  },
  {
   "cell_type": "code",
   "execution_count": 159,
   "id": "d3ae5a70",
   "metadata": {},
   "outputs": [
    {
     "name": "stdout",
     "output_type": "stream",
     "text": [
      "1. 글자수 : 39\n",
      "2. 대문자로 : PYTHON IS EZSY. PYTHON IS SMART. PYTHON\n",
      "3. 소문자로 : python is ezsy. python is smart. python\n",
      "4. title : Python Is Ezsy. Python Is Smart. Python\n",
      "5. capitalize() : Python is ezsy. python is smart. python\n",
      "6. python이 몇번 나오는지 : 2\n",
      "7. 대소문자구분없이 python이 몇번 나오는지 : 3\n",
      " 7-1. 대소문자구분없이 python이 몇번 나오는지 : 3\n",
      " 7-2. 대소문자구분없이 python이 몇번 나오는지 : 3\n",
      "8. python이 나오는 첫 index 위치 : 0\n",
      " 8-1. python이 나오는 마지막 index 위치 : 33\n",
      " 8-2. java가 나오는 마지막 index 위치 : -1\n",
      "9. python으로 시작하는지 여부 : True\n",
      "10. python으로 끝나는지 여부 : False\n",
      " 10-1. 대소문자 구분없이 python으로 끝나는지 여부 : True\n"
     ]
    }
   ],
   "source": [
    "temp = \"python is ezsy. pYThon is smart. python\"\n",
    "#       012345678901234567890123456789012345678\n",
    "print('1. 글자수 :', len(temp))\n",
    "print('2. 대문자로 :', temp.upper())\n",
    "print('3. 소문자로 :', temp.lower())\n",
    "print('4. title :', temp.title())\n",
    "print('5. capitalize() :', temp.capitalize())\n",
    "print('6. python이 몇번 나오는지 :', temp.count('python'))\n",
    "print('7. 대소문자구분없이 python이 몇번 나오는지 :', temp.lower().count('python'))\n",
    "print(' 7-1. 대소문자구분없이 python이 몇번 나오는지 :', temp.upper().count('PYTHON'))\n",
    "print(' 7-2. 대소문자구분없이 python이 몇번 나오는지 :', temp.title().count('Python'))\n",
    "print('8. python이 나오는 첫 index 위치 :', temp.find('python'))\n",
    "print(' 8-1. python이 나오는 마지막 index 위치 :', temp.rfind('python'))\n",
    "print(' 8-2. java가 나오는 마지막 index 위치 :', temp.rfind('java'))\n",
    "print('9. python으로 시작하는지 여부 :', temp.startswith('python'))\n",
    "print('10. python으로 끝나는지 여부 :', temp.endswith('PYTHON'))\n",
    "print(' 10-1. 대소문자 구분없이 python으로 끝나는지 여부 :', temp.upper().endswith('PYTHON'))"
   ]
  },
  {
   "cell_type": "code",
   "execution_count": 175,
   "id": "370f3ccf",
   "metadata": {},
   "outputs": [
    {
     "name": "stdout",
     "output_type": "stream",
     "text": [
      "11. 좌우공백제거 :[python is easy.]\n",
      " 11-1. 좌측공백제거 :[python is easy.     ]\n",
      " 11-2. 우측공백제거 :[     python is easy.]\n",
      "12. 숫자문자열인지 : False\n",
      "13. 소문자문자열인지 : True\n",
      " 13-1. 대문자문자열인지 : False\n",
      "14. 1,000,000에서 ,제거 : 1000000\n",
      " 14-1. ,제거 : 1000000\n",
      "14. 1000에서 ,제거 : 1000\n"
     ]
    }
   ],
   "source": [
    "temp = '     python is easy.     '\n",
    "notdisit = '1,000,000'\n",
    "num_str = '1000'\n",
    "print('11. 좌우공백제거 :[{}]'.format(temp.strip()))\n",
    "print(' 11-1. 좌측공백제거 :[{}]'.format(temp.lstrip()))\n",
    "print(' 11-2. 우측공백제거 :[{}]'.format(temp.rstrip()))\n",
    "print('12. 숫자문자열인지 :', notdisit.isdigit())\n",
    "print('13. 소문자문자열인지 :', temp.islower())\n",
    "print(' 13-1. 대문자문자열인지 :', temp.isupper())\n",
    "print('14. 1,000,000에서 ,제거 :', notdisit.replace(',', ''))\n",
    "print(' 14-1. ,제거 :', notdisit.replace(',', ''))\n",
    "print('14. 1000에서 ,제거 :', num_str.replace(',', ''))"
   ]
  },
  {
   "cell_type": "code",
   "execution_count": 172,
   "id": "d0480724",
   "metadata": {},
   "outputs": [
    {
     "name": "stdout",
     "output_type": "stream",
     "text": [
      "space단위로 temp를 분리 : ['홍길동', '김길동', '신길동', '유길동']\n"
     ]
    }
   ],
   "source": [
    "temp = \"홍길동    김길동 신길동        유길동\"\n",
    "print('space단위로 temp를 분리 :', temp.split()) #기본이 space 단위로 분리"
   ]
  },
  {
   "cell_type": "code",
   "execution_count": 178,
   "id": "d99c15fb",
   "metadata": {},
   "outputs": [
    {
     "name": "stdout",
     "output_type": "stream",
     "text": [
      " - 단위로 date를 분리(결과 : list)\n",
      "['2025', '04', '10']\n",
      "년 : 2025\n",
      "월 : 04\n",
      "일 : 10\n"
     ]
    }
   ],
   "source": [
    "data = \"2025-04-10\"\n",
    "print(' - 단위로 date를 분리(결과 : list)')\n",
    "data_list = data.split('-')\n",
    "print(data_list)\n",
    "print(\"년 :\", data_list[0])\n",
    "print(\"월 :\", data_list[1])\n",
    "print(\"일 :\", data_list[2])"
   ]
  },
  {
   "cell_type": "code",
   "execution_count": 183,
   "id": "86fc801b",
   "metadata": {},
   "outputs": [
    {
     "name": "stdout",
     "output_type": "stream",
     "text": [
      "원 데이터 : Python - HTML/CSS - JavaScript - DBMS\n",
      "분리된 데이터 : ['Python', 'HTML/CSS', 'JavaScript', 'DBMS']\n",
      "join된 데이터 : Python/HTML/CSS/JavaScript/DBMS\n"
     ]
    }
   ],
   "source": [
    "# ' - '을 '/'로 바꾸기\n",
    "temp = \"Python - HTML/CSS - JavaScript - DBMS\"\n",
    "# temp.replace(' - ', '/')\n",
    "print('원 데이터 :', temp)\n",
    "splited_temp = temp.split(' - ')\n",
    "print('분리된 데이터 :', splited_temp)\n",
    "joined_temp = '/'.join(splited_temp)\n",
    "print('join된 데이터 :', joined_temp)"
   ]
  },
  {
   "cell_type": "code",
   "execution_count": null,
   "id": "0347adf9",
   "metadata": {},
   "outputs": [],
   "source": [
    "str_ = 'ABC'\n",
    "# str_ = ['A', 'B', 'C']"
   ]
  },
  {
   "cell_type": "code",
   "execution_count": 186,
   "id": "01450917",
   "metadata": {
    "collapsed": true
   },
   "outputs": [
    {
     "data": {
      "text/plain": [
       "['__add__',\n",
       " '__class__',\n",
       " '__contains__',\n",
       " '__delattr__',\n",
       " '__dir__',\n",
       " '__doc__',\n",
       " '__eq__',\n",
       " '__format__',\n",
       " '__ge__',\n",
       " '__getattribute__',\n",
       " '__getitem__',\n",
       " '__getnewargs__',\n",
       " '__gt__',\n",
       " '__hash__',\n",
       " '__init__',\n",
       " '__init_subclass__',\n",
       " '__iter__',\n",
       " '__le__',\n",
       " '__len__',\n",
       " '__lt__',\n",
       " '__mod__',\n",
       " '__mul__',\n",
       " '__ne__',\n",
       " '__new__',\n",
       " '__reduce__',\n",
       " '__reduce_ex__',\n",
       " '__repr__',\n",
       " '__rmod__',\n",
       " '__rmul__',\n",
       " '__setattr__',\n",
       " '__sizeof__',\n",
       " '__str__',\n",
       " '__subclasshook__',\n",
       " 'capitalize',\n",
       " 'casefold',\n",
       " 'center',\n",
       " 'count',\n",
       " 'encode',\n",
       " 'endswith',\n",
       " 'expandtabs',\n",
       " 'find',\n",
       " 'format',\n",
       " 'format_map',\n",
       " 'index',\n",
       " 'isalnum',\n",
       " 'isalpha',\n",
       " 'isascii',\n",
       " 'isdecimal',\n",
       " 'isdigit',\n",
       " 'isidentifier',\n",
       " 'islower',\n",
       " 'isnumeric',\n",
       " 'isprintable',\n",
       " 'isspace',\n",
       " 'istitle',\n",
       " 'isupper',\n",
       " 'join',\n",
       " 'ljust',\n",
       " 'lower',\n",
       " 'lstrip',\n",
       " 'maketrans',\n",
       " 'partition',\n",
       " 'removeprefix',\n",
       " 'removesuffix',\n",
       " 'replace',\n",
       " 'rfind',\n",
       " 'rindex',\n",
       " 'rjust',\n",
       " 'rpartition',\n",
       " 'rsplit',\n",
       " 'rstrip',\n",
       " 'split',\n",
       " 'splitlines',\n",
       " 'startswith',\n",
       " 'strip',\n",
       " 'swapcase',\n",
       " 'title',\n",
       " 'translate',\n",
       " 'upper',\n",
       " 'zfill']"
      ]
     },
     "execution_count": 186,
     "metadata": {},
     "output_type": "execute_result"
    }
   ],
   "source": [
    "# 문자열이 다룰 수 있는 함수들과 변수들 목록\n",
    "dir(str)"
   ]
  },
  {
   "cell_type": "markdown",
   "id": "4149223d",
   "metadata": {},
   "source": [
    "# 7절. 시간, 날짜, 날짜시간 다루기"
   ]
  },
  {
   "cell_type": "code",
   "execution_count": null,
   "id": "a7ec3a1f",
   "metadata": {},
   "outputs": [],
   "source": []
  },
  {
   "cell_type": "markdown",
   "id": "9a2aa434",
   "metadata": {},
   "source": [
    "# 8절. 연습문제"
   ]
  },
  {
   "cell_type": "code",
   "execution_count": 187,
   "id": "5ad613ef",
   "metadata": {},
   "outputs": [
    {
     "name": "stdout",
     "output_type": "stream",
     "text": [
      "이름은?홍길동\n",
      "나이는?23\n",
      "[홍길동님의 나이는 23살입니다]\n"
     ]
    }
   ],
   "source": [
    "# 1. 이름과 나이 변수를 다음 형식으로 출력하도록 format() 함수를 이용해 형식화 하세요\n",
    "# [출력형식 : 홍길동님의 나이는 23살입니다]\n",
    "name = input('이름은?')\n",
    "age  = int(input('나이는?'))\n",
    "print('[{}님의 나이는 {}살입니다]'.format(name, age))"
   ]
  },
  {
   "cell_type": "code",
   "execution_count": 197,
   "id": "0a6d431f",
   "metadata": {},
   "outputs": [
    {
     "name": "stdout",
     "output_type": "stream",
     "text": [
      "계산할 첫번째 정수를 입력하세요4\n",
      "계산할 두번째 정수를 입력하세요2\n",
      "[덧셈 : 6 ] [뺄셈 : 2 ] [곱셈 : 8 ] [나눗셈 : 2.0 ] [몫 : 2 ] [나머지 : 0 ]\n"
     ]
    }
   ],
   "source": [
    "# 2. 두 정수를 입력받아 두 수의 덧셈 , 뺄셈 , 곱셈 , 나눗셈 , 몫 , 나머지를 출력하세요\n",
    "a = int(input('계산할 첫번째 정수를 입력하세요'))\n",
    "b = int(input('계산할 두번째 정수를 입력하세요'))\n",
    "print('[덧셈 :',a+b,']', '[뺄셈 :',a-b,']', '[곱셈 :',a*b,']', '[나눗셈 :',a/b,']', '[몫 :',a//b,']', '[나머지 :',a%b,']')"
   ]
  },
  {
   "cell_type": "code",
   "execution_count": 204,
   "id": "b42831f8",
   "metadata": {},
   "outputs": [
    {
     "name": "stdout",
     "output_type": "stream",
     "text": [
      "Hello World\n",
      "World Hello\n"
     ]
    }
   ],
   "source": [
    "# 3. 문자열의 분리하기와 합치기 기능을 이용하여 ‘Hello World'가 할당된 변수를 이용하여‘World Hello'로 출력하세요\n",
    "c = 'Hello World'\n",
    "print(c)\n",
    "d_list = c.split(' ')\n",
    "print(d_list[1], d_list[0])"
   ]
  },
  {
   "cell_type": "code",
   "execution_count": 239,
   "id": "0e795b0b",
   "metadata": {},
   "outputs": [
    {
     "name": "stdout",
     "output_type": "stream",
     "text": [
      "bcdefa\n"
     ]
    }
   ],
   "source": [
    "# 4. x = 'abcdef＇를 이용하여 bcdefa 로 출력하세요 문자 슬라이싱이용\n",
    "x = 'abcdef'\n",
    "x_answer = x[1:7]\n",
    "print(x_answer,x[0],sep='')"
   ]
  },
  {
   "cell_type": "code",
   "execution_count": 234,
   "id": "050f187a",
   "metadata": {},
   "outputs": [
    {
     "name": "stdout",
     "output_type": "stream",
     "text": [
      "fedcba\n"
     ]
    }
   ],
   "source": [
    "# 5. x = ‘ abcdef 를 이용하여 fedcba 로 출력하세요\n",
    "x = 'abcdef'\n",
    "x_answer = x[7::-1]\n",
    "print(x_answer)"
   ]
  },
  {
   "cell_type": "code",
   "execution_count": 250,
   "id": "65bc59f0",
   "metadata": {},
   "outputs": [
    {
     "name": "stdout",
     "output_type": "stream",
     "text": [
      "섭씨 온도를 입력하세요 :3\n",
      "입력하신 섭씨 온도를 바탕으로 변환된 화씨 온도는 37.40도 입니다\n"
     ]
    }
   ],
   "source": [
    "# 6. 오늘의 온도를 섭씨온도로 입력받아 화씨 온도로 변환하는 프로그램을 작성하세요 . \n",
    "# 화씨 온도는 소수점이 있을 경우만 두번째 자리까지 출력되고 , 소수점이하 값이 없는 경우 \n",
    "# 소수점을 출력하지 않도록 합니다 다음은 섭씨와 화씨의 변환 공식입니다 . \n",
    "# C 는 섭씨 , F 는 화씨\n",
    "# C = (F32) / 1.8\n",
    "# F = (C1.8) + 32\n",
    "c_temp = float(input(\"섭씨 온도를 입력하세요 :\" ))\n",
    "f_temp = ((c_temp*1.8) + 32)\n",
    "\n",
    "if f_temp %1 == 0:\n",
    "    print('입력하신 섭씨 온도를 바탕으로 변환된 화씨 온도는',f\"{int(f_temp)}도\",'입니다')\n",
    "else:\n",
    "    print('입력하신 섭씨 온도를 바탕으로 변환된 화씨 온도는',f\"{f_temp:.2f}도\",'입니다')"
   ]
  },
  {
   "cell_type": "code",
   "execution_count": null,
   "id": "e0c29e6e",
   "metadata": {},
   "outputs": [],
   "source": []
  },
  {
   "cell_type": "code",
   "execution_count": null,
   "id": "1ab678e7",
   "metadata": {},
   "outputs": [],
   "source": []
  },
  {
   "cell_type": "code",
   "execution_count": null,
   "id": "577a6a96",
   "metadata": {},
   "outputs": [],
   "source": []
  },
  {
   "cell_type": "code",
   "execution_count": null,
   "id": "9f0a2f9a",
   "metadata": {},
   "outputs": [],
   "source": []
  },
  {
   "cell_type": "code",
   "execution_count": null,
   "id": "7f91da03",
   "metadata": {},
   "outputs": [],
   "source": []
  }
 ],
 "metadata": {
  "kernelspec": {
   "display_name": "Python 3 (ipykernel)",
   "language": "python",
   "name": "python3"
  },
  "language_info": {
   "codemirror_mode": {
    "name": "ipython",
    "version": 3
   },
   "file_extension": ".py",
   "mimetype": "text/x-python",
   "name": "python",
   "nbconvert_exporter": "python",
   "pygments_lexer": "ipython3",
   "version": "3.10.9"
  },
  "toc": {
   "base_numbering": 1,
   "nav_menu": {},
   "number_sections": false,
   "sideBar": true,
   "skip_h1_title": false,
   "title_cell": "Table of Contents",
   "title_sidebar": "Contents",
   "toc_cell": false,
   "toc_position": {
    "height": "calc(100% - 180px)",
    "left": "10px",
    "top": "150px",
    "width": "165px"
   },
   "toc_section_display": true,
   "toc_window_display": true
  }
 },
 "nbformat": 4,
 "nbformat_minor": 5
}
