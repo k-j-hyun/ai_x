{
 "cells": [
  {
   "cell_type": "markdown",
   "id": "eec4fc25",
   "metadata": {},
   "source": [
    "# 14절. 연습문제 실습형"
   ]
  },
  {
   "cell_type": "code",
   "execution_count": null,
   "id": "ad2d8aee",
   "metadata": {},
   "outputs": [],
   "source": [
    "from seaborn import load_dataset\n",
    "iris = load_dataset('iris')\n",
    "type(iris)"
   ]
  },
  {
   "cell_type": "code",
   "execution_count": null,
   "id": "673558a0",
   "metadata": {},
   "outputs": [],
   "source": [
    "# 1. 처음 다섯개 행만 출력\n",
    "iris.head()"
   ]
  },
  {
   "cell_type": "code",
   "execution_count": null,
   "id": "d5aa663c",
   "metadata": {},
   "outputs": [],
   "source": [
    "# 2. iris 데이터를 독립변수 X와 종속변수 y로 나누세요. 종속변수는 species. X, y모두 데이터프레임\n",
    "y = iris[['species']]\n",
    "X = iris.drop(columns=['species'])\n",
    "print(y.shape, X.shape)"
   ]
  },
  {
   "cell_type": "code",
   "execution_count": null,
   "id": "40b947cb",
   "metadata": {},
   "outputs": [],
   "source": [
    "# 3. iris 데이터에서 처음 50개행을 빼네서 temp 변수에 저장하세요\n",
    "temp = iris[:50]\n",
    "temp.tail()"
   ]
  },
  {
   "cell_type": "code",
   "execution_count": null,
   "id": "c29cc437",
   "metadata": {},
   "outputs": [],
   "source": [
    "# 4. 3번에서 선택한 데이터 프레임의 요약정보를 출력하세요. 모든 열에 대해 요약정보가 출력\n",
    "temp.info()"
   ]
  },
  {
   "cell_type": "code",
   "execution_count": null,
   "id": "58dadc86",
   "metadata": {},
   "outputs": [],
   "source": [
    "# 5. versicolor종의 데이터만 iris_versicolor변수에 저장하세요\n",
    "iris_versicolor = iris.loc[iris['species'] == 'versicolor']\n",
    "iris_versicolor.sample(5)"
   ]
  },
  {
   "cell_type": "code",
   "execution_count": null,
   "id": "0d8117f4",
   "metadata": {},
   "outputs": [],
   "source": [
    "# 6. 2번의 x와 y변수를 합해서 iris_df 데이터 프레임으로 만드세요\n",
    "import pandas as pd\n",
    "iris_df = pd.concat([X, y], axis=1)\n",
    "iris_df.head()"
   ]
  },
  {
   "cell_type": "code",
   "execution_count": null,
   "id": "50ae0ae6",
   "metadata": {},
   "outputs": [],
   "source": [
    "# 7. iris 열평균\n",
    "iris_mean2 = iris.mean(axis=1, numeric_only=True)\n",
    "iris_mean2"
   ]
  },
  {
   "cell_type": "code",
   "execution_count": null,
   "id": "2beb6489",
   "metadata": {},
   "outputs": [],
   "source": [
    "# 8. iris 열들 사이의 상관계수\n",
    "iris_mean2 = iris.corr(numeric_only=True)\n",
    "iris_mean2"
   ]
  },
  {
   "cell_type": "code",
   "execution_count": null,
   "id": "5894856c",
   "metadata": {},
   "outputs": [],
   "source": [
    "# 9. 변수별 평균차이를 출력\n",
    "iris_mean = iris.iloc[:, :-1].mean(axis=0)\n",
    "iris_diff = iris.iloc[:, :-1].sub(iris_mean, axis=1)\n",
    "display(iris_diff.head())"
   ]
  },
  {
   "cell_type": "code",
   "execution_count": null,
   "id": "2f0f2a4c",
   "metadata": {},
   "outputs": [],
   "source": [
    "# 10. 종별 평균\n",
    "species_mean = iris.groupby('species').mean()\n",
    "species_mean"
   ]
  },
  {
   "cell_type": "code",
   "execution_count": null,
   "id": "db50f029",
   "metadata": {},
   "outputs": [],
   "source": [
    "# 11. 각 요소들과 종별 변수의 평균과의 차이를 각 종별로 3개씩 출력"
   ]
  }
 ],
 "metadata": {
  "kernelspec": {
   "display_name": "Python 3 (ipykernel)",
   "language": "python",
   "name": "python3"
  },
  "language_info": {
   "codemirror_mode": {
    "name": "ipython",
    "version": 3
   },
   "file_extension": ".py",
   "mimetype": "text/x-python",
   "name": "python",
   "nbconvert_exporter": "python",
   "pygments_lexer": "ipython3",
   "version": "3.10.9"
  },
  "toc": {
   "base_numbering": 1,
   "nav_menu": {},
   "number_sections": false,
   "sideBar": true,
   "skip_h1_title": false,
   "title_cell": "Table of Contents",
   "title_sidebar": "Contents",
   "toc_cell": false,
   "toc_position": {},
   "toc_section_display": true,
   "toc_window_display": false
  }
 },
 "nbformat": 4,
 "nbformat_minor": 5
}
