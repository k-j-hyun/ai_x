{
 "cells": [
  {
   "cell_type": "code",
   "execution_count": 1,
   "id": "c0a6e28e",
   "metadata": {},
   "outputs": [
    {
     "data": {
      "text/html": [
       "\n",
       "<style>\n",
       "div.container{width:86% !important;}\n",
       "div.cell.code_cell.rendered{width:100%;}\n",
       "div.CodeMirror {font family: Consolas; font-size:12pt;}\n",
       "div.output {font-size:12pt; font-weight:bold;}\n",
       "div.input {font-family: Consolas; font-size:12pt;}\n",
       "div.prompt {min-width:70px;}\n",
       "div#toc-wrapper{padding top:120px;}\n",
       "div.text_cell_render ul li {font-size:12pt;padding:5px;}\n",
       "table.dataframe{font-size:12px;}\n",
       "</style>\n"
      ],
      "text/plain": [
       "<IPython.core.display.HTML object>"
      ]
     },
     "metadata": {},
     "output_type": "display_data"
    }
   ],
   "source": [
    "from IPython.display import display, HTML\n",
    "display(HTML(\"\"\"\n",
    "<style>\n",
    "div.container{width:86% !important;}\n",
    "div.cell.code_cell.rendered{width:100%;}\n",
    "div.CodeMirror {font family: Consolas; font-size:12pt;}\n",
    "div.output {font-size:12pt; font-weight:bold;}\n",
    "div.input {font-family: Consolas; font-size:12pt;}\n",
    "div.prompt {min-width:70px;}\n",
    "div#toc-wrapper{padding top:120px;}\n",
    "div.text_cell_render ul li {font-size:12pt;padding:5px;}\n",
    "table.dataframe{font-size:12px;}\n",
    "</style>\n",
    "\"\"\"))"
   ]
  },
  {
   "cell_type": "markdown",
   "id": "05b3d132",
   "metadata": {},
   "source": [
    "# 5절 연습문제\n",
    "### 실습형"
   ]
  },
  {
   "cell_type": "code",
   "execution_count": null,
   "id": "45be0e33",
   "metadata": {},
   "outputs": [],
   "source": [
    "class Shape:\n",
    "    def __init__(self, x=0, y=0):\n",
    "        self.x = x\n",
    "        self.y = y\n",
    "    def move(self, nx, ny):\n",
    "        self.nx += nx\n",
    "        self.ny += ny\n",
    "    def __str__(self):\n",
    "        return f'{nx}가 {ny}'\n",
    "    def calc_area(self):\n",
    "        raise Exception('이 메소드는 호출하면 예외가 납니다.')"
   ]
  },
  {
   "cell_type": "code",
   "execution_count": null,
   "id": "67a93bd4",
   "metadata": {},
   "outputs": [],
   "source": [
    "class Triangle(Shape):\n",
    "    __count = 0\n",
    "    def __init__(self, x=0, y=0, width=0, height=0):\n",
    "        super().__init__(x, y)\n",
    "        self.width = width\n",
    "        self.height = height\n",
    "        Triangle._Triangle__count += 1\n",
    "        \n",
    "    def __del__(self):\n",
    "        Triangle._Triangel__count -= 1\n",
    "        \n",
    "    def calc_area(self):\n",
    "        return 0.5 * self.width * self.height\n",
    "    \n",
    "    def __str__(self):\n",
    "        return f'x는 {self.x}, y는 {self.y}, width는 {self.width}, \n",
    "                        height는 {self.height}, 삼각형의 면적은 {self.calc_area():.2f}'"
   ]
  },
  {
   "cell_type": "code",
   "execution_count": null,
   "id": "c38e403b",
   "metadata": {},
   "outputs": [],
   "source": [
    "p1 = Triangle(10, 5)\n",
    "p2 = Triangle(6, 4, 1, 2)\n",
    "\n",
    "print(p1)\n",
    "print(p2)"
   ]
  },
  {
   "cell_type": "markdown",
   "id": "78b2b9ee",
   "metadata": {},
   "source": [
    "### 객관식"
   ]
  },
  {
   "cell_type": "markdown",
   "id": "ad428213",
   "metadata": {},
   "source": [
    "```\n",
    "1번문제 1. class Person:\n",
    "2번문제 2. p1 = Person()\n",
    "3번문제 4. def print_info(self):\n",
    "4번문제 2. 소멸자는 객체 참조수가 0이되면 실행된다.\n",
    "5번문제 2. class Student(Person):\n",
    "6번문제 3. 재정의는 메소드의 이름은 같고, 매개변수의 수는 다르게 정의해야 한다.\n",
    "7번문제 4. SomeClass.method_b()\n",
    "8번문제 3. super.do_(a)\n",
    "9번문제 2. __str__() 메소드는 print()함수의 인자로 객체를 전달할 때 호출되는 메소드이다. 이 메소드는 매개변수를 가질 수 없다.\n",
    "```"
   ]
  }
 ],
 "metadata": {
  "kernelspec": {
   "display_name": "Python 3 (ipykernel)",
   "language": "python",
   "name": "python3"
  },
  "language_info": {
   "codemirror_mode": {
    "name": "ipython",
    "version": 3
   },
   "file_extension": ".py",
   "mimetype": "text/x-python",
   "name": "python",
   "nbconvert_exporter": "python",
   "pygments_lexer": "ipython3",
   "version": "3.10.9"
  },
  "toc": {
   "base_numbering": 1,
   "nav_menu": {},
   "number_sections": false,
   "sideBar": true,
   "skip_h1_title": false,
   "title_cell": "Table of Contents",
   "title_sidebar": "Contents",
   "toc_cell": false,
   "toc_position": {},
   "toc_section_display": true,
   "toc_window_display": false
  }
 },
 "nbformat": 4,
 "nbformat_minor": 5
}
