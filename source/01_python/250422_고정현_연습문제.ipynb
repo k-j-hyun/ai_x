{
 "cells": [
  {
   "cell_type": "code",
   "execution_count": 1,
   "id": "5e8cde5e",
   "metadata": {},
   "outputs": [
    {
     "data": {
      "text/html": [
       "\n",
       "<style>\n",
       "div.container{width:86% !important;}\n",
       "div.cell.code_cell.rendered{width:100%;}\n",
       "div.CodeMirror {font family: Consolas; font-size:12pt;}\n",
       "div.output {font-size:12pt; font-weight:bold;}\n",
       "div.input {font-family: Consolas; font-size:12pt;}\n",
       "div.prompt {min-width:70px;}\n",
       "div#toc-wrapper{padding top:120px;}\n",
       "div.text_cell_render ul li {font-size:12pt;padding:5px;}\n",
       "table.dataframe{font-size:12px;}\n",
       "</style>\n"
      ],
      "text/plain": [
       "<IPython.core.display.HTML object>"
      ]
     },
     "metadata": {},
     "output_type": "display_data"
    }
   ],
   "source": [
    "from IPython.display import display, HTML\n",
    "display(HTML(\"\"\"\n",
    "<style>\n",
    "div.container{width:86% !important;}\n",
    "div.cell.code_cell.rendered{width:100%;}\n",
    "div.CodeMirror {font family: Consolas; font-size:12pt;}\n",
    "div.output {font-size:12pt; font-weight:bold;}\n",
    "div.input {font-family: Consolas; font-size:12pt;}\n",
    "div.prompt {min-width:70px;}\n",
    "div#toc-wrapper{padding top:120px;}\n",
    "div.text_cell_render ul li {font-size:12pt;padding:5px;}\n",
    "table.dataframe{font-size:12px;}\n",
    "</style>\n",
    "\"\"\"))"
   ]
  },
  {
   "cell_type": "code",
   "execution_count": null,
   "id": "287c43d4",
   "metadata": {},
   "outputs": [],
   "source": [
    "# 1. 숫자 두개를 입력받아 나눗셈 연산을 하는 프로그램을 작성하세요.\n",
    "#    - 두 숫자는 정수 또는 실수일 수 있으며, 0으로 나눌 수 없습니다.\n",
    "#    - 올바른 두 수를 입력하고 나눗셈 연산 결과를 출력한 후 종료해야 합니다.\n",
    "#    - 다음은 실행 후 출력 예시입니다.\n",
    "'''\n",
    "첫번째 숫자를 입력하세요 : hello\n",
    "유효한 숫자가 아닙니다. 다시 시도하세요.\n",
    "\n",
    "첫번째 숫자를 입력하세요 : 10\n",
    "두번째 숫자를 입력하세요 : 0\n",
    "\n",
    "입력한 수는 10.0와 0.0 입니다.\n",
    "\n",
    "유효한 숫자가 아닙니다. 다시 시도하세요.\n",
    "\n",
    "첫번째 숫자를 입력하세요 : 3.5\n",
    "두번째 숫자를 입력하세요 : hello\n",
    "\n",
    "유효한 숫자가 아닙니다. 다시 시도하세요.\n",
    "\n",
    "첫번째 숫자를 입력하세요 : 3.5\n",
    "두번째 숫자를 입력하세요 : 2\n",
    "입력한 수는 3.5와 2.0입니다.\n",
    "3.5를 2.0으로 나누면 1.75입니다.\n",
    "'''"
   ]
  },
  {
   "cell_type": "code",
   "execution_count": null,
   "id": "00ac8fb2",
   "metadata": {},
   "outputs": [],
   "source": [
    "# 2. 1번 코드의 예외처리를 예외에 따라 다르게 처리하세요.\n",
    "#    - 숫자로 바꿀 수 없을 경우 ValueError가 발생합니다.\n",
    "#    - 0으로 나누려고 할 때 ZeroDivisionError가 발생합니다.\n",
    "#    - 다음은 실행 후 출력 예시입니다.\n",
    "'''\n",
    "첫번째 숫자를 입력하세요 : abc\n",
    "유효한 숫자가 아닙니다. 다시 시도하세요.\n",
    "\n",
    "첫번째 숫자를 입력하세요 : 10\n",
    "두번째 숫자를 입력하세요 : 0\n",
    "\n",
    "입력한 수는 10.0와 0.0입니다.\n",
    "0으로 나눌 수 없습니다. 다시 시도하세요.\n",
    "\n",
    "첫번째 숫자를 입력하세요 : 5\n",
    "두번째 숫자를 입력하세요 : 3\n",
    "\n",
    "입력한 수는 5.0과 3.0입니다.\n",
    "5.0을 3.0으로 나누면 1.666666666666입니다.\n",
    "'''"
   ]
  },
  {
   "cell_type": "code",
   "execution_count": null,
   "id": "bfcc4566",
   "metadata": {},
   "outputs": [],
   "source": []
  },
  {
   "cell_type": "code",
   "execution_count": null,
   "id": "1932f014",
   "metadata": {},
   "outputs": [],
   "source": []
  },
  {
   "cell_type": "code",
   "execution_count": null,
   "id": "b110182c",
   "metadata": {},
   "outputs": [],
   "source": []
  },
  {
   "cell_type": "code",
   "execution_count": null,
   "id": "6617bf0b",
   "metadata": {},
   "outputs": [],
   "source": []
  },
  {
   "cell_type": "code",
   "execution_count": null,
   "id": "5f96a94e",
   "metadata": {},
   "outputs": [],
   "source": []
  },
  {
   "cell_type": "code",
   "execution_count": null,
   "id": "5f9780ba",
   "metadata": {},
   "outputs": [],
   "source": []
  },
  {
   "cell_type": "code",
   "execution_count": null,
   "id": "77a09b81",
   "metadata": {},
   "outputs": [],
   "source": []
  },
  {
   "cell_type": "code",
   "execution_count": null,
   "id": "c34119d4",
   "metadata": {},
   "outputs": [],
   "source": []
  },
  {
   "cell_type": "code",
   "execution_count": null,
   "id": "337ea104",
   "metadata": {},
   "outputs": [],
   "source": []
  }
 ],
 "metadata": {
  "kernelspec": {
   "display_name": "Python 3 (ipykernel)",
   "language": "python",
   "name": "python3"
  },
  "language_info": {
   "codemirror_mode": {
    "name": "ipython",
    "version": 3
   },
   "file_extension": ".py",
   "mimetype": "text/x-python",
   "name": "python",
   "nbconvert_exporter": "python",
   "pygments_lexer": "ipython3",
   "version": "3.10.9"
  },
  "toc": {
   "base_numbering": 1,
   "nav_menu": {},
   "number_sections": false,
   "sideBar": true,
   "skip_h1_title": false,
   "title_cell": "Table of Contents",
   "title_sidebar": "Contents",
   "toc_cell": false,
   "toc_position": {},
   "toc_section_display": true,
   "toc_window_display": false
  }
 },
 "nbformat": 4,
 "nbformat_minor": 5
}
