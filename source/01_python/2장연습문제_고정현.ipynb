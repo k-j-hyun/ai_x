{
 "cells": [
  {
   "cell_type": "code",
   "execution_count": 2,
   "id": "3708a0da",
   "metadata": {},
   "outputs": [
    {
     "name": "stdout",
     "output_type": "stream",
     "text": [
      "이름은?홍길동\n",
      "나이는?23\n",
      "[홍길동님의 나이는 23살입니다]\n"
     ]
    }
   ],
   "source": [
    "# 1. 이름과 나이 변수를 다음 형식으로 출력하도록 format() 함수를 이용해 형식화 하세요\n",
    "# [출력형식 : 홍길동님의 나이는 23살입니다]\n",
    "name = input('이름은?')\n",
    "age  = int(input('나이는?'))\n",
    "print('[{}님의 나이는 {}살입니다]'.format(name, age))"
   ]
  },
  {
   "cell_type": "code",
   "execution_count": 3,
   "id": "ea7d23c1",
   "metadata": {},
   "outputs": [
    {
     "name": "stdout",
     "output_type": "stream",
     "text": [
      "계산할 첫번째 정수를 입력하세요3\n",
      "계산할 두번째 정수를 입력하세요5\n",
      "[덧셈 : 8 ] [뺄셈 : -2 ] [곱셈 : 15 ] [나눗셈 : 0.6 ] [몫 : 0 ] [나머지 : 3 ]\n"
     ]
    }
   ],
   "source": [
    "# 2. 두 정수를 입력받아 두 수의 덧셈 , 뺄셈 , 곱셈 , 나눗셈 , 몫 , 나머지를 출력하세요\n",
    "a = int(input('계산할 첫번째 정수를 입력하세요'))\n",
    "b = int(input('계산할 두번째 정수를 입력하세요'))\n",
    "print('[덧셈 :',a+b,']', '[뺄셈 :',a-b,']', '[곱셈 :',a*b,']', '[나눗셈 :',a/b,']', '[몫 :',a//b,']', '[나머지 :',a%b,']')"
   ]
  },
  {
   "cell_type": "code",
   "execution_count": 8,
   "id": "1214d685",
   "metadata": {},
   "outputs": [
    {
     "name": "stdout",
     "output_type": "stream",
     "text": [
      "World Hello\n"
     ]
    }
   ],
   "source": [
    "# 3. 문자열의 분리하기와 합치기 기능을 이용하여 ‘Hello World'가 할당된 변수를 이용하여‘World Hello'로 출력하세요\n",
    "c = 'Hello World'\n",
    "d_list = c.split()\n",
    "print(d_list[1], d_list[0])"
   ]
  },
  {
   "cell_type": "code",
   "execution_count": 9,
   "id": "492050de",
   "metadata": {},
   "outputs": [
    {
     "name": "stdout",
     "output_type": "stream",
     "text": [
      "bcdefa\n"
     ]
    }
   ],
   "source": [
    "# 4. x = 'abcdef＇를 이용하여 bcdefa 로 출력하세요 문자 슬라이싱이용\n",
    "x = 'abcdef'\n",
    "x_answer = x[1:7]\n",
    "print(x_answer,x[0],sep='')"
   ]
  },
  {
   "cell_type": "code",
   "execution_count": 10,
   "id": "81050dab",
   "metadata": {},
   "outputs": [
    {
     "name": "stdout",
     "output_type": "stream",
     "text": [
      "fedcba\n"
     ]
    }
   ],
   "source": [
    "# 5. x = ‘ abcdef 를 이용하여 fedcba 로 출력하세요\n",
    "x = 'abcdef'\n",
    "x_answer = x[7::-1]\n",
    "print(x_answer)"
   ]
  },
  {
   "cell_type": "code",
   "execution_count": 12,
   "id": "2b4dfb30",
   "metadata": {},
   "outputs": [
    {
     "name": "stdout",
     "output_type": "stream",
     "text": [
      "섭씨 온도를 입력하세요 :1\n",
      "입력하신 섭씨 온도를 바탕으로 변환된 화씨 온도는 33.80도 입니다\n"
     ]
    }
   ],
   "source": [
    "# 6. 오늘의 온도를 섭씨온도로 입력받아 화씨 온도로 변환하는 프로그램을 작성하세요 . \n",
    "# 화씨 온도는 소수점이 있을 경우만 두번째 자리까지 출력되고 , 소수점이하 값이 없는 경우 \n",
    "# 소수점을 출력하지 않도록 합니다 다음은 섭씨와 화씨의 변환 공식입니다 . \n",
    "# C 는 섭씨 , F 는 화씨\n",
    "# C = (F32) / 1.8\n",
    "# F = (C1.8) + 32\n",
    "c_temp = float(input(\"섭씨 온도를 입력하세요 :\" ))\n",
    "f_temp = ((c_temp*1.8) + 32)\n",
    "\n",
    "if f_temp %1 == 0:\n",
    "    print('입력하신 섭씨 온도를 바탕으로 변환된 화씨 온도는',f\"{int(f_temp)}도\",'입니다')\n",
    "else:\n",
    "    print('입력하신 섭씨 온도를 바탕으로 변환된 화씨 온도는',f\"{f_temp:.2f}도\",'입니다')"
   ]
  }
 ],
 "metadata": {
  "kernelspec": {
   "display_name": "Python 3 (ipykernel)",
   "language": "python",
   "name": "python3"
  },
  "language_info": {
   "codemirror_mode": {
    "name": "ipython",
    "version": 3
   },
   "file_extension": ".py",
   "mimetype": "text/x-python",
   "name": "python",
   "nbconvert_exporter": "python",
   "pygments_lexer": "ipython3",
   "version": "3.10.9"
  },
  "toc": {
   "base_numbering": 1,
   "nav_menu": {},
   "number_sections": false,
   "sideBar": true,
   "skip_h1_title": false,
   "title_cell": "Table of Contents",
   "title_sidebar": "Contents",
   "toc_cell": false,
   "toc_position": {},
   "toc_section_display": true,
   "toc_window_display": false
  }
 },
 "nbformat": 4,
 "nbformat_minor": 5
}
