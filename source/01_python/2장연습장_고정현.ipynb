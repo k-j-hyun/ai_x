{
 "cells": [
  {
   "cell_type": "markdown",
   "id": "ce396cc7",
   "metadata": {},
   "source": [
    "# format\n",
    ".format(변수,변수2)\n",
    "\n",
    "{[인덱스 or 변수명]:[정렬][폭][형식]}\n",
    "인덱스\t.format() 안의 몇 번째 값인지\t{0}, {1} 등\n",
    "정렬\t텍스트 정렬 방법 (<, >, ^)\t:<10, >10\n",
    "폭 (width)\t출력할 공간의 폭 (숫자)\t10, 5, 3\n",
    "형식\t숫자 형식 (f, d, %, 등)\t.2f, x, % 등\n",
    "\n",
    "{:.2f} → 소수점 아래 2자리까지 표시\n",
    "\n",
    ":d → 정수\n",
    "\n",
    ":x → 16진수\n",
    "\n",
    ":>10 → 오른쪽 정렬 (10칸)\n",
    "\n",
    ":<10 → 왼쪽 정렬 (10칸)\n",
    "\n",
    ":^10 → 가운데 정렬 (10칸)\n",
    "\n"
   ]
  },
  {
   "cell_type": "code",
   "execution_count": 2,
   "id": "3708a0da",
   "metadata": {},
   "outputs": [
    {
     "name": "stdout",
     "output_type": "stream",
     "text": [
      "이름은?홍길동\n",
      "나이는?23\n",
      "[홍길동님의 나이는 23살입니다]\n"
     ]
    }
   ],
   "source": [
    "# 1. 이름과 나이 변수를 다음 형식으로 출력하도록 format() 함수를 이용해 형식화 하세요\n",
    "# [출력형식 : 홍길동님의 나이는 23살입니다]\n",
    "name = input('이름은?')\n",
    "age  = int(input('나이는?'))\n",
    "print('[{}님의 나이는 {}살입니다]'.format(name, age))"
   ]
  },
  {
   "cell_type": "code",
   "execution_count": 3,
   "id": "ea7d23c1",
   "metadata": {},
   "outputs": [
    {
     "name": "stdout",
     "output_type": "stream",
     "text": [
      "계산할 첫번째 정수를 입력하세요3\n",
      "계산할 두번째 정수를 입력하세요5\n",
      "[덧셈 : 8 ] [뺄셈 : -2 ] [곱셈 : 15 ] [나눗셈 : 0.6 ] [몫 : 0 ] [나머지 : 3 ]\n"
     ]
    }
   ],
   "source": [
    "# 2. 두 정수를 입력받아 두 수의 덧셈 , 뺄셈 , 곱셈 , 나눗셈 , 몫 , 나머지를 출력하세요\n",
    "a = int(input('계산할 첫번째 정수를 입력하세요'))\n",
    "b = int(input('계산할 두번째 정수를 입력하세요'))\n",
    "print('[덧셈 :',a+b,']', '[뺄셈 :',a-b,']', '[곱셈 :',a*b,']', '[나눗셈 :',a/b,']', '[몫 :',a//b,']', '[나머지 :',a%b,']')"
   ]
  },
  {
   "cell_type": "code",
   "execution_count": 8,
   "id": "1214d685",
   "metadata": {},
   "outputs": [
    {
     "name": "stdout",
     "output_type": "stream",
     "text": [
      "World Hello\n"
     ]
    }
   ],
   "source": [
    "# 3. 문자열의 분리하기와 합치기 기능을 이용하여 ‘Hello World'가 할당된 변수를 이용하여‘World Hello'로 출력하세요\n",
    "c = 'Hello World'\n",
    "d_list = c.split()\n",
    "print(d_list[1], d_list[0])"
   ]
  },
  {
   "cell_type": "code",
   "execution_count": 9,
   "id": "492050de",
   "metadata": {},
   "outputs": [
    {
     "name": "stdout",
     "output_type": "stream",
     "text": [
      "bcdefa\n"
     ]
    }
   ],
   "source": [
    "# 4. x = 'abcdef＇를 이용하여 bcdefa 로 출력하세요 문자 슬라이싱이용\n",
    "x = 'abcdef'\n",
    "x_answer = x[1:7]\n",
    "print(x_answer,x[0],sep='')"
   ]
  },
  {
   "cell_type": "code",
   "execution_count": 10,
   "id": "81050dab",
   "metadata": {},
   "outputs": [
    {
     "name": "stdout",
     "output_type": "stream",
     "text": [
      "fedcba\n"
     ]
    }
   ],
   "source": [
    "# 5. x = ‘ abcdef 를 이용하여 fedcba 로 출력하세요\n",
    "x = 'abcdef'\n",
    "x_answer = x[7::-1]\n",
    "print(x_answer)"
   ]
  },
  {
   "cell_type": "code",
   "execution_count": 12,
   "id": "2b4dfb30",
   "metadata": {},
   "outputs": [
    {
     "name": "stdout",
     "output_type": "stream",
     "text": [
      "섭씨 온도를 입력하세요 :1\n",
      "입력하신 섭씨 온도를 바탕으로 변환된 화씨 온도는 33.80도 입니다\n"
     ]
    }
   ],
   "source": [
    "# 6. 오늘의 온도를 섭씨온도로 입력받아 화씨 온도로 변환하는 프로그램을 작성하세요 . \n",
    "# 화씨 온도는 소수점이 있을 경우만 두번째 자리까지 출력되고 , 소수점이하 값이 없는 경우 \n",
    "# 소수점을 출력하지 않도록 합니다 다음은 섭씨와 화씨의 변환 공식입니다 . \n",
    "# C 는 섭씨 , F 는 화씨\n",
    "# C = (F32) / 1.8\n",
    "# F = (C1.8) + 32\n",
    "c_temp = float(input(\"섭씨 온도를 입력하세요 :\" ))\n",
    "f_temp = ((c_temp*1.8) + 32)\n",
    "\n",
    "if f_temp %1 == 0:\n",
    "    print('입력하신 섭씨 온도를 바탕으로 변환된 화씨 온도는',f\"{int(f_temp)}도\",'입니다')\n",
    "else:\n",
    "    print('입력하신 섭씨 온도를 바탕으로 변환된 화씨 온도는',f\"{f_temp:.2f}도\",'입니다')"
   ]
  },
  {
   "cell_type": "code",
   "execution_count": 2,
   "id": "40ca741c",
   "metadata": {},
   "outputs": [
    {
     "name": "stdout",
     "output_type": "stream",
     "text": [
      "안녕하세요, 제 이름은 민수이고 나이는 25살입니다\n"
     ]
    }
   ],
   "source": [
    "name = '민수'\n",
    "age = 25\n",
    "text = \"안녕하세요, 제 이름은 {}이고 나이는 {}살입니다\".format(name, age)\n",
    "print(text)"
   ]
  },
  {
   "cell_type": "code",
   "execution_count": 3,
   "id": "ac13da9d",
   "metadata": {},
   "outputs": [
    {
     "name": "stdout",
     "output_type": "stream",
     "text": [
      "나이는 25살이고 이름은 민수입니다\n"
     ]
    }
   ],
   "source": [
    "text = \"나이는 {1}살이고 이름은 {0}입니다\".format(name, age)\n",
    "print(text)"
   ]
  },
  {
   "cell_type": "code",
   "execution_count": 4,
   "id": "eec8a8d8",
   "metadata": {},
   "outputs": [
    {
     "name": "stdout",
     "output_type": "stream",
     "text": [
      "이름 : 지수, 나이 30\n"
     ]
    }
   ],
   "source": [
    "text = \"이름 : {name}, 나이 {age}\".format(name='지수', age=30)\n",
    "print(text)"
   ]
  },
  {
   "cell_type": "code",
   "execution_count": 6,
   "id": "5812fcbc",
   "metadata": {},
   "outputs": [
    {
     "name": "stdout",
     "output_type": "stream",
     "text": [
      "원주율은 3.14입니다\n"
     ]
    }
   ],
   "source": [
    "pi = 3.141592\n",
    "print(\"원주율은 {:.2f}입니다\".format(pi))"
   ]
  },
  {
   "cell_type": "code",
   "execution_count": 7,
   "id": "2b1881ef",
   "metadata": {},
   "outputs": [
    {
     "name": "stdout",
     "output_type": "stream",
     "text": [
      "고객명: 홍길동        | 잔액:      123,456.79원\n"
     ]
    }
   ],
   "source": [
    "name = \"홍길동\"\n",
    "balance = 123456.789\n",
    "print(\"고객명: {:<10} | 잔액: {:>15,.2f}원\".format(name, balance))"
   ]
  },
  {
   "cell_type": "markdown",
   "id": "9d55d732",
   "metadata": {},
   "source": [
    "# 1. if  조건문\n",
    "어떤 조건이 참인지 확인해서 코드를 실행\n",
    "```\n",
    "if 조건:\n",
    "    실행할 코드\n",
    "\n",
    "elif 다른_조건:\n",
    "    실행할 코드\n",
    "\n",
    "else:\n",
    "    위 조건이 모두 False일 때 실행\n",
    "```"
   ]
  },
  {
   "cell_type": "code",
   "execution_count": 12,
   "id": "f5beead7",
   "metadata": {},
   "outputs": [
    {
     "name": "stdout",
     "output_type": "stream",
     "text": [
      "나이는?19\n",
      "성인입니다.\n"
     ]
    }
   ],
   "source": [
    "age = int(input('나이는?'))\n",
    "\n",
    "if age >= 18:\n",
    "    print(\"성인입니다.\")\n",
    "\n",
    "elif age >= 13:\n",
    "    print(\"청소년입니다.\")\n",
    "\n",
    "else:\n",
    "    print(\"어린이입니다.\")"
   ]
  },
  {
   "cell_type": "markdown",
   "id": "a3dcc8e2",
   "metadata": {},
   "source": [
    "# 2. for 문 (반복문)\n",
    "\n",
    "어떤 값들의 집합(리스트, 문자열 등) 을 하나씩 반복하면서 작업을 할 때 사용\n",
    "\n",
    "```\n",
    "for 변수 in 반복가능한_것:\n",
    "    실행할 코드\n",
    "```\n",
    "```\n",
    "range()와 함께 사용\n",
    "for i in range(5):  # 0부터 4까지\n",
    "    print(i)\n",
    "```\n",
    "```\n",
    "range(시작, 끝, 증가폭)\n",
    "for i in range(1, 11, 2):\n",
    "    print(i)\n",
    "```"
   ]
  },
  {
   "cell_type": "code",
   "execution_count": 13,
   "id": "d12d72b5",
   "metadata": {},
   "outputs": [
    {
     "name": "stdout",
     "output_type": "stream",
     "text": [
      "사과\n",
      "바나나\n",
      "딸기\n"
     ]
    }
   ],
   "source": [
    "fruits = [\"사과\", \"바나나\", \"딸기\"]\n",
    "for fruit in fruits:\n",
    "    print(fruit)"
   ]
  },
  {
   "cell_type": "code",
   "execution_count": 14,
   "id": "15a4d568",
   "metadata": {},
   "outputs": [
    {
     "name": "stdout",
     "output_type": "stream",
     "text": [
      "0\n",
      "1\n",
      "2\n",
      "3\n",
      "4\n"
     ]
    }
   ],
   "source": [
    "for i in range(5):  # 0부터 4까지\n",
    "    print(i)"
   ]
  },
  {
   "cell_type": "code",
   "execution_count": 15,
   "id": "0e714556",
   "metadata": {},
   "outputs": [
    {
     "name": "stdout",
     "output_type": "stream",
     "text": [
      "1\n",
      "3\n",
      "5\n",
      "7\n",
      "9\n"
     ]
    }
   ],
   "source": [
    "for i in range(1, 11, 2):\n",
    "    print(i)"
   ]
  },
  {
   "cell_type": "code",
   "execution_count": 16,
   "id": "2ccd2e5b",
   "metadata": {},
   "outputs": [
    {
     "name": "stdout",
     "output_type": "stream",
     "text": [
      "1는 홀수입니다.\n",
      "2는 짝수입니다.\n",
      "3는 홀수입니다.\n",
      "4는 짝수입니다.\n",
      "5는 홀수입니다.\n",
      "6는 짝수입니다.\n",
      "7는 홀수입니다.\n",
      "8는 짝수입니다.\n",
      "9는 홀수입니다.\n",
      "10는 짝수입니다.\n"
     ]
    }
   ],
   "source": [
    "for i in range(1, 11):\n",
    "    if i % 2 == 0:\n",
    "        print(f\"{i}는 짝수입니다.\")\n",
    "    else:\n",
    "        print(f\"{i}는 홀수입니다.\")"
   ]
  },
  {
   "cell_type": "code",
   "execution_count": null,
   "id": "bd83423c",
   "metadata": {},
   "outputs": [],
   "source": []
  },
  {
   "cell_type": "code",
   "execution_count": null,
   "id": "1f0a16e6",
   "metadata": {},
   "outputs": [],
   "source": []
  },
  {
   "cell_type": "code",
   "execution_count": null,
   "id": "581961e8",
   "metadata": {},
   "outputs": [],
   "source": []
  }
 ],
 "metadata": {
  "kernelspec": {
   "display_name": "Python 3 (ipykernel)",
   "language": "python",
   "name": "python3"
  },
  "language_info": {
   "codemirror_mode": {
    "name": "ipython",
    "version": 3
   },
   "file_extension": ".py",
   "mimetype": "text/x-python",
   "name": "python",
   "nbconvert_exporter": "python",
   "pygments_lexer": "ipython3",
   "version": "3.10.9"
  },
  "toc": {
   "base_numbering": 1,
   "nav_menu": {},
   "number_sections": false,
   "sideBar": true,
   "skip_h1_title": false,
   "title_cell": "Table of Contents",
   "title_sidebar": "Contents",
   "toc_cell": false,
   "toc_position": {
    "height": "calc(100% - 180px)",
    "left": "10px",
    "top": "150px",
    "width": "165px"
   },
   "toc_section_display": true,
   "toc_window_display": true
  }
 },
 "nbformat": 4,
 "nbformat_minor": 5
}
