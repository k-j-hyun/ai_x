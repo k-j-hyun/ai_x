{
 "cells": [
  {
   "cell_type": "code",
   "execution_count": 1,
   "id": "875cc9e5",
   "metadata": {},
   "outputs": [
    {
     "data": {
      "text/html": [
       "\n",
       "<style>\n",
       "div.container{width:86% !important;}\n",
       "div.cell.code_cell.rendered{width:100%;}\n",
       "div.CodeMirror {font family: Consolas; font-size:12pt;}\n",
       "div.output {font-size:12pt; font-weight:bold;}\n",
       "div.input {font-family: Consolas; font-size:12pt;}\n",
       "div.prompt {min-width:70px;}\n",
       "div#toc-wrapper{padding top:120px;}\n",
       "div.text_cell_render ul li {font-size:12pt;padding:5px;}\n",
       "table.dataframe{font-size:12px;}\n",
       "</style>\n"
      ],
      "text/plain": [
       "<IPython.core.display.HTML object>"
      ]
     },
     "metadata": {},
     "output_type": "display_data"
    }
   ],
   "source": [
    "from IPython.display import display, HTML\n",
    "display(HTML(\"\"\"\n",
    "<style>\n",
    "div.container{width:86% !important;}\n",
    "div.cell.code_cell.rendered{width:100%;}\n",
    "div.CodeMirror {font family: Consolas; font-size:12pt;}\n",
    "div.output {font-size:12pt; font-weight:bold;}\n",
    "div.input {font-family: Consolas; font-size:12pt;}\n",
    "div.prompt {min-width:70px;}\n",
    "div#toc-wrapper{padding top:120px;}\n",
    "div.text_cell_render ul li {font-size:12pt;padding:5px;}\n",
    "table.dataframe{font-size:12px;}\n",
    "</style>\n",
    "\"\"\"))"
   ]
  },
  {
   "cell_type": "markdown",
   "id": "20c20406",
   "metadata": {},
   "source": [
    "# 5절. 연습문제"
   ]
  },
  {
   "cell_type": "code",
   "execution_count": 2,
   "id": "4ce2c5a8",
   "metadata": {},
   "outputs": [
    {
     "name": "stdout",
     "output_type": "stream",
     "text": [
      "양의 정수를 입력하세요: 3\n",
      "3홀수\n"
     ]
    }
   ],
   "source": [
    "# 1. 양의 정수를 입력 받아 홀수인지 짝수인지를 판별하는 프로그램을 작성하세요. \n",
    "# 양의 정수가 아니면 숫자를 다시 입력 받아야 합니다\n",
    "\n",
    "while True:\n",
    "    num = int(input(\"양의 정수를 입력하세요: \"))\n",
    "    if num > 0:\n",
    "        break\n",
    "    print(\"양의 정수가 아닙니다\")\n",
    "\n",
    "if num % 2 == 0:\n",
    "    print(f\"{num}짝수\")\n",
    "else:\n",
    "    print(f\"{num}홀수\")"
   ]
  },
  {
   "cell_type": "code",
   "execution_count": 3,
   "id": "99372e9b",
   "metadata": {},
   "outputs": [
    {
     "name": "stdout",
     "output_type": "stream",
     "text": [
      "*****\n",
      "*****\n",
      "*****\n",
      "*****\n",
      "*****\n",
      "\n",
      "\n",
      "*\n",
      "**\n",
      "***\n",
      "****\n",
      "*****\n"
     ]
    }
   ],
   "source": [
    "# 2. 중첩 for 문을 이용하여 아래 패턴의 별을 출력하는 프로그램을 작성하세요.\n",
    "for i in range(5):\n",
    "    print('*'*5)\n",
    "print()\n",
    "\n",
    "for i in range(6):\n",
    "    print(i * '*')"
   ]
  },
  {
   "cell_type": "code",
   "execution_count": 4,
   "id": "d37a7c94",
   "metadata": {},
   "outputs": [
    {
     "name": "stdout",
     "output_type": "stream",
     "text": [
      "165\n"
     ]
    }
   ],
   "source": [
    "# 3. 다음 코드는 1 부터 30 까지 (30 포함 ) 자연수 중에서 3 의 배수의 총 합을 출력하는 프로그램입니다 . \n",
    "# 빈칸의 코드를 완성하시오\n",
    "sum = 0\n",
    "for i in range(1, 31):\n",
    "    if i % 3 == 0:\n",
    "        sum = sum + i\n",
    "print(sum)"
   ]
  },
  {
   "cell_type": "code",
   "execution_count": 5,
   "id": "605204ba",
   "metadata": {},
   "outputs": [
    {
     "name": "stdout",
     "output_type": "stream",
     "text": [
      "1 3 5 7 9 "
     ]
    }
   ],
   "source": [
    "# 4. 다음 코드의 실행결과가 “1 3 5 7 가 되도록 빈칸을 완성하시오\n",
    "num = 0\n",
    "while num <= 10:\n",
    "    if num%2 == 1:\n",
    "        print(num, end=' ')\n",
    "    num += 1"
   ]
  },
  {
   "cell_type": "code",
   "execution_count": 6,
   "id": "d3efc594",
   "metadata": {},
   "outputs": [
    {
     "name": "stdout",
     "output_type": "stream",
     "text": [
      "1 2 3 \n",
      "4 5 6 7 \n",
      "8 9 \n"
     ]
    }
   ],
   "source": [
    "# 5. 다음 2 차원 리스트의 모든 값을 출력하는 코드입니다 . 빈칸을 완성하시오.\n",
    "list2d = [ [1, 2, 3],\n",
    "           [4, 5, 6, 7],\n",
    "           [8, 9],]\n",
    "for row in list2d:\n",
    "    for data in row:  \n",
    "        print(data, end=' ')  \n",
    "    print()  \n",
    "\n",
    "#결과\n",
    "#1 2 3\n",
    "#4 5 6 7\n",
    "#8 9"
   ]
  },
  {
   "cell_type": "code",
   "execution_count": 7,
   "id": "728ea62a",
   "metadata": {},
   "outputs": [
    {
     "name": "stdout",
     "output_type": "stream",
     "text": [
      "0 apple\n",
      "1 banana\n"
     ]
    }
   ],
   "source": [
    "# 6. 다음 빈칸에 들어갈 함수 이름은?\n",
    "colors = {\"red\":'apple', \"yellow\":'banana'}\n",
    "for i, (key, value) in enumerate(colors.items()):\n",
    "    print(i, value)\n",
    "#0 apple\n",
    "#1 banana"
   ]
  },
  {
   "cell_type": "code",
   "execution_count": 8,
   "id": "68241ed1",
   "metadata": {},
   "outputs": [
    {
     "name": "stdout",
     "output_type": "stream",
     "text": [
      "1 0\n"
     ]
    }
   ],
   "source": [
    "# 7. 다음 코드의 실행결과는? 1,0 / 0,1\n",
    "for i in range(0, 2):\n",
    "    for j in range(0, 2):\n",
    "        if i == j:\n",
    "            break\n",
    "        print(i, j)"
   ]
  },
  {
   "cell_type": "code",
   "execution_count": 9,
   "id": "92a0161c",
   "metadata": {},
   "outputs": [
    {
     "name": "stdout",
     "output_type": "stream",
     "text": [
      "0 0\n",
      "1 0\n",
      "1 1\n"
     ]
    }
   ],
   "source": [
    "# 8. 다음 코드의 실행 결과로 출력될 수 없는 것은?2\n",
    "for i in range(0, 2):\n",
    "    for j in range(0, 2):\n",
    "        print(i, j)\n",
    "        if i == j:\n",
    "            break\n",
    "#①0 0 ② 0 1 ③ 1 0 ④ 1 1"
   ]
  },
  {
   "cell_type": "code",
   "execution_count": 10,
   "id": "2130d10b",
   "metadata": {},
   "outputs": [
    {
     "name": "stdout",
     "output_type": "stream",
     "text": [
      "3579"
     ]
    }
   ],
   "source": [
    "# 9. 다음 코드의 실행결과는? 3,5,7,9\n",
    "L = [3, 4, 5, 6, 7, 8, 9, 10]\n",
    "for i, data in enumerate(L):\n",
    "    if i%2 == 0:\n",
    "        print(data, end='')"
   ]
  },
  {
   "cell_type": "code",
   "execution_count": 11,
   "id": "6d0569b9",
   "metadata": {},
   "outputs": [
    {
     "name": "stdout",
     "output_type": "stream",
     "text": [
      "컴퓨터가 발생한 임의의 수 : 44\n",
      "1~100사이의 수를 맞춰 보세요 :30\n",
      "UP↑\n",
      "1~100사이의 수를 맞춰 보세요 :44\n",
      "축하 축하 맞추셨습니다\n",
      "끝\n"
     ]
    }
   ],
   "source": [
    "# 10. 1~100사이의 정수를 맞추는 프로그램을 구현하시오\n",
    "#(프로그램안에 임의의 숫자가 만들어지고 그 숫자를 맞추도록 합니다)\n",
    "#1단계 . 입력된 숫자가 틀리면 UP/DOWN 메시지를 출력하고 숫자를 맞추면 축하메세지와 함께 종료합니다. 맞출 때까지 반복\n",
    "import random\n",
    "# (1) 1~100사이의 난수 발생\n",
    "randomNum = random.randint(1, 100) # random.seed(21)\n",
    "print('컴퓨터가 발생한 임의의 수 :', randomNum)\n",
    "# (2) 수를 입력받아 틀리면 UP/DOWN 메세지를 출력, 맞추면 축하축하 메세지와 break하는 반복문\n",
    "while True:\n",
    "    inputNum = int(input('1~100사이의 수를 맞춰 보세요 :'))\n",
    "    if (inputNum < 1) | (inputNum>100):\n",
    "        print('수의 범위를 벗어났습니다.')\n",
    "    elif randomNum < inputNum:\n",
    "        print('DOWN↓')\n",
    "    elif randomNum > inputNum:\n",
    "        print('UP↑')\n",
    "    else:\n",
    "        print('축하 축하 맞추셨습니다')\n",
    "        break\n",
    "print('끝')"
   ]
  },
  {
   "cell_type": "code",
   "execution_count": 12,
   "id": "152841ff",
   "metadata": {},
   "outputs": [
    {
     "name": "stdout",
     "output_type": "stream",
     "text": [
      "컴퓨터가 발생한 임의의 수 : 16\n",
      "1~100사이의 수를 맞춰 보세요 :40\n",
      "DOWN↓ 새로운 범위는 1~39입니다.\n",
      "1~100사이의 수를 맞춰 보세요 :30\n",
      "DOWN↓ 새로운 범위는 1~29입니다.\n",
      "1~100사이의 수를 맞춰 보세요 :10\n",
      "UP↑ 새로운 범위는 11~29입니다.\n",
      "1~100사이의 수를 맞춰 보세요 :13\n",
      "UP↑ 새로운 범위는 14~29입니다.\n",
      "1~100사이의 수를 맞춰 보세요 :16\n",
      "축하 축하 맞추셨습니다!\n",
      "끝\n"
     ]
    }
   ],
   "source": [
    "# 2단계 . 입력된 숫자가 틀리면 min~max 사이의 수라고 알려주고 숫자를 맞추면 축하 메시지와 함께 종료합니다. 맞출 때까지 반복\n",
    "import random\n",
    "\n",
    "randomNum = random.randint(1, 100)\n",
    "print('컴퓨터가 발생한 임의의 수 :', randomNum)\n",
    "min_num = 1  \n",
    "max_num = 100 \n",
    "\n",
    "while True:\n",
    "    inputNum = int(input('1~100사이의 수를 맞춰 보세요 :'))\n",
    "    \n",
    "    if inputNum < min_num or inputNum > max_num:\n",
    "        print(f'수의 범위를 벗어났습니다. {min_num}과 {max_num} 사이의 숫자를 입력하세요.')\n",
    "    \n",
    "    elif inputNum == randomNum:\n",
    "        print('축하 축하 맞추셨습니다!')\n",
    "        break\n",
    "        \n",
    "    elif inputNum > randomNum:\n",
    "        max_num = inputNum - 1\n",
    "        print(f'DOWN↓ 새로운 범위는 {min_num}~{max_num}입니다.')\n",
    "    \n",
    "    else:\n",
    "        min_num = inputNum + 1\n",
    "        print(f'UP↑ 새로운 범위는 {min_num}~{max_num}입니다.')\n",
    "\n",
    "print('끝')"
   ]
  },
  {
   "cell_type": "code",
   "execution_count": 13,
   "id": "1f319bba",
   "metadata": {},
   "outputs": [
    {
     "name": "stdout",
     "output_type": "stream",
     "text": [
      "컴퓨터가 발생한 임의의 수는 51입니다.\n",
      "1~100 사이의 수를 맞춰 보세요 (5회 남았습니다): 40\n",
      "UP↑ 새로운 범위는 41~100입니다.\n",
      "41~100 사이의 수를 맞춰 보세요 (4회 남았습니다): 70\n",
      "DOWN↓ 새로운 범위는 41~69입니다.\n",
      "41~69 사이의 수를 맞춰 보세요 (3회 남았습니다): 60\n",
      "DOWN↓ 새로운 범위는 41~59입니다.\n",
      "41~59 사이의 수를 맞춰 보세요 (2회 남았습니다): 50\n",
      "UP↑ 새로운 범위는 51~59입니다.\n",
      "51~59 사이의 수를 맞춰 보세요 (1회 남았습니다): 52\n",
      "DOWN↓ 새로운 범위는 51~51입니다.\n",
      "5회 시도 후에도 맞추지 못했습니다. 정답은 51였습니다. 실패!\n"
     ]
    }
   ],
   "source": [
    "# 3단계 . 숫자를 맞출 수 있는 기회를 5 회로 제한하고 5 회 이내에 맞추지 않으면 실패 메세지를 출력합니다\n",
    "import random\n",
    "\n",
    "randomNum = random.randint(1, 100)\n",
    "min_num = 1 \n",
    "max_num = 100  \n",
    "temp = 0  \n",
    "max_temp = 5\n",
    "\n",
    "print(f'컴퓨터가 발생한 임의의 수는 {randomNum}입니다.')\n",
    "\n",
    "while temp < max_temp:\n",
    "    temp += 1\n",
    "    chance = max_temp - temp\n",
    "    inputNum = int(input(f'{min_num}~{max_num} 사이의 수를 맞춰 보세요 ({chance+1}회 남았습니다): '))\n",
    "\n",
    "    if inputNum < min_num or inputNum > max_num:\n",
    "        print(f'수의 범위를 벗어났습니다. {min_num}과 {max_num} 사이의 숫자를 입력하세요.')\n",
    "    \n",
    "    elif inputNum == randomNum:\n",
    "        print(f'축하 축하 맞추셨습니다! {inputNum}이(가) 정답입니다.')\n",
    "        break\n",
    "\n",
    "    elif inputNum > randomNum:\n",
    "        max_num = inputNum - 1\n",
    "        print(f'DOWN↓ 새로운 범위는 {min_num}~{max_num}입니다.')\n",
    "\n",
    "    else:\n",
    "        min_num = inputNum + 1\n",
    "        print(f'UP↑ 새로운 범위는 {min_num}~{max_num}입니다.')\n",
    "\n",
    "if temp == max_temp and inputNum != randomNum:\n",
    "    print(f'5회 시도 후에도 맞추지 못했습니다. 정답은 {randomNum}였습니다. 실패!')"
   ]
  }
 ],
 "metadata": {
  "kernelspec": {
   "display_name": "Python 3 (ipykernel)",
   "language": "python",
   "name": "python3"
  },
  "language_info": {
   "codemirror_mode": {
    "name": "ipython",
    "version": 3
   },
   "file_extension": ".py",
   "mimetype": "text/x-python",
   "name": "python",
   "nbconvert_exporter": "python",
   "pygments_lexer": "ipython3",
   "version": "3.10.9"
  },
  "toc": {
   "base_numbering": 1,
   "nav_menu": {},
   "number_sections": false,
   "sideBar": true,
   "skip_h1_title": false,
   "title_cell": "Table of Contents",
   "title_sidebar": "Contents",
   "toc_cell": false,
   "toc_position": {},
   "toc_section_display": true,
   "toc_window_display": false
  }
 },
 "nbformat": 4,
 "nbformat_minor": 5
}
