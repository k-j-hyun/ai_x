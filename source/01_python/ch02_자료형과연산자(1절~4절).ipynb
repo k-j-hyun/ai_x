{
 "cells": [
  {
   "cell_type": "code",
   "execution_count": 52,
   "id": "0884c8b1",
   "metadata": {},
   "outputs": [
    {
     "data": {
      "text/html": [
       "\n",
       "<style>\n",
       "div.container{width:86% !important;}\n",
       "div.cell.code_cell.rendered{width:100%;}\n",
       "div.CodeMirror {font family:Consolas ; font-size:12pt;}\n",
       "div.output {font-size:12pt; font-weight:bold;}\n",
       "div.input {font-family:Consolas; font-size:12pt;}\n",
       "div.prompt {min-width:70px;}\n",
       "div#toc-wrapper{padding top:120px;}\n",
       "div.text_cell_render ul li {font-size:12pt;padding:5px;}\n",
       "table.dataframe{font-size:12px;}\n",
       "</style>\n"
      ],
      "text/plain": [
       "<IPython.core.display.HTML object>"
      ]
     },
     "metadata": {},
     "output_type": "display_data"
    }
   ],
   "source": [
    "from IPython.display import display, HTML\n",
    "display(HTML(\"\"\"\n",
    "<style>\n",
    "div.container{width:86% !important;}\n",
    "div.cell.code_cell.rendered{width:100%;}\n",
    "div.CodeMirror {font family:Consolas ; font-size:12pt;}\n",
    "div.output {font-size:12pt; font-weight:bold;}\n",
    "div.input {font-family:Consolas; font-size:12pt;}\n",
    "div.prompt {min-width:70px;}\n",
    "div#toc-wrapper{padding top:120px;}\n",
    "div.text_cell_render ul li {font-size:12pt;padding:5px;}\n",
    "table.dataframe{font-size:12px;}\n",
    "</style>\n",
    "\"\"\"))"
   ]
  },
  {
   "cell_type": "markdown",
   "id": "2f0afbb7",
   "metadata": {},
   "source": [
    "<font size=\"5\" color=\"red\">ch02 자료형과 연산자</font>\n",
    "# 1절 변수\n",
    "- 파이썬은 변수선언을 위한 과정이 없음. 할당과 동시에 타입이 지정되고 값이 할당됨\n",
    "\n",
    "## 1.1 변수할당\n",
    "- 할당연산자(=)를 이용해서 값을 할당하면 타입이 셋팅\n",
    "- 파이썬에서의 모든 변수는 객체로 저장"
   ]
  },
  {
   "cell_type": "code",
   "execution_count": 1,
   "id": "2d359ee7",
   "metadata": {},
   "outputs": [
    {
     "name": "stdout",
     "output_type": "stream",
     "text": [
      "계산된 넓이는 78.5\n"
     ]
    }
   ],
   "source": [
    "r = 5\n",
    "area = 3.14 * r * r\n",
    "print(\"계산된 넓이는\" , area)"
   ]
  },
  {
   "cell_type": "code",
   "execution_count": 5,
   "id": "d766f409",
   "metadata": {
    "scrolled": true
   },
   "outputs": [
    {
     "name": "stdout",
     "output_type": "stream",
     "text": [
      "area =  78.53981633974483\n"
     ]
    }
   ],
   "source": [
    "import numpy as np\n",
    "area = np.pi * r * r\n",
    "print('area = ', area)"
   ]
  },
  {
   "cell_type": "code",
   "execution_count": 6,
   "id": "d6478a0b",
   "metadata": {},
   "outputs": [
    {
     "data": {
      "text/plain": [
       "False"
      ]
     },
     "execution_count": 6,
     "metadata": {},
     "output_type": "execute_result"
    }
   ],
   "source": [
    "area.is_integer() # area가 interger인지 여부를 반환"
   ]
  },
  {
   "cell_type": "code",
   "execution_count": 7,
   "id": "20bc031c",
   "metadata": {},
   "outputs": [
    {
     "name": "stdout",
     "output_type": "stream",
     "text": [
      "area의 주소 : 2366605363888\n",
      "area의 타입 : <class 'float'>\n"
     ]
    }
   ],
   "source": [
    "print('area의 주소 :', id(area)) #id(area) : area변수의 주소값\n",
    "print('area의 타입 :', type(area))"
   ]
  },
  {
   "cell_type": "code",
   "execution_count": 8,
   "id": "8388b2ca",
   "metadata": {},
   "outputs": [
    {
     "name": "stdout",
     "output_type": "stream",
     "text": [
      "area의 주소 : 2366600903344\n",
      "area의 타입 : <class 'float'>\n"
     ]
    }
   ],
   "source": [
    "area = 5.5\n",
    "print('area의 주소 :', id(area)) #id(area) : area변수의 주소값\n",
    "print('area의 타입 :', type(area))"
   ]
  },
  {
   "cell_type": "code",
   "execution_count": 9,
   "id": "17f1543b",
   "metadata": {},
   "outputs": [
    {
     "name": "stdout",
     "output_type": "stream",
     "text": [
      "area의 주소 : 2368669286928\n",
      "area의 타입 : <class 'int'>\n"
     ]
    }
   ],
   "source": [
    "area = 10\n",
    "print('area의 주소 :', id(area)) #id(area) : area변수의 주소값\n",
    "print('area의 타입 :', type(area))"
   ]
  },
  {
   "cell_type": "code",
   "execution_count": 10,
   "id": "4d2e8a0c",
   "metadata": {},
   "outputs": [
    {
     "name": "stdout",
     "output_type": "stream",
     "text": [
      "area의 주소 : 2366629122224\n",
      "area의 타입 : <class 'str'>\n"
     ]
    }
   ],
   "source": [
    "area = \"파이썬\"\n",
    "print('area의 주소 :', id(area)) #id(area) : area변수의 주소값\n",
    "print('area의 타입 :', type(area))"
   ]
  },
  {
   "cell_type": "markdown",
   "id": "9c3ed927",
   "metadata": {},
   "source": [
    "## 1.2 변수이름 규칙\n",
    "- 문자로 시작(숫자시작불가)\n",
    "- 문자, 숫자, _로 변수명 작성\n",
    "- 함수명은 변수이름으로 가능하나 피한다. 써야한다면 int_식으로 _를 이용\n",
    "- 파이썬 예약어(for, ..)는 변수이름 사용 불가\n",
    "- 한글변수는 꼭 필요시에만 이용"
   ]
  },
  {
   "cell_type": "code",
   "execution_count": 11,
   "id": "4913d059",
   "metadata": {},
   "outputs": [
    {
     "name": "stdout",
     "output_type": "stream",
     "text": [
      "홍길동\n"
     ]
    }
   ],
   "source": [
    "이름 = \"홍길동\" # 비추\n",
    "print(이름)"
   ]
  },
  {
   "cell_type": "code",
   "execution_count": 12,
   "id": "39d700a7",
   "metadata": {},
   "outputs": [
    {
     "data": {
      "text/plain": [
       "'홍길동'"
      ]
     },
     "execution_count": 12,
     "metadata": {},
     "output_type": "execute_result"
    }
   ],
   "source": [
    "이름"
   ]
  },
  {
   "cell_type": "code",
   "execution_count": 13,
   "id": "f704a920",
   "metadata": {},
   "outputs": [
    {
     "ename": "SyntaxError",
     "evalue": "invalid syntax (3039934606.py, line 1)",
     "output_type": "error",
     "traceback": [
      "\u001b[1;36m  Cell \u001b[1;32mIn[13], line 1\u001b[1;36m\u001b[0m\n\u001b[1;33m    for = 5\u001b[0m\n\u001b[1;37m        ^\u001b[0m\n\u001b[1;31mSyntaxError\u001b[0m\u001b[1;31m:\u001b[0m invalid syntax\n"
     ]
    }
   ],
   "source": [
    "for = 5"
   ]
  },
  {
   "cell_type": "code",
   "execution_count": 16,
   "id": "e58e4b2e",
   "metadata": {},
   "outputs": [],
   "source": [
    "# member.name = \"홍길동\"\n",
    "member_name = \"홍길동\"\n",
    "memberName = \"홍길동\""
   ]
  },
  {
   "cell_type": "code",
   "execution_count": 17,
   "id": "e0bfc2b1",
   "metadata": {},
   "outputs": [
    {
     "name": "stdout",
     "output_type": "stream",
     "text": [
      "10\n"
     ]
    }
   ],
   "source": [
    "Print = 10 # 대문자로 시작한 변수, 함수명의 변수는 강력비추\n",
    "print(Print)"
   ]
  },
  {
   "cell_type": "code",
   "execution_count": 18,
   "id": "63ba2595",
   "metadata": {},
   "outputs": [
    {
     "data": {
      "text/plain": [
       "complex"
      ]
     },
     "execution_count": 18,
     "metadata": {},
     "output_type": "execute_result"
    }
   ],
   "source": [
    "#파이썬에서의 숫자 : 정수, 실수, 복소수\n",
    "i = 3 + 3j #복소수\n",
    "type(i)"
   ]
  },
  {
   "cell_type": "code",
   "execution_count": 20,
   "id": "b3dcbcd1",
   "metadata": {},
   "outputs": [
    {
     "data": {
      "text/plain": [
       "True"
      ]
     },
     "execution_count": 20,
     "metadata": {},
     "output_type": "execute_result"
    }
   ],
   "source": [
    "isinstance(i, complex) # i 변수(객체)가 complex인지 여부"
   ]
  },
  {
   "cell_type": "markdown",
   "id": "aacf8183",
   "metadata": {},
   "source": [
    "## 1.3 도움말"
   ]
  },
  {
   "cell_type": "code",
   "execution_count": 21,
   "id": "e34a46a4",
   "metadata": {},
   "outputs": [
    {
     "name": "stdout",
     "output_type": "stream",
     "text": [
      "Help on built-in function print in module builtins:\n",
      "\n",
      "print(...)\n",
      "    print(value, ..., sep=' ', end='\\n', file=sys.stdout, flush=False)\n",
      "    \n",
      "    Prints the values to a stream, or to sys.stdout by default.\n",
      "    Optional keyword arguments:\n",
      "    file:  a file-like object (stream); defaults to the current sys.stdout.\n",
      "    sep:   string inserted between values, default a space.\n",
      "    end:   string appended after the last value, default a newline.\n",
      "    flush: whether to forcibly flush the stream.\n",
      "\n"
     ]
    }
   ],
   "source": [
    "help(print)"
   ]
  },
  {
   "cell_type": "code",
   "execution_count": 23,
   "id": "90d80300",
   "metadata": {
    "collapsed": true
   },
   "outputs": [
    {
     "name": "stdout",
     "output_type": "stream",
     "text": [
      "\n",
      "Welcome to Python 3.10's help utility!\n",
      "\n",
      "If this is your first time using Python, you should definitely check out\n",
      "the tutorial on the internet at https://docs.python.org/3.10/tutorial/.\n",
      "\n",
      "Enter the name of any module, keyword, or topic to get help on writing\n",
      "Python programs and using Python modules.  To quit this help utility and\n",
      "return to the interpreter, just type \"quit\".\n",
      "\n",
      "To get a list of available modules, keywords, symbols, or topics, type\n",
      "\"modules\", \"keywords\", \"symbols\", or \"topics\".  Each module also comes\n",
      "with a one-line summary of what it does; to list the modules whose name\n",
      "or summary contain a given string such as \"spam\", type \"modules spam\".\n",
      "\n",
      "help> ㅁㄴㅇ\n",
      "No Python documentation found for 'ㅁㄴㅇ'.\n",
      "Use help() to get the interactive help utility.\n",
      "Use help(str) for help on the str class.\n",
      "\n",
      "help> q\n",
      "\n",
      "You are now leaving help and returning to the Python interpreter.\n",
      "If you want to ask for help on a particular object directly from the\n",
      "interpreter, you can type \"help(object)\".  Executing \"help('string')\"\n",
      "has the same effect as typing a particular string at the help> prompt.\n"
     ]
    }
   ],
   "source": [
    "help() # help를 빠져나오려면 q 입력 / ESC+o : 결과 접기/펴기"
   ]
  },
  {
   "cell_type": "code",
   "execution_count": null,
   "id": "bd46631c",
   "metadata": {
    "collapsed": true
   },
   "outputs": [],
   "source": [
    "# 도움말 기능 : shift+tab키\n",
    "print()"
   ]
  },
  {
   "cell_type": "code",
   "execution_count": 33,
   "id": "97ca968e",
   "metadata": {},
   "outputs": [],
   "source": [
    "def add(x, y=0):\n",
    "    '''\n",
    "    매개변수 2개를 받아 두자리 숫자로 만들어요\n",
    "    x = 10의 자리수가 됨\n",
    "    y = 1의 자리수가 됨\n",
    "    사용법 : add(2, 3) => 23\n",
    "    '''\n",
    "    return x*10 + y"
   ]
  },
  {
   "cell_type": "code",
   "execution_count": 34,
   "id": "65e45cda",
   "metadata": {},
   "outputs": [
    {
     "data": {
      "text/plain": [
       "20"
      ]
     },
     "execution_count": 34,
     "metadata": {},
     "output_type": "execute_result"
    }
   ],
   "source": [
    "add(2)"
   ]
  },
  {
   "cell_type": "code",
   "execution_count": 35,
   "id": "eab8bc14",
   "metadata": {},
   "outputs": [
    {
     "data": {
      "text/plain": [
       "23"
      ]
     },
     "execution_count": 35,
     "metadata": {},
     "output_type": "execute_result"
    }
   ],
   "source": [
    "a = add\n",
    "a(2, 3)"
   ]
  },
  {
   "cell_type": "markdown",
   "id": "da38cd4d",
   "metadata": {},
   "source": [
    "## 1.4 다중 변수 할당"
   ]
  },
  {
   "cell_type": "code",
   "execution_count": 45,
   "id": "153b1793",
   "metadata": {},
   "outputs": [],
   "source": [
    "a = 10\n",
    "b = 20"
   ]
  },
  {
   "cell_type": "code",
   "execution_count": 47,
   "id": "1560c99d",
   "metadata": {},
   "outputs": [
    {
     "name": "stdout",
     "output_type": "stream",
     "text": [
      "10 20\n"
     ]
    }
   ],
   "source": [
    "a, b = 10, 20\n",
    "print(a, b)"
   ]
  },
  {
   "cell_type": "code",
   "execution_count": 48,
   "id": "402e7d03",
   "metadata": {},
   "outputs": [
    {
     "name": "stdout",
     "output_type": "stream",
     "text": [
      "20 30\n"
     ]
    }
   ],
   "source": [
    "# 다중 변수 할당시 순차적 할당이 아니고, 일괄 동시 할당\n",
    "a, b = b, a+b\n",
    "print(a, b)"
   ]
  },
  {
   "cell_type": "markdown",
   "id": "c135eae9",
   "metadata": {},
   "source": [
    "# 2절. 화면입출력(i/o)"
   ]
  },
  {
   "cell_type": "code",
   "execution_count": 54,
   "id": "ffd98d64",
   "metadata": {},
   "outputs": [
    {
     "name": "stdout",
     "output_type": "stream",
     "text": [
      "첫번째 숫자는? 8\n"
     ]
    },
    {
     "data": {
      "text/plain": [
       "'8'"
      ]
     },
     "execution_count": 54,
     "metadata": {},
     "output_type": "execute_result"
    }
   ],
   "source": [
    "# input() : 사용자로부터 값을 입력받기 위한 함수. 문자열로 입력\n",
    "first = input(\"첫번째 숫자는? \")\n",
    "first"
   ]
  },
  {
   "cell_type": "code",
   "execution_count": 55,
   "id": "db15001e",
   "metadata": {},
   "outputs": [
    {
     "name": "stdout",
     "output_type": "stream",
     "text": [
      "두번째 숫자는? 2\n"
     ]
    }
   ],
   "source": [
    "second = input('두번째 숫자는? ')"
   ]
  },
  {
   "cell_type": "code",
   "execution_count": 56,
   "id": "4c6ac2fe",
   "metadata": {},
   "outputs": [
    {
     "name": "stdout",
     "output_type": "stream",
     "text": [
      "합:  10\n"
     ]
    }
   ],
   "source": [
    "sum = int(first) + int(second)\n",
    "print('합: ', sum)"
   ]
  },
  {
   "cell_type": "code",
   "execution_count": 57,
   "id": "082db74c",
   "metadata": {
    "scrolled": true
   },
   "outputs": [
    {
     "name": "stdout",
     "output_type": "stream",
     "text": [
      "첫번째 수는? 10\n",
      "두번째 수는? 20\n",
      "합 30\n"
     ]
    }
   ],
   "source": [
    "first = int(input('첫번째 수는? '))\n",
    "second = int(input('두번째 수는? '))\n",
    "sum = first + second\n",
    "print('합', sum)"
   ]
  },
  {
   "cell_type": "code",
   "execution_count": 64,
   "id": "f81025ec",
   "metadata": {},
   "outputs": [
    {
     "name": "stdout",
     "output_type": "stream",
     "text": [
      "합=30 / 합 ~ 30 / 합은 30 "
     ]
    }
   ],
   "source": [
    "print('합', sum, sep='=', end=' / ')\n",
    "print('합', sum, sep=' ~ ', end=' / ')\n",
    "print('합', sum, sep='은 ', end=' ')"
   ]
  },
  {
   "cell_type": "code",
   "execution_count": 65,
   "id": "52f30cf2",
   "metadata": {},
   "outputs": [
    {
     "name": "stdout",
     "output_type": "stream",
     "text": [
      "hello, world\n"
     ]
    }
   ],
   "source": [
    "import sys\n",
    "print('hello', 'world', sep=\", \", file=sys.stdout)"
   ]
  },
  {
   "cell_type": "markdown",
   "id": "91226deb",
   "metadata": {},
   "source": [
    "# 3절. 기본 자료형\n",
    "- 자료형에 따라 값의 크기와 저장방식이 달라짐\n",
    "    - 숫자 : int, float, complex\n",
    "    - 문자 : str\n",
    "    - 논리 : bool(True/False)\n",
    "    \n",
    "## 3.1 숫자형"
   ]
  },
  {
   "cell_type": "code",
   "execution_count": 66,
   "id": "9e6490bc",
   "metadata": {},
   "outputs": [
    {
     "data": {
      "text/plain": [
       "9223372036854775807"
      ]
     },
     "execution_count": 66,
     "metadata": {},
     "output_type": "execute_result"
    }
   ],
   "source": [
    "import sys\n",
    "sys.maxsize # 정수의 최대값 2**63승(2의 63승 -1)"
   ]
  },
  {
   "cell_type": "code",
   "execution_count": 70,
   "id": "902c0193",
   "metadata": {},
   "outputs": [
    {
     "name": "stdout",
     "output_type": "stream",
     "text": [
      "18446744073809551614\n",
      "<class 'int'>\n"
     ]
    }
   ],
   "source": [
    "i = sys.maxsize + 9223372036954775807\n",
    "print(i)\n",
    "print(type(i))"
   ]
  },
  {
   "cell_type": "code",
   "execution_count": 73,
   "id": "63ca30ec",
   "metadata": {},
   "outputs": [
    {
     "data": {
      "text/plain": [
       "2.0"
      ]
     },
     "execution_count": 73,
     "metadata": {},
     "output_type": "execute_result"
    }
   ],
   "source": [
    "f = 4/2 #정수/정수는 무조건 실수\n",
    "f"
   ]
  },
  {
   "cell_type": "code",
   "execution_count": 76,
   "id": "e00e8e11",
   "metadata": {},
   "outputs": [
    {
     "name": "stdout",
     "output_type": "stream",
     "text": [
      "2\n",
      "2\n"
     ]
    }
   ],
   "source": [
    "# 자바처럼 정수/정수의 결과를 정수로\n",
    "f = 4//2 #몫연산자\n",
    "print(f)\n",
    "f = int(4/2)\n",
    "print(f)"
   ]
  },
  {
   "cell_type": "code",
   "execution_count": 78,
   "id": "16eb2eff",
   "metadata": {},
   "outputs": [
    {
     "name": "stdout",
     "output_type": "stream",
     "text": [
      "(-1+0j)\n"
     ]
    }
   ],
   "source": [
    "c = 1j # 수학시간의 0+1i\n",
    "print(c**2) # ** 승연산자"
   ]
  },
  {
   "cell_type": "code",
   "execution_count": 81,
   "id": "697b86bc",
   "metadata": {},
   "outputs": [
    {
     "name": "stdout",
     "output_type": "stream",
     "text": [
      "지수형 표현할당시 실수형으로 저장 : 1120000000000.0\n",
      "지수형 표현할당시 실수형으로 저장 : 1.12e-12\n"
     ]
    }
   ],
   "source": [
    "f = 1.12e12 # 1.12의 10의 12승 112000000000 지수형표현(작은수도 지수형표현)\n",
    "print('지수형 표현할당시 실수형으로 저장 :', f)\n",
    "f = 1.12e-12 # 0.000000000000112\n",
    "print('지수형 표현할당시 실수형으로 저장 :', f)"
   ]
  },
  {
   "cell_type": "markdown",
   "id": "ad3902ed",
   "metadata": {},
   "source": [
    "## 3.2 문자형\n",
    "- 쌍따옴표(\"-\")나 홑따옴표('-')이용"
   ]
  },
  {
   "cell_type": "code",
   "execution_count": 88,
   "id": "bc4c0140",
   "metadata": {},
   "outputs": [
    {
     "name": "stdout",
     "output_type": "stream",
     "text": [
      "홍길동\"짱\" 서울시 관악구 '신길동'\n"
     ]
    }
   ],
   "source": [
    "name = \"홍길동\\\"짱\\\"\" # 홍길동\"짱\"\n",
    "name = '홍길동\"짱\"'\n",
    "adress = '서울시 관악구 \\'신림동\\''\n",
    "adress = \"서울시 관악구 '신림동'\" # \"서울시 관악구 '신길동'\"\n",
    "print(name, adress)"
   ]
  },
  {
   "cell_type": "code",
   "execution_count": 91,
   "id": "1c671f53",
   "metadata": {},
   "outputs": [
    {
     "name": "stdout",
     "output_type": "stream",
     "text": [
      "여러줄 짜리 내용\n",
      "줄바꿈 문자를 쓰지 않고 따옴표 3개로 처리\n",
      "이처럼 쓰는 경우가 많아요\n"
     ]
    }
   ],
   "source": [
    "# 문자형 변수 여러줄\n",
    "text = '''여러줄 짜리 내용\n",
    "줄바꿈 문자를 쓰지 않고 따옴표 3개로 처리\n",
    "이처럼 쓰는 경우가 많아요'''\n",
    "print(text)"
   ]
  },
  {
   "cell_type": "markdown",
   "id": "e5ada6c2",
   "metadata": {},
   "source": [
    "### ※ 문자열 연산"
   ]
  },
  {
   "cell_type": "code",
   "execution_count": 35,
   "id": "a607beb9",
   "metadata": {},
   "outputs": [
    {
     "name": "stdout",
     "output_type": "stream",
     "text": [
      "홍길동동해 번쩍 서해 번쩍\n"
     ]
    }
   ],
   "source": [
    "'''\n",
    "    여러 줄 주석 용도\n",
    "    2025.04.08. 문자열 연산 소스 by 아무개\n",
    "'''\n",
    "name1 = \"홍길동\"\n",
    "name2 = \"동해 번쩍 서해 번쩍\"\n",
    "print(name1 + name2)"
   ]
  },
  {
   "cell_type": "code",
   "execution_count": 36,
   "id": "a0a8c9bb",
   "metadata": {},
   "outputs": [
    {
     "name": "stdout",
     "output_type": "stream",
     "text": [
      "홍길동홍길동홍길동\n"
     ]
    }
   ],
   "source": [
    "print(name1 * 3) # 문자열을 곱하면 반복"
   ]
  },
  {
   "cell_type": "markdown",
   "id": "82cbf8a1",
   "metadata": {},
   "source": [
    "### ※ raw 데이터\n",
    "- 용도 : 정규표현식 이용, 디렉토리 경로 표현시 이용"
   ]
  },
  {
   "cell_type": "code",
   "execution_count": 37,
   "id": "a066819b",
   "metadata": {},
   "outputs": [
    {
     "name": "stdout",
     "output_type": "stream",
     "text": [
      "Hello\\nWorld\n",
      "Hello\\nWorld\n"
     ]
    }
   ],
   "source": [
    "print(r'Hello\\nWorld')\n",
    "print('Hello\\\\nWorld')"
   ]
  },
  {
   "cell_type": "markdown",
   "id": "fc1c5512",
   "metadata": {},
   "source": [
    "정규표현식\n",
    "```(마크업 셀에서 백틱은 블록을 만들 때 사용)\n",
    "1. 참조 : 위키백과\n",
    "2. 간략한 문법 :\n",
    "    \\d (숫자와 매치, [0-9]와 동일\n",
    "    \\D (숫자가 아닌것)\n",
    "    \\w (영문자나 숫자, [a-zA-Z0-9]\n",
    "    \\W (영문자나 숫자가 아닌 문자)\n",
    "    . (문자)\n",
    "    \\. (.의미)\n",
    "    \\- (-의미)\n",
    "    {2, 3} (2~4번 반복)\n",
    "    {4} (4번 반복)\n",
    "    {2,} (2번 이상 반복)\n",
    "    + (1번 이상 반복)\n",
    "    * (0번 이상 반복)\n",
    "    ? (0번이나 1번 반복)\n",
    "3. 정규표현식 연습장\n",
    "    ex1. 전화번호 : 010-9999-9999 02-712-8888   \n",
    "                    01099997777 0277778888      \n",
    "                    02)714-5656 010 1234 1234 010.1234.1234\n",
    "                    *전화번호 정규 표현식 : [0-9]{2,3}[\\-) .]?\\d{3,4}[\\- .]?\\d{4}\n",
    "                    규칙을 설정하고 싶은경우 -[0-9]{2,3}-\\d{3,4}-\\d{4} : 형식 제한/맨앞에 -가 올경우만 선택\n",
    "                    *이메일 정규 표현식 : \\w{3,}@[a-zA-Z0-9가-힣]+\\.[a-zA-Z]+(\\.[a-zA-Z]+)?    /     \\w{3,}@[a-zA-Z0-9가-힣]+(\\.[a-zA-Z]+){1,2}\n",
    "                    *정규표현식 연습장 : https://regexr.com/\n",
    "    ex2. 이메일 : abc12@naver.com / abc@0to7.co.kr / abc@한국.com / abc@한국-com\n",
    "    4. 소스 구현\n",
    "    email_pattern = r\"\\w{3,}@[a-zA-Z0-9가-힣]+(\\.[a-zA-Z]+){1,2}\"\n",
    "```"
   ]
  },
  {
   "cell_type": "code",
   "execution_count": 38,
   "id": "8d2410f4",
   "metadata": {},
   "outputs": [
    {
     "name": "stdout",
     "output_type": "stream",
     "text": [
      "홍길동인데 전번이 041-888-8888, @@@@@@010 9999 9999 동해번쩍 서해번쩍 abc@email.com ㅋㅋ ㅠㅠ 오늘 날씨는 엄청 좋아요\n"
     ]
    }
   ],
   "source": [
    "import re\n",
    "data = \"홍길동인데 전번이 041-888-8888, @@@@@@\\\n",
    "010 9999 9999 동해번쩍 서해번쩍 abc@email.com ㅋㅋ ㅠㅠ \\\n",
    "오늘 날씨는 엄청 좋아요\"\n",
    "print(data)"
   ]
  },
  {
   "cell_type": "code",
   "execution_count": 39,
   "id": "1ff5975b",
   "metadata": {},
   "outputs": [],
   "source": [
    "tel_pattern = r\"[0-9]{2,3}[\\-) .]?\\d{3,4}[\\- .]?\\d{4}\""
   ]
  },
  {
   "cell_type": "code",
   "execution_count": 40,
   "id": "ec8ee851",
   "metadata": {},
   "outputs": [
    {
     "data": {
      "text/plain": [
       "['041-888-8888', '010 9999 9999']"
      ]
     },
     "execution_count": 40,
     "metadata": {},
     "output_type": "execute_result"
    }
   ],
   "source": [
    "# 해당 패턴을 다 찾아줌. 없으면 []반환\n",
    "tels =re.findall(tel_pattern, data)\n",
    "tels"
   ]
  },
  {
   "cell_type": "code",
   "execution_count": 41,
   "id": "25ffa1b5",
   "metadata": {},
   "outputs": [
    {
     "data": {
      "text/plain": [
       "<re.Match object; span=(10, 22), match='041-888-8888'>"
      ]
     },
     "execution_count": 41,
     "metadata": {},
     "output_type": "execute_result"
    }
   ],
   "source": [
    "# search() : 정규표현식 패턴과 일치하는 처음단어만 찾음\n",
    "pattern = \"(\\d{2,3})-(\\d{3,4})-(\\d{4})\"\n",
    "firstTel = re.search(pattern, data)\n",
    "firstTel"
   ]
  },
  {
   "cell_type": "code",
   "execution_count": 42,
   "id": "057041a2",
   "metadata": {},
   "outputs": [
    {
     "data": {
      "text/plain": [
       "'041-888-8888'"
      ]
     },
     "execution_count": 42,
     "metadata": {},
     "output_type": "execute_result"
    }
   ],
   "source": [
    "data[10:22] #문자 슬라이싱"
   ]
  },
  {
   "cell_type": "code",
   "execution_count": 43,
   "id": "202e9123",
   "metadata": {},
   "outputs": [
    {
     "name": "stdout",
     "output_type": "stream",
     "text": [
      "전화번호 전체 : 041-888-8888\n",
      "국번 : 041\n",
      "중간번호 : 888\n",
      "끝번호 : 8888\n"
     ]
    }
   ],
   "source": [
    "print('전화번호 전체 :', firstTel.group(0))\n",
    "print('국번 :', firstTel.group(1))\n",
    "print('중간번호 :', firstTel.group(2))\n",
    "print('끝번호 :', firstTel.group(3))"
   ]
  },
  {
   "cell_type": "code",
   "execution_count": 34,
   "id": "f6729f81",
   "metadata": {},
   "outputs": [
    {
     "data": {
      "text/plain": [
       "'홍길동인데 전번이 0418888888 010 9999 9999 동해번쩍 서해번쩍    오늘 날씨는 엄청 좋아요'"
      ]
     },
     "execution_count": 34,
     "metadata": {},
     "output_type": "execute_result"
    }
   ],
   "source": [
    "re.sub(r'[^가-힣0-9\\s]', '', data) #특수문자, 자음, 모음 없애기"
   ]
  },
  {
   "cell_type": "code",
   "execution_count": 47,
   "id": "56d1d59e",
   "metadata": {},
   "outputs": [],
   "source": [
    "# 파일 경로에는 반드시 r, \\\\, /중 하나를 사용\n",
    "file_path = r\"C:\\ai_x\\source\\01_python\\text.txt\"\n",
    "file_path = \"C:\\\\ai_x\\\\source\\\\01_python\\\\text.txt\"\n",
    "file_path = \"C:/ai_x/source/01_python/text.txt\""
   ]
  },
  {
   "cell_type": "code",
   "execution_count": 48,
   "id": "b6e54a58",
   "metadata": {},
   "outputs": [
    {
     "name": "stdout",
     "output_type": "stream",
     "text": [
      "Hello ~ world\n"
     ]
    }
   ],
   "source": [
    "file_stream = open(file_path, 'w')\n",
    "print(\"Hello\", \"world\", sep=\" ~ \") # 콘솔 출력\n",
    "print(\"Hello\", \"world\", sep=\" ~ \", file=file_stream) # 파일 출력\n",
    "file_stream.close() # close를 하지 않으면 파일저장 안됨"
   ]
  },
  {
   "cell_type": "markdown",
   "id": "a4540aa2",
   "metadata": {},
   "source": [
    "※ 문자열 슬라이싱"
   ]
  },
  {
   "cell_type": "code",
   "execution_count": 53,
   "id": "dbc27ef2",
   "metadata": {},
   "outputs": [
    {
     "data": {
      "text/plain": [
       "'0123456789'"
      ]
     },
     "execution_count": 53,
     "metadata": {},
     "output_type": "execute_result"
    }
   ],
   "source": [
    "str_ = '0123456789'\n",
    "str_"
   ]
  },
  {
   "cell_type": "code",
   "execution_count": 55,
   "id": "2a18f019",
   "metadata": {},
   "outputs": [
    {
     "data": {
      "text/plain": [
       "('0', '2', '9', '7')"
      ]
     },
     "execution_count": 55,
     "metadata": {},
     "output_type": "execute_result"
    }
   ],
   "source": [
    "# 문자 인덱싱\n",
    "str_[0], str_[2], str_[-1], str_[-3]"
   ]
  },
  {
   "cell_type": "code",
   "execution_count": 60,
   "id": "eb248d2e",
   "metadata": {},
   "outputs": [
    {
     "ename": "IndexError",
     "evalue": "string index out of range",
     "output_type": "error",
     "traceback": [
      "\u001b[1;31m--------------------------------------------------------------\u001b[0m",
      "\u001b[1;31mIndexError\u001b[0m                   Traceback (most recent call last)",
      "Cell \u001b[1;32mIn[60], line 1\u001b[0m\n\u001b[1;32m----> 1\u001b[0m \u001b[43mstr_\u001b[49m\u001b[43m[\u001b[49m\u001b[38;5;241;43m10\u001b[39;49m\u001b[43m]\u001b[49m\n",
      "\u001b[1;31mIndexError\u001b[0m: string index out of range"
     ]
    }
   ],
   "source": [
    "str_[10] # 없는 인덱싱은 에러"
   ]
  },
  {
   "cell_type": "code",
   "execution_count": null,
   "id": "e2a4f06e",
   "metadata": {},
   "outputs": [],
   "source": [
    "'''\n",
    "문자변수[from:stop] : from부터 stop앞까지 추출\n",
    "문자변수[from:stop:step] : from부터 stop앞까지 step씩 전진하면서 추출\n",
    "    step 생략시 1\n",
    "    from 생략시 처음부터\n",
    "    stop 생략시 끝까지\n",
    "'''"
   ]
  },
  {
   "cell_type": "code",
   "execution_count": 61,
   "id": "bd852bfc",
   "metadata": {},
   "outputs": [
    {
     "data": {
      "text/plain": [
       "'01234'"
      ]
     },
     "execution_count": 61,
     "metadata": {},
     "output_type": "execute_result"
    }
   ],
   "source": [
    "str_[0:5]"
   ]
  },
  {
   "cell_type": "code",
   "execution_count": 62,
   "id": "b2886f2b",
   "metadata": {},
   "outputs": [
    {
     "data": {
      "text/plain": [
       "'0246'"
      ]
     },
     "execution_count": 62,
     "metadata": {},
     "output_type": "execute_result"
    }
   ],
   "source": [
    "str_[0:8:2]"
   ]
  },
  {
   "cell_type": "code",
   "execution_count": null,
   "id": "e54ff7fc",
   "metadata": {},
   "outputs": [],
   "source": []
  },
  {
   "cell_type": "code",
   "execution_count": null,
   "id": "5ddf7898",
   "metadata": {},
   "outputs": [],
   "source": []
  },
  {
   "cell_type": "code",
   "execution_count": null,
   "id": "97686639",
   "metadata": {},
   "outputs": [],
   "source": []
  }
 ],
 "metadata": {
  "kernelspec": {
   "display_name": "Python 3 (ipykernel)",
   "language": "python",
   "name": "python3"
  },
  "language_info": {
   "codemirror_mode": {
    "name": "ipython",
    "version": 3
   },
   "file_extension": ".py",
   "mimetype": "text/x-python",
   "name": "python",
   "nbconvert_exporter": "python",
   "pygments_lexer": "ipython3",
   "version": "3.10.9"
  },
  "toc": {
   "base_numbering": 1,
   "nav_menu": {},
   "number_sections": false,
   "sideBar": true,
   "skip_h1_title": false,
   "title_cell": "Table of Contents",
   "title_sidebar": "Contents",
   "toc_cell": false,
   "toc_position": {
    "height": "calc(100% - 180px)",
    "left": "10px",
    "top": "150px",
    "width": "165px"
   },
   "toc_section_display": true,
   "toc_window_display": true
  }
 },
 "nbformat": 4,
 "nbformat_minor": 5
}
