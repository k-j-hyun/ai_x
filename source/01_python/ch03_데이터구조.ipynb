{
 "cells": [
  {
   "cell_type": "code",
   "execution_count": 51,
   "id": "762cf2fb",
   "metadata": {},
   "outputs": [
    {
     "data": {
      "text/html": [
       "\n",
       "<style>\n",
       "div.container{width:86% !important;}\n",
       "div.cell.code_cell.rendered{width:100%;}\n",
       "div.CodeMirror {font family: Consolas; font-size:12pt;}\n",
       "div.output {font-size:12pt; font-weight:bold;}\n",
       "div.input {font-family: Consolas; font-size:12pt;}\n",
       "div.prompt {min-width:70px;}\n",
       "div#toc-wrapper{padding top:120px;}\n",
       "div.text_cell_render ul li {font-size:12pt;padding:5px;}\n",
       "table.dataframe{font-size:12px;}\n",
       "</style>\n"
      ],
      "text/plain": [
       "<IPython.core.display.HTML object>"
      ]
     },
     "metadata": {},
     "output_type": "display_data"
    }
   ],
   "source": [
    "from IPython.display import display, HTML\n",
    "display(HTML(\"\"\"\n",
    "<style>\n",
    "div.container{width:86% !important;}\n",
    "div.cell.code_cell.rendered{width:100%;}\n",
    "div.CodeMirror {font family: Consolas; font-size:12pt;}\n",
    "div.output {font-size:12pt; font-weight:bold;}\n",
    "div.input {font-family: Consolas; font-size:12pt;}\n",
    "div.prompt {min-width:70px;}\n",
    "div#toc-wrapper{padding top:120px;}\n",
    "div.text_cell_render ul li {font-size:12pt;padding:5px;}\n",
    "table.dataframe{font-size:12px;}\n",
    "</style>\n",
    "\"\"\"))"
   ]
  },
  {
   "cell_type": "markdown",
   "id": "aa1122a2",
   "metadata": {},
   "source": [
    "<font clolo = \"red\" size = \"5\"> ch03. 데이터구조</font>\n",
    "- 리스트[], 튜플(), 딕셔너리{}, 셋() : 셋은 기피하는 단어들을 불 허용할 때 사용함\n",
    "\n",
    "# 1절. 리스트\n",
    "## 1.1 리스트 만들기\n",
    "\n",
    "- []를 이용해서 만들며, 여러개 값(여러 타입)을 하나의 변수에 저장/관리할 수 있음\n",
    "- list(리스트로 변환 가능한 자료)함수 이용도 가능\n",
    "- 인덱스 : 각 요소의 위치. 0부터 시작. 맨 마지막 인덱스는 -1로 표현할 수 있음\n",
    "- 슬라이싱 :( [from:stop:step] ) from생략하면 처음부터, stop생략하면 끝까지, step없애면 하나씩, 거꾸로하고 싶으면 -1\n",
    "    : 부분 데이터셋 추출\n",
    "- 인덱스와 슬라이싱을 이용해서 읽기/쓰기 지원"
   ]
  },
  {
   "cell_type": "code",
   "execution_count": 4,
   "id": "9b8989ac",
   "metadata": {},
   "outputs": [
    {
     "data": {
      "text/plain": [
       "list"
      ]
     },
     "execution_count": 4,
     "metadata": {},
     "output_type": "execute_result"
    }
   ],
   "source": [
    "# []를 이용해서 다중 변수 저장\n",
    "fruits = ['banana', 'apple', 'orange', 'grape']\n",
    "type(fruits) # 타입확인"
   ]
  },
  {
   "cell_type": "code",
   "execution_count": 6,
   "id": "a2531bc4",
   "metadata": {},
   "outputs": [
    {
     "name": "stdout",
     "output_type": "stream",
     "text": [
      "['banana', 'apple', 'orange', 'grape']\n",
      "banana\n"
     ]
    }
   ],
   "source": [
    "# 다중 변수 중 필요한 하나의 변수만 불러오고 싶으면 [] 사이에 인덱스 번호로 호출할 수 있음\n",
    "print(fruits)\n",
    "print(fruits[0])"
   ]
  },
  {
   "cell_type": "code",
   "execution_count": 8,
   "id": "fe296946",
   "metadata": {},
   "outputs": [
    {
     "name": "stdout",
     "output_type": "stream",
     "text": [
      "['mango', 'apple', 'orange', 'grape']\n"
     ]
    }
   ],
   "source": [
    "# 0번 인덱스에 다른 변수로 바꾸어 저장하는 방법\n",
    "fruits[0] = 'mango'\n",
    "print(fruits)"
   ]
  },
  {
   "cell_type": "code",
   "execution_count": 16,
   "id": "a31a376e",
   "metadata": {},
   "outputs": [
    {
     "name": "stdout",
     "output_type": "stream",
     "text": [
      "x=mango\n",
      "y=apple\n",
      "z=orange\n",
      "fruits=['mango', 'apple', 'orange']\n"
     ]
    }
   ],
   "source": [
    "fruits = ['mango', 'apple', 'orange']\n",
    "x, y, z = fruits\n",
    "print(f'x={x}')\n",
    "print(f'y={y}')\n",
    "print('z={}'.format(z))\n",
    "print(f'fruits={fruits}')"
   ]
  },
  {
   "cell_type": "code",
   "execution_count": 20,
   "id": "eb408eee",
   "metadata": {},
   "outputs": [
    {
     "data": {
      "text/plain": [
       "[0, 1, 2, 3, 4, 5, 6, 7, 8, 9]"
      ]
     },
     "execution_count": 20,
     "metadata": {},
     "output_type": "execute_result"
    }
   ],
   "source": [
    "# range(from, stop=to, step=by) : from부터 to앞까지 by씩 증가하면서 지정된 범위의 정수\n",
    "        # from 생략시 : 0\n",
    "        # by 생략시 : 1\n",
    "list(range(10))"
   ]
  },
  {
   "cell_type": "code",
   "execution_count": 21,
   "id": "82b1c0e7",
   "metadata": {},
   "outputs": [
    {
     "data": {
      "text/plain": [
       "[101, 102, 103, 104, 105, 106, 107, 108, 109, 110]"
      ]
     },
     "execution_count": 21,
     "metadata": {},
     "output_type": "execute_result"
    }
   ],
   "source": [
    "list(range(101, 111)) # range(from, to)"
   ]
  },
  {
   "cell_type": "code",
   "execution_count": 22,
   "id": "a9d28ab7",
   "metadata": {},
   "outputs": [
    {
     "data": {
      "text/plain": [
       "[10, 8, 6, 4, 2, 0]"
      ]
     },
     "execution_count": 22,
     "metadata": {},
     "output_type": "execute_result"
    }
   ],
   "source": [
    "list(range(10, -1, -2))"
   ]
  },
  {
   "cell_type": "code",
   "execution_count": 25,
   "id": "779324b2",
   "metadata": {},
   "outputs": [
    {
     "name": "stdout",
     "output_type": "stream",
     "text": [
      "0\n",
      "1\n",
      "2\n"
     ]
    }
   ],
   "source": [
    "# 반복문(3회)\n",
    "for i in [0, 1, 2]: # i 변수 안에 in 뒤의 []안에 있는 list 순서대로 i 변수가 저장됨 ex) i=0, i=1, i=2\n",
    "    print(i)"
   ]
  },
  {
   "cell_type": "code",
   "execution_count": 37,
   "id": "c4c0429c",
   "metadata": {
    "collapsed": true
   },
   "outputs": [
    {
     "name": "stdout",
     "output_type": "stream",
     "text": [
      "0\n",
      "1\n",
      "2\n",
      "3\n",
      "4\n",
      "5\n",
      "6\n",
      "7\n",
      "8\n",
      "9\n",
      "10\n",
      "11\n",
      "12\n",
      "13\n",
      "14\n",
      "15\n",
      "16\n",
      "17\n",
      "18\n",
      "19\n",
      "20\n",
      "21\n",
      "22\n",
      "23\n",
      "24\n",
      "25\n",
      "26\n",
      "27\n",
      "28\n",
      "29\n"
     ]
    }
   ],
   "source": [
    "# 반복문(30회)\n",
    "for i in range(30): # for i in (list(range)): 이렇게도 가능\n",
    "    print(i) #for 문을 완성하지 않고 남겨두고 싶은경우 pass를 들여쓰기 하면 됨"
   ]
  },
  {
   "cell_type": "code",
   "execution_count": 36,
   "id": "3df27485",
   "metadata": {},
   "outputs": [
    {
     "name": "stdout",
     "output_type": "stream",
     "text": [
      "mango\n",
      "apple\n",
      "orange\n",
      "hello\n"
     ]
    }
   ],
   "source": [
    "fruits = ['mango', 'apple', 'orange']\n",
    "for i in fruits: # 들여쓰기는 블럭, 무조건 들여쓰기 신경쓰기\n",
    "    print(i)\n",
    "    # print('hello')\n",
    "print('hello')"
   ]
  },
  {
   "cell_type": "code",
   "execution_count": 40,
   "id": "ea9c1eb8",
   "metadata": {},
   "outputs": [
    {
     "name": "stdout",
     "output_type": "stream",
     "text": [
      "mango\n",
      "['a', 'b', 'c']\n",
      "apple\n",
      "['a', 'b', 'c']\n",
      "orange\n",
      "['a', 'b', 'c']\n"
     ]
    }
   ],
   "source": [
    "fruits = ['mango', 'apple', 'orange']\n",
    "#a = ['a', 'b', 'c']\n",
    "for i in range(3):\n",
    "    print(fruits[i])\n",
    "    #print(a)"
   ]
  },
  {
   "cell_type": "code",
   "execution_count": 42,
   "id": "475685d2",
   "metadata": {},
   "outputs": [
    {
     "name": "stdout",
     "output_type": "stream",
     "text": [
      "0번째 과일은 mango입니다\n",
      "1번째 과일은 apple입니다\n",
      "2번째 과일은 orange입니다\n"
     ]
    }
   ],
   "source": [
    "fruits = ['mango', 'apple', 'orange']\n",
    "for i in range(3):\n",
    "    print(\"{}번째 과일은 {}입니다\".format(i, fruits[i])) # i를 인덱스로 저장한 포맷형식, i=1, i=2, i=3"
   ]
  },
  {
   "cell_type": "code",
   "execution_count": 47,
   "id": "c65cbbb3",
   "metadata": {},
   "outputs": [
    {
     "name": "stdout",
     "output_type": "stream",
     "text": [
      "0번째 과일은 mango입니다\n",
      "1번째 과일은 apple입니다\n",
      "2번째 과일은 orange입니다\n",
      "3번째 과일은 grape입니다\n"
     ]
    }
   ],
   "source": [
    "fruits = ['mango', 'apple', 'orange', 'grape']\n",
    "# len(fruits) : 리스트 데이터 수\n",
    "for i in range(len(fruits)): # 마지막 인덱스 +1로 표현해야 하드코딩이 아님 \n",
    "    print(\"{}번째 과일은 {}입니다\".format(i,fruits[i])) # 하드코딩 : list에 4개인데 range 값이 3개인경우 이런 코딩은 옳지 않음"
   ]
  },
  {
   "cell_type": "code",
   "execution_count": 49,
   "id": "14d7922f",
   "metadata": {},
   "outputs": [
    {
     "name": "stdout",
     "output_type": "stream",
     "text": [
      "mango\n",
      "apple\n",
      "orange\n",
      "grape\n"
     ]
    }
   ],
   "source": [
    "for value in fruits: #인덱스가 필요없는 경우\n",
    "    print(value)"
   ]
  },
  {
   "cell_type": "code",
   "execution_count": null,
   "id": "f6d1ea66",
   "metadata": {},
   "outputs": [],
   "source": [
    "i, v = [1, 'mango']\n",
    "print(i)\n",
    "print(v)"
   ]
  },
  {
   "cell_type": "code",
   "execution_count": 53,
   "id": "d58393f6",
   "metadata": {},
   "outputs": [
    {
     "name": "stdout",
     "output_type": "stream",
     "text": [
      "0번째 과일은 mango입니다\n",
      "1번째 과일은 apple입니다\n",
      "2번째 과일은 orange입니다\n",
      "3번째 과일은 grape입니다\n"
     ]
    }
   ],
   "source": [
    "fruits = ['mango', 'apple', 'orange', 'grape']\n",
    "for idx, value in [[0, 'mango'],[1,'apple'],[2,'orange'],[3,'grape']]:\n",
    "    print(\"{}번째 과일은 {}입니다\".format(idx,value))"
   ]
  },
  {
   "cell_type": "code",
   "execution_count": 54,
   "id": "442f36a4",
   "metadata": {},
   "outputs": [
    {
     "data": {
      "text/plain": [
       "[(0, 'mango'), (1, 'apple'), (2, 'orange'), (3, 'grape')]"
      ]
     },
     "execution_count": 54,
     "metadata": {},
     "output_type": "execute_result"
    }
   ],
   "source": [
    "list(enumerate(fruits))"
   ]
  },
  {
   "cell_type": "code",
   "execution_count": 55,
   "id": "2dfe965e",
   "metadata": {},
   "outputs": [
    {
     "name": "stdout",
     "output_type": "stream",
     "text": [
      "0번째 과일은 mango입니다\n",
      "1번째 과일은 apple입니다\n",
      "2번째 과일은 orange입니다\n",
      "3번째 과일은 grape입니다\n"
     ]
    }
   ],
   "source": [
    "fruits = ['mango', 'apple', 'orange', 'grape']\n",
    "\n",
    "# enumerate(나열가능한 자료) : -> (index,값)들의 셋들\n",
    "for idx, value in enumerate(fruits):\n",
    "    print(\"{}번째 과일은 {}입니다\".format(idx,value))"
   ]
  },
  {
   "cell_type": "code",
   "execution_count": 62,
   "id": "70c06ba0",
   "metadata": {},
   "outputs": [
    {
     "name": "stdout",
     "output_type": "stream",
     "text": [
      "[0, True, '2', 3, [4, 5, 6]]\n",
      "True 5\n"
     ]
    }
   ],
   "source": [
    "# 리스트는 여러 타입의 데이터를 담을 수 있음\n",
    "numbers = [0, True, '2', 3, [4,5,6] ] # list 안에 다른 list를 담을 수도 있음\n",
    "print(numbers)\n",
    "print(numbers[1], numbers[4][1]) # list 안에 다른 list 중 하나를 출력하고 싶은 경우 list가 담긴 변수[4][1] 인덱스 번호로 출력 가능함"
   ]
  },
  {
   "cell_type": "code",
   "execution_count": 64,
   "id": "4c9835f9",
   "metadata": {},
   "outputs": [
    {
     "name": "stdout",
     "output_type": "stream",
     "text": [
      "홍길동 - 국어: 90, 영어: 100, 수학: 9\n",
      "말동 - 국어: 4, 영어: 5, 수학: 9\n",
      "기동 - 국어: 9, 영어: 9, 수학: 9\n"
     ]
    }
   ],
   "source": [
    "# 학생 3명의 국,영,수 점수를 list에 저장하고 싶다. 홍길동 : 90점, 100점, 9점 말동 : 4점, 5점, 9점  기동 : 9점, 9점, 9점\n",
    "students = [\n",
    "    [\"홍길동\", 90, 100, 9],\n",
    "    [\"말동\", 4, 5, 9],\n",
    "    [\"기동\", 9, 9, 9]\n",
    "]\n",
    "for student in students:\n",
    "    name = student[0]\n",
    "    kor = student[1]\n",
    "    eng = student[2]\n",
    "    math = student[3]\n",
    "    \n",
    "    print(f\"{name} - 국어: {kor}, 영어: {eng}, 수학: {math}\")"
   ]
  },
  {
   "cell_type": "code",
   "execution_count": 69,
   "id": "13ce7c87",
   "metadata": {},
   "outputs": [
    {
     "data": {
      "text/plain": [
       "(3, 4)"
      ]
     },
     "execution_count": 69,
     "metadata": {},
     "output_type": "execute_result"
    }
   ],
   "source": [
    "# 2차원 리스트  # 리스트안에 여러가지 리스트를 넣고 추출하는 방법\n",
    "numbers_2d = [[90, 91, 92, 93],\n",
    "              [80, 81, 82, 83],\n",
    "              [70, 71, 72, 73],] #마지막 리스트 뒤에 ,를 넣어서 나중에 추가할 때 혹시 모를 오류를 방지할 수 있다\n",
    "len(numbers_2d), len(numbers_2d[0]) # numbers_2d 변수에 3가지 항목이 저장되어 있고, 3가지 항목의 list 안에는 4가지 항목이 있음"
   ]
  },
  {
   "cell_type": "code",
   "execution_count": null,
   "id": "5d84db65",
   "metadata": {},
   "outputs": [],
   "source": [
    "i = 10"
   ]
  },
  {
   "cell_type": "code",
   "execution_count": 71,
   "id": "d6822931",
   "metadata": {},
   "outputs": [
    {
     "name": "stdout",
     "output_type": "stream",
     "text": [
      "0 [90, 91, 92, 93]\n",
      "1 [80, 81, 82, 83]\n",
      "2 [70, 71, 72, 73]\n"
     ]
    }
   ],
   "source": [
    "for idx, row in enumerate(numbers_2d):\n",
    "    print(idx, row)"
   ]
  },
  {
   "cell_type": "code",
   "execution_count": 77,
   "id": "8a0f373f",
   "metadata": {},
   "outputs": [
    {
     "name": "stdout",
     "output_type": "stream",
     "text": [
      "0행0열:90\t0행1열:91\t0행2열:92\t0행3열:93\t\n",
      "1행0열:80\t1행1열:81\t1행2열:82\t1행3열:83\t\n",
      "2행0열:70\t2행1열:71\t2행2열:72\t2행3열:73\t\n"
     ]
    }
   ],
   "source": [
    "for i, row in enumerate(numbers_2d): # enumerate(numbers_2d) = 0, 1, 2\n",
    "    for j, value in enumerate(row):  # enumerate(row) : 0,1, 2, 3\n",
    "        print(\"{}행{}열:{}\".format(i, j, value), end='\\t') #end, sep 변경\n",
    "    print() # end='\\n'이 들어 있기 때문에 빈칸으로 할 경우 한번 반복 할 때마다 \\n이 실행됨"
   ]
  },
  {
   "cell_type": "code",
   "execution_count": 82,
   "id": "aa4437b8",
   "metadata": {},
   "outputs": [
    {
     "name": "stdout",
     "output_type": "stream",
     "text": [
      "90, 91, 92, 93\n",
      "80, 81, 82, 83\n",
      "70, 71, 72, 73\n"
     ]
    }
   ],
   "source": [
    "numbers_2d = [[90, 91, 92, 93],\n",
    "              [80, 81, 82, 83],\n",
    "              [70, 71, 72, 73],]\n",
    "\n",
    "for nb2 in numbers_2d:\n",
    "    num_list1 = nb2[0]\n",
    "    num_list2 = nb2[1]\n",
    "    num_list3 = nb2[2]\n",
    "    num_list4 = nb2[3]\n",
    "    \n",
    "    print(f\"{num_list1}, {num_list2}, {num_list3}, {num_list4}\")\n"
   ]
  },
  {
   "cell_type": "code",
   "execution_count": 85,
   "id": "c52deac9",
   "metadata": {},
   "outputs": [
    {
     "name": "stdout",
     "output_type": "stream",
     "text": [
      "90\t91\t92\t93\t\n",
      "80\t81\t82\t83\t\n",
      "70\t71\t72\t73\t\n"
     ]
    }
   ],
   "source": [
    "for row in numbers_2d: # numbers_2d 에서 row list를 뽑아줘\n",
    "        for item in row: # 뽑은 row 에서 item list를 뽑아줘\n",
    "            print(item, end='\\t')\n",
    "        print()"
   ]
  },
  {
   "cell_type": "markdown",
   "id": "a8cd7e8d",
   "metadata": {},
   "source": [
    "## 1.2 기본 정보 조회"
   ]
  },
  {
   "cell_type": "code",
   "execution_count": 86,
   "id": "3afabe5c",
   "metadata": {},
   "outputs": [],
   "source": [
    "numbers = [1, 12, 3, 5, 4]\n",
    "numbers_2d = [[100, 0],\n",
    "              [9, 100, 1, 2, 3],\n",
    "              [50, 54],]"
   ]
  },
  {
   "cell_type": "code",
   "execution_count": 87,
   "id": "3052cc71",
   "metadata": {},
   "outputs": [
    {
     "name": "stdout",
     "output_type": "stream",
     "text": [
      "5 3\n"
     ]
    }
   ],
   "source": [
    "# 요소의 수\n",
    "print(len(numbers), len(numbers_2d))"
   ]
  },
  {
   "cell_type": "code",
   "execution_count": 94,
   "id": "e57b74fd",
   "metadata": {},
   "outputs": [
    {
     "data": {
      "text/plain": [
       "(1, 12)"
      ]
     },
     "execution_count": 94,
     "metadata": {},
     "output_type": "execute_result"
    }
   ],
   "source": [
    "# 최소값, 최대값\n",
    "min(numbers), max(numbers)"
   ]
  },
  {
   "cell_type": "code",
   "execution_count": 95,
   "id": "f0b8bd63",
   "metadata": {},
   "outputs": [
    {
     "data": {
      "text/plain": [
       "([9, 100, 1, 2, 3], [100, 0])"
      ]
     },
     "execution_count": 95,
     "metadata": {},
     "output_type": "execute_result"
    }
   ],
   "source": [
    "# 2차원 list의 min() : 첫번째 요소가 가장 작은 것 (0번 인덱스)\n",
    "#              max() : 첫번째 요소가 가장 큰 것 (0번 인덱스)\n",
    "min(numbers_2d), max(numbers_2d)"
   ]
  },
  {
   "cell_type": "code",
   "execution_count": 97,
   "id": "85348e1c",
   "metadata": {},
   "outputs": [
    {
     "data": {
      "text/plain": [
       "1"
      ]
     },
     "execution_count": 97,
     "metadata": {},
     "output_type": "execute_result"
    }
   ],
   "source": [
    "m1 = 999 # 최소값을 담을 변수 안쓰는 코드이니 무시\n",
    "for item1 in numbers:\n",
    "    if item1 < m1:\n",
    "        m1 = item1\n",
    "m1"
   ]
  },
  {
   "cell_type": "code",
   "execution_count": 98,
   "id": "8b8841eb",
   "metadata": {},
   "outputs": [
    {
     "data": {
      "text/plain": [
       "('APPLE', 'orange')"
      ]
     },
     "execution_count": 98,
     "metadata": {},
     "output_type": "execute_result"
    }
   ],
   "source": [
    "# 문자 list일 경우 ascii 코드값으로 min(), max() 적용\n",
    "fruits = ['mango', 'apple', 'orange', 'APPLE']\n",
    "min(fruits), max(fruits)"
   ]
  },
  {
   "cell_type": "code",
   "execution_count": 103,
   "id": "6c33fddd",
   "metadata": {
    "scrolled": true
   },
   "outputs": [
    {
     "name": "stdout",
     "output_type": "stream",
     "text": [
      "오름차순 : [1, 3, 4, 5, 12]\n",
      "내림차순 : [12, 5, 4, 3, 1]\n",
      "sorted함수 사용시 리스트 내용이 바뀌지 않음 : [1, 3, 12, 5, 4]\n",
      "합 : 25\n"
     ]
    }
   ],
   "source": [
    "numbers = [1, 3, 12, 5, 4]\n",
    "# 정렬(오름차순 : 앞에가 제일 작은애, 내림차순: 앞에가 제일 큰애)\n",
    "print('오름차순 :', sorted(numbers)) # sorted(나열가능한 데이터) 오름차순 정렬\n",
    "print('내림차순 :', sorted(numbers, reverse=True))\n",
    "print('sorted함수 사용시 리스트 내용이 바뀌지 않음 :', numbers)\n",
    "print('합 :', sum(numbers))"
   ]
  },
  {
   "cell_type": "markdown",
   "id": "a97d46ff",
   "metadata": {},
   "source": [
    "## 1.3 요소 추가\n",
    "```\n",
    "+ : 두 리스트 연결\n",
    "* : 리스트를 곱한 수만큼 반복\n",
    "append() : 리스트 맨 뒤에 요소 추가\n",
    "extend() : 리스트 맨 뒤에 리스트를 요소별로 추가\n",
    "insert(idx, 값) : idx번째 인덱스 위치에 추가 (기존 데이터는 shift) shift=뒤로 밀어진다\n",
    "```"
   ]
  },
  {
   "cell_type": "code",
   "execution_count": 110,
   "id": "bbca45d7",
   "metadata": {},
   "outputs": [
    {
     "data": {
      "text/plain": [
       "[1, 2, 3, 1, 2, 3]"
      ]
     },
     "execution_count": 110,
     "metadata": {},
     "output_type": "execute_result"
    }
   ],
   "source": [
    "# + 연결\n",
    "numbers = [1, 2, 3]\n",
    "numbers = numbers + numbers\n",
    "numbers"
   ]
  },
  {
   "cell_type": "code",
   "execution_count": 111,
   "id": "9361f3ae",
   "metadata": {},
   "outputs": [
    {
     "name": "stdout",
     "output_type": "stream",
     "text": [
      "[1, 2, 3, 1, 2, 3, 1, 2, 3]\n",
      "[1, 2, 3, 1, 2, 3, 1, 2, 3]\n"
     ]
    }
   ],
   "source": [
    "# * 반복\n",
    "numbers = [1, 2, 3]\n",
    "print(numbers * 3)\n",
    "print(3 * numbers)"
   ]
  },
  {
   "cell_type": "code",
   "execution_count": 112,
   "id": "730abd6e",
   "metadata": {},
   "outputs": [
    {
     "name": "stdout",
     "output_type": "stream",
     "text": [
      "[1, 2, 3, 4]\n"
     ]
    }
   ],
   "source": [
    "# append() 추가\n",
    "numbers = [1, 2, 3]\n",
    "numbers.append(4)\n",
    "print(numbers)"
   ]
  },
  {
   "cell_type": "code",
   "execution_count": 114,
   "id": "bf7add40",
   "metadata": {},
   "outputs": [
    {
     "name": "stdout",
     "output_type": "stream",
     "text": [
      "[1, 2, 3, 4, [5, 6, 7], [5, 6, 7]]\n"
     ]
    }
   ],
   "source": [
    "numbers.append([5,6,7]) # 맨 뒤에 리스트 안에 리스트 요소로 추가됨\n",
    "print(numbers)"
   ]
  },
  {
   "cell_type": "code",
   "execution_count": 117,
   "id": "95bf2094",
   "metadata": {},
   "outputs": [
    {
     "name": "stdout",
     "output_type": "stream",
     "text": [
      "[1, 2, 3, 4, 5, 6]\n"
     ]
    }
   ],
   "source": [
    "# expend() 추가 (대부분 append() 10번에 expend() 한번함)\n",
    "# 요소별로 각기 추가됨\n",
    "num = [1, 2, 3]\n",
    "num.extend([4,5,6])\n",
    "print(num)"
   ]
  },
  {
   "cell_type": "code",
   "execution_count": 121,
   "id": "fdffddfd",
   "metadata": {},
   "outputs": [
    {
     "name": "stdout",
     "output_type": "stream",
     "text": [
      "[1, 2, 'X', 'X', 'X', 3, 4, 5, 6]\n"
     ]
    }
   ],
   "source": [
    "# insert(index, 'X')\n",
    "num.insert(2, 'X')\n",
    "print(num)"
   ]
  },
  {
   "cell_type": "markdown",
   "id": "6e6d53ad",
   "metadata": {},
   "source": [
    "## 1.4 인덱싱과 요소 갯수\n",
    "- 변수[index] : 인덱스를 이용한 접근\n",
    "- index(찾을데이터) : 해당 찾을 데이터가 있는 요소의 index를 반환\n",
    "                      찾을데이터가 없을 경우 오류\n",
    "- count(찾을데이터) : 리스트에서 찾을데이터의 갯수 반환"
   ]
  },
  {
   "cell_type": "code",
   "execution_count": 123,
   "id": "35306326",
   "metadata": {},
   "outputs": [
    {
     "data": {
      "text/plain": [
       "(2, 0)"
      ]
     },
     "execution_count": 123,
     "metadata": {},
     "output_type": "execute_result"
    }
   ],
   "source": [
    "# count() list안에 내가 찾는 변수가 몇개 들어있는지 반환\n",
    "numbers = [1, 2, 3, [1, 2, 3], 1, 2, 3]\n",
    "numbers.count(2), numbers.count(9)"
   ]
  },
  {
   "cell_type": "code",
   "execution_count": 125,
   "id": "af36ae84",
   "metadata": {},
   "outputs": [
    {
     "data": {
      "text/plain": [
       "1"
      ]
     },
     "execution_count": 125,
     "metadata": {},
     "output_type": "execute_result"
    }
   ],
   "source": [
    "numbers.index(2) # 0번째 index부터 2가 처음 나오는 index를 반환"
   ]
  },
  {
   "cell_type": "code",
   "execution_count": 126,
   "id": "34770dc5",
   "metadata": {},
   "outputs": [
    {
     "data": {
      "text/plain": [
       "5"
      ]
     },
     "execution_count": 126,
     "metadata": {},
     "output_type": "execute_result"
    }
   ],
   "source": [
    "numbers.index(2, 3) # 3번째 index부터 2가 처음 나오는 index를 반환 index(2=내가 찾고싶은것, 3=0,1,2,3번째 이후부터 찾아줘)"
   ]
  },
  {
   "cell_type": "code",
   "execution_count": 128,
   "id": "e3b3a0c3",
   "metadata": {},
   "outputs": [
    {
     "name": "stdout",
     "output_type": "stream",
     "text": [
      "9가 없어요\n"
     ]
    }
   ],
   "source": [
    "numbers = [1, 2, 3, [1, 2, 3], 1, 2, 3]\n",
    "if numbers.count(9):\n",
    "    print(numbers.index(9))\n",
    "else:\n",
    "    print('9가 없어요')"
   ]
  },
  {
   "cell_type": "code",
   "execution_count": 133,
   "id": "146ca745",
   "metadata": {},
   "outputs": [
    {
     "name": "stdout",
     "output_type": "stream",
     "text": [
      "9가 없어요\n"
     ]
    }
   ],
   "source": [
    "numbers = [1, 2, 3, [1, 2, 3], 1, 2, 3]\n",
    "if 9 in numbers:\n",
    "    print(numbers.index(9)) # 인덱스는 오류가 날 수 있기 때문에 보통 if in 함수와 같이 쓴다\n",
    "\n",
    "else:\n",
    "    print('9가 없어요')"
   ]
  },
  {
   "cell_type": "code",
   "execution_count": 129,
   "id": "7b1c5579",
   "metadata": {},
   "outputs": [
    {
     "data": {
      "text/plain": [
       "False"
      ]
     },
     "execution_count": 129,
     "metadata": {},
     "output_type": "execute_result"
    }
   ],
   "source": [
    "9 in numbers # numbers 리스트에 9가 존재하는지 여부"
   ]
  },
  {
   "cell_type": "code",
   "execution_count": 134,
   "id": "cd7156ea",
   "metadata": {},
   "outputs": [],
   "source": [
    "# 우리만의 함수 만들기 find  # 함수를 만들때는 def를 적어야함\n",
    "def safe_index(lst, data):\n",
    "    if data in lst: #lst 안에 data가 있으면 True, 없으면 False\n",
    "        return lst.index(data) # 리스트 안에 data가 몇번째 인덱스인지 반환\n",
    "    else:\n",
    "        return -1 # 없으면 -1을 반환"
   ]
  },
  {
   "cell_type": "code",
   "execution_count": 135,
   "id": "1f3600a9",
   "metadata": {},
   "outputs": [
    {
     "data": {
      "text/plain": [
       "-1"
      ]
     },
     "execution_count": 135,
     "metadata": {},
     "output_type": "execute_result"
    }
   ],
   "source": [
    "safe_index(numbers, 9) # numbers = lst, 9 = data"
   ]
  },
  {
   "cell_type": "code",
   "execution_count": 136,
   "id": "a95fb26d",
   "metadata": {},
   "outputs": [
    {
     "data": {
      "text/plain": [
       "[1, 2, 3, [1, 2, 3], 1, 2, 3]"
      ]
     },
     "execution_count": 136,
     "metadata": {},
     "output_type": "execute_result"
    }
   ],
   "source": [
    "# numbers.index(9) 오류\n",
    "# numbers(20) 오류\n",
    "numbers[0:20]"
   ]
  },
  {
   "cell_type": "markdown",
   "id": "a13be4e0",
   "metadata": {},
   "source": [
    "## 1.5 원하는 요소 추출\n",
    "1. 리스트 슬라이싱 : 리스트에서 원하는 index의 데이터를 추출(인덱스의 범위가 벗어나도 에러 안 남)\n",
    "    - [from:stop:step] from부터 stop 앞까지 step씩 증가하는 index의 값을 추출\n",
    "    - from 생략시 처음을 의미. stop 생략시 끝을 의미. step 생략시 1을 의미. 모두 생략 가능(원래 list랑 똑같은 값)\n",
    "    - 음수 인덱스 가능\n",
    "2. <font color=\"red\">리스트 컴프리헨션</font> : 리스트에서 원하는 데이터를 추출"
   ]
  },
  {
   "cell_type": "code",
   "execution_count": 140,
   "id": "640132dd",
   "metadata": {},
   "outputs": [
    {
     "name": "stdout",
     "output_type": "stream",
     "text": [
      "[1, 5, 10, 13]\n",
      "[20, 13, 12, 10, 9, 5, 3, 1]\n",
      "[20, 13, 12, 10, 9, 5, 3, 1]\n"
     ]
    }
   ],
   "source": [
    "numbers = [1, 3, 5, 9, 10, 12, 13, 20]\n",
    "# 짝수번째 인덱스 값 출력\n",
    "print(numbers[::2]) #짝수번째\n",
    "# 꺼꾸로 출력\n",
    "print(numbers[::-1])\n",
    "print(sorted(numbers, reverse=True))"
   ]
  },
  {
   "cell_type": "code",
   "execution_count": 149,
   "id": "ebd77fd9",
   "metadata": {},
   "outputs": [
    {
     "name": "stdout",
     "output_type": "stream",
     "text": [
      "[10, 12, 20]\n"
     ]
    }
   ],
   "source": [
    "# 리스트에서 짝수 데이터만 변수에 담아 출력하시오.\n",
    "\n",
    "numbers = [1, 3, 5, 9, 10, 12, 13, 20]\n",
    "result = []\n",
    "\n",
    "for data in numbers:\n",
    "    if data % 2 == 0:  # 짝수 조건 if not data%2: 도 가능함\n",
    "        result.append(data)\n",
    "\n",
    "print(result)"
   ]
  },
  {
   "cell_type": "code",
   "execution_count": 153,
   "id": "0ae459bd",
   "metadata": {},
   "outputs": [
    {
     "name": "stdout",
     "output_type": "stream",
     "text": [
      "[1, 3, 5, 9, 10, 12, 13, 20]\n"
     ]
    }
   ],
   "source": [
    "# 리스트에서 모든 데이터를 변수에 담아 출력하시오.\n",
    "\n",
    "numbers = [1, 3, 5, 9, 10, 12, 13, 20]\n",
    "result = []\n",
    "\n",
    "for data in numbers:\n",
    "    result.append(data)\n",
    "    \n",
    "print(result)"
   ]
  },
  {
   "cell_type": "markdown",
   "id": "4bdfc119",
   "metadata": {},
   "source": [
    "**리스트 컴프리헨션**"
   ]
  },
  {
   "cell_type": "code",
   "execution_count": 154,
   "id": "f472987f",
   "metadata": {},
   "outputs": [
    {
     "data": {
      "text/plain": [
       "[1, 3, 5, 9, 10, 12, 13, 20]"
      ]
     },
     "execution_count": 154,
     "metadata": {},
     "output_type": "execute_result"
    }
   ],
   "source": [
    "# numbers의 모든 데이터를 리스트컴프리헨션으로 추출\n",
    "[data for data in numbers ]"
   ]
  },
  {
   "cell_type": "code",
   "execution_count": 156,
   "id": "28fc5cd8",
   "metadata": {},
   "outputs": [
    {
     "data": {
      "text/plain": [
       "[10, 12, 20]"
      ]
     },
     "execution_count": 156,
     "metadata": {},
     "output_type": "execute_result"
    }
   ],
   "source": [
    "result = [x for x in numbers if x % 2 == 0]\n",
    "result"
   ]
  },
  {
   "cell_type": "code",
   "execution_count": 159,
   "id": "97afb799",
   "metadata": {},
   "outputs": [
    {
     "data": {
      "text/plain": [
       "[10, 12, 20]"
      ]
     },
     "execution_count": 159,
     "metadata": {},
     "output_type": "execute_result"
    }
   ],
   "source": [
    "# numbers의 짝수 데이터를 리스트컴프리헨션으로 추출\n",
    "[data for data in numbers if data%2==0]"
   ]
  },
  {
   "cell_type": "code",
   "execution_count": null,
   "id": "0b0f792e",
   "metadata": {},
   "outputs": [],
   "source": [
    "# ex1. numbers에서 10 이상만 추출\n",
    "numbers = [1, 3, 5, 9, 10, 12, 13, 20]\n",
    "[data for data in numbers if data>=10]"
   ]
  },
  {
   "cell_type": "code",
   "execution_count": 163,
   "id": "1a279471",
   "metadata": {},
   "outputs": [
    {
     "data": {
      "text/plain": [
       "['orange']"
      ]
     },
     "execution_count": 163,
     "metadata": {},
     "output_type": "execute_result"
    }
   ],
   "source": [
    "# ex2,fruits에서 5글자가 넘는 과일만 추출\n",
    "fruits = ['orange', 'apple', 'mango', 'kiwi']\n",
    "[data for data in fruits if len(data)>5]"
   ]
  },
  {
   "cell_type": "code",
   "execution_count": 164,
   "id": "711d451d",
   "metadata": {},
   "outputs": [
    {
     "data": {
      "text/plain": [
       "[9, 16, 25]"
      ]
     },
     "execution_count": 164,
     "metadata": {},
     "output_type": "execute_result"
    }
   ],
   "source": [
    "# ex3. 3 이상의 요소들의 제곱을 추출\n",
    "L = [1, 2, 3, 4, 5]\n",
    "[data**2 for data in L if data>=3]"
   ]
  },
  {
   "cell_type": "markdown",
   "id": "08d64e45",
   "metadata": {},
   "source": [
    "## 1.6 요소 수정하기"
   ]
  },
  {
   "cell_type": "code",
   "execution_count": 175,
   "id": "410b1040",
   "metadata": {},
   "outputs": [
    {
     "name": "stdout",
     "output_type": "stream",
     "text": [
      "2번째 인덱스 수정 : [0, 1, 222, 3, 4, 5, 6, 7, 8, 9]\n"
     ]
    }
   ],
   "source": [
    "# 인덱스를 이용해서 수정\n",
    "numbers = [0, 1, 2, 3, 4, 5, 6, 7, 8, 9]\n",
    "numbers[2] = 222\n",
    "print('2번째 인덱스 수정 :',numbers)"
   ]
  },
  {
   "cell_type": "code",
   "execution_count": 178,
   "id": "c3e74866",
   "metadata": {},
   "outputs": [
    {
     "name": "stdout",
     "output_type": "stream",
     "text": [
      "1번째 인덱스부터 3번째까지 인덱스를 변경 : [0, 'X', 'Y', 'Z', 'ㅋ', 'ㅎ', 6, 7, 8, 9]\n",
      "1번째 인덱스부터 3번째까지 인덱스를 변경 : [0, 'X', 4, 5, 6, 7, 8, 9]\n"
     ]
    }
   ],
   "source": [
    "# 슬라이싱을 이용해서 요소 수정(step부분이 미포함 : 부분 리스트가 통째로 수정)\n",
    "numbers[1:4] = ['X', 'Y', 'Z', 'ㅋ', 'ㅎ']\n",
    "print('1번째 인덱스부터 3번째까지 인덱스를 변경 :', numbers)\n",
    "\n",
    "numbers = [0, 1, 2, 3, 4, 5, 6, 7, 8, 9]\n",
    "numbers[2] = 222\n",
    "numbers[1:4] = ['X']\n",
    "print('1번째 인덱스부터 3번째까지 인덱스를 변경 :', numbers)"
   ]
  },
  {
   "cell_type": "code",
   "execution_count": 182,
   "id": "ca192cb4",
   "metadata": {},
   "outputs": [
    {
     "name": "stdout",
     "output_type": "stream",
     "text": [
      "짝수번째 인덱스만 변경 : ['X', 1, 'X', 3, 'X', 5, 'X', 7, 'X', 9]\n",
      "짝수번째 인덱스만 변경 : [99, 1, 98, 3, 97, 5, 96, 7, 95, 9]\n"
     ]
    }
   ],
   "source": [
    "# 슬라이싱을 이용해서 요소 수정(step부분이 포함 : 요소 갯수가 맞아야 함)\n",
    "numbers = [0, 1, 2, 3, 4, 5, 6, 7, 8, 9]\n",
    "numbers[::2] = ['X']*5 #짝수번째 요소가 5개\n",
    "print('짝수번째 인덱스만 변경 :', numbers)\n",
    "\n",
    "numbers = [0, 1, 2, 3, 4, 5, 6, 7, 8, 9]\n",
    "numbers[::2] = [99,98,97,96,95]\n",
    "print('짝수번째 인덱스만 변경 :', numbers)"
   ]
  },
  {
   "cell_type": "markdown",
   "id": "c5feea72",
   "metadata": {},
   "source": [
    "## 1.7 요소 삭제\n",
    "- pop() : 가장 마지막 인덱스 요소가 반환되고 삭제됨. (맨 마지막 인덱스 값이 삭제되어 반환됨)\n",
    "- pop(idx) : idx번째 요소가 반환되고 삭제\n",
    "- remove(지울data) : 리스트 안에 데이터 삭제\n",
    "- del 변수[idx] : idx번째 요소가 삭제\n",
    "- clear() : 모든 항목 삭제 ex) 변수.clear()"
   ]
  },
  {
   "cell_type": "code",
   "execution_count": 183,
   "id": "be3c44dd",
   "metadata": {},
   "outputs": [],
   "source": [
    "def add(x, y):\n",
    "    print(x, y, '잘받았다')"
   ]
  },
  {
   "cell_type": "code",
   "execution_count": 184,
   "id": "102c9409",
   "metadata": {},
   "outputs": [
    {
     "name": "stdout",
     "output_type": "stream",
     "text": [
      "4 2 잘받았다\n"
     ]
    }
   ],
   "source": [
    "add(4, 2)"
   ]
  },
  {
   "cell_type": "code",
   "execution_count": 203,
   "id": "85dcedb5",
   "metadata": {},
   "outputs": [
    {
     "name": "stdout",
     "output_type": "stream",
     "text": [
      "삭제된 데이터 : 5 리스트 : [1, 2, 3, 4]\n",
      "삭제된 데이터 : 1 리스트 : [2, 3, 4, 5]\n",
      "numbers : [1, 2, 4, 5]\n"
     ]
    }
   ],
   "source": [
    "#마지막 자리 지우기 pop()\n",
    "numbers = [1, 2, 3, 4, 5]\n",
    "delete_data = numbers.pop()\n",
    "print('삭제된 데이터 : {} 리스트 : {}'.format(delete_data, numbers))\n",
    "\n",
    "#인덱스 지정하여 지우기 pop(0)\n",
    "numbers = [1, 2, 3, 4, 5]\n",
    "delete_data2 = numbers.pop(0)\n",
    "print('삭제된 데이터 : {} 리스트 : {}'.format(delete_data2, numbers))\n",
    "\n",
    "#특정한 인덱스를 삭제하나 반환은 안됨\n",
    "numbers = [1, 2, 3, 4, 5]\n",
    "del numbers[2]\n",
    "print('numbers :', numbers)"
   ]
  },
  {
   "cell_type": "code",
   "execution_count": 204,
   "id": "2f323ed4",
   "metadata": {},
   "outputs": [
    {
     "name": "stdout",
     "output_type": "stream",
     "text": [
      "remove는 반환을 안하지만 삭제는 됨 변수지정 할필요 없음 : [1, 2, 4, 5]\n"
     ]
    }
   ],
   "source": [
    "# remove()는 반환값이 없고, 해당 데이터만 삭제. 해당데이터가 없으면 오류\n",
    "numbers = [1, 2, 3, 4, 5]\n",
    "numbers.remove(3)\n",
    "print('remove는 반환을 안하지만 삭제는 됨 변수지정 할필요 없음 :',numbers)"
   ]
  },
  {
   "cell_type": "code",
   "execution_count": 205,
   "id": "782c8517",
   "metadata": {},
   "outputs": [
    {
     "name": "stdout",
     "output_type": "stream",
     "text": [
      "해당 데이터가 없습니다\n"
     ]
    }
   ],
   "source": [
    "# 인덱스와 리무브는 오류가 날 경우가 있기 때문에 인(in) 연산자와 함께 쓸것\n",
    "if 9 in numbers:\n",
    "    numbers.remove(9)\n",
    "\n",
    "else:\n",
    "    print('해당 데이터가 없습니다')"
   ]
  },
  {
   "cell_type": "code",
   "execution_count": 211,
   "id": "242abc47",
   "metadata": {},
   "outputs": [],
   "source": [
    "def safe_remove(lst, remove_data):\n",
    "    if remove_data in lst:\n",
    "        lst.remove(remove_data)\n",
    "        print(remove_data, '삭제 완료')\n",
    "    else:\n",
    "        print(f'{remove_data}는 없는 아이템입니다')"
   ]
  },
  {
   "cell_type": "code",
   "execution_count": 212,
   "id": "117caf87",
   "metadata": {},
   "outputs": [
    {
     "name": "stdout",
     "output_type": "stream",
     "text": [
      "9는 없는 아이템입니다\n",
      "5 삭제 완료\n"
     ]
    }
   ],
   "source": [
    "safe_remove(numbers, 9)\n",
    "safe_remove(numbers, 5)"
   ]
  },
  {
   "cell_type": "code",
   "execution_count": 213,
   "id": "7d389667",
   "metadata": {},
   "outputs": [
    {
     "data": {
      "text/plain": [
       "[1, 2, 4]"
      ]
     },
     "execution_count": 213,
     "metadata": {},
     "output_type": "execute_result"
    }
   ],
   "source": [
    "numbers"
   ]
  },
  {
   "cell_type": "code",
   "execution_count": null,
   "id": "e393084c",
   "metadata": {},
   "outputs": [],
   "source": []
  },
  {
   "cell_type": "code",
   "execution_count": null,
   "id": "a1809ed7",
   "metadata": {},
   "outputs": [],
   "source": []
  },
  {
   "cell_type": "code",
   "execution_count": null,
   "id": "c73b26ed",
   "metadata": {},
   "outputs": [],
   "source": []
  },
  {
   "cell_type": "code",
   "execution_count": null,
   "id": "04d135c9",
   "metadata": {},
   "outputs": [],
   "source": []
  },
  {
   "cell_type": "code",
   "execution_count": null,
   "id": "2f06cd34",
   "metadata": {},
   "outputs": [],
   "source": []
  },
  {
   "cell_type": "code",
   "execution_count": null,
   "id": "38ee240e",
   "metadata": {},
   "outputs": [],
   "source": []
  }
 ],
 "metadata": {
  "kernelspec": {
   "display_name": "Python 3 (ipykernel)",
   "language": "python",
   "name": "python3"
  },
  "language_info": {
   "codemirror_mode": {
    "name": "ipython",
    "version": 3
   },
   "file_extension": ".py",
   "mimetype": "text/x-python",
   "name": "python",
   "nbconvert_exporter": "python",
   "pygments_lexer": "ipython3",
   "version": "3.10.9"
  },
  "toc": {
   "base_numbering": 1,
   "nav_menu": {},
   "number_sections": false,
   "sideBar": true,
   "skip_h1_title": false,
   "title_cell": "Table of Contents",
   "title_sidebar": "Contents",
   "toc_cell": false,
   "toc_position": {
    "height": "calc(100% - 180px)",
    "left": "10px",
    "top": "150px",
    "width": "165px"
   },
   "toc_section_display": true,
   "toc_window_display": true
  }
 },
 "nbformat": 4,
 "nbformat_minor": 5
}
