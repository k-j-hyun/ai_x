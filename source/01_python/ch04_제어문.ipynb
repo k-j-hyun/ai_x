{
 "cells": [
  {
   "cell_type": "code",
   "execution_count": 1,
   "id": "2e635a3e",
   "metadata": {},
   "outputs": [
    {
     "data": {
      "text/html": [
       "\n",
       "<style>\n",
       "div.container{width:86% !important;}\n",
       "div.cell.code_cell.rendered{width:100%;}\n",
       "div.CodeMirror {font family: Consolas; font-size:12pt;}\n",
       "div.output {font-size:12pt; font-weight:bold;}\n",
       "div.input {font-family: Consolas; font-size:12pt;}\n",
       "div.prompt {min-width:70px;}\n",
       "div#toc-wrapper{padding top:120px;}\n",
       "div.text_cell_render ul li {font-size:12pt;padding:5px;}\n",
       "table.dataframe{font-size:12px;}\n",
       "</style>\n"
      ],
      "text/plain": [
       "<IPython.core.display.HTML object>"
      ]
     },
     "metadata": {},
     "output_type": "display_data"
    }
   ],
   "source": [
    "from IPython.display import display, HTML\n",
    "display(HTML(\"\"\"\n",
    "<style>\n",
    "div.container{width:86% !important;}\n",
    "div.cell.code_cell.rendered{width:100%;}\n",
    "div.CodeMirror {font family: Consolas; font-size:12pt;}\n",
    "div.output {font-size:12pt; font-weight:bold;}\n",
    "div.input {font-family: Consolas; font-size:12pt;}\n",
    "div.prompt {min-width:70px;}\n",
    "div#toc-wrapper{padding top:120px;}\n",
    "div.text_cell_render ul li {font-size:12pt;padding:5px;}\n",
    "table.dataframe{font-size:12px;}\n",
    "</style>\n",
    "\"\"\"))"
   ]
  },
  {
   "cell_type": "markdown",
   "id": "86a08888",
   "metadata": {},
   "source": [
    "<b><font color = \"red\" size = \"5\"> ch04. 제어문</font></b>\n",
    "- 조건문 : if문\n",
    "- 반복문 : for문, while문, 중첩가능"
   ]
  },
  {
   "cell_type": "markdown",
   "id": "191d5125",
   "metadata": {},
   "source": [
    "# 1절. 조건문(if)\n",
    "```\n",
    "if 조건1: \n",
    "    조건1이 참일 경우 수행할 명령어들\n",
    "elif 조건2:\n",
    "    조건1이 거짓이고, 조건2가 참일 경우 수행할 명령어들\n",
    "else:\n",
    "    모든 조건을 만족하지 않을 때 수행할 명령어들\n",
    "```"
   ]
  },
  {
   "cell_type": "code",
   "execution_count": 12,
   "id": "b772f8b1",
   "metadata": {},
   "outputs": [
    {
     "name": "stdout",
     "output_type": "stream",
     "text": [
      "점수는 :100\n",
      "참 잘했어요\n",
      "다음에도 기대할게요\n",
      "화이팅\n"
     ]
    }
   ],
   "source": [
    "score = int(input('점수는 :'))\n",
    "if score >= 90:\n",
    "    print('참 잘했어요')\n",
    "    print('다음에도 기대할게요')\n",
    "elif score >=60:\n",
    "    print('분발하세요')\n",
    "    print('뭐 그래도 고생하셨어요')\n",
    "else:\n",
    "    print('재시험 응시하셔야 합니다')\n",
    "print('화이팅')"
   ]
  },
  {
   "cell_type": "code",
   "execution_count": 3,
   "id": "dba27837",
   "metadata": {},
   "outputs": [
    {
     "name": "stdout",
     "output_type": "stream",
     "text": [
      "점수는 >102\n",
      "입력하신 점수는 102점이고, 유효하지 않은 점수등급입니다\n"
     ]
    }
   ],
   "source": [
    "# 점수(0~100점)를 입력 받아 학점을 출력하시오(A, B, C, D, F, 유효하지 않은 점수)\n",
    "\n",
    "score = int(input('점수는 >'))\n",
    "if 90 <= score <=100 : # (score >= 90) & (socre <= 100):\n",
    "    grade = 'A'\n",
    "elif 80 <= score <= 90 :\n",
    "    grade = 'B'\n",
    "elif 70 <= score <= 80 :\n",
    "    grade = 'C'\n",
    "elif 60 <= score <= 70 :\n",
    "    grade = 'D'\n",
    "elif 0 <= score < 60 :\n",
    "    grade = 'F'\n",
    "else:\n",
    "    grade = '유효하지 않은 점수'\n",
    "print('입력하신 점수는 {}점이고, {}등급입니다'.format(score, grade))"
   ]
  },
  {
   "cell_type": "markdown",
   "id": "c23f1104",
   "metadata": {},
   "source": [
    "# 2절. 반복문\n",
    "## 2.1 for-in 문\n",
    "```\n",
    "for 임시변수 in 나열가능한자료 [0,1,2]:\n",
    "    반복할명령어1\n",
    "    반복할명령어2\n",
    "    if 조건:\n",
    "        break, continue\n",
    "else:\n",
    "    나열가능한자료를 다 소요하여 for 블록을 다 수행한 후 최종 한번 수행할 명령어\n",
    "    for문 안에 breack를 수행할 경우 else블록은 수행되지 않음(else구문 선택사항)\n",
    "```"
   ]
  },
  {
   "cell_type": "code",
   "execution_count": 6,
   "id": "3217fe96",
   "metadata": {},
   "outputs": [
    {
     "name": "stdout",
     "output_type": "stream",
     "text": [
      "1\t3\t5\t7\t9\t\n",
      "Done\n",
      "END\n"
     ]
    }
   ],
   "source": [
    "for i in range(1,10,2):\n",
    "    print(i, end='\\t')\n",
    "else:\n",
    "    print('\\nDone')\n",
    "print('END')"
   ]
  },
  {
   "cell_type": "code",
   "execution_count": 10,
   "id": "8fb20a2b",
   "metadata": {},
   "outputs": [
    {
     "name": "stdout",
     "output_type": "stream",
     "text": [
      "1\t3\tEND\n"
     ]
    }
   ],
   "source": [
    "for i in range(1,10,2):\n",
    "    if i ==5:\n",
    "        break\n",
    "    print(i, end='\\t')\n",
    "else:\n",
    "    print('\\nDone')\n",
    "print('END')"
   ]
  },
  {
   "cell_type": "code",
   "execution_count": 26,
   "id": "4f1cad1f",
   "metadata": {},
   "outputs": [
    {
     "name": "stdout",
     "output_type": "stream",
     "text": [
      "1~100까지 합은 5050\n",
      "100\n"
     ]
    }
   ],
   "source": [
    "# 1~100까지 누적합을 출력하시오\n",
    "tot = 0 # 누적 변수\n",
    "for i in range(1, 101):\n",
    "    tot += i # tot = tot + i\n",
    "print('1~100까지 합은', tot)\n",
    "#else:\n",
    "#    print('1~100까지 합은', tot)\n",
    "print(i)"
   ]
  },
  {
   "cell_type": "code",
   "execution_count": 27,
   "id": "f87d0a17",
   "metadata": {},
   "outputs": [
    {
     "name": "stdout",
     "output_type": "stream",
     "text": [
      "1~100까지 짝수의 합은 2550\n",
      "100\n"
     ]
    }
   ],
   "source": [
    "# 1~100까지의 짝수들의 합을 출력하시오\n",
    "tot = 0 # 누적 변수\n",
    "for i in range(1, 101):\n",
    "    if i % 2 == 0:\n",
    "        tot += i # tot = tot + i\n",
    "print('1~100까지 짝수의 합은', tot)\n",
    "print(i)"
   ]
  },
  {
   "cell_type": "code",
   "execution_count": 21,
   "id": "b6bdf4b4",
   "metadata": {},
   "outputs": [
    {
     "name": "stdout",
     "output_type": "stream",
     "text": [
      "1~100까지 짝수의 합은 2550\n"
     ]
    }
   ],
   "source": [
    "tot = sum([i for i in range(1, 101) if i % 2 == 0])\n",
    "print('1~100까지 짝수의 합은', tot)"
   ]
  },
  {
   "cell_type": "code",
   "execution_count": 22,
   "id": "93b476f3",
   "metadata": {},
   "outputs": [
    {
     "name": "stdout",
     "output_type": "stream",
     "text": [
      "1부터 100까지의 합은? 5050\n"
     ]
    }
   ],
   "source": [
    "tot = sum([i for i in range(1, 101)])\n",
    "print('1부터 100까지의 합은?',tot)"
   ]
  },
  {
   "cell_type": "markdown",
   "id": "08fd22dd",
   "metadata": {},
   "source": [
    "## 2.2 while 문\n",
    "```\n",
    "while 조건 : \n",
    "    조건이 참일 경우 반복할 문장들\n",
    "else:\n",
    "    조건이 거짓일 경우 한번 실행할 문장(else구문 선택사항)\n",
    "````"
   ]
  },
  {
   "cell_type": "code",
   "execution_count": 25,
   "id": "34b06b8c",
   "metadata": {},
   "outputs": [
    {
     "name": "stdout",
     "output_type": "stream",
     "text": [
      "1~100까지 누적합은? 5050\n",
      "101\n"
     ]
    }
   ],
   "source": [
    "# 1~100까지 누적합을 출력하시오\n",
    "tot = 0 # 누적 변수\n",
    "i = 1\n",
    "while i <= 100 :\n",
    "    tot += i\n",
    "    i += 1\n",
    "print('1~100까지 누적합은?', tot)\n",
    "print(i)"
   ]
  },
  {
   "cell_type": "code",
   "execution_count": 28,
   "id": "f9d484bf",
   "metadata": {},
   "outputs": [
    {
     "name": "stdout",
     "output_type": "stream",
     "text": [
      "1~100까지 짝수들의 합은? 2550\n",
      "101\n"
     ]
    }
   ],
   "source": [
    "# 1~100까지 짝수들의 합을 출력하시오\n",
    "tot = 0 # 누적 변수\n",
    "i = 1\n",
    "while i <= 100 :\n",
    "    if i % 2 == 0:\n",
    "        tot += i\n",
    "    i += 1\n",
    "print('1~100까지 짝수들의 합은?', tot)\n",
    "print(i)"
   ]
  },
  {
   "cell_type": "code",
   "execution_count": 58,
   "id": "11c40e10",
   "metadata": {},
   "outputs": [
    {
     "name": "stdout",
     "output_type": "stream",
     "text": [
      "첫번째 정수를 입력하세요: 4\n",
      "두번째 정수를 입력하세요: 2\n",
      "2작은수부터 4큰수까지 홀수의 합은 3입니다.\n"
     ]
    }
   ],
   "source": [
    "# ex1. 사용자에게 두 정수를 입력받아, 작은수부터 큰수까지 홀수의 합을 출력\n",
    "tot = 0\n",
    "int_1 = int(input(\"첫번째 정수를 입력하세요: \"))\n",
    "int_2 = int(input(\"두번째 정수를 입력하세요: \"))\n",
    "\n",
    "min_ = min(int_1, int_2)\n",
    "max_ = max(int_1, int_2)\n",
    "\n",
    "for i in range(min_, max_ + 1):\n",
    "    if i % 2 == 1:\n",
    "        tot += i\n",
    "\n",
    "print(f\"{min_}작은수부터 {max_}큰수까지 홀수의 합은 {tot}입니다.\")"
   ]
  },
  {
   "cell_type": "code",
   "execution_count": 63,
   "id": "dae8c8c2",
   "metadata": {},
   "outputs": [
    {
     "name": "stdout",
     "output_type": "stream",
     "text": [
      "첫번째 정수는?3\n",
      "두번째 정수는?5\n",
      "3부터 5까지 홀수의 합은 2입니다.\n"
     ]
    }
   ],
   "source": [
    "first = int(input('첫번째 정수는?'))\n",
    "second = int(input('두번째 정수는?'))\n",
    "# (1-1) 두 수 중 작은 수는 min_에 큰수는 max_에 할당\n",
    "if first<second:\n",
    "    min_ = first\n",
    "    max_ = second\n",
    "else:\n",
    "    min_ = second\n",
    "    max_ = first\n",
    "# (2-1) min_부터 max_까지 홀수합 누적\n",
    "tot = 0\n",
    "for i in range(min_, max_+1):\n",
    "    if i % 2 : # (i%2==1) | (i%2==-1)\n",
    "        tot += 1\n",
    "# (3) 출력\n",
    "print(f'{min_}부터 {max_}까지 홀수의 합은 {tot}입니다.')\n",
    "    "
   ]
  },
  {
   "cell_type": "code",
   "execution_count": 66,
   "id": "96164f90",
   "metadata": {},
   "outputs": [
    {
     "name": "stdout",
     "output_type": "stream",
     "text": [
      "첫번째 정수는?5\n",
      "두번째 정수는?3\n",
      "3 5\n",
      "3부터 5까지 홀수 누적합은 8입니다\n"
     ]
    }
   ],
   "source": [
    "# (1-2) first에 작은수로 second에 큰 수가 되도록 함\n",
    "first = int(input('첫번째 정수는?'))\n",
    "second = int(input('두번째 정수는?'))\n",
    "\n",
    "if first > second:\n",
    "    # 바꿔\n",
    "#    temp = first\n",
    "#    first = second\n",
    "#    second = temp\n",
    "    first, second = second, first\n",
    "\n",
    "print(first, second)\n",
    "#tot = range(first, second)\n",
    "#first = min(tot)\n",
    "#second = max(tot)\n",
    "# (2-2) first부터 second까지 홀수들 누적\n",
    "tot = 0\n",
    "for i in range(first, second+1):\n",
    "    if i%2:\n",
    "        tot += i\n",
    "# (3-3) 출력\n",
    "print(\"{}부터 {}까지 홀수 누적합은 {}입니다\".format(first, second, tot))"
   ]
  },
  {
   "cell_type": "code",
   "execution_count": 67,
   "id": "9cee743e",
   "metadata": {},
   "outputs": [
    {
     "name": "stdout",
     "output_type": "stream",
     "text": [
      "[2, 4, 6, 22, 26, 44]\n"
     ]
    }
   ],
   "source": [
    "# ex2. 1~45까지의 로또번호 6개를 추출하여 출력(오름차순 정렬결과를 출력)\n",
    "import random\n",
    "\n",
    "lotto = set()\n",
    "\n",
    "while len(lotto) < 6:\n",
    "    lotto.add(random.randint(1, 45))\n",
    "\n",
    "print(sorted(lotto))"
   ]
  },
  {
   "cell_type": "code",
   "execution_count": 69,
   "id": "67bdafe6",
   "metadata": {},
   "outputs": [
    {
     "name": "stdout",
     "output_type": "stream",
     "text": [
      "[8, 43, 28, 9, 35, 21]\n"
     ]
    }
   ],
   "source": [
    "lotto = []\n",
    "while len(lotto) < 6:\n",
    "    temp = random.randint(1, 45)\n",
    "    if temp in lotto:  # if temp not in lotto: lotto.append(temp)\n",
    "        pass\n",
    "    else:\n",
    "        lotto.append(temp)\n",
    "print(lotto)"
   ]
  },
  {
   "cell_type": "code",
   "execution_count": 80,
   "id": "05a2924b",
   "metadata": {},
   "outputs": [
    {
     "name": "stdout",
     "output_type": "stream",
     "text": [
      "0번째까지 정렬 내용 : [2] / [2, 25, 28, 3, 34, 15]\n",
      "1번째까지 정렬 내용 : [2, 3] / [2, 3, 28, 25, 34, 15]\n",
      "2번째까지 정렬 내용 : [2, 3, 15] / [2, 3, 15, 28, 34, 25]\n",
      "3번째까지 정렬 내용 : [2, 3, 15, 25] / [2, 3, 15, 25, 34, 28]\n",
      "4번째까지 정렬 내용 : [2, 3, 15, 25, 28] / [2, 3, 15, 25, 28, 34]\n",
      "난수 7번 뽑아서 로또는 [2, 3, 15, 25, 28, 34]\n"
     ]
    }
   ],
   "source": [
    "# list 이용\n",
    "lotto = []\n",
    "cnt = 0\n",
    "while len(lotto) < 6:\n",
    "    cnt += 1\n",
    "    temp = random.randint(1, 45)\n",
    "    if temp not in lotto:\n",
    "        lotto.append(temp)\n",
    "# 정렬하기\n",
    "# lotto.sort()\n",
    "for i in range(0, len(lotto)-1):\n",
    "    for j in range(i, len(lotto)):\n",
    "        if lotto[i] > lotto[j]:\n",
    "            lotto[i], lotto[j] = lotto[j], lotto[i]\n",
    "    print(f'{i}번째까지 정렬 내용 : {lotto[:i+1]} / {lotto}')\n",
    "print('난수 {}번 뽑아서 로또는 {}'.format(cnt, lotto))"
   ]
  },
  {
   "cell_type": "code",
   "execution_count": 57,
   "id": "4d170cae",
   "metadata": {},
   "outputs": [
    {
     "name": "stdout",
     "output_type": "stream",
     "text": [
      "{3, 7, 17, 22, 27} 76 15.2\n",
      "추출된 숫자: [3, 7, 17, 22, 27]\n",
      "총합: 76\n",
      "평균: 15.2\n"
     ]
    }
   ],
   "source": [
    "#1~30 사이의 숫자 중에서 중복 없이 5개의 숫자를 뽑아 set에 저장한 뒤,\n",
    "#그 합계와 평균을 출력하는 코드를 작성하시오.\n",
    "\n",
    "import random\n",
    "\n",
    "r_lst = set()\n",
    "\n",
    "while len(r_lst) < 5:\n",
    "    num = random.randint(1, 30)\n",
    "    r_lst.add(num)\n",
    "\n",
    "total = sum(r_lst)\n",
    "avg = total / len(r_lst)\n",
    "\n",
    "print(r_lst, total, avg) \n",
    "print(\"추출된 숫자:\", sorted(r_lst))\n",
    "print(\"총합:\", total)\n",
    "print(\"평균:\", round(avg, 2))"
   ]
  },
  {
   "cell_type": "code",
   "execution_count": 42,
   "id": "9a20baaa",
   "metadata": {},
   "outputs": [
    {
     "data": {
      "text/plain": [
       "0.6823172475492325"
      ]
     },
     "execution_count": 42,
     "metadata": {},
     "output_type": "execute_result"
    }
   ],
   "source": [
    "import random\n",
    "                # random.__file__\n",
    "# random.random() # 0 < 실수난수 < 1 출력결과 : 0.01293021930123123\n",
    "# random.radnint(a, b) : a~b의 정수 난수\n",
    "# int(random.random()*b)+a : a~b의 정수 난수\n",
    "# 실행할 때마다 난수의 순서를 일치시키려면 random.seed(특정수)"
   ]
  },
  {
   "cell_type": "code",
   "execution_count": 46,
   "id": "1d5a2505",
   "metadata": {},
   "outputs": [
    {
     "data": {
      "text/plain": [
       "31"
      ]
     },
     "execution_count": 46,
     "metadata": {},
     "output_type": "execute_result"
    }
   ],
   "source": [
    "# 정수\n",
    "random.seed(12)\n",
    "random.randint(1, 45) # 1부터 45까지의 정수 난수"
   ]
  },
  {
   "cell_type": "code",
   "execution_count": 44,
   "id": "e31c7ae1",
   "metadata": {},
   "outputs": [
    {
     "data": {
      "text/plain": [
       "12.104772959547208"
      ]
     },
     "execution_count": 44,
     "metadata": {},
     "output_type": "execute_result"
    }
   ],
   "source": [
    "random.random()*45 # 0 <= random.random() *45 <45"
   ]
  },
  {
   "cell_type": "code",
   "execution_count": 45,
   "id": "f1de709e",
   "metadata": {},
   "outputs": [
    {
     "data": {
      "text/plain": [
       "24"
      ]
     },
     "execution_count": 45,
     "metadata": {},
     "output_type": "execute_result"
    }
   ],
   "source": [
    "int(random.random()*45)+1 # 1 <= random.random() *45 < 46"
   ]
  },
  {
   "cell_type": "code",
   "execution_count": 81,
   "id": "f9417c31",
   "metadata": {},
   "outputs": [
    {
     "data": {
      "text/plain": [
       "[3, 14, 25, 28, 39, 44]"
      ]
     },
     "execution_count": 81,
     "metadata": {},
     "output_type": "execute_result"
    }
   ],
   "source": [
    "sorted(random.sample(range(1, 45), 6))"
   ]
  },
  {
   "cell_type": "markdown",
   "id": "49d3241d",
   "metadata": {},
   "source": [
    "## 2.3 break, continue"
   ]
  },
  {
   "cell_type": "code",
   "execution_count": 84,
   "id": "e8eeb662",
   "metadata": {},
   "outputs": [
    {
     "name": "stdout",
     "output_type": "stream",
     "text": [
      "1\t2\t3\t4\t6\t7\t8\t9\t10\tDONE\n"
     ]
    }
   ],
   "source": [
    "num = 0\n",
    "while num < 10 :\n",
    "    num += 1\n",
    "    if num == 5:\n",
    "        #break # 반복문을 탈출\n",
    "        continue # while 블록 수행을 중단하고 조건으로 감\n",
    "    print(num, end='\\t')\n",
    "print('DONE')"
   ]
  },
  {
   "cell_type": "code",
   "execution_count": 89,
   "id": "ebdc41fd",
   "metadata": {
    "collapsed": true
   },
   "outputs": [
    {
     "name": "stdout",
     "output_type": "stream",
     "text": [
      "컴퓨터가 발생한 임의의 수 : 29\n",
      "1~100사이의 수를 맞춰 보세요 :10\n",
      "UP↑\n",
      "1~100사이의 수를 맞춰 보세요 :20\n",
      "UP↑\n",
      "1~100사이의 수를 맞춰 보세요 :40\n",
      "DOWN↓\n",
      "1~100사이의 수를 맞춰 보세요 :30\n",
      "DOWN↓\n",
      "1~100사이의 수를 맞춰 보세요 :25\n",
      "UP↑\n",
      "1~100사이의 수를 맞춰 보세요 :26\n",
      "UP↑\n",
      "1~100사이의 수를 맞춰 보세요 :27\n",
      "UP↑\n",
      "1~100사이의 수를 맞춰 보세요 :28\n",
      "UP↑\n",
      "1~100사이의 수를 맞춰 보세요 :29\n",
      "축하 축하 맞추셨습니다\n",
      "끝\n"
     ]
    }
   ],
   "source": [
    "'''\n",
    "10. 1~100사이의 정수를 맞추는 프로그램을 구현하시오\n",
    "(프로그램안에 임의의 숫자가 만들어지고 그 숫자를 맞추도록 합니다)\n",
    "1단계 . 입력된 숫자가 틀리면 UP/DOWN 메시지를 출력하고 숫자를 맞추면 \n",
    "축하메세지와 함꼐 종료합니다 맞출 때까지 반복\n",
    "'''\n",
    "import random\n",
    "# (1) 1~100사이의 난수 발생\n",
    "randomNum = random.randint(1, 100) # random.seed(21)\n",
    "print('컴퓨터가 발생한 임의의 수 :', randomNum)\n",
    "# (2) 수를 입력받아 틀리면 UP/DOWN 메세지를 출력, 맞추면 축하축하 메세지와 break하는 반복문\n",
    "while True:\n",
    "    inputNum = int(input('1~100사이의 수를 맞춰 보세요 :'))\n",
    "    if (inputNum < 1) | (inputNum>100):\n",
    "        print('수의 범위를 벗어났습니다.')\n",
    "    elif randomNum < inputNum:\n",
    "        print('DOWN↓')\n",
    "    elif randomNum > inputNum:\n",
    "        print('UP↑')\n",
    "    else:\n",
    "        print('축하 축하 맞추셨습니다')\n",
    "        break\n",
    "print('끝')"
   ]
  },
  {
   "attachments": {},
   "cell_type": "markdown",
   "id": "fba2376a",
   "metadata": {},
   "source": [
    "# 3절. 중첩루프\n",
    "(반복문 안의 반복문)"
   ]
  },
  {
   "cell_type": "code",
   "execution_count": 93,
   "id": "272bca2a",
   "metadata": {},
   "outputs": [
    {
     "name": "stdout",
     "output_type": "stream",
     "text": [
      "2x1= 2\t3x1= 3\t4x1= 4\t5x1= 5\t6x1= 6\t7x1= 7\t8x1= 8\t9x1= 9\t\n",
      "2x2= 4\t3x2= 6\t4x2= 8\t5x2=10\t6x2=12\t7x2=14\t8x2=16\t9x2=18\t\n",
      "2x3= 6\t3x3= 9\t4x3=12\t5x3=15\t6x3=18\t7x3=21\t8x3=24\t9x3=27\t\n",
      "2x4= 8\t3x4=12\t4x4=16\t5x4=20\t6x4=24\t7x4=28\t8x4=32\t9x4=36\t\n",
      "2x5=10\t3x5=15\t4x5=20\t5x5=25\t6x5=30\t7x5=35\t8x5=40\t9x5=45\t\n",
      "2x6=12\t3x6=18\t4x6=24\t5x6=30\t6x6=36\t7x6=42\t8x6=48\t9x6=54\t\n",
      "2x7=14\t3x7=21\t4x7=28\t5x7=35\t6x7=42\t7x7=49\t8x7=56\t9x7=63\t\n",
      "2x8=16\t3x8=24\t4x8=32\t5x8=40\t6x8=48\t7x8=56\t8x8=64\t9x8=72\t\n",
      "2x9=18\t3x9=27\t4x9=36\t5x9=45\t6x9=54\t7x9=63\t8x9=72\t9x9=81\t\n"
     ]
    }
   ],
   "source": [
    "# 2x1= 2\n",
    "for i in range(1, 10):\n",
    "    for j in range(2,10):\n",
    "        print(f'{j}x{i}={i*j:>2}', end='\\t')\n",
    "    print() # 개행"
   ]
  },
  {
   "cell_type": "code",
   "execution_count": 94,
   "id": "55c3e165",
   "metadata": {},
   "outputs": [
    {
     "name": "stdout",
     "output_type": "stream",
     "text": [
      "사과\n",
      "바나나\n",
      "포도\n"
     ]
    }
   ],
   "source": [
    "fruits = [\"사과\", \"바나나\", \"포도\"]\n",
    "for fruit in fruits:\n",
    "    print(fruit)"
   ]
  },
  {
   "cell_type": "markdown",
   "id": "55bdfd98",
   "metadata": {},
   "source": [
    "# 4절. 중첩루프 탈출"
   ]
  },
  {
   "cell_type": "code",
   "execution_count": 101,
   "id": "ef4db31c",
   "metadata": {},
   "outputs": [
    {
     "name": "stdout",
     "output_type": "stream",
     "text": [
      "0 1\n",
      "0 2\n",
      "DONE\n"
     ]
    }
   ],
   "source": [
    "# 중첩 루프 탈출 하는 방법 1 : 플래그 변수 이용\n",
    "flag = False\n",
    "for a in range(0, 3):     # a = 0,1, 2\n",
    "    for b in range(1, 3): # b = 1, 2\n",
    "        if a == b:\n",
    "            flag = True\n",
    "            break # 반복문을 아예 빠져 나오기\n",
    "        print(a, b)\n",
    "    # break시 빠져 나오는 부분\n",
    "    if flag:\n",
    "        break\n",
    "print('DONE')"
   ]
  },
  {
   "cell_type": "code",
   "execution_count": null,
   "id": "975a2bb2",
   "metadata": {},
   "outputs": [],
   "source": [
    "# 중첩 루프 탈출 방법2 : 예외 발생 -> 예외처리\n",
    "\n",
    "\n",
    "# 예외처리 진도 후 작성"
   ]
  },
  {
   "cell_type": "markdown",
   "id": "cadc5f20",
   "metadata": {},
   "source": [
    "# 5절. 연습문제"
   ]
  },
  {
   "cell_type": "code",
   "execution_count": 136,
   "id": "99c0758f",
   "metadata": {},
   "outputs": [
    {
     "name": "stdout",
     "output_type": "stream",
     "text": [
      "양의 정수를 입력하세요: 3\n",
      "3홀수\n"
     ]
    }
   ],
   "source": [
    "# 1. 양의 정수를 입력 받아 홀수인지 짝수인지를 판별하는 프로그램을 작성하세요. \n",
    "# 양의 정수가 아니면 숫자를 다시 입력 받아야 합니다\n",
    "\n",
    "while True:\n",
    "    num = int(input(\"양의 정수를 입력하세요: \"))\n",
    "    if num > 0:\n",
    "        break\n",
    "    print(\"양의 정수가 아닙니다\")\n",
    "\n",
    "if num % 2 == 0:\n",
    "    print(f\"{num}짝수\")\n",
    "else:\n",
    "    print(f\"{num}홀수\")"
   ]
  },
  {
   "cell_type": "code",
   "execution_count": 137,
   "id": "e765f3cf",
   "metadata": {},
   "outputs": [
    {
     "name": "stdout",
     "output_type": "stream",
     "text": [
      "양의 정수를 입력하세요3\n",
      "입력하신 양의 정수는 3이고 홀수입니다\n"
     ]
    }
   ],
   "source": [
    "# 1번 정답\n",
    "num = 0\n",
    "while num <= 0 :\n",
    "    num = int(input('양의 정수를 입력하세요'))\n",
    "    even_odd = '홀수' if num & 2 else '짝수'\n",
    "print('입력하신 양의 정수는 {}이고 {}입니다'.format(num, even_odd))"
   ]
  },
  {
   "cell_type": "code",
   "execution_count": 142,
   "id": "60481b2c",
   "metadata": {},
   "outputs": [
    {
     "name": "stdout",
     "output_type": "stream",
     "text": [
      "*****\n",
      "*****\n",
      "*****\n",
      "*****\n",
      "*****\n",
      "\n",
      "\n",
      "*\n",
      "**\n",
      "***\n",
      "****\n",
      "*****\n"
     ]
    }
   ],
   "source": [
    "# 2. 중첩 for 문을 이용하여 아래 패턴의 별을 출력하는 프로그램을 작성하세요.\n",
    "for i in range(5):\n",
    "    print('*'*5)\n",
    "print()\n",
    "\n",
    "for i in range(6):\n",
    "    print(i * '*')"
   ]
  },
  {
   "cell_type": "code",
   "execution_count": 141,
   "id": "086d2626",
   "metadata": {},
   "outputs": [
    {
     "name": "stdout",
     "output_type": "stream",
     "text": [
      "*****\n",
      "*****\n",
      "*****\n",
      "*****\n",
      "*****\n",
      "\n",
      "*\n",
      "**\n",
      "***\n",
      "****\n",
      "*****\n"
     ]
    }
   ],
   "source": [
    "# 2번 정답\n",
    "for i in range(5):\n",
    "    for j in range(5):\n",
    "        print('*', end='')\n",
    "    print()\n",
    "    \n",
    "for i in range(6):\n",
    "    for j in range(i):\n",
    "        print('*', end='')\n",
    "    print()"
   ]
  },
  {
   "cell_type": "code",
   "execution_count": 143,
   "id": "78579dd0",
   "metadata": {},
   "outputs": [
    {
     "name": "stdout",
     "output_type": "stream",
     "text": [
      "1부터 30까지(30포함) 자연수 중에서 3의 배수의 총 합은 165\n"
     ]
    }
   ],
   "source": [
    "# 3. 다음 코드는 1 부터 30 까지 (30 포함 ) 자연수 중에서 3 의 배수의 총 합을 출력하는 프로그램입니다 . \n",
    "# 빈칸의 코드를 완성하시오\n",
    "tot = 0\n",
    "for i in range(1, 31):\n",
    "    if i % 3 == 0:\n",
    "        tot += i # tot = tot + i\n",
    "print('1부터 30까지(30포함) 자연수 중에서 3의 배수의 총 합은',tot)"
   ]
  },
  {
   "cell_type": "code",
   "execution_count": 114,
   "id": "d5643494",
   "metadata": {},
   "outputs": [
    {
     "name": "stdout",
     "output_type": "stream",
     "text": [
      "1 3 5 7 9 "
     ]
    }
   ],
   "source": [
    "# 4. 다음 코드의 실행결과가 “1 3 5 7 가 되도록 빈칸을 완성하시오\n",
    "num = 0\n",
    "while num <= 10:\n",
    "    if num%2 == 1:\n",
    "        print(num, end=' ')\n",
    "    num += 1"
   ]
  },
  {
   "cell_type": "code",
   "execution_count": 118,
   "id": "2104341f",
   "metadata": {},
   "outputs": [
    {
     "name": "stdout",
     "output_type": "stream",
     "text": [
      "1 2 3 \n",
      "4 5 6 7 \n",
      "8 9 \n"
     ]
    }
   ],
   "source": [
    "# 5. 다음 2 차원 리스트의 모든 값을 출력하는 코드입니다 . 빈칸을 완성하시오.\n",
    "list2d = [ [1, 2, 3],\n",
    "           [4, 5, 6, 7],\n",
    "           [8, 9],]\n",
    "for row in list2d:\n",
    "    for data in row:  \n",
    "        print(data, end=' ')  \n",
    "    print()  \n",
    "\n",
    "#결과\n",
    "#1 2 3\n",
    "#4 5 6 7\n",
    "#8 9"
   ]
  },
  {
   "cell_type": "code",
   "execution_count": 147,
   "id": "1cd90a79",
   "metadata": {},
   "outputs": [
    {
     "name": "stdout",
     "output_type": "stream",
     "text": [
      "0 ('red', 'apple')\n",
      "1 ('yellow', 'banana')\n"
     ]
    }
   ],
   "source": [
    "# 6. 다음 빈칸에 들어갈 함수 이름은?\n",
    "colors = {\"red\":'apple', \"yellow\":'banana'}\n",
    "for i, v in enumerate(colors.items()):\n",
    "    print(i, value)\n",
    "#0 apple\n",
    "#1 banana"
   ]
  },
  {
   "cell_type": "code",
   "execution_count": 103,
   "id": "7d645c4e",
   "metadata": {
    "collapsed": true
   },
   "outputs": [
    {
     "name": "stdout",
     "output_type": "stream",
     "text": [
      "양의 정수를 입력하세요: -1\n",
      "양의 정수가 아닙니다\n",
      "양의 정수를 입력하세요: -2\n",
      "양의 정수가 아닙니다\n",
      "양의 정수를 입력하세요: -3\n",
      "양의 정수가 아닙니다\n",
      "양의 정수를 입력하세요: 09\n",
      "9홀수\n"
     ]
    }
   ],
   "source": [
    "# 1. 양의 정수를 입력 받아 홀수인지 짝수인지를 판별하는 프로그램을 작성하세요. \n",
    "# 양의 정수가 아니면 숫자를 다시 입력 받아야 합니다\n",
    "\n",
    "while True:\n",
    "    num = int(input(\"양의 정수를 입력하세요: \"))\n",
    "    if num > 0:\n",
    "        break\n",
    "    print(\"양의 정수가 아닙니다\")\n",
    "\n",
    "if num % 2 == 0:\n",
    "    print(f\"{num}짝수\")\n",
    "else:\n",
    "    print(f\"{num}홀수\")"
   ]
  },
  {
   "cell_type": "code",
   "execution_count": 109,
   "id": "a76d023f",
   "metadata": {},
   "outputs": [
    {
     "name": "stdout",
     "output_type": "stream",
     "text": [
      "*****\n",
      "*****\n",
      "*****\n",
      "*****\n",
      "*****\n",
      "\n",
      "\n",
      "*\n",
      "**\n",
      "***\n",
      "****\n",
      "*****\n"
     ]
    }
   ],
   "source": [
    "# 2. 중첩 for 문을 이용하여 아래 패턴의 별을 출력하는 프로그램을 작성하세요.\n",
    "for i in range(5):\n",
    "    print('*'*5)\n",
    "print()\n",
    "\n",
    "for i in range(6):\n",
    "    print(i * '*')"
   ]
  },
  {
   "cell_type": "code",
   "execution_count": 110,
   "id": "8117c421",
   "metadata": {},
   "outputs": [
    {
     "name": "stdout",
     "output_type": "stream",
     "text": [
      "165\n"
     ]
    }
   ],
   "source": [
    "# 3. 다음 코드는 1 부터 30 까지 (30 포함 ) 자연수 중에서 3 의 배수의 총 합을 출력하는 프로그램입니다 . \n",
    "# 빈칸의 코드를 완성하시오\n",
    "sum = 0\n",
    "for i in range(1, 31):\n",
    "    if i % 3 == 0:\n",
    "        sum = sum + i\n",
    "print(sum)"
   ]
  },
  {
   "cell_type": "code",
   "execution_count": 114,
   "id": "7f029f60",
   "metadata": {},
   "outputs": [
    {
     "name": "stdout",
     "output_type": "stream",
     "text": [
      "1 3 5 7 9 "
     ]
    }
   ],
   "source": [
    "# 4. 다음 코드의 실행결과가 “1 3 5 7 가 되도록 빈칸을 완성하시오\n",
    "num = 0\n",
    "while num <= 10:\n",
    "    if num%2 == 1:\n",
    "        print(num, end=' ')\n",
    "    num += 1"
   ]
  },
  {
   "cell_type": "code",
   "execution_count": 118,
   "id": "6addd811",
   "metadata": {},
   "outputs": [
    {
     "name": "stdout",
     "output_type": "stream",
     "text": [
      "1 2 3 \n",
      "4 5 6 7 \n",
      "8 9 \n"
     ]
    }
   ],
   "source": [
    "# 5. 다음 2 차원 리스트의 모든 값을 출력하는 코드입니다 . 빈칸을 완성하시오.\n",
    "list2d = [ [1, 2, 3],\n",
    "           [4, 5, 6, 7],\n",
    "           [8, 9],]\n",
    "for row in list2d:\n",
    "    for data in row:  \n",
    "        print(data, end=' ')  \n",
    "    print()  \n",
    "\n",
    "#결과\n",
    "#1 2 3\n",
    "#4 5 6 7\n",
    "#8 9"
   ]
  },
  {
   "cell_type": "code",
   "execution_count": 148,
   "id": "5bec5132",
   "metadata": {},
   "outputs": [
    {
     "name": "stdout",
     "output_type": "stream",
     "text": [
      "0 apple\n",
      "1 banana\n"
     ]
    }
   ],
   "source": [
    "# 6. 다음 빈칸에 들어갈 함수 이름은?\n",
    "colors = {\"red\":'apple', \"yellow\":'banana'}\n",
    "for i, v in enumerate(colors.values()):\n",
    "    print(i, v)\n",
    "#0 apple\n",
    "#1 banana"
   ]
  },
  {
   "cell_type": "code",
   "execution_count": 125,
   "id": "825fa66d",
   "metadata": {},
   "outputs": [
    {
     "name": "stdout",
     "output_type": "stream",
     "text": [
      "1 0\n"
     ]
    }
   ],
   "source": [
    "# 7. 다음 코드의 실행결과는? 1,0 / 0,1\n",
    "for i in range(0, 2):\n",
    "    for j in range(0, 2):\n",
    "        if i == j:\n",
    "            break\n",
    "        print(i, j)"
   ]
  },
  {
   "cell_type": "code",
   "execution_count": null,
   "id": "351ecaeb",
   "metadata": {},
   "outputs": [],
   "source": [
    "# 8. 다음 코드의 실행 결과로 출력될 수 없는 것은?2\n",
    "for i in range(0, 2):\n",
    "    for j in range(0, 2):\n",
    "        print(i, j)\n",
    "        if i == j:\n",
    "            break\n",
    "#①0 0 ② 0 1 ③ 1 0 ④ 1 1"
   ]
  },
  {
   "cell_type": "code",
   "execution_count": 126,
   "id": "32ebfc52",
   "metadata": {},
   "outputs": [
    {
     "name": "stdout",
     "output_type": "stream",
     "text": [
      "3579"
     ]
    }
   ],
   "source": [
    "# 9. 다음 코드의 실행결과는? 3,5,7,9\n",
    "L = [3, 4, 5, 6, 7, 8, 9, 10]\n",
    "for i, data in enumerate(L):\n",
    "    if i%2 == 0:\n",
    "        print(data, end='')"
   ]
  },
  {
   "cell_type": "code",
   "execution_count": 102,
   "id": "8e258d9c",
   "metadata": {
    "collapsed": true
   },
   "outputs": [
    {
     "name": "stdout",
     "output_type": "stream",
     "text": [
      "컴퓨터가 발생한 임의의 수 : 23\n",
      "1~100사이의 수를 맞춰 보세요 :30\n",
      "DOWN↓\n",
      "1~100사이의 수를 맞춰 보세요 :10\n",
      "UP↑\n",
      "1~100사이의 수를 맞춰 보세요 :20\n",
      "UP↑\n",
      "1~100사이의 수를 맞춰 보세요 :25\n",
      "DOWN↓\n",
      "1~100사이의 수를 맞춰 보세요 :24\n",
      "DOWN↓\n",
      "1~100사이의 수를 맞춰 보세요 :23\n",
      "축하 축하 맞추셨습니다\n",
      "끝\n"
     ]
    }
   ],
   "source": [
    "# 10. 1~100사이의 정수를 맞추는 프로그램을 구현하시오\n",
    "#(프로그램안에 임의의 숫자가 만들어지고 그 숫자를 맞추도록 합니다)\n",
    "#1단계 . 입력된 숫자가 틀리면 UP/DOWN 메시지를 출력하고 숫자를 맞추면 축하메세지와 함께 종료합니다. 맞출 때까지 반복\n",
    "import random\n",
    "# (1) 1~100사이의 난수 발생\n",
    "randomNum = random.randint(1, 100) # random.seed(21)\n",
    "print('컴퓨터가 발생한 임의의 수 :', randomNum)\n",
    "# (2) 수를 입력받아 틀리면 UP/DOWN 메세지를 출력, 맞추면 축하축하 메세지와 break하는 반복문\n",
    "while True:\n",
    "    inputNum = int(input('1~100사이의 수를 맞춰 보세요 :'))\n",
    "    if (inputNum < 1) | (inputNum>100):\n",
    "        print('수의 범위를 벗어났습니다.')\n",
    "    elif randomNum < inputNum:\n",
    "        print('DOWN↓')\n",
    "    elif randomNum > inputNum:\n",
    "        print('UP↑')\n",
    "    else:\n",
    "        print('축하 축하 맞추셨습니다')\n",
    "        break\n",
    "print('끝')"
   ]
  },
  {
   "cell_type": "code",
   "execution_count": 149,
   "id": "4f1ddbf0",
   "metadata": {
    "collapsed": true
   },
   "outputs": [
    {
     "name": "stdout",
     "output_type": "stream",
     "text": [
      "컴퓨터가 발생한 임의의 수 : 45\n",
      "1~100사이의 수를 맞춰 보세요 :10\n",
      "UP↑ 새로운 범위는 11~100입니다.\n",
      "1~100사이의 수를 맞춰 보세요 :10\n",
      "수의 범위를 벗어났습니다. 11과 100 사이의 숫자를 입력하세요.\n",
      "1~100사이의 수를 맞춰 보세요 :10\n",
      "수의 범위를 벗어났습니다. 11과 100 사이의 숫자를 입력하세요.\n",
      "1~100사이의 수를 맞춰 보세요 :10\n",
      "수의 범위를 벗어났습니다. 11과 100 사이의 숫자를 입력하세요.\n",
      "1~100사이의 수를 맞춰 보세요 :10\n",
      "수의 범위를 벗어났습니다. 11과 100 사이의 숫자를 입력하세요.\n",
      "1~100사이의 수를 맞춰 보세요 :45\n",
      "축하 축하 맞추셨습니다!\n",
      "끝\n"
     ]
    }
   ],
   "source": [
    "# 2단계 . 입력된 숫자가 틀리면 min~max 사이의 수라고 알려주고 숫자를 맞추면 축하 메시지와 함께 종료합니다. 맞출 때까지 반복\n",
    "import random\n",
    "\n",
    "randomNum = random.randint(1, 100)\n",
    "print('컴퓨터가 발생한 임의의 수 :', randomNum)\n",
    "min_num = 1  \n",
    "max_num = 100 \n",
    "\n",
    "while True:\n",
    "    inputNum = int(input('1~100사이의 수를 맞춰 보세요 :'))\n",
    "    \n",
    "    if inputNum < min_num or inputNum > max_num:\n",
    "        print(f'수의 범위를 벗어났습니다. {min_num}과 {max_num} 사이의 숫자를 입력하세요.')\n",
    "    \n",
    "    elif inputNum == randomNum:\n",
    "        print('축하 축하 맞추셨습니다!')\n",
    "        break\n",
    "        \n",
    "    elif inputNum > randomNum:\n",
    "        max_num = inputNum - 1\n",
    "        print(f'DOWN↓ 새로운 범위는 {min_num}~{max_num}입니다.')\n",
    "    \n",
    "    else:\n",
    "        min_num = inputNum + 1\n",
    "        print(f'UP↑ 새로운 범위는 {min_num}~{max_num}입니다.')\n",
    "\n",
    "print('끝')"
   ]
  },
  {
   "cell_type": "code",
   "execution_count": 151,
   "id": "a5764be2",
   "metadata": {},
   "outputs": [
    {
     "name": "stdout",
     "output_type": "stream",
     "text": [
      "컴퓨터가 발생한 임의의 수는 82입니다.\n",
      "1~100 사이의 수를 맞춰 보세요 (5회 남았습니다): 82\n",
      "축하 축하 맞추셨습니다! 82이(가) 정답입니다.\n"
     ]
    }
   ],
   "source": [
    "# 3단계 . 숫자를 맞출 수 있는 기회를 5 회로 제한하고 5 회 이내에 맞추지 않으면 실패 메세지를 출력합니다\n",
    "import random\n",
    "\n",
    "randomNum = random.randint(1, 100)\n",
    "min_num = 1 \n",
    "max_num = 100  \n",
    "temp = 0  \n",
    "max_temp = 5\n",
    "\n",
    "print(f'컴퓨터가 발생한 임의의 수는 {randomNum}입니다.')\n",
    "\n",
    "while temp < max_temp:\n",
    "    temp += 1\n",
    "    chance = max_temp - temp\n",
    "    inputNum = int(input(f'{min_num}~{max_num} 사이의 수를 맞춰 보세요 ({chance+1}회 남았습니다): '))\n",
    "\n",
    "    if inputNum < min_num or inputNum > max_num:\n",
    "        print(f'수의 범위를 벗어났습니다. {min_num}과 {max_num} 사이의 숫자를 입력하세요.')\n",
    "    \n",
    "    elif inputNum == randomNum:\n",
    "        print(f'축하 축하 맞추셨습니다! {inputNum}이(가) 정답입니다.')\n",
    "        break\n",
    "\n",
    "    elif inputNum > randomNum:\n",
    "        max_num = inputNum - 1\n",
    "        print(f'DOWN↓ 새로운 범위는 {min_num}~{max_num}입니다.')\n",
    "\n",
    "    else:\n",
    "        min_num = inputNum + 1\n",
    "        print(f'UP↑ 새로운 범위는 {min_num}~{max_num}입니다.')\n",
    "\n",
    "if temp == max_temp and inputNum != randomNum:\n",
    "    print(f'5회 시도 후에도 맞추지 못했습니다. 정답은 {randomNum}였습니다. 실패!')"
   ]
  },
  {
   "cell_type": "code",
   "execution_count": 125,
   "id": "d60912d6",
   "metadata": {},
   "outputs": [
    {
     "name": "stdout",
     "output_type": "stream",
     "text": [
      "1 0\n"
     ]
    }
   ],
   "source": [
    "# 7. 다음 코드의 실행결과는? 1,0 / 0,1\n",
    "for i in range(0, 2):\n",
    "    for j in range(0, 2):\n",
    "        if i == j:\n",
    "            break\n",
    "        print(i, j)"
   ]
  },
  {
   "cell_type": "code",
   "execution_count": null,
   "id": "df2e797d",
   "metadata": {},
   "outputs": [],
   "source": [
    "# 8. 다음 코드의 실행 결과로 출력될 수 없는 것은?2\n",
    "for i in range(0, 2):\n",
    "    for j in range(0, 2):\n",
    "        print(i, j)\n",
    "        if i == j:\n",
    "            break\n",
    "#①0 0 ② 0 1 ③ 1 0 ④ 1 1"
   ]
  },
  {
   "cell_type": "code",
   "execution_count": 126,
   "id": "575f9f8c",
   "metadata": {},
   "outputs": [
    {
     "name": "stdout",
     "output_type": "stream",
     "text": [
      "3579"
     ]
    }
   ],
   "source": [
    "# 9. 다음 코드의 실행결과는? 3,5,7,9\n",
    "L = [3, 4, 5, 6, 7, 8, 9, 10]\n",
    "for i, data in enumerate(L):\n",
    "    if i%2 == 0:\n",
    "        print(data, end='')"
   ]
  },
  {
   "cell_type": "code",
   "execution_count": 102,
   "id": "22db2f87",
   "metadata": {
    "collapsed": true
   },
   "outputs": [
    {
     "name": "stdout",
     "output_type": "stream",
     "text": [
      "컴퓨터가 발생한 임의의 수 : 23\n",
      "1~100사이의 수를 맞춰 보세요 :30\n",
      "DOWN↓\n",
      "1~100사이의 수를 맞춰 보세요 :10\n",
      "UP↑\n",
      "1~100사이의 수를 맞춰 보세요 :20\n",
      "UP↑\n",
      "1~100사이의 수를 맞춰 보세요 :25\n",
      "DOWN↓\n",
      "1~100사이의 수를 맞춰 보세요 :24\n",
      "DOWN↓\n",
      "1~100사이의 수를 맞춰 보세요 :23\n",
      "축하 축하 맞추셨습니다\n",
      "끝\n"
     ]
    }
   ],
   "source": [
    "# 10. 1~100사이의 정수를 맞추는 프로그램을 구현하시오\n",
    "#(프로그램안에 임의의 숫자가 만들어지고 그 숫자를 맞추도록 합니다)\n",
    "#1단계 . 입력된 숫자가 틀리면 UP/DOWN 메시지를 출력하고 숫자를 맞추면 축하메세지와 함께 종료합니다. 맞출 때까지 반복\n",
    "import random\n",
    "# (1) 1~100사이의 난수 발생\n",
    "randomNum = random.randint(1, 100) # random.seed(21)\n",
    "print('컴퓨터가 발생한 임의의 수 :', randomNum)\n",
    "# (2) 수를 입력받아 틀리면 UP/DOWN 메세지를 출력, 맞추면 축하축하 메세지와 break하는 반복문\n",
    "while True:\n",
    "    inputNum = int(input('1~100사이의 수를 맞춰 보세요 :'))\n",
    "    if (inputNum < 1) | (inputNum>100):\n",
    "        print('수의 범위를 벗어났습니다.')\n",
    "    elif randomNum < inputNum:\n",
    "        print('DOWN↓')\n",
    "    elif randomNum > inputNum:\n",
    "        print('UP↑')\n",
    "    else:\n",
    "        print('축하 축하 맞추셨습니다')\n",
    "        break\n",
    "print('끝')"
   ]
  },
  {
   "cell_type": "code",
   "execution_count": 127,
   "id": "32588c48",
   "metadata": {
    "collapsed": true
   },
   "outputs": [
    {
     "name": "stdout",
     "output_type": "stream",
     "text": [
      "컴퓨터가 발생한 임의의 수 : 10\n",
      "1~100사이의 수를 맞춰 보세요 :40\n",
      "DOWN↓ 새로운 범위는 1~39입니다.\n",
      "1~100사이의 수를 맞춰 보세요 :1\n",
      "UP↑ 새로운 범위는 2~39입니다.\n",
      "1~100사이의 수를 맞춰 보세요 :4\n",
      "UP↑ 새로운 범위는 5~39입니다.\n",
      "1~100사이의 수를 맞춰 보세요 :8\n",
      "UP↑ 새로운 범위는 9~39입니다.\n",
      "1~100사이의 수를 맞춰 보세요 :9\n",
      "UP↑ 새로운 범위는 10~39입니다.\n",
      "1~100사이의 수를 맞춰 보세요 :10\n",
      "축하 축하 맞추셨습니다!\n",
      "끝\n"
     ]
    }
   ],
   "source": [
    "# 2단계 . 입력된 숫자가 틀리면 min~max 사이의 수라고 알려주고 숫자를 맞추면 축하 메시지와 함께 종료합니다. 맞출 때까지 반복\n",
    "import random\n",
    "\n",
    "randomNum = random.randint(1, 100)\n",
    "print('컴퓨터가 발생한 임의의 수 :', randomNum)\n",
    "min_num = 1  \n",
    "max_num = 100 \n",
    "\n",
    "while True:\n",
    "    inputNum = int(input('1~100사이의 수를 맞춰 보세요 :'))\n",
    "    \n",
    "    if inputNum < min_num or inputNum > max_num:\n",
    "        print(f'수의 범위를 벗어났습니다. {min_num}과 {max_num} 사이의 숫자를 입력하세요.')\n",
    "    \n",
    "    elif inputNum == randomNum:\n",
    "        print('축하 축하 맞추셨습니다!')\n",
    "        break\n",
    "        \n",
    "    elif inputNum > randomNum:\n",
    "        max_num = inputNum - 1\n",
    "        print(f'DOWN↓ 새로운 범위는 {min_num}~{max_num}입니다.')\n",
    "    \n",
    "    else:\n",
    "        min_num = inputNum + 1\n",
    "        print(f'UP↑ 새로운 범위는 {min_num}~{max_num}입니다.')\n",
    "\n",
    "print('끝')"
   ]
  },
  {
   "cell_type": "code",
   "execution_count": 150,
   "id": "ae433269",
   "metadata": {
    "collapsed": true
   },
   "outputs": [
    {
     "name": "stdout",
     "output_type": "stream",
     "text": [
      "컴퓨터가 발생한 임의의 수 : 78\n",
      "1~100사이의 수를 맞춰보세요 :1\n",
      "up\n",
      "2~100사이의 수를 맞춰보세요 :30\n",
      "up\n",
      "31~100사이의 수를 맞춰보세요 :40\n",
      "up\n",
      "41~100사이의 수를 맞춰보세요 :50\n",
      "up\n",
      "51~100사이의 수를 맞춰보세요 :60\n",
      "up\n",
      "61~100사이의 수를 맞춰보세요 :70\n",
      "up\n",
      "71~100사이의 수를 맞춰보세요 :80\n",
      "down\n",
      "71~79사이의 수를 맞춰보세요 :75\n",
      "up\n",
      "76~79사이의 수를 맞춰보세요 :78\n",
      "축하합니다 정답입니다\n",
      "끝\n"
     ]
    }
   ],
   "source": [
    "#10-2 정답\n",
    "import random\n",
    "from_, to_ = 1, 100\n",
    "inputNum = 0\n",
    "randomNum = random.randint(from_, to_)\n",
    "print('컴퓨터가 발생한 임의의 수 :', randomNum)\n",
    "while randomNum!=inputNum:\n",
    "    inputNum = int(input(f'{from_}~{to_}사이의 수를 맞춰보세요 :'))\n",
    "    \n",
    "    if (inputNum < from_) | (inputNum > to_):\n",
    "        print('수의 범위를 벗어났습니다')\n",
    "    elif randomNum < inputNum:\n",
    "        print('down')\n",
    "        to_ = inputNum -1\n",
    "    elif randomNum > inputNum:\n",
    "        print('up')\n",
    "        from_ = inputNum +1\n",
    "    else:\n",
    "        print('축하합니다 정답입니다')\n",
    "print('끝')"
   ]
  },
  {
   "cell_type": "code",
   "execution_count": 133,
   "id": "f28dec2c",
   "metadata": {},
   "outputs": [
    {
     "name": "stdout",
     "output_type": "stream",
     "text": [
      "컴퓨터가 발생한 임의의 수는 64입니다.\n",
      "1~100 사이의 수를 맞춰 보세요 (5회 남았습니다): 40\n",
      "UP↑ 새로운 범위는 41~100입니다.\n",
      "41~100 사이의 수를 맞춰 보세요 (4회 남았습니다): 70\n",
      "DOWN↓ 새로운 범위는 41~69입니다.\n",
      "41~69 사이의 수를 맞춰 보세요 (3회 남았습니다): 50\n",
      "UP↑ 새로운 범위는 51~69입니다.\n",
      "51~69 사이의 수를 맞춰 보세요 (2회 남았습니다): 60\n",
      "UP↑ 새로운 범위는 61~69입니다.\n",
      "61~69 사이의 수를 맞춰 보세요 (1회 남았습니다): 65\n",
      "DOWN↓ 새로운 범위는 61~64입니다.\n",
      "5회 시도 후에도 맞추지 못했습니다. 정답은 64였습니다. 실패!\n"
     ]
    }
   ],
   "source": [
    "# 3단계 . 숫자를 맞출 수 있는 기회를 5 회로 제한하고 5 회 이내에 맞추지 않으면 실패 메세지를 출력합니다\n",
    "import random\n",
    "\n",
    "randomNum = random.randint(1, 100)\n",
    "min_num = 1 \n",
    "max_num = 100  \n",
    "temp = 0  \n",
    "max_temp = 5\n",
    "\n",
    "print(f'컴퓨터가 발생한 임의의 수는 {randomNum}입니다.')\n",
    "\n",
    "while temp < max_temp:\n",
    "    temp += 1\n",
    "    chance = max_temp - temp\n",
    "    inputNum = int(input(f'{min_num}~{max_num} 사이의 수를 맞춰 보세요 ({chance+1}회 남았습니다): '))\n",
    "\n",
    "    if inputNum < min_num or inputNum > max_num:\n",
    "        print(f'수의 범위를 벗어났습니다. {min_num}과 {max_num} 사이의 숫자를 입력하세요.')\n",
    "    \n",
    "    elif inputNum == randomNum:\n",
    "        print(f'축하 축하 맞추셨습니다! {inputNum}이(가) 정답입니다.')\n",
    "        break\n",
    "\n",
    "    elif inputNum > randomNum:\n",
    "        max_num = inputNum - 1\n",
    "        print(f'DOWN↓ 새로운 범위는 {min_num}~{max_num}입니다.')\n",
    "\n",
    "    else:\n",
    "        min_num = inputNum + 1\n",
    "        print(f'UP↑ 새로운 범위는 {min_num}~{max_num}입니다.')\n",
    "\n",
    "if temp == max_temp and inputNum != randomNum:\n",
    "    print(f'5회 시도 후에도 맞추지 못했습니다. 정답은 {randomNum}였습니다. 실패!')"
   ]
  },
  {
   "cell_type": "code",
   "execution_count": 154,
   "id": "245eac19",
   "metadata": {},
   "outputs": [
    {
     "name": "stdout",
     "output_type": "stream",
     "text": [
      "컴퓨터가 발생한 임의의 수 : 66\n",
      "1~100사이의 수를 맞춰보세요(남은 기회 5번) :66\n",
      "축하합니다 정답입니다\n",
      "끝\n"
     ]
    }
   ],
   "source": [
    "#10-3 정답\n",
    "import random\n",
    "from_, to_ = 1, 100\n",
    "inputNum = 0\n",
    "randomNum = random.randint(from_, to_)\n",
    "print('컴퓨터가 발생한 임의의 수 :', randomNum)\n",
    "for i in range(5, 0, -1):\n",
    "    inputNum = int(input(f'{from_}~{to_}사이의 수를 맞춰보세요(남은 기회 {i}번) :'))\n",
    "    \n",
    "    if (inputNum < from_) | (inputNum > to_):\n",
    "        print('수의 범위를 벗어났습니다')\n",
    "    elif randomNum < inputNum:\n",
    "        print('down')\n",
    "        to_ = inputNum -1\n",
    "    elif randomNum > inputNum:\n",
    "        print('up')\n",
    "        from_ = inputNum +1\n",
    "    else:\n",
    "        print('축하합니다 정답입니다')\n",
    "        break\n",
    "else:\n",
    "    print('모든 기회를 다 쓰셨습니다. 땡!')\n",
    "print('끝')"
   ]
  },
  {
   "cell_type": "code",
   "execution_count": 157,
   "id": "27767041",
   "metadata": {},
   "outputs": [
    {
     "name": "stdout",
     "output_type": "stream",
     "text": [
      "컴퓨터가 발생한 임의의 수 : 27\n",
      "1~100사이의 수를 맞춰보세요(남은 기회 5번) :27\n",
      "축하축하 맞추셨습니다 1번 만에 딩동댕\n"
     ]
    }
   ],
   "source": [
    "#10-3 정답 2번째 else가 없는버젼\n",
    "import random\n",
    "from_, to_ = 1, 100\n",
    "inputNum = 0\n",
    "randomNum = random.randint(from_, to_)\n",
    "print('컴퓨터가 발생한 임의의 수 :', randomNum)\n",
    "\n",
    "message = '모든 기회를 다 쓰셨습니다. 땡!'\n",
    "for i in range(5, 0, -1):\n",
    "    inputNum = int(input(f'{from_}~{to_}사이의 수를 맞춰보세요(남은 기회 {i}번) :'))\n",
    "    \n",
    "    if (inputNum < from_) | (inputNum > to_):\n",
    "        print('수의 범위를 벗어났습니다')\n",
    "    elif randomNum < inputNum:\n",
    "        print('down')\n",
    "        to_ = inputNum -1\n",
    "    elif randomNum > inputNum:\n",
    "        print('up')\n",
    "        from_ = inputNum +1\n",
    "    else:\n",
    "        message = \"축하축하 맞추셨습니다 {}번 만에 딩동댕\".format(6-i)\n",
    "        break\n",
    "\n",
    "print(message)"
   ]
  },
  {
   "cell_type": "code",
   "execution_count": null,
   "id": "86abd3d1",
   "metadata": {},
   "outputs": [],
   "source": []
  },
  {
   "cell_type": "code",
   "execution_count": null,
   "id": "8884e308",
   "metadata": {},
   "outputs": [],
   "source": []
  },
  {
   "cell_type": "code",
   "execution_count": null,
   "id": "e8a88d55",
   "metadata": {},
   "outputs": [],
   "source": []
  },
  {
   "cell_type": "code",
   "execution_count": null,
   "id": "c6a10cb7",
   "metadata": {},
   "outputs": [],
   "source": []
  }
 ],
 "metadata": {
  "kernelspec": {
   "display_name": "Python 3 (ipykernel)",
   "language": "python",
   "name": "python3"
  },
  "language_info": {
   "codemirror_mode": {
    "name": "ipython",
    "version": 3
   },
   "file_extension": ".py",
   "mimetype": "text/x-python",
   "name": "python",
   "nbconvert_exporter": "python",
   "pygments_lexer": "ipython3",
   "version": "3.10.9"
  },
  "toc": {
   "base_numbering": 1,
   "nav_menu": {},
   "number_sections": false,
   "sideBar": true,
   "skip_h1_title": false,
   "title_cell": "Table of Contents",
   "title_sidebar": "Contents",
   "toc_cell": false,
   "toc_position": {
    "height": "calc(100% - 180px)",
    "left": "10px",
    "top": "150px",
    "width": "183px"
   },
   "toc_section_display": true,
   "toc_window_display": true
  }
 },
 "nbformat": 4,
 "nbformat_minor": 5
}
