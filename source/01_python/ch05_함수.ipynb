{
 "cells": [
  {
   "cell_type": "code",
   "execution_count": 42,
   "id": "c894bab5",
   "metadata": {},
   "outputs": [
    {
     "data": {
      "text/html": [
       "\n",
       "<style>\n",
       "div.container{width:86% !important;}\n",
       "div.cell.code_cell.rendered{width:100%;}\n",
       "div.CodeMirror {font family: Consolas; font-size:12pt;}\n",
       "div.output {font-size:12pt; font-weight:bold;}\n",
       "div.input {font-family: Consolas; font-size:12pt;}\n",
       "div.prompt {min-width:70px;}\n",
       "div#toc-wrapper{padding top:120px;}\n",
       "div.text_cell_render ul li {font-size:12pt;padding:5px;}\n",
       "table.dataframe{font-size:12px;}\n",
       "</style>\n"
      ],
      "text/plain": [
       "<IPython.core.display.HTML object>"
      ]
     },
     "metadata": {},
     "output_type": "display_data"
    }
   ],
   "source": [
    "from IPython.display import display, HTML\n",
    "display(HTML(\"\"\"\n",
    "<style>\n",
    "div.container{width:86% !important;}\n",
    "div.cell.code_cell.rendered{width:100%;}\n",
    "div.CodeMirror {font family: Consolas; font-size:12pt;}\n",
    "div.output {font-size:12pt; font-weight:bold;}\n",
    "div.input {font-family: Consolas; font-size:12pt;}\n",
    "div.prompt {min-width:70px;}\n",
    "div#toc-wrapper{padding top:120px;}\n",
    "div.text_cell_render ul li {font-size:12pt;padding:5px;}\n",
    "table.dataframe{font-size:12px;}\n",
    "</style>\n",
    "\"\"\"))"
   ]
  },
  {
   "cell_type": "markdown",
   "id": "679f018d",
   "metadata": {},
   "source": [
    "<b><font color = \"red\" size = \"5\">  ch05. 함수 </font></b>\n",
    "- 사용할 코드를 묶어 놓고 그것에 이름을 붙힌 것\n",
    "- 오버로딩(함수 이름이 같고, 매개변수의 타입이나 갯수로 다른 함수를 허용하는 것) 불가(자바, 파이썬은 불가)\n",
    "- 함수 정의\n",
    "```\n",
    "def 함수명([매개변수1, .. 매개변수n]):\n",
    "    명령어1\n",
    "    명령어2\n",
    "    명령어n\n",
    "```"
   ]
  },
  {
   "cell_type": "markdown",
   "id": "d2653f38",
   "metadata": {},
   "source": [
    "# 1절. 함수의 정의 및 사용\n",
    "## 1.1 함수 정의"
   ]
  },
  {
   "cell_type": "code",
   "execution_count": 14,
   "id": "d7447197",
   "metadata": {},
   "outputs": [],
   "source": [
    "# 함수 정의\n",
    "def my_message(x, msg): # msg를 x번 출력하는 함수\n",
    "    for i in range(x):\n",
    "        print(msg)"
   ]
  },
  {
   "cell_type": "code",
   "execution_count": 17,
   "id": "9773375c",
   "metadata": {},
   "outputs": [
    {
     "name": "stdout",
     "output_type": "stream",
     "text": [
      "안녕\n",
      "안녕\n"
     ]
    }
   ],
   "source": [
    "# 함수 사용\n",
    "my_message(2, '안녕')"
   ]
  },
  {
   "cell_type": "code",
   "execution_count": 18,
   "id": "3678ac36",
   "metadata": {},
   "outputs": [
    {
     "name": "stdout",
     "output_type": "stream",
     "text": [
      "hihi :)\n",
      "hihi :)\n"
     ]
    }
   ],
   "source": [
    "my_msg = my_message\n",
    "my_msg(2, 'hihi :)')"
   ]
  },
  {
   "cell_type": "code",
   "execution_count": 19,
   "id": "cd384f81",
   "metadata": {},
   "outputs": [
    {
     "name": "stdout",
     "output_type": "stream",
     "text": [
      "<class 'function'> <class 'function'>\n"
     ]
    }
   ],
   "source": [
    "print(type(my_msg), type(my_message))"
   ]
  },
  {
   "cell_type": "code",
   "execution_count": 22,
   "id": "34e4fbca",
   "metadata": {},
   "outputs": [
    {
     "name": "stdout",
     "output_type": "stream",
     "text": [
      "hello\n",
      "hello\n"
     ]
    }
   ],
   "source": [
    "print('hello') # 파이썬 내장함수 (import 하지 않고 사용할 수 있는 함수)\n",
    "print = 5\n",
    "del print\n",
    "print('hello')"
   ]
  },
  {
   "cell_type": "code",
   "execution_count": 23,
   "id": "d8fba4eb",
   "metadata": {},
   "outputs": [
    {
     "name": "stdout",
     "output_type": "stream",
     "text": [
      "hello\n",
      "hello\n"
     ]
    }
   ],
   "source": [
    "my_message(2, 'hello')"
   ]
  },
  {
   "cell_type": "code",
   "execution_count": 29,
   "id": "311c8e8e",
   "metadata": {},
   "outputs": [],
   "source": [
    "my_message = 5"
   ]
  },
  {
   "cell_type": "code",
   "execution_count": 26,
   "id": "159f176b",
   "metadata": {},
   "outputs": [
    {
     "ename": "TypeError",
     "evalue": "'int' object is not callable",
     "output_type": "error",
     "traceback": [
      "\u001b[1;31m------------------------------------------\u001b[0m",
      "\u001b[1;31mTypeError\u001b[0mTraceback (most recent call last)",
      "Cell \u001b[1;32mIn[26], line 1\u001b[0m\n\u001b[1;32m----> 1\u001b[0m \u001b[43mmy_message\u001b[49m\u001b[43m(\u001b[49m\u001b[38;5;241;43m1\u001b[39;49m\u001b[43m,\u001b[49m\u001b[43m \u001b[49m\u001b[38;5;241;43m3\u001b[39;49m\u001b[43m)\u001b[49m\n",
      "\u001b[1;31mTypeError\u001b[0m: 'int' object is not callable"
     ]
    }
   ],
   "source": [
    "my_message(1, 3)"
   ]
  },
  {
   "cell_type": "code",
   "execution_count": 30,
   "id": "ea28ab93",
   "metadata": {},
   "outputs": [],
   "source": [
    "del my_message # 내가 만든 함수나 import 함수는 del 해도 복귀되지 않아 사용 불가해짐\n",
    "# 변수를 삭제해도 함수 사용 불가(파이썬 내장 함수가 아니라서)"
   ]
  },
  {
   "cell_type": "code",
   "execution_count": 4,
   "id": "7db9214f",
   "metadata": {},
   "outputs": [],
   "source": [
    "# 함수 정의 : 4월 16일(수)\n",
    "def my_hello():              #자바와 파이썬은 오버로딩이 안되므로 새로만든 def my_hello(cnt)로 바뀜\n",
    "    print('Hello Python')\n",
    "    print('Hello World')\n",
    "def my_hello(cnt):\n",
    "    for i in range(cnt):\n",
    "        print('Hello Python')\n",
    "        print('Hello World')        "
   ]
  },
  {
   "cell_type": "code",
   "execution_count": 5,
   "id": "b343b138",
   "metadata": {},
   "outputs": [
    {
     "name": "stdout",
     "output_type": "stream",
     "text": [
      "Hello Python\n",
      "Hello World\n",
      "Hello Python\n",
      "Hello World\n"
     ]
    }
   ],
   "source": [
    "# 함수사용 = 함수호출\n",
    "my_hello(2)"
   ]
  },
  {
   "cell_type": "code",
   "execution_count": 6,
   "id": "5b73c090",
   "metadata": {},
   "outputs": [
    {
     "name": "stdout",
     "output_type": "stream",
     "text": [
      "Hello Python\n",
      "Hello World\n",
      "Hello Python\n",
      "Hello World\n"
     ]
    }
   ],
   "source": [
    "if __name__ == '__main__':\n",
    "    my_hello(2)"
   ]
  },
  {
   "cell_type": "code",
   "execution_count": 2,
   "id": "1c01d8b6",
   "metadata": {},
   "outputs": [],
   "source": [
    "import ch05 # ch05모듈을 load"
   ]
  },
  {
   "cell_type": "code",
   "execution_count": 3,
   "id": "e8b8644c",
   "metadata": {},
   "outputs": [
    {
     "name": "stdout",
     "output_type": "stream",
     "text": [
      "Hello Python\n",
      "Hello World\n",
      "Hello Python\n",
      "Hello World\n"
     ]
    }
   ],
   "source": [
    "ch05.my_hello(2)"
   ]
  },
  {
   "cell_type": "code",
   "execution_count": 4,
   "id": "8c73109d",
   "metadata": {},
   "outputs": [],
   "source": [
    "from ch05 import my_hello # ch05 모듈 안에 my_hello만 load"
   ]
  },
  {
   "cell_type": "code",
   "execution_count": 5,
   "id": "82f55e6b",
   "metadata": {},
   "outputs": [
    {
     "name": "stdout",
     "output_type": "stream",
     "text": [
      "Hello Python\n",
      "Hello World\n",
      "Hello Python\n",
      "Hello World\n"
     ]
    }
   ],
   "source": [
    "my_hello(2)"
   ]
  },
  {
   "cell_type": "markdown",
   "id": "d87e824c",
   "metadata": {},
   "source": [
    "## 1.2 docstring\n",
    "- 함수의 설명서 ex) print() ()사이에서 shift + tab, tab / 함수이름.__doc__ 로 docstring만 따로 볼 수 있음"
   ]
  },
  {
   "cell_type": "code",
   "execution_count": 7,
   "id": "14ae1598",
   "metadata": {},
   "outputs": [],
   "source": [
    "def my_function():\n",
    "    '''\n",
    "    함수의 첫라인에 독스트링을 포함할 수 있습니다\n",
    "    독스트링은 함수의 설명서를 달아주는 역할\n",
    "    주석보다 많은 기능(shift+tab으로 독스트링을 볼 수 있음)\n",
    "    '''\n",
    "    pass"
   ]
  },
  {
   "cell_type": "code",
   "execution_count": 10,
   "id": "ff6218df",
   "metadata": {},
   "outputs": [],
   "source": [
    "my_function() # shift + tab 으로 해당 함수의 docstring 보기"
   ]
  },
  {
   "cell_type": "code",
   "execution_count": 11,
   "id": "ece5ecb1",
   "metadata": {},
   "outputs": [
    {
     "name": "stdout",
     "output_type": "stream",
     "text": [
      "\n",
      "    함수의 첫라인에 독스트링을 포함할 수 있습니다\n",
      "    독스트링은 함수의 설명서를 달아주는 역할\n",
      "    주석보다 많은 기능(shift+tab으로 독스트링을 볼 수 있음)\n",
      "    \n"
     ]
    }
   ],
   "source": [
    "print(my_function.__doc__) # .__doc__ 명령어로 해당 함수의 docstring 보기"
   ]
  },
  {
   "cell_type": "code",
   "execution_count": 12,
   "id": "fa8e1ea0",
   "metadata": {},
   "outputs": [],
   "source": [
    "def fibonacci(n):\n",
    "    a, b = 0, 1\n",
    "    while a < n:\n",
    "        print(a, end=' ')\n",
    "        a, b = b, a + b\n",
    "    print() # 개행"
   ]
  },
  {
   "cell_type": "code",
   "execution_count": 16,
   "id": "45ae0564",
   "metadata": {},
   "outputs": [
    {
     "name": "stdout",
     "output_type": "stream",
     "text": [
      "0 1 1 2 3 5 8 \n"
     ]
    }
   ],
   "source": [
    "fibonacci(10) # 함수 안에 정의 되어 있는 변수는 호출이 불가함. ex ) a, b 호출시 오류"
   ]
  },
  {
   "cell_type": "markdown",
   "id": "0c36c469",
   "metadata": {},
   "source": [
    "## 1.3 지역변수(Local Variable)와 전역변수 (Global Variable)"
   ]
  },
  {
   "cell_type": "code",
   "execution_count": 18,
   "id": "5018c6e9",
   "metadata": {},
   "outputs": [
    {
     "name": "stdout",
     "output_type": "stream",
     "text": [
      "함수안 : 100\n",
      "함수밖 : 100\n"
     ]
    }
   ],
   "source": [
    "global_var = 100 # 전역변수\n",
    "def func1():\n",
    "    print('함수 안에서 실행 :', global_var)\n",
    "func1()\n",
    "print('함수 밖에서 실행 :', global_var)"
   ]
  },
  {
   "cell_type": "code",
   "execution_count": 21,
   "id": "517bf609",
   "metadata": {},
   "outputs": [
    {
     "name": "stdout",
     "output_type": "stream",
     "text": [
      "함수안 : 200\n"
     ]
    },
    {
     "ename": "NameError",
     "evalue": "name 'local_var' is not defined",
     "output_type": "error",
     "traceback": [
      "\u001b[1;31m-------------------------------------\u001b[0m",
      "\u001b[1;31mNameError\u001b[0mTraceback (most recent call last)",
      "Cell \u001b[1;32mIn[21], line 5\u001b[0m\n\u001b[0;32m      3\u001b[0m     \u001b[38;5;28mprint\u001b[39m(\u001b[38;5;124m'\u001b[39m\u001b[38;5;124m함수안 :\u001b[39m\u001b[38;5;124m'\u001b[39m, local_var)\n\u001b[0;32m      4\u001b[0m func2()\n\u001b[1;32m----> 5\u001b[0m \u001b[38;5;28mprint\u001b[39m(\u001b[38;5;124m'\u001b[39m\u001b[38;5;124m함수밖 :\u001b[39m\u001b[38;5;124m'\u001b[39m, \u001b[43mlocal_var\u001b[49m)\n",
      "\u001b[1;31mNameError\u001b[0m: name 'local_var' is not defined"
     ]
    }
   ],
   "source": [
    "def func2():\n",
    "    local_var = 200 # 지역변수\n",
    "    print('함수 안에서 실행 :', local_var)\n",
    "func2()\n",
    "print('함수 밖에서 실행 :', local_var)"
   ]
  },
  {
   "cell_type": "code",
   "execution_count": 24,
   "id": "3b3e1461",
   "metadata": {},
   "outputs": [
    {
     "name": "stdout",
     "output_type": "stream",
     "text": [
      "함수 안에서 실행(지역변수 g_var) : 200\n",
      "함수 밖에서 실행(전역변수 g_var) : 100\n"
     ]
    }
   ],
   "source": [
    "g_var = 100 # 전역변수\n",
    "def func3():\n",
    "    g_var = 200 # 지역변수 (변수 선언과 할당)\n",
    "    print('함수 안에서 실행(지역변수 g_var) :', g_var)\n",
    "func3()\n",
    "print('함수 밖에서 실행(전역변수 g_var) :', g_var)"
   ]
  },
  {
   "cell_type": "code",
   "execution_count": 25,
   "id": "e2f93bf5",
   "metadata": {},
   "outputs": [
    {
     "ename": "UnboundLocalError",
     "evalue": "local variable 'g_var' referenced before assignment",
     "output_type": "error",
     "traceback": [
      "\u001b[1;31m-------------------------------------\u001b[0m",
      "\u001b[1;31mUnboundLocalError\u001b[0mTraceback (most recent call last)",
      "Cell \u001b[1;32mIn[25], line 5\u001b[0m\n\u001b[0;32m      3\u001b[0m     \u001b[38;5;28mprint\u001b[39m(\u001b[38;5;124m'\u001b[39m\u001b[38;5;124m함수 안에서 g_var 실행 :\u001b[39m\u001b[38;5;124m'\u001b[39m, g_var)\n\u001b[0;32m      4\u001b[0m     g_var \u001b[38;5;241m=\u001b[39m \u001b[38;5;241m200\u001b[39m \u001b[38;5;66;03m# 지역변수\u001b[39;00m\n\u001b[1;32m----> 5\u001b[0m \u001b[43mfunc4\u001b[49m\u001b[43m(\u001b[49m\u001b[43m)\u001b[49m\n",
      "Cell \u001b[1;32mIn[25], line 3\u001b[0m, in \u001b[0;36mfunc4\u001b[1;34m()\u001b[0m\n\u001b[0;32m      2\u001b[0m \u001b[38;5;28;01mdef\u001b[39;00m \u001b[38;5;21mfunc4\u001b[39m():\n\u001b[1;32m----> 3\u001b[0m     \u001b[38;5;28mprint\u001b[39m(\u001b[38;5;124m'\u001b[39m\u001b[38;5;124m함수 안에서 g_var 실행 :\u001b[39m\u001b[38;5;124m'\u001b[39m, \u001b[43mg_var\u001b[49m)\n\u001b[0;32m      4\u001b[0m     g_var \u001b[38;5;241m=\u001b[39m \u001b[38;5;241m200\u001b[39m\n",
      "\u001b[1;31mUnboundLocalError\u001b[0m: local variable 'g_var' referenced before assignment"
     ]
    }
   ],
   "source": [
    "# 렉시컬 특성\n",
    "g_var = 100 # 전역변수\n",
    "def func4():\n",
    "    print('함수 안에서 g_var 실행 :', g_var)\n",
    "    g_var = 200 # 지역변수\n",
    "func4()"
   ]
  },
  {
   "cell_type": "code",
   "execution_count": 32,
   "id": "e18e17fc",
   "metadata": {},
   "outputs": [
    {
     "name": "stdout",
     "output_type": "stream",
     "text": [
      "함수 안에서 g_var 실행 : 100\n",
      "함수 밖에서 g_var 실행 : 200\n"
     ]
    }
   ],
   "source": [
    "# 렉시컬 특성 (Lexical 특성)\n",
    "g_var = 100 # 전역변수\n",
    "def func4():\n",
    "    global g_var # func4() 함수내의 g_var는 전역 변수를 쓴다\n",
    "    print('함수 안에서 g_var 실행 :', g_var)\n",
    "    g_var = 200 # 전역변수로 변한 이유는 global 명령어를 함수내에서 사용했기 때문\n",
    "func4()\n",
    "print('함수 밖에서 g_var 실행 :', g_var)"
   ]
  },
  {
   "cell_type": "markdown",
   "id": "a432b5f0",
   "metadata": {},
   "source": [
    "##  1.4 값에 의한 호출\n",
    "- 함수의 매개변수(인수,인자)로 전달되는 변수가 스칼라 변수(문자 숫자, 논리형)일 때 값이 전달된다"
   ]
  },
  {
   "cell_type": "code",
   "execution_count": 34,
   "id": "df0b004e",
   "metadata": {},
   "outputs": [
    {
     "data": {
      "text/plain": [
       "2825650988848"
      ]
     },
     "execution_count": 34,
     "metadata": {},
     "output_type": "execute_result"
    }
   ],
   "source": [
    "foo = 'a' # 전역변수\n",
    "id(foo) # 번짓수, 주소 확인"
   ]
  },
  {
   "cell_type": "code",
   "execution_count": 45,
   "id": "a547e814",
   "metadata": {},
   "outputs": [
    {
     "name": "stdout",
     "output_type": "stream",
     "text": [
      "Before : a  id(f) : 2825650988848\n",
      "After : aaa  id(f) : 2825771679536\n"
     ]
    }
   ],
   "source": [
    "def func1(f): # 매개변수 f는 지역변수\n",
    "    print('Before :', f, ' id(f) :', id(f))\n",
    "    f = f * 3\n",
    "    print('After :', f, ' id(f) :', id(f))\n",
    "func1(foo)"
   ]
  },
  {
   "cell_type": "code",
   "execution_count": 51,
   "id": "e73b02a8",
   "metadata": {},
   "outputs": [
    {
     "name": "stdout",
     "output_type": "stream",
     "text": [
      "a  id(foo) : 2825650988848\n"
     ]
    }
   ],
   "source": [
    "print(foo, ' id(foo) :', id(foo))"
   ]
  },
  {
   "cell_type": "markdown",
   "id": "d740b3e1",
   "metadata": {},
   "source": [
    "## 1.5 참조(주소)에 의한 호출\n",
    "- 함수의 매개변수(인수,인자)로 전달되는 변수가 리스트, 튜플, 셋, 딕셔너리 객체일 경우"
   ]
  },
  {
   "cell_type": "code",
   "execution_count": 37,
   "id": "2d42e9c8",
   "metadata": {},
   "outputs": [
    {
     "data": {
      "text/plain": [
       "2825723988672"
      ]
     },
     "execution_count": 37,
     "metadata": {},
     "output_type": "execute_result"
    }
   ],
   "source": [
    "L = [1, 2, 3]\n",
    "id(L) # 주소 호출"
   ]
  },
  {
   "cell_type": "code",
   "execution_count": 50,
   "id": "8e2749e9",
   "metadata": {},
   "outputs": [
    {
     "name": "stdout",
     "output_type": "stream",
     "text": [
      "Before : [1, 2, 3, 4, 4, 4, 4, 4, 4, 4]  id(f) : 2825723988672\n",
      "After : [1, 2, 3, 4, 4, 4, 4, 4, 4, 4, 4]  id(f) : 2825723988672\n"
     ]
    }
   ],
   "source": [
    "def func2(f): # 매개변수는 지역변수\n",
    "    print('Before :', f, ' id(f) :', id(f))\n",
    "    f.append(4)\n",
    "    print('After :', f, ' id(f) :', id(f))\n",
    "func2(L)"
   ]
  },
  {
   "cell_type": "code",
   "execution_count": 52,
   "id": "93311c82",
   "metadata": {},
   "outputs": [
    {
     "name": "stdout",
     "output_type": "stream",
     "text": [
      "L = [1, 2, 3, 4, 4, 4, 4, 4, 4, 4, 4]  id(L) : 2825723988672\n"
     ]
    }
   ],
   "source": [
    "print('L =',L, ' id(L) :', id(L))"
   ]
  },
  {
   "cell_type": "markdown",
   "id": "cd54345f",
   "metadata": {},
   "source": [
    "# 2절. 함수의 실행결과를 반환하는 return"
   ]
  },
  {
   "cell_type": "code",
   "execution_count": null,
   "id": "6490276a",
   "metadata": {},
   "outputs": [],
   "source": [
    "def add(x, y):\n",
    "    return x + y"
   ]
  },
  {
   "cell_type": "code",
   "execution_count": null,
   "id": "b780229a",
   "metadata": {},
   "outputs": [],
   "source": [
    "i = 2; j =3\n",
    "add(i, j)"
   ]
  },
  {
   "cell_type": "code",
   "execution_count": 55,
   "id": "e48c4245",
   "metadata": {},
   "outputs": [],
   "source": [
    "def fibonacci_print(n):\n",
    "    '''\n",
    "    매개변수로 들어온 n값 미만의 피보나치 수열을 출력\n",
    "    ex. n=10이면 0 1 1 2 3 5 8을 출력\n",
    "    '''\n",
    "    a, b = 0, 1\n",
    "    while a < n:\n",
    "        print(a, end=' ')\n",
    "        a, b = b, a + b\n",
    "    print() # 개행\n",
    "    \n",
    "def fibonacci_return(n):\n",
    "    '''\n",
    "    매개변수로 들어온 n값 미만의 피보나치 수열을 리스트로 return\n",
    "    ex. n=10이면 [0 1 1 2 3 5 8]을 return\n",
    "    '''\n",
    "    result = []\n",
    "    a, b = 0, 1\n",
    "    while a < n:\n",
    "        result.append(a)\n",
    "        a, b = b, a + b\n",
    "    return result # 반드시 return은 한 개의 값만 리턴할 수 있음"
   ]
  },
  {
   "cell_type": "code",
   "execution_count": 54,
   "id": "853853df",
   "metadata": {},
   "outputs": [
    {
     "name": "stdout",
     "output_type": "stream",
     "text": [
      "0 1 1 2 3 5 8 13 21 34 55 89 \n",
      "None\n"
     ]
    }
   ],
   "source": [
    "x = fibonacci_print(100)\n",
    "print(x)"
   ]
  },
  {
   "cell_type": "code",
   "execution_count": 58,
   "id": "79765136",
   "metadata": {},
   "outputs": [
    {
     "name": "stdout",
     "output_type": "stream",
     "text": [
      "[0, 1, 1, 2, 3, 5, 8, 13, 21, 34, 55, 89]\n",
      "<class 'list'>\n"
     ]
    }
   ],
   "source": [
    "x = fibonacci_return(100)\n",
    "print(x)\n",
    "print(type(x))"
   ]
  },
  {
   "cell_type": "markdown",
   "id": "a3e118d3",
   "metadata": {},
   "source": [
    "## 여러개 값 return"
   ]
  },
  {
   "cell_type": "code",
   "execution_count": 59,
   "id": "ff33708a",
   "metadata": {},
   "outputs": [],
   "source": [
    "def swap(a, b):\n",
    "    '매개변수의 순서를 바꿔서 return'\n",
    "    return b, a"
   ]
  },
  {
   "cell_type": "code",
   "execution_count": 60,
   "id": "7a18b6c1",
   "metadata": {},
   "outputs": [
    {
     "name": "stdout",
     "output_type": "stream",
     "text": [
      "함수 실행 전 x =5, y =10\n",
      "함수 실행 후 x =10, y =5\n"
     ]
    }
   ],
   "source": [
    "x, y = 5, 10\n",
    "print(f'함수 실행 전 x ={x}, y ={y}')\n",
    "x, y = swap(x, y)\n",
    "print(f'함수 실행 후 x ={x}, y ={y}')"
   ]
  },
  {
   "cell_type": "markdown",
   "id": "74c08c19",
   "metadata": {},
   "source": [
    "# 3절. 함수의 매개변수 ★\n",
    "## 3.1 기본값을 갖는 매개변수"
   ]
  },
  {
   "cell_type": "code",
   "execution_count": 63,
   "id": "94b96f57",
   "metadata": {},
   "outputs": [],
   "source": [
    "def make_url(ip, port=80): # 순서 인수 > 기본값을 갖는 매개변수 ex. (port=80, ip)로 적을 경우 사용시 (, url) 이런식으로 해야함\n",
    "    return \"http://{}:{}\".format(ip, port)"
   ]
  },
  {
   "cell_type": "code",
   "execution_count": 65,
   "id": "b1e452c2",
   "metadata": {},
   "outputs": [
    {
     "name": "stdout",
     "output_type": "stream",
     "text": [
      "http://www.naver.com:80\n",
      "http://localhost:8090\n",
      "http://localhost:8090\n"
     ]
    }
   ],
   "source": [
    "print(make_url('www.naver.com'))\n",
    "print(make_url('localhost', 8090))\n",
    "print(make_url(port=8090, ip='localhost'))"
   ]
  },
  {
   "cell_type": "markdown",
   "id": "813f5bb3",
   "metadata": {},
   "source": [
    "## 3.2 기본변수를 갖는 매개변수\n",
    "- 기본변수가 스칼라 변수일 때\n",
    "- 기본변수가 리스트, 셋, 딕셔너리 등의 객체일 때"
   ]
  },
  {
   "cell_type": "code",
   "execution_count": 4,
   "id": "bdf6ac4f",
   "metadata": {},
   "outputs": [],
   "source": [
    "i = 5\n",
    "# 기본값을 갖는 변수가 스칼라 변수일 때 : arg의 기본값은 함수가 정의되는 시점의 값\n",
    "def func2(arg=i):\n",
    "    print('arg = ', arg)"
   ]
  },
  {
   "cell_type": "code",
   "execution_count": 5,
   "id": "ef4a02a4",
   "metadata": {},
   "outputs": [
    {
     "name": "stdout",
     "output_type": "stream",
     "text": [
      "arg =  5\n"
     ]
    }
   ],
   "source": [
    "i = 50\n",
    "func2()"
   ]
  },
  {
   "cell_type": "code",
   "execution_count": 6,
   "id": "87444a48",
   "metadata": {},
   "outputs": [],
   "source": [
    "list_ = []\n",
    "# 기본값을 갖는 변수가 객체(데이터구조)일 때 : arg의 기본값은 실행되는 시점으로 바뀜\n",
    "def func3(data, L=list_):\n",
    "    'data를 L에 append'\n",
    "    L.append(data)\n",
    "    return L"
   ]
  },
  {
   "cell_type": "code",
   "execution_count": 7,
   "id": "03fdb897",
   "metadata": {},
   "outputs": [
    {
     "name": "stdout",
     "output_type": "stream",
     "text": [
      "[10]\n"
     ]
    }
   ],
   "source": [
    "print(func3(10)) # list_가 수정 : [10]"
   ]
  },
  {
   "cell_type": "code",
   "execution_count": 10,
   "id": "9c01f958",
   "metadata": {},
   "outputs": [
    {
     "data": {
      "text/plain": [
       "[10]"
      ]
     },
     "execution_count": 10,
     "metadata": {},
     "output_type": "execute_result"
    }
   ],
   "source": [
    "list_ # call by referance 참조에 의한 변경"
   ]
  },
  {
   "cell_type": "code",
   "execution_count": 9,
   "id": "8489b452",
   "metadata": {},
   "outputs": [
    {
     "name": "stdout",
     "output_type": "stream",
     "text": [
      "[10, 20]\n"
     ]
    }
   ],
   "source": [
    "print(func3(20, [10]))"
   ]
  },
  {
   "cell_type": "code",
   "execution_count": 11,
   "id": "6730f9c9",
   "metadata": {},
   "outputs": [],
   "source": [
    "def func4(data, L=None) :\n",
    "    if L == None :\n",
    "        L =[]\n",
    "    L.append(data)\n",
    "    return L"
   ]
  },
  {
   "cell_type": "code",
   "execution_count": 12,
   "id": "498786a1",
   "metadata": {},
   "outputs": [
    {
     "name": "stdout",
     "output_type": "stream",
     "text": [
      "[10]\n",
      "[10, 10]\n"
     ]
    }
   ],
   "source": [
    "print(func4(10))\n",
    "print(func4(10, list_))"
   ]
  },
  {
   "cell_type": "markdown",
   "id": "83e4f8cc",
   "metadata": {},
   "source": [
    "## 3.3 튜플 매개변수를 이용한 가변인수 설정"
   ]
  },
  {
   "cell_type": "code",
   "execution_count": null,
   "id": "9ba787da",
   "metadata": {},
   "outputs": [],
   "source": [
    "# 파이썬은 오버로딩(함수의 중복)을 지원하지 않음\n",
    "def add(a, b):\n",
    "    return a + b\n",
    "def add(a, b, c):\n",
    "    return a + b + c"
   ]
  },
  {
   "cell_type": "code",
   "execution_count": 18,
   "id": "94dcd35e",
   "metadata": {},
   "outputs": [],
   "source": [
    "# *args : 매개변수들을 하나의 튜플 변수 args로 전달받음\n",
    "def add(*args):\n",
    "    '전달받은 매개변수들의 합을 return'\n",
    "    result_tot = 0 # 누적변수\n",
    "    for data in args:\n",
    "        result_tot += data\n",
    "    return result_tot"
   ]
  },
  {
   "cell_type": "code",
   "execution_count": 20,
   "id": "5d449661",
   "metadata": {},
   "outputs": [
    {
     "name": "stdout",
     "output_type": "stream",
     "text": [
      "1\n",
      "3\n",
      "46\n"
     ]
    }
   ],
   "source": [
    "print(add(1))\n",
    "print(add(1,2))\n",
    "print(add(1,2,3,4,5,6,7,8,10))"
   ]
  },
  {
   "cell_type": "code",
   "execution_count": 21,
   "id": "b6193aef",
   "metadata": {},
   "outputs": [
    {
     "data": {
      "text/plain": [
       "'Python/Oracle/DL/ML'"
      ]
     },
     "execution_count": 21,
     "metadata": {},
     "output_type": "execute_result"
    }
   ],
   "source": [
    "subject = ('Python', 'Oracle', 'DL', 'ML')\n",
    "'/'.join(subject)"
   ]
  },
  {
   "cell_type": "code",
   "execution_count": 23,
   "id": "25abb911",
   "metadata": {},
   "outputs": [],
   "source": [
    "def concat(*subject, sep):\n",
    "    return sep.join(subject)"
   ]
  },
  {
   "cell_type": "code",
   "execution_count": 24,
   "id": "3ee75236",
   "metadata": {},
   "outputs": [
    {
     "data": {
      "text/plain": [
       "'Python/Oracle/DL/ML//'"
      ]
     },
     "execution_count": 24,
     "metadata": {},
     "output_type": "execute_result"
    }
   ],
   "source": [
    "concat('Python', 'Oracle', 'DL', 'ML', '/')"
   ]
  },
  {
   "cell_type": "code",
   "execution_count": null,
   "id": "87a7af5c",
   "metadata": {},
   "outputs": [],
   "source": [
    "# 해결책1 : 매개변수(파라미터) 이름을 지정해서 호출\n",
    "concat('Python', 'Oracle', 'DL', 'ML', sep='/')"
   ]
  },
  {
   "cell_type": "code",
   "execution_count": 27,
   "id": "7613b1c0",
   "metadata": {},
   "outputs": [],
   "source": [
    "# 해결책2 : 기본값을 반드시 갖는 키워드인수 사용 ex. concat(*subject, sep='')\n",
    "def concat(*subject, sep = '~'):\n",
    "    return sep.join(subject)"
   ]
  },
  {
   "cell_type": "code",
   "execution_count": 26,
   "id": "2fb5cb59",
   "metadata": {},
   "outputs": [
    {
     "data": {
      "text/plain": [
       "'Python~Oracle~DL~ML~/'"
      ]
     },
     "execution_count": 26,
     "metadata": {},
     "output_type": "execute_result"
    }
   ],
   "source": [
    "concat('Python', 'Oracle', 'DL', 'ML', '/')"
   ]
  },
  {
   "cell_type": "code",
   "execution_count": 30,
   "id": "34e4a84a",
   "metadata": {},
   "outputs": [],
   "source": [
    "#해결책3 : sep을 순서 인수로 앞에 선언\n",
    "def concat(sep, *subject):\n",
    "    return sep.join(subject)"
   ]
  },
  {
   "cell_type": "code",
   "execution_count": 31,
   "id": "0c19c7e9",
   "metadata": {},
   "outputs": [
    {
     "data": {
      "text/plain": [
       "'Python/Oracle/DL/ML'"
      ]
     },
     "execution_count": 31,
     "metadata": {},
     "output_type": "execute_result"
    }
   ],
   "source": [
    "concat('/', 'Python', 'Oracle', 'DL', 'ML')"
   ]
  },
  {
   "attachments": {
    "%ED%95%A8%EC%88%981.PNG": {
     "image/png": "[encoded data removed]"
    }
   },
   "cell_type": "markdown",
   "id": "98144d4f",
   "metadata": {},
   "source": [
    "## 3.4 딕셔너리 매개변수\n",
    "- 여러 개의 키워드 인수를 딕셔너리 형태로 받아서 가변키워드 인수로 처리\n",
    "- *subject : * 한개를 변수 앞에 * 하나를 붙힐 경우 들어오는 여러개의 값을 튜플로 받음 or 튜플 해제\n",
    "- `**`subject : ** 한개의 변수 앞에 ** 두개를 붙힐 경우 딕셔너리로 반환됨, or 딕셔너리해제\n",
    "![%ED%95%A8%EC%88%981.PNG](attachment:%ED%95%A8%EC%88%981.PNG)"
   ]
  },
  {
   "cell_type": "code",
   "execution_count": 39,
   "id": "871909fe",
   "metadata": {},
   "outputs": [],
   "source": [
    "def func5(**kwags):\n",
    "    print(kwags)\n",
    "    print(type(kwags))\n",
    "    print('이름 : ', kwags.get('name', '대마왕'))\n",
    "    print('나이 : ', kwags.get('age', 30))\n",
    "    print('주소 : ', kwags.get('adress', '서울'))"
   ]
  },
  {
   "cell_type": "code",
   "execution_count": 40,
   "id": "05d177f5",
   "metadata": {},
   "outputs": [
    {
     "name": "stdout",
     "output_type": "stream",
     "text": [
      "{'name': '홍길동', 'age': 30, 'adress': '신림동'}\n",
      "<class 'dict'>\n",
      "이름 :  홍길동\n",
      "나이 :  30\n",
      "주소 :  신림동\n"
     ]
    }
   ],
   "source": [
    "func5(name = '홍길동', age = 30, adress = '신림동')"
   ]
  },
  {
   "cell_type": "markdown",
   "id": "e6843a51",
   "metadata": {},
   "source": [
    "## 3.5 함수정의시 매개변수 순서\n",
    "- 순서인수 > 튜플매개변수(`*`) > 키워드인수(매개변수이름반드시명시) > 딕셔너리매개변수(`**`)"
   ]
  },
  {
   "cell_type": "code",
   "execution_count": 43,
   "id": "19a5bba3",
   "metadata": {},
   "outputs": [],
   "source": [
    "def func6(a, b, *c, **d):\n",
    "    print('순서인수 a :', a)\n",
    "    print('순서인수 b :', b)\n",
    "    print('튜플인수 c :', c)\n",
    "    print('딕셔너리 인수 d :', d)"
   ]
  },
  {
   "cell_type": "code",
   "execution_count": 44,
   "id": "7ba3c8ef",
   "metadata": {
    "scrolled": true
   },
   "outputs": [
    {
     "name": "stdout",
     "output_type": "stream",
     "text": [
      "순서인수 a : 10\n",
      "순서인수 b : 20\n",
      "튜플인수 c : (1, 2, 3, 4, 5, 6, 7, 8, 9)\n",
      "딕셔너리 인수 d : {'name': '홍길동', 'age': 30, 'address': '서울'}\n"
     ]
    }
   ],
   "source": [
    "func6(10, 20, 1, 2, 3, 4, 5, 6, 7, 8, 9, name='홍길동', age=30, address='서울')"
   ]
  },
  {
   "cell_type": "code",
   "execution_count": 45,
   "id": "a1499b6f",
   "metadata": {},
   "outputs": [],
   "source": [
    "def func7(a, b, *c, d='기본값', **e):\n",
    "    print('순서인수 a :', a)\n",
    "    print('순서인수 b :', b)\n",
    "    print('튜플인수 c :', c)\n",
    "    print('키워드인수(기본값을 갖는 인수, 호출시 매개변수명 반드시 명시) d :', d)\n",
    "    print('딕셔너리인수 e :', e)"
   ]
  },
  {
   "cell_type": "code",
   "execution_count": 46,
   "id": "67cf72c3",
   "metadata": {},
   "outputs": [
    {
     "name": "stdout",
     "output_type": "stream",
     "text": [
      "순서인수 a : 10\n",
      "순서인수 b : 20\n",
      "튜플인수 c : (1, 2, 3)\n",
      "키워드인수(기본값을 갖는 인수, 호출시 매개변수명 반드시 명시) d : 다른 것\n",
      "딕셔너리인수 e : {'fontsize': 12, 'fontfamily': 'consola'}\n"
     ]
    }
   ],
   "source": [
    "func7(10, 20, 1, 2, 3, d='다른 것', fontsize=12, fontfamily='consola')"
   ]
  },
  {
   "cell_type": "code",
   "execution_count": 47,
   "id": "35c7106c",
   "metadata": {
    "scrolled": true
   },
   "outputs": [
    {
     "name": "stdout",
     "output_type": "stream",
     "text": [
      "순서인수 a : 10\n",
      "순서인수 b : 20\n",
      "튜플인수 c : (1, 2, 3, '다른 것')\n",
      "키워드인수(기본값을 갖는 인수, 호출시 매개변수명 반드시 명시) d : 기본값\n",
      "딕셔너리인수 e : {'fontsize': 12, 'fontfamily': 'consola'}\n"
     ]
    }
   ],
   "source": [
    "func7(10, 20, 1, 2, 3, '다른 것', fontsize=12, fontfamily='consola')"
   ]
  },
  {
   "cell_type": "markdown",
   "id": "a246dee2",
   "metadata": {},
   "source": [
    "## 3.6 인수(매개변수)의 언패킹\n",
    "### 튜플인수 언패킹\n",
    "- 튜플,리스트 언패킹 : 함수 호출시 매개변수 앞에 `*` 붙힘\n",
    "- 튜플,리스트 패킹 : 함수 정의시 매개변수 앞에 `*` 붙힘"
   ]
  },
  {
   "cell_type": "code",
   "execution_count": 55,
   "id": "c1eeb89b",
   "metadata": {},
   "outputs": [],
   "source": [
    "def add(*args):\n",
    "    print(args)\n",
    "    tot = 0\n",
    "    for num in args:\n",
    "        tot += num\n",
    "    return tot"
   ]
  },
  {
   "cell_type": "code",
   "execution_count": 51,
   "id": "52d71279",
   "metadata": {},
   "outputs": [
    {
     "data": {
      "text/plain": [
       "10"
      ]
     },
     "execution_count": 51,
     "metadata": {},
     "output_type": "execute_result"
    }
   ],
   "source": [
    "add(1, 2, 3, 4)"
   ]
  },
  {
   "cell_type": "code",
   "execution_count": 53,
   "id": "25a48ec5",
   "metadata": {},
   "outputs": [
    {
     "data": {
      "text/plain": [
       "10"
      ]
     },
     "execution_count": 53,
     "metadata": {},
     "output_type": "execute_result"
    }
   ],
   "source": [
    "numbers = [1, 2, 3, 4]\n",
    "add(*numbers) # 언패킹"
   ]
  },
  {
   "cell_type": "code",
   "execution_count": 54,
   "id": "54cf50ce",
   "metadata": {},
   "outputs": [
    {
     "data": {
      "text/plain": [
       "10"
      ]
     },
     "execution_count": 54,
     "metadata": {},
     "output_type": "execute_result"
    }
   ],
   "source": [
    "numbers = (1, 2, 3, 4)\n",
    "add(*numbers) # 언패킹"
   ]
  },
  {
   "cell_type": "markdown",
   "id": "8be50d25",
   "metadata": {},
   "source": [
    "### 딕셔너리인수 언패킹\n",
    "- 딕셔너리 언패킹 : 함수 호출시 매개변수 앞에 `**` 붙힘\n",
    "- 딕셔너리 패킹 : 함수 정의시 매개변수 앞에 `**` 붙힘"
   ]
  },
  {
   "cell_type": "code",
   "execution_count": 56,
   "id": "ace5f1ea",
   "metadata": {},
   "outputs": [],
   "source": [
    "def func5(**data):\n",
    "    print(type(data))\n",
    "    for key, item in data.items():\n",
    "        print(f'{key}:{item}')"
   ]
  },
  {
   "cell_type": "code",
   "execution_count": 57,
   "id": "334dcb4d",
   "metadata": {},
   "outputs": [
    {
     "name": "stdout",
     "output_type": "stream",
     "text": [
      "<class 'dict'>\n",
      "name:홍길동\n",
      "age:30\n",
      "address:신림\n"
     ]
    }
   ],
   "source": [
    "func5(name = '홍길동', age = 30, address = '신림')"
   ]
  },
  {
   "cell_type": "code",
   "execution_count": 60,
   "id": "7fe8388e",
   "metadata": {},
   "outputs": [
    {
     "name": "stdout",
     "output_type": "stream",
     "text": [
      "<class 'dict'>\n",
      "name:홍길동\n",
      "age:30\n",
      "address:서울시 강남구\n",
      "score:900\n"
     ]
    }
   ],
   "source": [
    "customInfo = {'name':'홍길동', 'age':30, 'address':'서울시 강남구', 'score':900}\n",
    "func5(**customInfo)"
   ]
  },
  {
   "cell_type": "markdown",
   "id": "156a64fd",
   "metadata": {},
   "source": [
    "# 4절. 람다식\n",
    "- return 한줄짜리 작은 익명함수\n",
    "## 4.1 람다식 연습"
   ]
  },
  {
   "cell_type": "code",
   "execution_count": 61,
   "id": "96f2f431",
   "metadata": {},
   "outputs": [
    {
     "data": {
      "text/plain": [
       "7"
      ]
     },
     "execution_count": 61,
     "metadata": {},
     "output_type": "execute_result"
    }
   ],
   "source": [
    "def add(a, b):\n",
    "    return a+b\n",
    "add(3, 4)"
   ]
  },
  {
   "cell_type": "code",
   "execution_count": 63,
   "id": "562ae9cb",
   "metadata": {},
   "outputs": [
    {
     "data": {
      "text/plain": [
       "3"
      ]
     },
     "execution_count": 63,
     "metadata": {},
     "output_type": "execute_result"
    }
   ],
   "source": [
    "add2 = lambda a, b : a + b\n",
    "add2(1, 2)"
   ]
  },
  {
   "cell_type": "code",
   "execution_count": 64,
   "id": "45814327",
   "metadata": {},
   "outputs": [
    {
     "data": {
      "text/plain": [
       "(function, function)"
      ]
     },
     "execution_count": 64,
     "metadata": {},
     "output_type": "execute_result"
    }
   ],
   "source": [
    "type(add), type(add2)"
   ]
  },
  {
   "cell_type": "code",
   "execution_count": 66,
   "id": "c5fd59b4",
   "metadata": {},
   "outputs": [
    {
     "data": {
      "text/plain": [
       "7"
      ]
     },
     "execution_count": 66,
     "metadata": {},
     "output_type": "execute_result"
    }
   ],
   "source": [
    "(lambda a, b : a + b)(3, 4) # 람다는 괄호로 묶어준 후 뒤에 변수 값을 대입하면 됨"
   ]
  },
  {
   "cell_type": "code",
   "execution_count": 2,
   "id": "da34f72d",
   "metadata": {},
   "outputs": [
    {
     "data": {
      "text/plain": [
       "('짝수', '홀수')"
      ]
     },
     "execution_count": 2,
     "metadata": {},
     "output_type": "execute_result"
    }
   ],
   "source": [
    "# ex1. 매개변수로 들어온 값이 짝수인지 홀수인지 return\n",
    "#def ex1(num):\n",
    "#    if num % 2 :\n",
    "#        result = \"홀수\"\n",
    "#    else:\n",
    "#        result = \"짝수\"\n",
    "#    return result\n",
    "#result = \"홀수\" if num%2 else \"짝수\"\n",
    "#return \"홀수\" if num%2 else \"짝수\"\n",
    "\n",
    "ex1 = lambda num : \"홀수\" if num%2 else \"짝수\"\n",
    "ex1(10), ex1(-9)"
   ]
  },
  {
   "cell_type": "code",
   "execution_count": 5,
   "id": "1f8937e9",
   "metadata": {},
   "outputs": [
    {
     "data": {
      "text/plain": [
       "1"
      ]
     },
     "execution_count": 5,
     "metadata": {},
     "output_type": "execute_result"
    }
   ],
   "source": [
    "# ex2. 두 매개변수의 차이를 return\n",
    "ex2 = lambda a, b: a-b if a > b else b-a\n",
    "ex2(3, 2)"
   ]
  },
  {
   "cell_type": "code",
   "execution_count": 10,
   "id": "9a21fb0b",
   "metadata": {},
   "outputs": [
    {
     "name": "stdout",
     "output_type": "stream",
     "text": [
      "1 10\n",
      "<class 'function'>\n"
     ]
    }
   ],
   "source": [
    "ex2 = lambda a, b : a-b if a>b else b-a\n",
    "print(ex2(2, 1), ex2(10,20))\n",
    "print(type(ex2))\n",
    "# def diff(a, b):\n",
    "# #     if a>b:\n",
    "# #         result = a-b\n",
    "# #     else:\n",
    "# #         result = b-a\n",
    "#      result = a-b if a>b else b-a\n",
    "#      return result\n",
    "# diff(2,1), diff(10, 20)"
   ]
  },
  {
   "cell_type": "code",
   "execution_count": 11,
   "id": "31784ac4",
   "metadata": {},
   "outputs": [
    {
     "data": {
      "text/plain": [
       "(1, 'negative')"
      ]
     },
     "execution_count": 11,
     "metadata": {},
     "output_type": "execute_result"
    }
   ],
   "source": [
    "# ex3. 매개변수로 잔액을 받아 양수면 잔액을 return, 음수면 'negative'를 return\n",
    "ex3 = lambda money : money if money >= 0 else 'negative'\n",
    "ex3(1), ex3(-1)"
   ]
  },
  {
   "cell_type": "code",
   "execution_count": 21,
   "id": "72942457",
   "metadata": {
    "scrolled": true
   },
   "outputs": [
    {
     "data": {
      "text/plain": [
       "('유효하지않음', 'A팀', 'B팀', '재시험')"
      ]
     },
     "execution_count": 21,
     "metadata": {},
     "output_type": "execute_result"
    }
   ],
   "source": [
    "# ex4. 점수를 입력받아 점수가 80점이상은 A팀, 60점이상은 B팀, 60점미만은 재시험, 그 외는 유효하지 않음\n",
    "\n",
    "ex4 = lambda score : \"A팀\" if 80<=score<=100 else \\\n",
    "                        \"B팀\" if 60<=score<80 else \\\n",
    "                        \"재시험\" if 0<=score<60 else \\\n",
    "                        \"유효하지않음\"\n",
    "\n",
    "ex4(120), ex4(90), ex4(70), ex4(50)"
   ]
  },
  {
   "cell_type": "code",
   "execution_count": 4,
   "id": "b82dcbaf",
   "metadata": {},
   "outputs": [
    {
     "data": {
      "text/plain": [
       "(-1, 2)"
      ]
     },
     "execution_count": 4,
     "metadata": {},
     "output_type": "execute_result"
    }
   ],
   "source": [
    "# ex5. safe_index를 람다식으로 변환하여 작성\n",
    "ex5 = lambda vector, data : vector.index(data) if data in vector else -1\n",
    "ex5([1,2,3], 0), ex5([1,2,3], 3)"
   ]
  },
  {
   "cell_type": "code",
   "execution_count": null,
   "id": "1f418f78",
   "metadata": {},
   "outputs": [],
   "source": [
    "def safe_index(vector, data):\n",
    "    if data in vector: #lst 안에 data가 있으면 True, 없으면 False\n",
    "        return vector.index(data) # 리스트 안에 data가 몇번째 인덱스인지 반환\n",
    "    else:\n",
    "        return -1 # 없으면 -1을 반환"
   ]
  },
  {
   "cell_type": "markdown",
   "id": "4b0b7d62",
   "metadata": {},
   "source": [
    "## 4.2 함수의 매개변수에 람다식 이용\n",
    "\n",
    "### (1) map"
   ]
  },
  {
   "cell_type": "code",
   "execution_count": 5,
   "id": "f40cdddd",
   "metadata": {},
   "outputs": [],
   "source": [
    "def map_template(func, L=[]):\n",
    "    '''\n",
    "    L의 모든 요소를 func()함수를 적용시켜 return\n",
    "    [func(l) for l in L ]\n",
    "    '''\n",
    "    result = [] #리턴할 변수\n",
    "    for l in L:\n",
    "        result.append(func(l))\n",
    "    return result\n",
    "#     result = [func(l) for l in L]\n",
    "#     return func(l) for l in L"
   ]
  },
  {
   "cell_type": "code",
   "execution_count": 6,
   "id": "30baca5e",
   "metadata": {},
   "outputs": [
    {
     "data": {
      "text/plain": [
       "[2, 4, 6, 8, 10, 12, 14, 16, 18, 20]"
      ]
     },
     "execution_count": 6,
     "metadata": {},
     "output_type": "execute_result"
    }
   ],
   "source": [
    "list_data = [1, 2, 3, 4, 5, 6, 7, 8, 9, 10]\n",
    "def x_2(x):\n",
    "    return x*2\n",
    "map_template(x_2, list_data)"
   ]
  },
  {
   "cell_type": "code",
   "execution_count": 7,
   "id": "0402602e",
   "metadata": {},
   "outputs": [
    {
     "data": {
      "text/plain": [
       "[2, 4, 6, 8, 10, 12, 14, 16, 18, 20]"
      ]
     },
     "execution_count": 7,
     "metadata": {},
     "output_type": "execute_result"
    }
   ],
   "source": [
    "# 리스트(튜플)등 벡터데이터를 가공하는 방법 1. map\n",
    "list_data = [1, 2, 3, 4, 5, 6, 7, 8, 9, 10]\n",
    "map_template(lambda x : x*2, list_data)"
   ]
  },
  {
   "cell_type": "code",
   "execution_count": 8,
   "id": "ad37cb25",
   "metadata": {},
   "outputs": [
    {
     "data": {
      "text/plain": [
       "[2, 4, 6, 8, 10, 12, 14, 16, 18, 20]"
      ]
     },
     "execution_count": 8,
     "metadata": {},
     "output_type": "execute_result"
    }
   ],
   "source": [
    "# 리스트 데이터 가공 방법 : 2. 리스트 컴프리핸션\n",
    "list_data = [1, 2, 3, 4, 5, 6, 7, 8, 9, 10]\n",
    "[l*2 for l in list_data]"
   ]
  },
  {
   "cell_type": "code",
   "execution_count": null,
   "id": "3a49d141",
   "metadata": {},
   "outputs": [],
   "source": [
    "# 리스트 데이터 가공 방법 : 3. map() : 파이썬 내장함수\n",
    "list_data = [1, 2, 3, 4, 5, 6, 7, 8, 9, 10]\n",
    "list(map(lambda x : x*2, list_data))"
   ]
  },
  {
   "cell_type": "code",
   "execution_count": 9,
   "id": "f552fa4f",
   "metadata": {},
   "outputs": [
    {
     "name": "stdout",
     "output_type": "stream",
     "text": [
      "2 4 6 8 10 12 14 16 18 20 "
     ]
    }
   ],
   "source": [
    "for item in map(lambda x : x*2, list_data):\n",
    "    print(item, end=' ')"
   ]
  },
  {
   "cell_type": "code",
   "execution_count": 13,
   "id": "f1984f4b",
   "metadata": {},
   "outputs": [
    {
     "name": "stdout",
     "output_type": "stream",
     "text": [
      "[5000, 800, 1000, 6000]\n"
     ]
    }
   ],
   "source": [
    "'''\n",
    "예제 1. 결과값 = [5000, 800, 1000, 6000]으로 바꾸시오\n",
    "'''\n",
    "prices = ['5,000', '800', '1000', '6,000']\n",
    "result = list(map(lambda x : int(x.replace(',', '')), prices))\n",
    "\n",
    "print(result)"
   ]
  },
  {
   "cell_type": "code",
   "execution_count": 15,
   "id": "648274ca",
   "metadata": {},
   "outputs": [
    {
     "data": {
      "text/plain": [
       "(5000, 1800)"
      ]
     },
     "execution_count": 15,
     "metadata": {},
     "output_type": "execute_result"
    }
   ],
   "source": [
    "def func(x):\n",
    "    return int(x.replace(',',''))\n",
    "func(\"5,000\"), func(\"1800\")"
   ]
  },
  {
   "cell_type": "code",
   "execution_count": 16,
   "id": "e41a33cf",
   "metadata": {},
   "outputs": [
    {
     "data": {
      "text/plain": [
       "[5000, 800, 1000, 6000]"
      ]
     },
     "execution_count": 16,
     "metadata": {},
     "output_type": "execute_result"
    }
   ],
   "source": [
    "list(map(lambda x : int(x.replace(',','')), prices))"
   ]
  },
  {
   "cell_type": "code",
   "execution_count": 11,
   "id": "eed02234",
   "metadata": {},
   "outputs": [
    {
     "name": "stdout",
     "output_type": "stream",
     "text": [
      "[{'name': '홍길동', 'year': 2000, 'month': 1, 'day': 1}, {'name': '신길동', 'year': 1998, 'month': 12, 'day': 31}]\n"
     ]
    }
   ],
   "source": [
    "'''\n",
    "예제 2. member1 = [{'name':'홍길동', 'birth':'2000-01-01'},\n",
    "                   {'name':'신길동', 'birth':'1998-12-31'},] 를\n",
    "        member2 = [{'name':'홍길동', 'year':2000, 'month':1, 'day':1},\n",
    "                   {'name':'신길동', 'year':1998, 'month':12, 'day':31},] 를 바꿉니다\n",
    "'''\n",
    "member1 = [{'name':'홍길동', 'birth':'2000-01-01'},\n",
    "           {'name':'신길동', 'birth':'1998-12-31'}]\n",
    "\n",
    "# 리스트 내 각 딕셔너리에서 birth 값을 분리하여 새 딕셔너리로 변환\n",
    "member2 = list(map(lambda m: {\n",
    "                    'name': m['name'],\n",
    "                    'year': int(m['birth'].split('-')[0]),\n",
    "                    'month': int(m['birth'].split('-')[1]),\n",
    "                    'day': int(m['birth'].split('-')[2])\n",
    "                }, member1))\n",
    "\n",
    "print(member2)"
   ]
  },
  {
   "cell_type": "code",
   "execution_count": 17,
   "id": "9e576e53",
   "metadata": {},
   "outputs": [],
   "source": [
    "# '2000-01-01' => {'year':1998, 'month':12, 'day':31}\n",
    "def split_date(date):\n",
    "    split_data = date.split('-')\n",
    "#     print(split_data[0], split_data[1], split_data[2])\n",
    "    return {'year': int(split_data[0]),\n",
    "           'month': int(split_data[1]),\n",
    "           'day'  : int(split_data[2])\n",
    "           }"
   ]
  },
  {
   "cell_type": "code",
   "execution_count": 18,
   "id": "66e58259",
   "metadata": {},
   "outputs": [
    {
     "data": {
      "text/plain": [
       "{'year': 2000, 'month': 1, 'day': 1}"
      ]
     },
     "execution_count": 18,
     "metadata": {},
     "output_type": "execute_result"
    }
   ],
   "source": [
    "split_date(\"2000-01-01\")"
   ]
  },
  {
   "cell_type": "code",
   "execution_count": 19,
   "id": "77e9aaca",
   "metadata": {},
   "outputs": [
    {
     "data": {
      "text/plain": [
       "{'name': '홍길동', 'year': 2000, 'month': 1, 'day': 1}"
      ]
     },
     "execution_count": 19,
     "metadata": {},
     "output_type": "execute_result"
    }
   ],
   "source": [
    "def member_func(member): # {'name':'홍길동', 'birth':'2000-01-01'}\n",
    "    \"{'name':'신길동', 'year':1998, 'month':12, 'day':31}식으로 return\"\n",
    "    return {\n",
    "        'name':member.get('name'),\n",
    "        'year':int(member['birth'].split('-')[0]),\n",
    "        'month':int(member['birth'].split('-')[1]),\n",
    "        'day':int(member['birth'].split('-')[2]),\n",
    "    }\n",
    "member_func(member1[0])"
   ]
  },
  {
   "cell_type": "code",
   "execution_count": 26,
   "id": "5fe708b1",
   "metadata": {},
   "outputs": [
    {
     "data": {
      "text/plain": [
       "[{'name': '홍길동', 'year': 2000, 'month': 1, 'day': 1},\n",
       " {'name': '신길동', 'year': 1998, 'month': 12, 'day': 31}]"
      ]
     },
     "execution_count": 26,
     "metadata": {},
     "output_type": "execute_result"
    }
   ],
   "source": [
    "member2 =list(map(lambda member : {\n",
    "                        'name':member.get('name'),\n",
    "                        'year':int(member['birth'].split('-')[0]),\n",
    "                        'month':int(member['birth'].split('-')[1]),\n",
    "                        'day':int(member['birth'].split('-')[2]),\n",
    "                        } ,\n",
    "         member1\n",
    "        )\n",
    "    )\n",
    "member2"
   ]
  },
  {
   "cell_type": "code",
   "execution_count": 27,
   "id": "0e6cf979",
   "metadata": {},
   "outputs": [
    {
     "name": "stdout",
     "output_type": "stream",
     "text": [
      "[{'name': '홍길동', 'birth': '2000-01-01'}, {'name': '신길동', 'birth': '1998-12-31'}]\n"
     ]
    }
   ],
   "source": [
    "'예제 3. member2를 member1로 바꿉니다'\n",
    "member2 = [{'name':'홍길동', 'year':2000, 'month':1, 'day':1},\n",
    "           {'name':'신길동', 'year':1998, 'month':12, 'day':31}]\n",
    "\n",
    "# member2의 각 딕셔너리에서 year, month, day를 결합하여 birth 형식으로 변경\n",
    "member1 = list(map(lambda m: {\n",
    "                    'name': m['name'],\n",
    "                    'birth': f\"{m['year']}-{m['month']:02d}-{m['day']:02d}\"\n",
    "                }, member2))\n",
    "\n",
    "print(member1)"
   ]
  },
  {
   "cell_type": "code",
   "execution_count": 43,
   "id": "6bbb9d28",
   "metadata": {},
   "outputs": [],
   "source": [
    "# {'year': 2000, 'month': 1, 'day': 1} => \"2000-01-01\"를 return하는 함수\n",
    "def join_date(data):\n",
    "    # print([data.get('year'), data.get('month'), data.get('day')])\n",
    "    year = str(data.get('year'))\n",
    "    month = data.get('month')\n",
    "    if month < 10:\n",
    "        month = '0'+str(month)\n",
    "    else:\n",
    "        month = str(month)\n",
    "    day = data.get('day')\n",
    "    if day < 10:\n",
    "        day = '0'+str(day)\n",
    "    else:\n",
    "        day = str(day)\n",
    "    return '-'.join([year, month, day])"
   ]
  },
  {
   "cell_type": "code",
   "execution_count": 44,
   "id": "b78516cf",
   "metadata": {},
   "outputs": [],
   "source": [
    "def join_date(data):\n",
    "    print(\"{}-{:02}-{:02}\".format(data.get('year'), \n",
    "                                  data.get('month'), \n",
    "                                  data.get('day')))"
   ]
  },
  {
   "cell_type": "code",
   "execution_count": 48,
   "id": "2482b268",
   "metadata": {},
   "outputs": [],
   "source": [
    "def join_date(data):\n",
    "    print(\"{year}-{month:02}-{day:02}\".format(\n",
    "                                  year = data.get('year'), \n",
    "                                  month=data.get('month'), \n",
    "                                  day=data.get('day')))"
   ]
  },
  {
   "cell_type": "code",
   "execution_count": 49,
   "id": "9bb72322",
   "metadata": {},
   "outputs": [],
   "source": [
    "def join_date(data):\n",
    "    return \"{year}-{month:02}-{day:02}\".format(**data)"
   ]
  },
  {
   "cell_type": "code",
   "execution_count": 50,
   "id": "a5128856",
   "metadata": {},
   "outputs": [
    {
     "data": {
      "text/plain": [
       "'2000-01-01'"
      ]
     },
     "execution_count": 50,
     "metadata": {},
     "output_type": "execute_result"
    }
   ],
   "source": [
    "join_date({'year': 2000, 'month': 1, 'day': 1})"
   ]
  },
  {
   "cell_type": "code",
   "execution_count": 51,
   "id": "6c232387",
   "metadata": {},
   "outputs": [
    {
     "data": {
      "text/plain": [
       "[{'name': '홍길동', 'year': 2000, 'month': 1, 'day': 1},\n",
       " {'name': '신길동', 'year': 1998, 'month': 12, 'day': 31}]"
      ]
     },
     "execution_count": 51,
     "metadata": {},
     "output_type": "execute_result"
    }
   ],
   "source": [
    "member2"
   ]
  },
  {
   "cell_type": "code",
   "execution_count": 53,
   "id": "896e1b07",
   "metadata": {},
   "outputs": [
    {
     "data": {
      "text/plain": [
       "[{'name': '홍길동', 'birth': '2000-01-01'},\n",
       " {'name': '신길동', 'birth': '1998-12-31'}]"
      ]
     },
     "execution_count": 53,
     "metadata": {},
     "output_type": "execute_result"
    }
   ],
   "source": [
    "# {'name':'홍길동', 'year':2000, 'month':1, 'day':1}(member2)를 \n",
    "# {'name':'홍길동', 'birth':'2000-01-01'}으로 가공\n",
    "list(map(lambda member : {\n",
    "                        'name' : member.get('name'),\n",
    "                        'birth': \"{year}-{month:02}-{day:02}\".format(**member)\n",
    "                        },\n",
    "    member2\n",
    "))"
   ]
  },
  {
   "cell_type": "markdown",
   "id": "59007a3f",
   "metadata": {},
   "source": [
    "### (2) filter \n",
    "- map처리 : [1,2,3,4,5] => [2,4,6,8,10] (벡터의 모든 데이터를 가공)\n",
    "- filter : [1,2,3,4,5] => [2,4] (원하는 정보를 추출)\n",
    "* cf. 리스트 컴프리헨션 "
   ]
  },
  {
   "cell_type": "code",
   "execution_count": 54,
   "id": "71ded202",
   "metadata": {},
   "outputs": [],
   "source": [
    "# [1, 2, 3, 4, 5] =>\n",
    "def filter_template(func, L=[]):\n",
    "    result = []\n",
    "    for l in L:\n",
    "        if func(l):\n",
    "            result.append(l)\n",
    "    return result"
   ]
  },
  {
   "cell_type": "code",
   "execution_count": 55,
   "id": "051309de",
   "metadata": {},
   "outputs": [
    {
     "data": {
      "text/plain": [
       "(True, False)"
      ]
     },
     "execution_count": 55,
     "metadata": {},
     "output_type": "execute_result"
    }
   ],
   "source": [
    "def evenChk(value):\n",
    "    return value%2 == 0\n",
    "evenChk(10), evenChk(-9)\n",
    "#     if value%2:\n",
    "#         return False\n",
    "#     else:\n",
    "#         return True"
   ]
  },
  {
   "cell_type": "code",
   "execution_count": 57,
   "id": "b242a38f",
   "metadata": {},
   "outputs": [
    {
     "data": {
      "text/plain": [
       "[2, 4]"
      ]
     },
     "execution_count": 57,
     "metadata": {},
     "output_type": "execute_result"
    }
   ],
   "source": [
    "list_data = [1, 2, 3, 4, 5]\n",
    "filter_template(lambda value : value%2==0, list_data)"
   ]
  },
  {
   "cell_type": "code",
   "execution_count": 59,
   "id": "38e8de81",
   "metadata": {},
   "outputs": [
    {
     "data": {
      "text/plain": [
       "[2, 4]"
      ]
     },
     "execution_count": 59,
     "metadata": {},
     "output_type": "execute_result"
    }
   ],
   "source": [
    "list(filter(lambda value : value%2 == 0, list_data))"
   ]
  },
  {
   "cell_type": "code",
   "execution_count": 60,
   "id": "4a8aa129",
   "metadata": {},
   "outputs": [
    {
     "data": {
      "text/plain": [
       "[2, 4]"
      ]
     },
     "execution_count": 60,
     "metadata": {},
     "output_type": "execute_result"
    }
   ],
   "source": [
    "[data for data in list_data if data%2 == 0]"
   ]
  },
  {
   "cell_type": "markdown",
   "id": "04faeb2b",
   "metadata": {},
   "source": [
    "###  (3) sort"
   ]
  },
  {
   "cell_type": "code",
   "execution_count": 62,
   "id": "02ee94ad",
   "metadata": {},
   "outputs": [
    {
     "data": {
      "text/plain": [
       "[9, 7, 2]"
      ]
     },
     "execution_count": 62,
     "metadata": {},
     "output_type": "execute_result"
    }
   ],
   "source": [
    "p = [9, 2, 7]\n",
    "p.sort(reverse=True)\n",
    "p"
   ]
  },
  {
   "cell_type": "code",
   "execution_count": 66,
   "id": "79c71dfe",
   "metadata": {},
   "outputs": [
    {
     "data": {
      "text/plain": [
       "[(1, 'one'), (2, 'two'), (3, 'three'), (4, 'four')]"
      ]
     },
     "execution_count": 66,
     "metadata": {},
     "output_type": "execute_result"
    }
   ],
   "source": [
    "# 무조건 0번째 item 기준으로 정렬\n",
    "pairs = [(2, 'two'), (1, 'one'), (4, 'four'), (3, 'three')]\n",
    "pairs.sort()\n",
    "pairs"
   ]
  },
  {
   "cell_type": "code",
   "execution_count": 67,
   "id": "4784250a",
   "metadata": {},
   "outputs": [
    {
     "data": {
      "text/plain": [
       "[(4, 'four'), (1, 'one'), (3, 'three'), (2, 'two')]"
      ]
     },
     "execution_count": 67,
     "metadata": {},
     "output_type": "execute_result"
    }
   ],
   "source": [
    "# 1번째 item 기준으로 정렬(abc순)\n",
    "pairs.sort(key=lambda pair : pair[1])\n",
    "pairs"
   ]
  },
  {
   "cell_type": "code",
   "execution_count": 65,
   "id": "6cc322c9",
   "metadata": {},
   "outputs": [
    {
     "data": {
      "text/plain": [
       "[[10, 1], [9, 9, 9, 9, 9], [1, 100]]"
      ]
     },
     "execution_count": 65,
     "metadata": {},
     "output_type": "execute_result"
    }
   ],
   "source": [
    "# 무조건 0번째 item 기준으로 정렬\n",
    "number2d = [[9, 9, 9, 9, 9],\n",
    "            [1, 100],\n",
    "            [10, 1],]\n",
    "number2d.sort(reverse=True)\n",
    "number2d"
   ]
  },
  {
   "cell_type": "code",
   "execution_count": 69,
   "id": "b4ab44e6",
   "metadata": {},
   "outputs": [
    {
     "data": {
      "text/plain": [
       "6"
      ]
     },
     "execution_count": 69,
     "metadata": {},
     "output_type": "execute_result"
    }
   ],
   "source": [
    "# 리스트를 매개변수로 받아 합을 return\n",
    "(lambda item : sum(item))([1,2,3])"
   ]
  },
  {
   "cell_type": "code",
   "execution_count": 72,
   "id": "86803518",
   "metadata": {},
   "outputs": [
    {
     "data": {
      "text/plain": [
       "[[1, 100], [9, 9, 9, 9, 9], [10, 1]]"
      ]
     },
     "execution_count": 72,
     "metadata": {},
     "output_type": "execute_result"
    }
   ],
   "source": [
    "# 합이 큰 순으로 정렬\n",
    "number2d.sort(key = lambda item : sum(item), reverse=True)\n",
    "number2d"
   ]
  },
  {
   "cell_type": "code",
   "execution_count": 94,
   "id": "0b1ca7db",
   "metadata": {},
   "outputs": [],
   "source": [
    "students = [\n",
    "    {'name':'홍길동', 'score':90},\n",
    "    {'name':'김길동', 'score':50},\n",
    "    {'name':'윤길동', 'score':99},\n",
    "#    {'score':100}\n",
    "]"
   ]
  },
  {
   "cell_type": "code",
   "execution_count": 95,
   "id": "108fec5d",
   "metadata": {},
   "outputs": [
    {
     "data": {
      "text/plain": [
       "[{'name': '김길동', 'score': 50},\n",
       " {'name': '홍길동', 'score': 90},\n",
       " {'name': '윤길동', 'score': 99}]"
      ]
     },
     "execution_count": 95,
     "metadata": {},
     "output_type": "execute_result"
    }
   ],
   "source": [
    "# 이름순으로 정렬(ㄱㄴㄷ순)\n",
    "a =students.sort(key=lambda item : item['score'])\n",
    "students"
   ]
  },
  {
   "cell_type": "code",
   "execution_count": 96,
   "id": "37235948",
   "metadata": {},
   "outputs": [
    {
     "data": {
      "text/plain": [
       "[{'name': '김길동', 'score': 50},\n",
       " {'name': '윤길동', 'score': 99},\n",
       " {'name': '홍길동', 'score': 90}]"
      ]
     },
     "execution_count": 96,
     "metadata": {},
     "output_type": "execute_result"
    }
   ],
   "source": [
    "# 1번 정답\n",
    "students.sort(key = lambda item : item.get('name'))\n",
    "students"
   ]
  },
  {
   "cell_type": "code",
   "execution_count": 104,
   "id": "c541fa86",
   "metadata": {},
   "outputs": [
    {
     "data": {
      "text/plain": [
       "[{'score': 100},\n",
       " {'name': '윤길동', 'score': 99},\n",
       " {'name': '홍길동', 'score': 90},\n",
       " {'name': '김길동', 'score': 50}]"
      ]
     },
     "execution_count": 104,
     "metadata": {},
     "output_type": "execute_result"
    }
   ],
   "source": [
    "# score순으로 정렬(내림차순)\n",
    "students.sort(key = lambda item : item.get('score'), reverse=True)\n",
    "students"
   ]
  },
  {
   "cell_type": "code",
   "execution_count": 98,
   "id": "0057d624",
   "metadata": {},
   "outputs": [],
   "source": [
    "students = [\n",
    "    {'name':'홍길동', 'score':90},\n",
    "    {'name':'김길동', 'score':50},\n",
    "    {'name':'윤길동', 'score':99},\n",
    "    {'score':100}\n",
    "]"
   ]
  },
  {
   "cell_type": "code",
   "execution_count": 101,
   "id": "29390f52",
   "metadata": {},
   "outputs": [
    {
     "data": {
      "text/plain": [
       "[{'name': '김길동', 'score': 50},\n",
       " {'name': '윤길동', 'score': 99},\n",
       " {'name': '홍길동', 'score': 90},\n",
       " {'score': 100}]"
      ]
     },
     "execution_count": 101,
     "metadata": {},
     "output_type": "execute_result"
    }
   ],
   "source": [
    "# 이름순으로 정렬(ㄱㄴㄷ순) 이름없는것 포함문제\n",
    "students.sort(key = lambda item : item.get('name', '힣')) # get('name', '가') 뒤에서 순서를 ㄱㄴㄷ으로 정하기 때문에\n",
    "students"
   ]
  },
  {
   "cell_type": "code",
   "execution_count": 102,
   "id": "b5986cdb",
   "metadata": {},
   "outputs": [
    {
     "data": {
      "text/plain": [
       "[{'score': 100},\n",
       " {'name': '윤길동', 'score': 99},\n",
       " {'name': '홍길동', 'score': 90},\n",
       " {'name': '김길동', 'score': 50}]"
      ]
     },
     "execution_count": 102,
     "metadata": {},
     "output_type": "execute_result"
    }
   ],
   "source": [
    "# 이름순으로 정렬(ㄱㄴㄷ순) 이름없는것 포함문제\n",
    "students.sort(key = lambda item : item.get('score', 0), reverse=True)\n",
    "students"
   ]
  },
  {
   "cell_type": "code",
   "execution_count": 1,
   "id": "7be93dc0",
   "metadata": {},
   "outputs": [],
   "source": [
    "# 책 제목순 정렬(ㄱㄴㄷ순), 저자순 정렬(ㄱㄴㄷ순), 가격순 정렬(오름차순)\n",
    "books =[\n",
    "    {'no':1, 'title':'강남 아파트 인사이트', 'writer':'오스틀로이드', 'price':'25,200'},\n",
    "    {'no':2, 'title':'단 한 번의 삶', 'writer':'김영하', 'price':'18,100'},\n",
    "    {'no':3, 'title':'흔한 남매 19', 'writer':'백난도', 'price':'14220'},\n",
    "    {'no':4, 'title':'가격이잘못', 'writer':'홍길동', 'price':'-'},\n",
    "    {'no':5, 'title':'가격이숫자', 'writer':'신길동', 'price':900},\n",
    "    {'no':6, 'title':'가격이없음', 'writer':'김길동'},\n",
    "]"
   ]
  },
  {
   "cell_type": "code",
   "execution_count": 2,
   "id": "fa57f8b4",
   "metadata": {},
   "outputs": [
    {
     "data": {
      "text/plain": [
       "[{'no': 1, 'title': '강남 아파트 인사이트', 'writer': '오스틀로이드', 'price': '25,200'},\n",
       " {'no': 2, 'title': '단 한 번의 삶', 'writer': '김영하', 'price': '18,100'},\n",
       " {'no': 3, 'title': '흔한 남매 19', 'writer': '백난도', 'price': '14220'},\n",
       " {'no': 4, 'title': '가격이잘못', 'writer': '홍길동', 'price': '-'},\n",
       " {'no': 5, 'title': '가격이숫자', 'writer': '신길동', 'price': 900},\n",
       " {'no': 6, 'title': '가격이없음', 'writer': '김길동'}]"
      ]
     },
     "execution_count": 2,
     "metadata": {},
     "output_type": "execute_result"
    }
   ],
   "source": [
    "books.sort(key = lambda book : book.get('no', 0)) # get('name', '가') 뒤에서 순서를 ㄱㄴㄷ으로 정하기 때문에\n",
    "books"
   ]
  },
  {
   "cell_type": "code",
   "execution_count": 3,
   "id": "1f61018d",
   "metadata": {},
   "outputs": [
    {
     "data": {
      "text/plain": [
       "[{'no': 5, 'title': '가격이숫자', 'writer': '신길동', 'price': 900},\n",
       " {'no': 6, 'title': '가격이없음', 'writer': '김길동'},\n",
       " {'no': 4, 'title': '가격이잘못', 'writer': '홍길동', 'price': '-'},\n",
       " {'no': 1, 'title': '강남 아파트 인사이트', 'writer': '오스틀로이드', 'price': '25,200'},\n",
       " {'no': 2, 'title': '단 한 번의 삶', 'writer': '김영하', 'price': '18,100'},\n",
       " {'no': 3, 'title': '흔한 남매 19', 'writer': '백난도', 'price': '14220'}]"
      ]
     },
     "execution_count": 3,
     "metadata": {},
     "output_type": "execute_result"
    }
   ],
   "source": [
    "books.sort(key = lambda book : book.get('title', 0))\n",
    "books"
   ]
  },
  {
   "cell_type": "code",
   "execution_count": 4,
   "id": "bcc664f5",
   "metadata": {},
   "outputs": [
    {
     "data": {
      "text/plain": [
       "[{'no': 6, 'title': '가격이없음', 'writer': '김길동'},\n",
       " {'no': 2, 'title': '단 한 번의 삶', 'writer': '김영하', 'price': '18,100'},\n",
       " {'no': 3, 'title': '흔한 남매 19', 'writer': '백난도', 'price': '14220'},\n",
       " {'no': 5, 'title': '가격이숫자', 'writer': '신길동', 'price': 900},\n",
       " {'no': 1, 'title': '강남 아파트 인사이트', 'writer': '오스틀로이드', 'price': '25,200'},\n",
       " {'no': 4, 'title': '가격이잘못', 'writer': '홍길동', 'price': '-'}]"
      ]
     },
     "execution_count": 4,
     "metadata": {},
     "output_type": "execute_result"
    }
   ],
   "source": [
    "books.sort(key = lambda book : book.get('writer', 0))\n",
    "books"
   ]
  },
  {
   "cell_type": "code",
   "execution_count": 5,
   "id": "8678a710",
   "metadata": {},
   "outputs": [],
   "source": [
    "# '14,000' -> 14000 / \"2000\" -> 2000 / 800 -> 800 / '-' -> 0\n",
    "def parse_int(price):\n",
    "    #print(type(price))\n",
    "    if isinstance(price, str) and price.replace(',', '').isdigit():\n",
    "        return int(price.replace(',', ''))\n",
    "    elif isinstance(price, int):\n",
    "        return price\n",
    "    else:\n",
    "        return 0"
   ]
  },
  {
   "cell_type": "code",
   "execution_count": 6,
   "id": "ba49a576",
   "metadata": {},
   "outputs": [
    {
     "data": {
      "text/plain": [
       "(8000, 8000, 8000, 0)"
      ]
     },
     "execution_count": 6,
     "metadata": {},
     "output_type": "execute_result"
    }
   ],
   "source": [
    "parse_int(8000), parse_int('8000'), parse_int(\"8,000\"), parse_int('-')"
   ]
  },
  {
   "cell_type": "code",
   "execution_count": 7,
   "id": "8e79549a",
   "metadata": {},
   "outputs": [],
   "source": [
    "# {'no': 6, 'title': '가격이없음', 'writer': '김길동'}, => 0 return\n",
    "# {'no': 3, 'title': '흔한 남매 19', 'writer': '백난도', 'price': '14220'}, => 14220\n",
    "# {'no': 5, 'title': '가격이숫자', 'writer': '신길동', 'price': 900}, => 900\n",
    "def parse_int(book):\n",
    "    if isinstance(book.get('price'), str) and \\\n",
    "            book.get('price').replace(',','').isdigit(): #if1\n",
    "        return int(book.get('price').replace(',','')) #1\n",
    "    elif isinstance(book.get('price'), int): #if2\n",
    "        return book.get('price') #2\n",
    "    else:\n",
    "        return 0 #3"
   ]
  },
  {
   "cell_type": "code",
   "execution_count": 14,
   "id": "cc4cb689",
   "metadata": {},
   "outputs": [
    {
     "data": {
      "text/plain": [
       "(0, 900, 14220, 0)"
      ]
     },
     "execution_count": 14,
     "metadata": {},
     "output_type": "execute_result"
    }
   ],
   "source": [
    "parse_int(books[0]), parse_int(books[3]), parse_int(books[2]), parse_int(books[5]),"
   ]
  },
  {
   "cell_type": "code",
   "execution_count": 17,
   "id": "67557368",
   "metadata": {},
   "outputs": [],
   "source": [
    "# 책 제목순 정렬(ㄱㄴㄷ순), 저자순 정렬(ㄱㄴㄷ순), 가격순 정렬(오름차순)\n",
    "books =[\n",
    "    {'no':1, 'title':'강남 아파트 인사이트', 'writer':'오스틀로이드', 'price':'25,200'},\n",
    "    {'no':2, 'title':'단 한 번의 삶', 'writer':'김영하', 'price':'18,100'},\n",
    "    {'no':3, 'title':'흔한 남매 19', 'writer':'백난도', 'price':'14220'},\n",
    "    {'no':4, 'title':'가격이잘못', 'writer':'홍길동', 'price':'-'},\n",
    "    {'no':5, 'title':'가격이숫자', 'writer':'신길동', 'price':900},\n",
    "    {'no':6, 'title':'가격이없음', 'writer':'김길동'},\n",
    "]\n",
    "copy_books = books.copy() #원본 카피"
   ]
  },
  {
   "cell_type": "code",
   "execution_count": 21,
   "id": "9a1eb117",
   "metadata": {},
   "outputs": [],
   "source": [
    "# key = lambda #1 -> #if1 -> #2 -> #f2 -> #3\n",
    "copy_books.sort(key = lambda book : \n",
    "                int(book.get('price').replace(',', ''))\\\n",
    "                if isinstance(book.get('price'), str) and \\\n",
    "                    book.get('price').replace(',','').isdigit() else \\\n",
    "                book.get('price') if isinstance(book.get('price'), int) else \\\n",
    "                0\n",
    "               )"
   ]
  },
  {
   "cell_type": "code",
   "execution_count": 22,
   "id": "b2054b65",
   "metadata": {},
   "outputs": [
    {
     "data": {
      "text/plain": [
       "[{'no': 4, 'title': '가격이잘못', 'writer': '홍길동', 'price': '-'},\n",
       " {'no': 6, 'title': '가격이없음', 'writer': '김길동'},\n",
       " {'no': 5, 'title': '가격이숫자', 'writer': '신길동', 'price': 900},\n",
       " {'no': 3, 'title': '흔한 남매 19', 'writer': '백난도', 'price': '14220'},\n",
       " {'no': 2, 'title': '단 한 번의 삶', 'writer': '김영하', 'price': '18,100'},\n",
       " {'no': 1, 'title': '강남 아파트 인사이트', 'writer': '오스틀로이드', 'price': '25,200'}]"
      ]
     },
     "execution_count": 22,
     "metadata": {},
     "output_type": "execute_result"
    }
   ],
   "source": [
    "copy_books"
   ]
  },
  {
   "cell_type": "code",
   "execution_count": 23,
   "id": "362bcb91",
   "metadata": {},
   "outputs": [
    {
     "data": {
      "text/plain": [
       "[{'no': 1, 'title': '강남 아파트 인사이트', 'writer': '오스틀로이드', 'price': '25,200'},\n",
       " {'no': 2, 'title': '단 한 번의 삶', 'writer': '김영하', 'price': '18,100'},\n",
       " {'no': 3, 'title': '흔한 남매 19', 'writer': '백난도', 'price': '14220'},\n",
       " {'no': 4, 'title': '가격이잘못', 'writer': '홍길동', 'price': '-'},\n",
       " {'no': 5, 'title': '가격이숫자', 'writer': '신길동', 'price': 900},\n",
       " {'no': 6, 'title': '가격이없음', 'writer': '김길동'}]"
      ]
     },
     "execution_count": 23,
     "metadata": {},
     "output_type": "execute_result"
    }
   ],
   "source": [
    "books"
   ]
  },
  {
   "cell_type": "code",
   "execution_count": 25,
   "id": "060478a8",
   "metadata": {},
   "outputs": [
    {
     "data": {
      "text/plain": [
       "25200"
      ]
     },
     "execution_count": 25,
     "metadata": {},
     "output_type": "execute_result"
    }
   ],
   "source": [
    "# 람다식 테스트 (오타 확인)\n",
    "(lambda book : \n",
    "                int(book.get('price').replace(',', ''))\\\n",
    "                if isinstance(book.get('price'), str) and \\\n",
    "                    book.get('price').replace(',','').isdigit() else \\\n",
    "                book.get('price') if isinstance(book.get('price'), int) else \\\n",
    "                0\n",
    "               )(books[0])"
   ]
  },
  {
   "cell_type": "markdown",
   "id": "1333bb8b",
   "metadata": {},
   "source": [
    "## 4.3 return문에 람다식 이용"
   ]
  },
  {
   "cell_type": "code",
   "execution_count": 3,
   "id": "20b22f75",
   "metadata": {},
   "outputs": [],
   "source": [
    "#함수를 return\n",
    "def make_box(shape): # shape : [길이l] => len가 l인 list를 생성하는 함수 return, \n",
    "                     # shape : 2차원이면 [r,c] => r행 c열인 list를 생성하는 함수, \n",
    "                     # shape : 3차원이면 [d,r,c] => d면 r행 c열 3차원 list를 생성하는 함수\n",
    "    def box(init_value):\n",
    "        if len(shape)==1: \n",
    "            return [init_value]*shape[0]\n",
    "        elif len(shape)==2:\n",
    "            return [ [init_value]*shape[1] ] * shape[0]\n",
    "    return box"
   ]
  },
  {
   "cell_type": "code",
   "execution_count": 4,
   "id": "6bbee58e",
   "metadata": {},
   "outputs": [
    {
     "data": {
      "text/plain": [
       "[[3, 3, 3], [3, 3, 3]]"
      ]
     },
     "execution_count": 4,
     "metadata": {},
     "output_type": "execute_result"
    }
   ],
   "source": [
    "line_func = make_box([2,3])\n",
    "line_func(3)"
   ]
  },
  {
   "cell_type": "code",
   "execution_count": 5,
   "id": "9aa710ac",
   "metadata": {},
   "outputs": [
    {
     "data": {
      "text/plain": [
       "[3, 3, 3, 3, 3, 3, 3, 3, 3, 3]"
      ]
     },
     "execution_count": 5,
     "metadata": {},
     "output_type": "execute_result"
    }
   ],
   "source": [
    "line_func1 = make_box([10])\n",
    "line_func1(3)"
   ]
  },
  {
   "cell_type": "code",
   "execution_count": 6,
   "id": "bdfcffee",
   "metadata": {},
   "outputs": [],
   "source": [
    "def make_box(shape):\n",
    "    if len(shape)==1:\n",
    "        return lambda init_value : [init_value] * shape[0]\n",
    "    elif len(shape)==2:\n",
    "        return lambda init_value : [ [init_value] * shape[1] ] * shape[0]"
   ]
  },
  {
   "cell_type": "code",
   "execution_count": 7,
   "id": "c1ac5fd2",
   "metadata": {},
   "outputs": [
    {
     "data": {
      "text/plain": [
       "[3, 3, 3, 3, 3, 3, 3, 3, 3, 3]"
      ]
     },
     "execution_count": 7,
     "metadata": {},
     "output_type": "execute_result"
    }
   ],
   "source": [
    "line_func1 = make_box([10])\n",
    "line_func1(3)"
   ]
  },
  {
   "cell_type": "code",
   "execution_count": 8,
   "id": "8167f187",
   "metadata": {},
   "outputs": [
    {
     "data": {
      "text/plain": [
       "[[3, 3, 3], [3, 3, 3]]"
      ]
     },
     "execution_count": 8,
     "metadata": {},
     "output_type": "execute_result"
    }
   ],
   "source": [
    "line_func = make_box([2,3])\n",
    "line_func(3)"
   ]
  },
  {
   "cell_type": "markdown",
   "id": "c618347b",
   "metadata": {},
   "source": [
    "# 5절. 파이썬 내장함수\n",
    "- import 하지 않고 바로 사용 가능한 함수\n",
    "- 키워드처럼 간주되므로, 식별자(변수명, 함수명, 클래스명)로 사용하는 것을 피한다"
   ]
  },
  {
   "cell_type": "code",
   "execution_count": null,
   "id": "2c2cb21f",
   "metadata": {},
   "outputs": [],
   "source": [
    "globals() # 전역변수 리스트"
   ]
  },
  {
   "cell_type": "code",
   "execution_count": 9,
   "id": "441bc182",
   "metadata": {},
   "outputs": [
    {
     "data": {
      "text/plain": [
       "False"
      ]
     },
     "execution_count": 9,
     "metadata": {},
     "output_type": "execute_result"
    }
   ],
   "source": [
    "all([True, True, True, False]) # 전부 True인지 여부"
   ]
  },
  {
   "cell_type": "code",
   "execution_count": null,
   "id": "53ebbb73",
   "metadata": {},
   "outputs": [],
   "source": [
    "round(3.5) # 반올림하는 함수"
   ]
  },
  {
   "cell_type": "code",
   "execution_count": 11,
   "id": "02cd437c",
   "metadata": {},
   "outputs": [
    {
     "data": {
      "text/plain": [
       "(4.0, 4.0, 3.0)"
      ]
     },
     "execution_count": 11,
     "metadata": {},
     "output_type": "execute_result"
    }
   ],
   "source": [
    "import numpy as np # numpy 모듈을 np라는 이름으로 load\n",
    "np.round(3.5), np.ceil(3.5), np.floor(3.5) # 반올림, 올림, 내림"
   ]
  },
  {
   "cell_type": "markdown",
   "id": "83187144",
   "metadata": {},
   "source": [
    "## 연습문제"
   ]
  },
  {
   "cell_type": "code",
   "execution_count": 12,
   "id": "9b1442f4",
   "metadata": {},
   "outputs": [
    {
     "data": {
      "text/plain": [
       "(6, 1)"
      ]
     },
     "execution_count": 12,
     "metadata": {},
     "output_type": "execute_result"
    }
   ],
   "source": [
    "#1.함수의인자로 리스트를 받은 후 리스트 내에 있는 모든 정수값에 대한 최대값과 최소값을 리턴하는 함수를 작성하세요\n",
    "def get_max_min(data_list):\n",
    "    return max(data_list), min(data_list)\n",
    "\n",
    "get_max_min = lambda data_list : (max(data_list), min(data_list))\n",
    "get_max_min([1,2,3,4,5,6,])"
   ]
  },
  {
   "cell_type": "code",
   "execution_count": 15,
   "id": "d8529340",
   "metadata": {
    "collapsed": true
   },
   "outputs": [
    {
     "ename": "SyntaxError",
     "evalue": "invalid syntax (2384023342.py, line 4)",
     "output_type": "error",
     "traceback": [
      "\u001b[1;36m  Cell \u001b[1;32mIn[15], line 4\u001b[1;36m\u001b[0m\n\u001b[1;33m    getBMI(kg, m):\u001b[0m\n\u001b[1;37m                 ^\u001b[0m\n\u001b[1;31mSyntaxError\u001b[0m\u001b[1;31m:\u001b[0m invalid syntax\n"
     ]
    }
   ],
   "source": [
    "#2.체질량 지수(Body Mass Index, BMI)는 체중과 키를 이용해 비만도를 나타내는 지수로 아래의 수식에 의해 계산됩니다. \n",
    "#  함수의 인자로 체중(kg)과 신장(m)를입력받은 후 BMI값에 따라 ‘마른 체형‘, ‘표준‘, ‘비만‘, ‘고도비만‘ \n",
    "#  중 하나의 상태를 출력하는 함수를 구현해 보세요.\n",
    "getBMI(kg, m):\n",
    "BMI지수 = 체중(kg) / 신장(m)의 제곱\n",
    "BMI<18.5 : 마른체형\n",
    "18.5<=BMI<25 : 표준\n",
    "25<=BMI<30 : 비만\n",
    "BMI >=30 : 고도비만"
   ]
  },
  {
   "cell_type": "code",
   "execution_count": null,
   "id": "fcc3256f",
   "metadata": {},
   "outputs": [],
   "source": [
    "kg = int(input('몸무게는?'))\n",
    "m1 = int(input('키는?'))\n",
    "m = m1/100\n",
    "def getBMI(kg, m):\n",
    "    bmi = kg / (m ** 2)\n",
    "    if bmi < 18.5:\n",
    "        return \"마른 체형\"\n",
    "    elif 18.5 <= bmi < 25:\n",
    "        return \"표준\"\n",
    "    elif 25 <= bmi < 30:\n",
    "        return \"비만\"\n",
    "    else:\n",
    "        return \"고도비만\"\n",
    "print(getBMI(kg, m))"
   ]
  },
  {
   "cell_type": "code",
   "execution_count": null,
   "id": "abb9f086",
   "metadata": {},
   "outputs": [],
   "source": []
  },
  {
   "cell_type": "code",
   "execution_count": null,
   "id": "ff1b2684",
   "metadata": {},
   "outputs": [],
   "source": [
    "# 3.직각삼각형의 밑변과 높이를 입력받은 후 삼각형의 면적과 둘레를 계산하는 함수를 작성하세요\n",
    "#  리턴값은 면적과 둘레를 return하도록 구현하세요\n",
    "#  math.sqrt() : 제곱근을 구하는 함수이용 (ex)math.sqrt(25) : 5.0\n",
    "import math\n",
    "\n",
    "def get_triangle(width, height):\n",
    "    # 면적 = (밑변 × 높이) / 2\n",
    "    area = (width * height) / 2\n",
    "    \n",
    "    # 빗변 = √(밑변² + 높이²)\n",
    "    hypotenuse = math.sqrt(width**2 + height**2)\n",
    "    \n",
    "    # 둘레 = 밑변 + 높이 + 빗변\n",
    "    perimeter = width + height + hypotenuse\n",
    "    \n",
    "    return area, perimeter\n",
    "\n",
    "# 예시 실행\n",
    "print(get_triangle(3, 4))"
   ]
  },
  {
   "cell_type": "code",
   "execution_count": null,
   "id": "b77bd319",
   "metadata": {},
   "outputs": [],
   "source": []
  },
  {
   "cell_type": "code",
   "execution_count": 19,
   "id": "365d707a",
   "metadata": {},
   "outputs": [
    {
     "name": "stdout",
     "output_type": "stream",
     "text": [
      "10\n"
     ]
    }
   ],
   "source": [
    "#4.함수의 인자로 시작과 끝 숫자가 주어질 때 시작부터 끝까지의 모든 정수값의 합을 리턴하는 함수를 작성하세요(시작값과 끝값 포함).\n",
    "def mysum(fRom, end):\n",
    "    return sum(range(fRom, end))\n",
    "print(mysum(1,5))"
   ]
  },
  {
   "cell_type": "code",
   "execution_count": 33,
   "id": "7b4629ba",
   "metadata": {},
   "outputs": [
    {
     "name": "stdout",
     "output_type": "stream",
     "text": [
      "['Seo', 'Dae', 'Kwa', 'Jej']\n"
     ]
    }
   ],
   "source": [
    "#5.함수의인자로 문자열을 포함하는 리스트가 입력될 때 각 문자열의 첫 세글자로만 구성된 리스트를 리턴하는 함수와 람다식을 작성하세요\n",
    "# 예를 들어 함수의 입력으로 [‘Seoul’, ‘Daegu’, ‘Kwangju’, ‘Jeju’]가 입력될 때 함수의 리턴값은 [‘Seo’, ‘Dae’, ‘Kwa’,’Jej’]\n",
    "lst = ['Seoul', 'Daegu', 'Kwangju', 'Jeju']\n",
    "\n",
    "def get_abbrs(lst):\n",
    "    return [word[:3] for word in lst]\n",
    "print(get_abbrs(lst))"
   ]
  },
  {
   "cell_type": "code",
   "execution_count": 39,
   "id": "e7008b57",
   "metadata": {},
   "outputs": [
    {
     "data": {
      "text/plain": [
       "8"
      ]
     },
     "execution_count": 39,
     "metadata": {},
     "output_type": "execute_result"
    }
   ],
   "source": [
    "#6. 다음 코드를 람다 함수 형태로 수정할 때 알맞은 코드를 작성하시오\n",
    "\n",
    "def f(x,y):\n",
    "    return x ** y\n",
    "a = lambda x, y : x**y\n",
    "a(2,3)"
   ]
  },
  {
   "cell_type": "code",
   "execution_count": 36,
   "id": "8cb31b2d",
   "metadata": {
    "collapsed": true
   },
   "outputs": [
    {
     "ename": "NameError",
     "evalue": "name '________________________' is not defined",
     "output_type": "error",
     "traceback": [
      "\u001b[1;31m-----------------------------------------\u001b[0m",
      "\u001b[1;31mNameError\u001b[0mTraceback (most recent call last)",
      "Cell \u001b[1;32mIn[36], line 3\u001b[0m\n\u001b[0;32m      1\u001b[0m \u001b[38;5;66;03m#7. ex = [1,2,3,4,5]를 [1,4,9,16,25]의 결과를 얻을 수 있도록 람다함수와 map()함수를 사용하여 구현과 리스트 컴프리헨션으로 구현하시오\u001b[39;00m\n\u001b[0;32m      2\u001b[0m ex \u001b[38;5;241m=\u001b[39m [\u001b[38;5;241m1\u001b[39m, \u001b[38;5;241m2\u001b[39m, \u001b[38;5;241m3\u001b[39m, \u001b[38;5;241m4\u001b[39m, \u001b[38;5;241m5\u001b[39m]\n\u001b[1;32m----> 3\u001b[0m \u001b[43m________________________\u001b[49m\n\u001b[0;32m      4\u001b[0m [\u001b[38;5;241m1\u001b[39m, \u001b[38;5;241m4\u001b[39m, \u001b[38;5;241m9\u001b[39m, \u001b[38;5;241m16\u001b[39m, \u001b[38;5;241m25\u001b[39m]\n\u001b[0;32m      5\u001b[0m ex \u001b[38;5;241m=\u001b[39m [\u001b[38;5;241m1\u001b[39m, \u001b[38;5;241m2\u001b[39m, \u001b[38;5;241m3\u001b[39m, \u001b[38;5;241m4\u001b[39m, \u001b[38;5;241m5\u001b[39m]\n",
      "\u001b[1;31mNameError\u001b[0m: name '________________________' is not defined"
     ]
    }
   ],
   "source": [
    "#7. ex = [1,2,3,4,5]를 [1,4,9,16,25]의 결과를 얻을 수 있도록 람다함수와 map()함수를 사용하여 구현과 리스트 컴프리헨션으로 구현하시오\n",
    "ex = [1, 2, 3, 4, 5]\n",
    "a = [i**2 for i in ex]\n",
    "print(a)\n",
    "[1, 4, 9, 16, 25]\n",
    "ex = [1, 2, 3, 4, 5]\n",
    "list(map(lambda x: x**2 , ex))\n",
    "[1, 4, 9, 16, 25]"
   ]
  },
  {
   "cell_type": "code",
   "execution_count": 40,
   "id": "010b40ef",
   "metadata": {},
   "outputs": [
    {
     "name": "stdout",
     "output_type": "stream",
     "text": [
      "[1, 4, 9, 16, 25]\n"
     ]
    }
   ],
   "source": [
    "a = [i**2 for i in ex]\n",
    "print(a)"
   ]
  },
  {
   "cell_type": "code",
   "execution_count": 44,
   "id": "7b9d3907",
   "metadata": {},
   "outputs": [
    {
     "data": {
      "text/plain": [
       "[1, 4, 9, 16, 25]"
      ]
     },
     "execution_count": 44,
     "metadata": {},
     "output_type": "execute_result"
    }
   ],
   "source": [
    "list(map(lambda x: x**2 , ex))"
   ]
  },
  {
   "cell_type": "code",
   "execution_count": null,
   "id": "4309cc31",
   "metadata": {},
   "outputs": [],
   "source": [
    "#8. 다음코드를 각각 실행하면 서로 다른 결과가 나온다. 이런 결과가 나오는 이유를 서술하시오\n",
    "a = [1, 2, 3]\n",
    "print(*a) # * 은 딕셔너리를 언패킹함\n",
    "1 2 3\n",
    "print(a) # 언패킹되지 않은 딕셔너리\n",
    "[1, 2, 3]"
   ]
  },
  {
   "cell_type": "code",
   "execution_count": 1,
   "id": "79c4fa52",
   "metadata": {},
   "outputs": [
    {
     "data": {
      "text/plain": [
       "'2024-9-6'"
      ]
     },
     "execution_count": 1,
     "metadata": {},
     "output_type": "execute_result"
    }
   ],
   "source": [
    "#9. 다음 코드의 실행 결과는?\n",
    "date_info={'year':2024, 'month':9, 'day':6}\n",
    "result ='{year}-{month}-{day}'.format(**date_info)\n",
    "result # 2024-9-6"
   ]
  },
  {
   "cell_type": "code",
   "execution_count": 3,
   "id": "72eee9df",
   "metadata": {},
   "outputs": [
    {
     "data": {
      "text/plain": [
       "'2024-09-18'"
      ]
     },
     "execution_count": 3,
     "metadata": {},
     "output_type": "execute_result"
    }
   ],
   "source": [
    "# 9번문제에서 날짜형식으로 출력하는 방법 2024-9-6을 2024-09-06 형태로 변환하는 방법\n",
    "date_info={'year':2024, 'month':9, 'day':18}\n",
    "result ='{year}-{month:02}-{day:02}'.format(**date_info)\n",
    "result # 2024-09-18"
   ]
  },
  {
   "cell_type": "code",
   "execution_count": 4,
   "id": "9255a76c",
   "metadata": {},
   "outputs": [
    {
     "data": {
      "text/plain": [
       "'2024-04-01'"
      ]
     },
     "execution_count": 4,
     "metadata": {},
     "output_type": "execute_result"
    }
   ],
   "source": [
    "# 9번문제에서 날짜형식으로 출력하는 방법2 데이터가 문자로 들어온 경우\n",
    "date_info={'year':2024, 'month':'4', 'day':'1'}\n",
    "result ='{year}-{month:>02}-{day:>02}'.format(**date_info)\n",
    "result # 2024-09-6"
   ]
  },
  {
   "cell_type": "code",
   "execution_count": 5,
   "id": "f22cbc8b",
   "metadata": {},
   "outputs": [
    {
     "data": {
      "text/plain": [
       "[2, 2, 2, 2]"
      ]
     },
     "execution_count": 5,
     "metadata": {},
     "output_type": "execute_result"
    }
   ],
   "source": [
    "#10. n개의 벡터(리스트나 튜플, 셋등)의 크기들이 같은지 여부를 reutrn하는\n",
    "#    vector_size_check(*vector_var) 를 한 줄의 코드(리스트 컴프리헨션 이용)로 작성하시오.\n",
    "def vector_size_check(*vector_var):\n",
    "    result =[]\n",
    "    for vector in vector_var:\n",
    "        result.append(len(vector))\n",
    "    return result\n",
    "\n",
    "def vector_size(*vector_var):\n",
    "    return[len(vector) for vector in vector_var]\n",
    "\n",
    "vector_size([10,20], (100,200), {'name':'홍', 'age':20}, {1,2})\n"
   ]
  },
  {
   "cell_type": "code",
   "execution_count": 14,
   "id": "300908d5",
   "metadata": {},
   "outputs": [
    {
     "data": {
      "text/plain": [
       "True"
      ]
     },
     "execution_count": 14,
     "metadata": {},
     "output_type": "execute_result"
    }
   ],
   "source": [
    "# 입력받은 n개의 벡터(리스트나 튜플이나 셋)의 크기들이 모두 같은지 여부 return : 셋 이용\n",
    "def vector_size_check(*vector_var):\n",
    "    return len(set([len(vector) for vector in vector_var])) == 1\n",
    "\n",
    "vector_size_check([10,20], (100,200), {'name':'홍', 'age':20}, {1,2})"
   ]
  },
  {
   "cell_type": "code",
   "execution_count": 12,
   "id": "f01ffd92",
   "metadata": {},
   "outputs": [
    {
     "data": {
      "text/plain": [
       "True"
      ]
     },
     "execution_count": 12,
     "metadata": {},
     "output_type": "execute_result"
    }
   ],
   "source": [
    "all([5, 5, 5])"
   ]
  },
  {
   "cell_type": "code",
   "execution_count": 53,
   "id": "99c14391",
   "metadata": {},
   "outputs": [
    {
     "name": "stdout",
     "output_type": "stream",
     "text": [
      "True\n",
      "False\n"
     ]
    }
   ],
   "source": [
    "#10 -함수\n",
    "def vector_size_check(*vector_var):\n",
    "    return len({len(v) for v in vector_var}) == 1\n",
    "print(vector_size_check([1, 2], (3, 4), {5, 6}))   \n",
    "print(vector_size_check([1, 2, 3], (4, 5), {6, 7})) "
   ]
  },
  {
   "cell_type": "code",
   "execution_count": null,
   "id": "ddc6f97a",
   "metadata": {},
   "outputs": [],
   "source": [
    "#10 -람다\n",
    "vector_size_check = lambda *vector_var: len({len(v) for v in vector_var}) == 1"
   ]
  },
  {
   "cell_type": "code",
   "execution_count": 54,
   "id": "5e4b3758",
   "metadata": {},
   "outputs": [],
   "source": [
    "# 위에 함수를 for나 if문을 활용하면\n",
    "def vector_size_check(*vector_var):\n",
    "    # 첫 번째 벡터의 길이를 기준으로 잡고\n",
    "    first_len = len(vector_var[0])\n",
    "    \n",
    "    # 모든 벡터의 길이가 첫 번째와 같은지 확인\n",
    "    for v in vector_var:\n",
    "        if len(v) != first_len:\n",
    "            return False\n",
    "    return True"
   ]
  },
  {
   "cell_type": "code",
   "execution_count": null,
   "id": "bb64c251",
   "metadata": {},
   "outputs": [],
   "source": [
    "# 11. 다음과 같은 결과를 얻기 위해 하나의 스칼라값을 리스트나 튜플, 셋등 벡터에 곱하는 코드를 작성하시오.\n",
    "#     (단 입력되는 벡터의 크기는 일정하지 않음)\n",
    "scalar_vector_product(5, [1,2,3,4])\n",
    "[5, 10, 15, 20]"
   ]
  },
  {
   "cell_type": "code",
   "execution_count": 65,
   "id": "43ee3b62",
   "metadata": {},
   "outputs": [
    {
     "name": "stdout",
     "output_type": "stream",
     "text": [
      "[5, 10, 15, 20]\n"
     ]
    }
   ],
   "source": [
    "def scalar_vector_product(scalar, vector):\n",
    "    return [scalar * i for i in vector]\n",
    "\n",
    "print(scalar_vector_product(5, [1, 2, 3, 4]))"
   ]
  },
  {
   "cell_type": "code",
   "execution_count": 66,
   "id": "c29b8ca5",
   "metadata": {},
   "outputs": [
    {
     "name": "stdout",
     "output_type": "stream",
     "text": [
      "[5, 10, 15, 20]\n"
     ]
    }
   ],
   "source": [
    "result = list(map(lambda x: x * 5, [1, 2, 3, 4]))\n",
    "print(result)"
   ]
  },
  {
   "cell_type": "markdown",
   "id": "5d2d2387",
   "metadata": {},
   "source": [
    "### 서술형"
   ]
  },
  {
   "cell_type": "code",
   "execution_count": 14,
   "id": "900a1d0b",
   "metadata": {},
   "outputs": [
    {
     "data": {
      "text/plain": [
       "[(4, 'a'), (3, 'b'), (2, 'c'), (1, 'd')]"
      ]
     },
     "execution_count": 14,
     "metadata": {},
     "output_type": "execute_result"
    }
   ],
   "source": [
    "#1. 다음코드의 실행 결과는?\n",
    "pairs = [(1, 'd'), (2, 'c'), (3, 'b'), (4, 'a')]\n",
    "pairs.sort(key=lambda pair: pair[1])\n",
    "pairs"
   ]
  },
  {
   "attachments": {
    "image.png": {
     "image/png": "[encoded data removed]"
    }
   },
   "cell_type": "markdown",
   "id": "ca040681",
   "metadata": {},
   "source": [
    "![image.png](attachment:image.png)"
   ]
  },
  {
   "cell_type": "code",
   "execution_count": 76,
   "id": "b3754c67",
   "metadata": {},
   "outputs": [
    {
     "name": "stdout",
     "output_type": "stream",
     "text": [
      "612613"
     ]
    }
   ],
   "source": [
    "# 2번\n",
    "a=10\n",
    "def sub():\n",
    "    global a # <= 전역변수를 쓰겠다 선언해야함\n",
    "    a += 1\n",
    "    print(a, end='')\n",
    "\n",
    "def func():\n",
    "    for i in range(2):\n",
    "        a = 5\n",
    "        a += 1\n",
    "        print(a, end='')\n",
    "        sub()\n",
    "        \n",
    "a += 1\n",
    "func()"
   ]
  },
  {
   "cell_type": "code",
   "execution_count": 83,
   "id": "1f4d9e8b",
   "metadata": {},
   "outputs": [
    {
     "name": "stdout",
     "output_type": "stream",
     "text": [
      "None\n",
      "100\n"
     ]
    }
   ],
   "source": [
    "# 3. 다음구문을 실행한 결과는\n",
    "var = 100\n",
    "def func(var):\n",
    "    var = 200\n",
    "func(var)\n",
    "print(func(var)) # None\n",
    "print(var) # 전역변수"
   ]
  },
  {
   "cell_type": "code",
   "execution_count": 80,
   "id": "ea32d5b4",
   "metadata": {},
   "outputs": [
    {
     "data": {
      "text/plain": [
       "5"
      ]
     },
     "execution_count": 80,
     "metadata": {},
     "output_type": "execute_result"
    }
   ],
   "source": [
    "# 4. 다음구문의실행 결과는?\n",
    "def my_func(func, *args):\n",
    "    return func(*args)\n",
    "import numpy as np\n",
    "my_func(np.add, 2, 3)"
   ]
  },
  {
   "cell_type": "code",
   "execution_count": 84,
   "id": "cb2b4304",
   "metadata": {},
   "outputs": [
    {
     "data": {
      "text/plain": [
       "9"
      ]
     },
     "execution_count": 84,
     "metadata": {},
     "output_type": "execute_result"
    }
   ],
   "source": [
    "# 5. 다음구문의 실행결과는? 9\n",
    "def my_func(func, *args):\n",
    "    return func(*args)\n",
    "my_func(lambda a, b : a**b, 3, 2)"
   ]
  },
  {
   "cell_type": "code",
   "execution_count": null,
   "id": "70b91f03",
   "metadata": {},
   "outputs": [],
   "source": [
    "# 6. 파이썬 함수에 대한 설명 중 잘못된 것은? 1\n",
    "\n",
    "# 1. 파이썬의 함수는 중복 정의해 사용할 수 있다.\n",
    "# 2. 파이썬의 함수 매개변수는 기본값을 가질 수 있다.\n",
    "# 3. **args 형식의 매개변수가 있으면 키워드 인수는 딕셔너리 형식으로 받는다.\n",
    "# 4. 함수를 호출할 때 매개변수 이름이 없는 인수는 매개변수 이름이 있는 인수보다 앞에 와야 한다."
   ]
  },
  {
   "cell_type": "code",
   "execution_count": 87,
   "id": "d8576c55",
   "metadata": {},
   "outputs": [],
   "source": [
    "# 7.다음과 같은 구문이 있을 경우 오류가 발생하는 함수 호출은? 4\n",
    "list_ = []\n",
    "def func(a, L=None):\n",
    "    if L is None:\n",
    "        L = []\n",
    "    L.append(a)\n",
    "    return L"
   ]
  },
  {
   "cell_type": "code",
   "execution_count": 89,
   "id": "9e992ad3",
   "metadata": {},
   "outputs": [],
   "source": [
    "# 8. 다음 보기가 설명하는 것을 작성하기 위한 키워드를 쓰세요.(영문 소문자로 쓰세요.)\n",
    "# lambda"
   ]
  },
  {
   "attachments": {
    "image.png": {
     "image/png": "[encoded data removed]"
    }
   },
   "cell_type": "markdown",
   "id": "b664a2d6",
   "metadata": {},
   "source": [
    "### 개발 공부 순서 아래에서 위 순서 ( 공통 => 핵심 => 실무 순서 )\n",
    "![image.png](attachment:image.png)"
   ]
  },
  {
   "cell_type": "code",
   "execution_count": null,
   "id": "1b4f4aab",
   "metadata": {},
   "outputs": [],
   "source": []
  },
  {
   "cell_type": "code",
   "execution_count": null,
   "id": "66dea790",
   "metadata": {},
   "outputs": [],
   "source": []
  },
  {
   "cell_type": "code",
   "execution_count": null,
   "id": "ab339b72",
   "metadata": {},
   "outputs": [],
   "source": []
  },
  {
   "cell_type": "code",
   "execution_count": null,
   "id": "37ae9fc8",
   "metadata": {},
   "outputs": [],
   "source": []
  },
  {
   "cell_type": "code",
   "execution_count": null,
   "id": "87e2d8e8",
   "metadata": {},
   "outputs": [],
   "source": []
  },
  {
   "cell_type": "code",
   "execution_count": null,
   "id": "dba6a6c3",
   "metadata": {},
   "outputs": [],
   "source": []
  },
  {
   "cell_type": "code",
   "execution_count": null,
   "id": "2e65fea0",
   "metadata": {},
   "outputs": [],
   "source": []
  },
  {
   "cell_type": "code",
   "execution_count": null,
   "id": "261f87c3",
   "metadata": {},
   "outputs": [],
   "source": []
  },
  {
   "cell_type": "code",
   "execution_count": null,
   "id": "69818613",
   "metadata": {},
   "outputs": [],
   "source": []
  },
  {
   "cell_type": "code",
   "execution_count": null,
   "id": "a37e7bf1",
   "metadata": {},
   "outputs": [],
   "source": []
  },
  {
   "cell_type": "code",
   "execution_count": null,
   "id": "34a4f4a3",
   "metadata": {},
   "outputs": [],
   "source": []
  },
  {
   "cell_type": "code",
   "execution_count": null,
   "id": "86c3106e",
   "metadata": {},
   "outputs": [],
   "source": []
  }
 ],
 "metadata": {
  "kernelspec": {
   "display_name": "Python 3 (ipykernel)",
   "language": "python",
   "name": "python3"
  },
  "language_info": {
   "codemirror_mode": {
    "name": "ipython",
    "version": 3
   },
   "file_extension": ".py",
   "mimetype": "text/x-python",
   "name": "python",
   "nbconvert_exporter": "python",
   "pygments_lexer": "ipython3",
   "version": "3.10.9"
  },
  "toc": {
   "base_numbering": 1,
   "nav_menu": {},
   "number_sections": false,
   "sideBar": true,
   "skip_h1_title": false,
   "title_cell": "Table of Contents",
   "title_sidebar": "Contents",
   "toc_cell": false,
   "toc_position": {
    "height": "calc(100% - 180px)",
    "left": "10px",
    "top": "150px",
    "width": "203.6px"
   },
   "toc_section_display": true,
   "toc_window_display": true
  }
 },
 "nbformat": 4,
 "nbformat_minor": 5
}
