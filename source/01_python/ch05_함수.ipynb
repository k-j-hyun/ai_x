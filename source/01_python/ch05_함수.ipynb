{
 "cells": [
  {
   "cell_type": "code",
   "execution_count": 2,
   "id": "c894bab5",
   "metadata": {},
   "outputs": [
    {
     "data": {
      "text/html": [
       "\n",
       "<style>\n",
       "div.container{width:86% !important;}\n",
       "div.cell.code_cell.rendered{width:100%;}\n",
       "div.CodeMirror {font family: Consolas; font-size:12pt;}\n",
       "div.output {font-size:12pt; font-weight:bold;}\n",
       "div.input {font-family: Consolas; font-size:12pt;}\n",
       "div.prompt {min-width:70px;}\n",
       "div#toc-wrapper{padding top:120px;}\n",
       "div.text_cell_render ul li {font-size:12pt;padding:5px;}\n",
       "table.dataframe{font-size:12px;}\n",
       "</style>\n"
      ],
      "text/plain": [
       "<IPython.core.display.HTML object>"
      ]
     },
     "metadata": {},
     "output_type": "display_data"
    }
   ],
   "source": [
    "from IPython.display import display, HTML\n",
    "display(HTML(\"\"\"\n",
    "<style>\n",
    "div.container{width:86% !important;}\n",
    "div.cell.code_cell.rendered{width:100%;}\n",
    "div.CodeMirror {font family: Consolas; font-size:12pt;}\n",
    "div.output {font-size:12pt; font-weight:bold;}\n",
    "div.input {font-family: Consolas; font-size:12pt;}\n",
    "div.prompt {min-width:70px;}\n",
    "div#toc-wrapper{padding top:120px;}\n",
    "div.text_cell_render ul li {font-size:12pt;padding:5px;}\n",
    "table.dataframe{font-size:12px;}\n",
    "</style>\n",
    "\"\"\"))"
   ]
  },
  {
   "cell_type": "markdown",
   "id": "679f018d",
   "metadata": {},
   "source": [
    "<b><font color = \"red\" size = \"5\">  ch05. 함수 </font></b>\n",
    "- 사용할 코드를 묶어 놓고 그것에 이름을 붙힌 것\n",
    "- 오버로딩(함수 이름이 같고, 매개변수의 타입이나 갯수로 다른 함수를 허용하는 것) 불가(자바, 파이썬은 불가)\n",
    "- 함수 정의\n",
    "```\n",
    "def 함수명([매개변수1, .. 매개변수n]):\n",
    "    명령어1\n",
    "    명령어2\n",
    "    명령어n\n",
    "```"
   ]
  },
  {
   "cell_type": "markdown",
   "id": "d2653f38",
   "metadata": {},
   "source": [
    "# 1절. 함수의 정의 및 사용\n",
    "## 1.1 함수 정의"
   ]
  },
  {
   "cell_type": "code",
   "execution_count": 14,
   "id": "d7447197",
   "metadata": {},
   "outputs": [],
   "source": [
    "# 함수 정의\n",
    "def my_message(x, msg): # msg를 x번 출력하는 함수\n",
    "    for i in range(x):\n",
    "        print(msg)"
   ]
  },
  {
   "cell_type": "code",
   "execution_count": 17,
   "id": "9773375c",
   "metadata": {},
   "outputs": [
    {
     "name": "stdout",
     "output_type": "stream",
     "text": [
      "안녕\n",
      "안녕\n"
     ]
    }
   ],
   "source": [
    "# 함수 사용\n",
    "my_message(2, '안녕')"
   ]
  },
  {
   "cell_type": "code",
   "execution_count": 18,
   "id": "3678ac36",
   "metadata": {},
   "outputs": [
    {
     "name": "stdout",
     "output_type": "stream",
     "text": [
      "hihi :)\n",
      "hihi :)\n"
     ]
    }
   ],
   "source": [
    "my_msg = my_message\n",
    "my_msg(2, 'hihi :)')"
   ]
  },
  {
   "cell_type": "code",
   "execution_count": 19,
   "id": "cd384f81",
   "metadata": {},
   "outputs": [
    {
     "name": "stdout",
     "output_type": "stream",
     "text": [
      "<class 'function'> <class 'function'>\n"
     ]
    }
   ],
   "source": [
    "print(type(my_msg), type(my_message))"
   ]
  },
  {
   "cell_type": "code",
   "execution_count": 22,
   "id": "34e4fbca",
   "metadata": {},
   "outputs": [
    {
     "name": "stdout",
     "output_type": "stream",
     "text": [
      "hello\n",
      "hello\n"
     ]
    }
   ],
   "source": [
    "print('hello') # 파이썬 내장함수 (import 하지 않고 사용할 수 있는 함수)\n",
    "print = 5\n",
    "del print\n",
    "print('hello')"
   ]
  },
  {
   "cell_type": "code",
   "execution_count": 23,
   "id": "d8fba4eb",
   "metadata": {},
   "outputs": [
    {
     "name": "stdout",
     "output_type": "stream",
     "text": [
      "hello\n",
      "hello\n"
     ]
    }
   ],
   "source": [
    "my_message(2, 'hello')"
   ]
  },
  {
   "cell_type": "code",
   "execution_count": 29,
   "id": "311c8e8e",
   "metadata": {},
   "outputs": [],
   "source": [
    "my_message = 5"
   ]
  },
  {
   "cell_type": "code",
   "execution_count": 26,
   "id": "159f176b",
   "metadata": {},
   "outputs": [
    {
     "ename": "TypeError",
     "evalue": "'int' object is not callable",
     "output_type": "error",
     "traceback": [
      "\u001b[1;31m------------------------------------------\u001b[0m",
      "\u001b[1;31mTypeError\u001b[0mTraceback (most recent call last)",
      "Cell \u001b[1;32mIn[26], line 1\u001b[0m\n\u001b[1;32m----> 1\u001b[0m \u001b[43mmy_message\u001b[49m\u001b[43m(\u001b[49m\u001b[38;5;241;43m1\u001b[39;49m\u001b[43m,\u001b[49m\u001b[43m \u001b[49m\u001b[38;5;241;43m3\u001b[39;49m\u001b[43m)\u001b[49m\n",
      "\u001b[1;31mTypeError\u001b[0m: 'int' object is not callable"
     ]
    }
   ],
   "source": [
    "my_message(1, 3)"
   ]
  },
  {
   "cell_type": "code",
   "execution_count": 30,
   "id": "ea28ab93",
   "metadata": {},
   "outputs": [],
   "source": [
    "del my_message # 내가 만든 함수나 import 함수는 del 해도 복귀되지 않아 사용 불가해짐\n",
    "# 변수를 삭제해도 함수 사용 불가(파이썬 내장 함수가 아니라서)"
   ]
  },
  {
   "cell_type": "code",
   "execution_count": 31,
   "id": "7db9214f",
   "metadata": {},
   "outputs": [],
   "source": [
    "# 함수 정의 : 4월 16일(수)\n",
    "def my_hello():\n",
    "    print('Hello Python')\n",
    "    print('Hello World')"
   ]
  },
  {
   "cell_type": "code",
   "execution_count": 34,
   "id": "b343b138",
   "metadata": {},
   "outputs": [
    {
     "name": "stdout",
     "output_type": "stream",
     "text": [
      "Hello Python\n",
      "Hello World\n"
     ]
    }
   ],
   "source": [
    "# 함수사용 = 함수호출\n",
    "my_hello()"
   ]
  },
  {
   "cell_type": "code",
   "execution_count": null,
   "id": "5b73c090",
   "metadata": {},
   "outputs": [],
   "source": []
  },
  {
   "cell_type": "code",
   "execution_count": null,
   "id": "1c01d8b6",
   "metadata": {},
   "outputs": [],
   "source": []
  },
  {
   "cell_type": "code",
   "execution_count": null,
   "id": "d3814d0a",
   "metadata": {},
   "outputs": [],
   "source": []
  },
  {
   "cell_type": "code",
   "execution_count": null,
   "id": "cc021535",
   "metadata": {},
   "outputs": [],
   "source": []
  },
  {
   "cell_type": "code",
   "execution_count": null,
   "id": "1a164c4b",
   "metadata": {},
   "outputs": [],
   "source": []
  },
  {
   "cell_type": "code",
   "execution_count": null,
   "id": "8d4aefc6",
   "metadata": {},
   "outputs": [],
   "source": []
  },
  {
   "cell_type": "code",
   "execution_count": null,
   "id": "e18e17fc",
   "metadata": {},
   "outputs": [],
   "source": []
  },
  {
   "cell_type": "code",
   "execution_count": null,
   "id": "3ab4fc50",
   "metadata": {},
   "outputs": [],
   "source": []
  },
  {
   "cell_type": "code",
   "execution_count": null,
   "id": "df0b004e",
   "metadata": {},
   "outputs": [],
   "source": []
  },
  {
   "cell_type": "code",
   "execution_count": 21,
   "id": "b1b5d854",
   "metadata": {},
   "outputs": [
    {
     "name": "stdout",
     "output_type": "stream",
     "text": [
      "🎮 전투 시작! 용사 VS 슬라임\n",
      "\n",
      "용사의 공격! 18 데미지 입힘!\n",
      "슬라임의 반격! 15 데미지 입음!\n",
      "🧍‍♂️ 용사 HP: 35 | 👾 슬라임 HP: 62\n",
      "----------------------------------------\n",
      "용사의 공격! 10 데미지 입힘!\n",
      "슬라임의 반격! 9 데미지 입음!\n",
      "🧍‍♂️ 용사 HP: 26 | 👾 슬라임 HP: 52\n",
      "----------------------------------------\n",
      "용사의 공격! 20 데미지 입힘!\n",
      "슬라임의 반격! 5 데미지 입음!\n",
      "🧍‍♂️ 용사 HP: 21 | 👾 슬라임 HP: 32\n",
      "----------------------------------------\n",
      "용사의 공격! 17 데미지 입힘!\n",
      "슬라임의 반격! 5 데미지 입음!\n",
      "🧍‍♂️ 용사 HP: 16 | 👾 슬라임 HP: 15\n",
      "----------------------------------------\n",
      "용사의 공격! 14 데미지 입힘!\n",
      "슬라임의 반격! 9 데미지 입음!\n",
      "🧍‍♂️ 용사 HP: 7 | 👾 슬라임 HP: 1\n",
      "----------------------------------------\n",
      "용사의 공격! 11 데미지 입힘!\n",
      "슬라임을(를) 물리쳤습니다! 🎉\n",
      "전투 종료!\n"
     ]
    }
   ],
   "source": [
    "import random\n",
    "import time\n",
    "\n",
    "# 캐릭터 설정\n",
    "player = {\n",
    "    \"이름\": \"용사\",\n",
    "    \"HP\": 50,\n",
    "    \"공격력\": (10, 20)  # 랜덤 데미지 범위\n",
    "}\n",
    "\n",
    "monster = {\n",
    "    \"이름\": \"슬라임\",\n",
    "    \"HP\": 80,\n",
    "    \"공격력\": (5, 15)\n",
    "}\n",
    "\n",
    "print(\"🎮 전투 시작! {} VS {}\".format(player[\"이름\"], monster[\"이름\"]))\n",
    "print()\n",
    "\n",
    "# 전투 루프\n",
    "while player[\"HP\"] > 0 and monster[\"HP\"] > 0:\n",
    "    # 용사 공격\n",
    "    damage = random.randint(*player[\"공격력\"])\n",
    "    monster[\"HP\"] -= damage\n",
    "    print(f\"{player['이름']}의 공격! {damage} 데미지 입힘!\")\n",
    "    if monster[\"HP\"] <= 0:\n",
    "        print(f\"{monster['이름']}을(를) 물리쳤습니다! 🎉\")\n",
    "        break\n",
    "\n",
    "    # 몬스터 공격\n",
    "    time.sleep(1)  # 약간의 긴장감\n",
    "    damage = random.randint(*monster[\"공격력\"])\n",
    "    player[\"HP\"] -= damage\n",
    "    print(f\"{monster['이름']}의 반격! {damage} 데미지 입음!\")\n",
    "    if player[\"HP\"] <= 0:\n",
    "        print(f\"{player['이름']}이(가) 쓰러졌습니다... 😢\")\n",
    "        break\n",
    "\n",
    "    # 상태 출력\n",
    "    print(f\"🧍‍♂️ {player['이름']} HP: {player['HP']} | 👾 {monster['이름']} HP: {monster['HP']}\")\n",
    "    print(\"-\" * 40)\n",
    "    time.sleep(1)\n",
    "\n",
    "print(\"전투 종료!\")"
   ]
  },
  {
   "cell_type": "code",
   "execution_count": null,
   "id": "a547e814",
   "metadata": {},
   "outputs": [],
   "source": []
  },
  {
   "cell_type": "code",
   "execution_count": null,
   "id": "e73b02a8",
   "metadata": {},
   "outputs": [],
   "source": []
  },
  {
   "cell_type": "code",
   "execution_count": null,
   "id": "fde3cd4f",
   "metadata": {},
   "outputs": [],
   "source": []
  },
  {
   "cell_type": "code",
   "execution_count": null,
   "id": "2d42e9c8",
   "metadata": {},
   "outputs": [],
   "source": []
  }
 ],
 "metadata": {
  "kernelspec": {
   "display_name": "Python 3 (ipykernel)",
   "language": "python",
   "name": "python3"
  },
  "language_info": {
   "codemirror_mode": {
    "name": "ipython",
    "version": 3
   },
   "file_extension": ".py",
   "mimetype": "text/x-python",
   "name": "python",
   "nbconvert_exporter": "python",
   "pygments_lexer": "ipython3",
   "version": "3.10.9"
  },
  "toc": {
   "base_numbering": 1,
   "nav_menu": {},
   "number_sections": false,
   "sideBar": true,
   "skip_h1_title": false,
   "title_cell": "Table of Contents",
   "title_sidebar": "Contents",
   "toc_cell": false,
   "toc_position": {
    "height": "calc(100% - 180px)",
    "left": "10px",
    "top": "150px",
    "width": "203.6px"
   },
   "toc_section_display": true,
   "toc_window_display": true
  }
 },
 "nbformat": 4,
 "nbformat_minor": 5
}
