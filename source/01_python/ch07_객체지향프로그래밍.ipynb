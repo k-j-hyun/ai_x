{
 "cells": [
  {
   "cell_type": "code",
   "execution_count": 1,
   "id": "457cb4ea",
   "metadata": {},
   "outputs": [
    {
     "data": {
      "text/html": [
       "\n",
       "<style>\n",
       "div.container{width:86% !important;}\n",
       "div.cell.code_cell.rendered{width:100%;}\n",
       "div.CodeMirror {font family: Consolas; font-size:12pt;}\n",
       "div.output {font-size:12pt; font-weight:bold;}\n",
       "div.input {font-family: Consolas; font-size:12pt;}\n",
       "div.prompt {min-width:70px;}\n",
       "div#toc-wrapper{padding top:120px;}\n",
       "div.text_cell_render ul li {font-size:12pt;padding:5px;}\n",
       "table.dataframe{font-size:12px;}\n",
       "</style>\n"
      ],
      "text/plain": [
       "<IPython.core.display.HTML object>"
      ]
     },
     "metadata": {},
     "output_type": "display_data"
    }
   ],
   "source": [
    "from IPython.display import display, HTML\n",
    "display(HTML(\"\"\"\n",
    "<style>\n",
    "div.container{width:86% !important;}\n",
    "div.cell.code_cell.rendered{width:100%;}\n",
    "div.CodeMirror {font family: Consolas; font-size:12pt;}\n",
    "div.output {font-size:12pt; font-weight:bold;}\n",
    "div.input {font-family: Consolas; font-size:12pt;}\n",
    "div.prompt {min-width:70px;}\n",
    "div#toc-wrapper{padding top:120px;}\n",
    "div.text_cell_render ul li {font-size:12pt;padding:5px;}\n",
    "table.dataframe{font-size:12px;}\n",
    "</style>\n",
    "\"\"\"))"
   ]
  },
  {
   "cell_type": "markdown",
   "id": "6f351350",
   "metadata": {},
   "source": [
    "<b><font color=\"red\" size=\"6\"> 7장. 객체지향 프로그래밍 </font></b>"
   ]
  },
  {
   "cell_type": "code",
   "execution_count": 3,
   "id": "c5242653",
   "metadata": {},
   "outputs": [
    {
     "name": "stdout",
     "output_type": "stream",
     "text": [
      "홍길동 남자 MBC\n",
      "홍낄쑥 여자 MBC\n"
     ]
    }
   ],
   "source": [
    "person1 = {'name':'홍길동', 'gender':'남자', 'accademy':'MBC'}\n",
    "person2 = {'name':'홍길숙', 'gender':'여자', 'accademy':'MBC'}\n",
    "print(person1['name'], person1['gender'], person1['accademy'])\n",
    "person2['name'] = '홍낄쑥'\n",
    "print(person2['name'], person2['gender'], person2['accademy'])"
   ]
  },
  {
   "cell_type": "code",
   "execution_count": 4,
   "id": "15f08130",
   "metadata": {},
   "outputs": [
    {
     "name": "stdout",
     "output_type": "stream",
     "text": [
      "홍길동 남자 MBC\n",
      "홍낄쑥 None MBC\n",
      "{'name': '홍낄쑥', 'sender': '여자', 'accademy': 'MBC'}\n"
     ]
    }
   ],
   "source": [
    "person1 = {'name':'홍길동', 'gender':'남자', 'accademy':'MBC'}\n",
    "person2 = {'name':'홍길숙', 'sender':'여자', 'accademy':'MBC'}\n",
    "print(person1['name'], person1['gender'], person1['accademy'])\n",
    "person2['name'] = '홍낄쑥'\n",
    "print(person2['name'], person2.get('gender'), person2['accademy'])\n",
    "print(person2)"
   ]
  },
  {
   "cell_type": "code",
   "execution_count": 18,
   "id": "53808570",
   "metadata": {},
   "outputs": [],
   "source": [
    "class Person:\n",
    "    accademy = 'MBC' # 클래스 변수\n",
    "    def __init__(self, name, gender): #생성자함수\n",
    "        self.name = name # 객체안의 변수(인스턴스 변수)\n",
    "        self.gender = gender\n",
    "    def print_info(self):\n",
    "        print(\"{}는 {}입니다 {}를 다닙니다\".format(self.name,\n",
    "                                                 self.gender,\n",
    "                                                 self.accademy))\n",
    "    def __str__(self):\n",
    "        return \"{}는 {}입니다 {}를 다닙니다\".format(self.name,\n",
    "                                                  self.gender,\n",
    "                                                  self.accademy)"
   ]
  },
  {
   "cell_type": "code",
   "execution_count": 19,
   "id": "5c45290b",
   "metadata": {},
   "outputs": [
    {
     "name": "stdout",
     "output_type": "stream",
     "text": [
      "홍길동는 남자입니다 MBC를 다닙니다\n",
      "홍길숙는 여자입니다 MBC를 다닙니다\n",
      "마길동는 남자입니다 CBC를 다닙니다\n",
      "홍길숙는 여자입니다 MBC를 다닙니다\n",
      "마길동는 남자입니다 CBC를 다닙니다\n",
      "홍길숙는 여자입니다 MBC를 다닙니다\n",
      "마길동는 남자입니다 CBC를 다닙니다\n",
      "홍길숙는 여자입니다 MBC를 다닙니다\n"
     ]
    }
   ],
   "source": [
    "p1 = Person('홍길동', '남자')\n",
    "p2 = Person('홍길숙', '여자')\n",
    "p1.print_info()\n",
    "p2.print_info()\n",
    "p1.name = '마길동'\n",
    "p1.accademy = 'CBC'\n",
    "p1.print_info()\n",
    "p2.print_info()\n",
    "print(p1.__str__())\n",
    "print(p2.__str__())\n",
    "print(p1)\n",
    "print(p2)"
   ]
  },
  {
   "cell_type": "markdown",
   "id": "ed47218d",
   "metadata": {},
   "source": [
    "# 1절. 객체와 클래스\n",
    "- class 클래스명(상속받을 클래스명):\n",
    "    변수나 함수들 선언"
   ]
  },
  {
   "cell_type": "code",
   "execution_count": 2,
   "id": "63f0e073",
   "metadata": {},
   "outputs": [
    {
     "name": "stdout",
     "output_type": "stream",
     "text": [
      "<__main__.Person object at 0x000002AC955FD060>\n",
      "<class '__main__.Person'>\n"
     ]
    }
   ],
   "source": [
    "class Person:\n",
    "    '''\n",
    "    Person 클래스는 어쩌구 저쩌구 설명하는 독스트링\n",
    "    생성자 함수가 없을 경우, 디폴트 생성자 함수가 자동 생성\n",
    "    \n",
    "    '''\n",
    "    pass\n",
    "p1 = Person()\n",
    "print(p1.__str__())\n",
    "print(type(p1))"
   ]
  },
  {
   "cell_type": "code",
   "execution_count": 3,
   "id": "41d823e1",
   "metadata": {},
   "outputs": [
    {
     "data": {
      "text/plain": [
       "True"
      ]
     },
     "execution_count": 3,
     "metadata": {},
     "output_type": "execute_result"
    }
   ],
   "source": [
    "isinstance(p1, Person)"
   ]
  },
  {
   "cell_type": "code",
   "execution_count": 4,
   "id": "325d79b4",
   "metadata": {},
   "outputs": [
    {
     "data": {
      "text/plain": [
       "'\\n    Person 클래스는 어쩌구 저쩌구 설명하는 독스트링\\n    생성자 함수가 없을 경우, 디폴트 생성자 함수가 자동 생성\\n    \\n    '"
      ]
     },
     "execution_count": 4,
     "metadata": {},
     "output_type": "execute_result"
    }
   ],
   "source": [
    "p1.__doc__"
   ]
  },
  {
   "cell_type": "markdown",
   "id": "f4dbfebf",
   "metadata": {},
   "source": [
    "# 2절. 생성자와 소멸자\n",
    "```\n",
    "생성자 : __int__(self, 매개변수, .. ) - 객체가 생성될 때 자동 실행\n",
    "           객체 생성시 필요한 인스턴스 변수 초기화를 포함\n",
    "소멸자 : __del__(self) - 객체가 소멸될 때 자동 실행\n",
    "         인스턴스 객체의 레퍼런스 카운트가 0이 될 때 실행\n",
    "\n",
    "```"
   ]
  },
  {
   "cell_type": "code",
   "execution_count": 6,
   "id": "71ce41f6",
   "metadata": {},
   "outputs": [],
   "source": [
    "class Person:\n",
    "#     def __init__(self, name, gender): # 파이썬은 오버로딩(함수 중복 정의) 지원 안됨\n",
    "#         self.name = name #인스턴스 변수\n",
    "#         self.gender = gender\n",
    "#         print('Person 객체를 생성합니다', name)\n",
    "    \n",
    "    def __init__(self, name, gender='남자'):\n",
    "        self.name = name\n",
    "        self.gender = gender\n",
    "        print('Person 객체를 생성합니다', name)\n",
    "        \n",
    "    def __del__(self):\n",
    "        print('Person 객체를 소멸시킵니다', self.name)\n",
    "        \n",
    "    def print_info(self): # 인스턴스 메소드 : print_info, __str__ 이런것을 말함\n",
    "        print('{}은 {}입니다'.format(self.name, self.gender))\n",
    "        \n",
    "    def __str__(self): # 오버라이딩(함수 재정의)\n",
    "        return f'{self.name}은 {self.gender}입니다'"
   ]
  },
  {
   "cell_type": "code",
   "execution_count": 2,
   "id": "eb32c80d",
   "metadata": {},
   "outputs": [
    {
     "name": "stdout",
     "output_type": "stream",
     "text": [
      "Person 객체를 생성합니다 신사임당\n",
      "Person 객체를 생성합니다 홍길동\n"
     ]
    }
   ],
   "source": [
    "p1 = Person('신사임당', '여자')\n",
    "p2 = Person('홍길동')"
   ]
  },
  {
   "cell_type": "code",
   "execution_count": 3,
   "id": "d53c8b3a",
   "metadata": {},
   "outputs": [
    {
     "name": "stdout",
     "output_type": "stream",
     "text": [
      "홍길동은 남자입니다\n"
     ]
    }
   ],
   "source": [
    "print(p2)"
   ]
  },
  {
   "cell_type": "code",
   "execution_count": 4,
   "id": "242d6bef",
   "metadata": {},
   "outputs": [],
   "source": [
    "p3 = p2"
   ]
  },
  {
   "cell_type": "code",
   "execution_count": 5,
   "id": "7bbcd469",
   "metadata": {},
   "outputs": [
    {
     "name": "stdout",
     "output_type": "stream",
     "text": [
      "Person 객체를 소멸시킵니다 신사임당\n"
     ]
    }
   ],
   "source": [
    "del p1"
   ]
  },
  {
   "cell_type": "code",
   "execution_count": 7,
   "id": "1824c716",
   "metadata": {},
   "outputs": [
    {
     "name": "stdout",
     "output_type": "stream",
     "text": [
      "Person 객체를 소멸시킵니다 홍길동\n"
     ]
    }
   ],
   "source": [
    "del p2, p3"
   ]
  },
  {
   "cell_type": "markdown",
   "id": "251fc832",
   "metadata": {},
   "source": [
    "# 3절. 변수와 메소드\n",
    "- 인스턴스 변수 vs 클래스 변수\n",
    "- 인스턴스 메소드(self) vs 클래스 메소드(clz) vs static 메소드()"
   ]
  },
  {
   "cell_type": "code",
   "execution_count": 8,
   "id": "4936c443",
   "metadata": {},
   "outputs": [
    {
     "name": "stdout",
     "output_type": "stream",
     "text": [
      "홍길동\n"
     ]
    }
   ],
   "source": [
    "class Person:\n",
    "    name = '홍길동' # 클래스 변수\n",
    "    gender = '남자'\n",
    "print(Person.name, Person.gender)"
   ]
  },
  {
   "cell_type": "code",
   "execution_count": 10,
   "id": "31f1324e",
   "metadata": {},
   "outputs": [
    {
     "name": "stdout",
     "output_type": "stream",
     "text": [
      "홍길동 남자\n",
      "홍길동 남자\n",
      "홍길동 남자\n"
     ]
    }
   ],
   "source": [
    "p1 = Person()\n",
    "p2 = Person()\n",
    "print(Person.name, Person.gender)\n",
    "print(p1.name, p1.gender)\n",
    "print(p2.name, p2.gender)"
   ]
  },
  {
   "cell_type": "code",
   "execution_count": 11,
   "id": "8bab55b5",
   "metadata": {},
   "outputs": [
    {
     "name": "stdout",
     "output_type": "stream",
     "text": [
      "홍길동 남자\n",
      "홍길동 남자\n",
      "이순신 남자\n"
     ]
    }
   ],
   "source": [
    "p2.name = '이순신'\n",
    "print(Person.name, Person.gender)\n",
    "print(p1.name, p1.gender)\n",
    "print(p2.name, p2.gender)"
   ]
  },
  {
   "cell_type": "code",
   "execution_count": 12,
   "id": "3c64f5a8",
   "metadata": {},
   "outputs": [
    {
     "name": "stdout",
     "output_type": "stream",
     "text": [
      "리사 여자\n",
      "리사 여자\n",
      "이순신 여자\n"
     ]
    }
   ],
   "source": [
    "Person.name = '리사'\n",
    "Person.gender = '여자'\n",
    "print(Person.name, Person.gender)\n",
    "print(p1.name, p1.gender)\n",
    "print(p2.name, p2.gender)"
   ]
  },
  {
   "cell_type": "markdown",
   "id": "a89fa4a4",
   "metadata": {},
   "source": [
    "#### - 인스턴스 메소드(self) vs 클래스 메소드(clz) vs static 메소드()\n",
    "※ 인스턴스 메소드(self) vs 클래스 메소드(clz) vs static 메소드()\n",
    "- 인스턴스 메소드 : 첫번째 인자에 self를 꼭 명시. 객체를 통해서만 호출\n",
    "- 클래스 메소드 : 메소드 위에 @classmethod를 선언한 메소드. 첫번째 인자에 cls(clz) 꼭 명시\n",
    "- static 메소드 : 메소드 위에 @staticmethod를 선언한 메소드. 인자를 넣지 않음"
   ]
  },
  {
   "cell_type": "code",
   "execution_count": 13,
   "id": "fda311a3",
   "metadata": {},
   "outputs": [],
   "source": [
    "class Person:\n",
    "    name = '홍길동'\n",
    "    gender = '남자'\n",
    "    def print_info(self): # 객체변수명.print_info()로 호출\n",
    "        print(f'인스턴스 메소드(일반메소드) - {self.name}는 {self.gender}입니다')\n",
    "    def change_info(self, name, gender='남자'): # 객체변수.change_info('김','여자')\n",
    "        self.name = name\n",
    "        self.gender = gender\n",
    "        print(f'인스턴스 메소드(일반메소드) - {self.name}/{self.gender}로 변경 완료')\n",
    "    \n",
    "    @classmethod\n",
    "    def do_(clz): # clz == Person. 클래스 변수를 이용한 로직 Person.do_()로 호출\n",
    "        clz.name = '신사임당'\n",
    "        clz.gender = '여자'\n",
    "        print(f'클래스 메소드 - {clz.name}/{clz.gender} 변경완료')\n",
    "        \n",
    "    @staticmethod\n",
    "    def that_(): # 클래스 변수를 이용하기 보다는 로직이 우선일 경우. Person.that_()\n",
    "        Person.name = '신길동'\n",
    "        Person.gender = '남자'\n",
    "        print(f'static 메소드 - {Person.name}/{Person.gender} 변경완료')"
   ]
  },
  {
   "cell_type": "code",
   "execution_count": 14,
   "id": "9dbcf90d",
   "metadata": {},
   "outputs": [
    {
     "name": "stdout",
     "output_type": "stream",
     "text": [
      "인스턴스 메소드(일반메소드) - 홍길동는 남자입니다\n"
     ]
    }
   ],
   "source": [
    "p1 = Person()\n",
    "p1.print_info()"
   ]
  },
  {
   "cell_type": "code",
   "execution_count": 15,
   "id": "fd64a0ea",
   "metadata": {},
   "outputs": [
    {
     "name": "stdout",
     "output_type": "stream",
     "text": [
      "클래스 메소드 - 신사임당/여자 변경완료\n"
     ]
    }
   ],
   "source": [
    "Person.do_()"
   ]
  },
  {
   "cell_type": "code",
   "execution_count": 16,
   "id": "c11f647c",
   "metadata": {},
   "outputs": [
    {
     "name": "stdout",
     "output_type": "stream",
     "text": [
      "static 메소드 - 신길동/남자 변경완료\n"
     ]
    }
   ],
   "source": [
    "Person.that_()"
   ]
  },
  {
   "cell_type": "code",
   "execution_count": 17,
   "id": "e2e15978",
   "metadata": {},
   "outputs": [
    {
     "name": "stdout",
     "output_type": "stream",
     "text": [
      "인스턴스 메소드(일반메소드) - 신길동는 남자입니다\n"
     ]
    }
   ],
   "source": [
    "p1.print_info()"
   ]
  },
  {
   "cell_type": "markdown",
   "id": "9693942c",
   "metadata": {},
   "source": [
    "## 요약\n",
    "- 클래스 요약\n",
    "**객체를 이용하면 객체에 정보를 저장하고, 그 정보를 이용해서 어떤 기능을 수행할 수 있다**\n",
    "**객체 = 데이터(변수:객체마다 고유의 값) + 기능(메소드, 함수)**\n",
    "\n",
    "**그 객체를 만들기 위한 틀 => 클래스**\n",
    "```\n",
    "    class 클래스명:\n",
    "        '독스트링'\n",
    "        클래스변수명 = 값\n",
    "        def __init__(self, [객체멤버를 초기화할 변수 = 값,...]):\n",
    "            self.인스턴스(일반)변수 = 값\n",
    "            객체를 생성할 때 객체 멤버변수의 초기화\n",
    "        def method(self):\n",
    "            인스턴스 메소드(일반함수)의 매개변수는 self를 반드시 포함\n",
    "        @classmethod\n",
    "        def classmethod(cls):\n",
    "            코드\n",
    "        @staticmethod\n",
    "        def staticmethod():\n",
    "            코드\n",
    "    객체변수 = 클래스명()\n",
    "    객체변수.method()\n",
    "    클래스명.classmethod()\n",
    "    클래스명.staticmethod()\n",
    "            \n",
    "```"
   ]
  },
  {
   "cell_type": "code",
   "execution_count": 8,
   "id": "eb0b1548",
   "metadata": {},
   "outputs": [
    {
     "name": "stdout",
     "output_type": "stream",
     "text": [
      "홍길동입니다\n",
      "홍길동입니다\n"
     ]
    },
    {
     "data": {
      "text/plain": [
       "(True, True)"
      ]
     },
     "execution_count": 8,
     "metadata": {},
     "output_type": "execute_result"
    }
   ],
   "source": [
    "class Person:\n",
    "    def __init__(self, name):\n",
    "        self.name = name\n",
    "    def __str__(self):\n",
    "        return f'{self.name}입니다'\n",
    "    def print_info(self):\n",
    "        #print(f'{self.name}입니다')\n",
    "        print(self) #self만 호출할경우 __str__이 자동으로 호출된다\n",
    "p = Person(\"홍길동\")\n",
    "p.print_info()\n",
    "print(p)\n",
    "# 파이썬은 동적으로 인스턴스 멤버 추가가 가능하다\n",
    "p.nickname = \"홍별명\"\n",
    "p1 = Person('홍길숙')\n",
    "isinstance(p, Person), isinstance(p1, Person)"
   ]
  },
  {
   "cell_type": "markdown",
   "id": "5ab21543",
   "metadata": {},
   "source": [
    "# 4절. 상속과 재정의\n",
    "- 클래스를 재사용\n",
    "- 상속을 이용하면 부모클래스의 모든 속성을 자식클래스로 물려줄 수 있음\n",
    "- 문법 : class 자식클래스명(부모클래스명):\n",
    "    pass"
   ]
  },
  {
   "cell_type": "code",
   "execution_count": 9,
   "id": "ec149a5b",
   "metadata": {},
   "outputs": [],
   "source": [
    "class Student(Person):\n",
    "    def __init__(self, name, gender, major):\n",
    "        self.name = name\n",
    "        self.gender = gender\n",
    "        self.major = major\n",
    "        \n",
    "    def __del__(self):\n",
    "        pass"
   ]
  },
  {
   "cell_type": "code",
   "execution_count": 17,
   "id": "0c0a7886",
   "metadata": {},
   "outputs": [
    {
     "data": {
      "text/plain": [
       "True"
      ]
     },
     "execution_count": 17,
     "metadata": {},
     "output_type": "execute_result"
    }
   ],
   "source": [
    "issubclass(Student, Person)"
   ]
  },
  {
   "cell_type": "code",
   "execution_count": 16,
   "id": "267af02a",
   "metadata": {},
   "outputs": [
    {
     "name": "stdout",
     "output_type": "stream",
     "text": [
      "두 수 초기화\n",
      "6\n",
      "8\n",
      "두 수 초기화\n",
      "5\n"
     ]
    }
   ],
   "source": [
    "# 계산기\n",
    "class Cal:\n",
    "    def __init__(self, num1=1, num2=2):\n",
    "        print('두 수 초기화')\n",
    "        self.num1 = num1\n",
    "        self.num2 = num2\n",
    "    \n",
    "    def add(self):\n",
    "        return self.num1 + self.num2\n",
    "    \n",
    "    def sub(self):\n",
    "        return self.num1 - self.num2\n",
    "    def div(self):\n",
    "        return self.num1 / self.num2 if self.num2!=0 else '0으로 나눌 수 없어요'\n",
    "    def __str__(self):\n",
    "        return 'num1={}, num2={}'.format(self.num1, self.num2)\n",
    "    \n",
    "class Cal_inherit(Cal):\n",
    "    def mul(self):\n",
    "        return self.num1 * self.num2\n",
    "    \n",
    "obj1 = Cal_inherit(4, 2)\n",
    "print(obj1.add())\n",
    "print(obj1.mul())\n",
    "obj2 = Cal(2, 3)\n",
    "print(obj2.add())"
   ]
  },
  {
   "cell_type": "code",
   "execution_count": 18,
   "id": "9197de3b",
   "metadata": {},
   "outputs": [
    {
     "data": {
      "text/plain": [
       "(type, type)"
      ]
     },
     "execution_count": 18,
     "metadata": {},
     "output_type": "execute_result"
    }
   ],
   "source": [
    "type(Cal), type(Cal_inherit)"
   ]
  },
  {
   "cell_type": "code",
   "execution_count": 21,
   "id": "184fb4a7",
   "metadata": {},
   "outputs": [
    {
     "data": {
      "text/plain": [
       "(__main__.Cal_inherit, True, True)"
      ]
     },
     "execution_count": 21,
     "metadata": {},
     "output_type": "execute_result"
    }
   ],
   "source": [
    "type(obj1), isinstance(obj1, Cal_inherit), isinstance(obj1, Cal)\n",
    "# Cal_inherit is a Cal (상속은 is a 관계)"
   ]
  },
  {
   "cell_type": "code",
   "execution_count": 23,
   "id": "2daa226e",
   "metadata": {},
   "outputs": [
    {
     "name": "stdout",
     "output_type": "stream",
     "text": [
      "이름과 성별 초기화\n",
      "홍길동님은 남자\n",
      "홍길동님은 남자\n"
     ]
    }
   ],
   "source": [
    "class Person:\n",
    "    'Person은 이름과 성별을 멤버변수로 갖고, 출력 가능'\n",
    "    def __init__(self, name, gender):\n",
    "        print('이름과 성별 초기화')\n",
    "        self.name = name\n",
    "        self.gender = gender\n",
    "        \n",
    "    def __str__(self):\n",
    "        return '{}님은 {}'.format(self.name, self.gender)\n",
    "    def print_info(self):\n",
    "        print(self) # __str__이 자동으로 호출됨\n",
    "p = Person('홍길동','남자')\n",
    "p.print_info()\n",
    "Person.print_info(p)"
   ]
  },
  {
   "cell_type": "code",
   "execution_count": 26,
   "id": "d61c37f6",
   "metadata": {},
   "outputs": [],
   "source": [
    "# override : 함수의 재정의(부모클래스의 함수를 자식클래스에서 다시 정의)\n",
    "#            부모클래스의 함수명과 매개변수 개수가 동일\n",
    "# overload : 함수의 중복정의(같은 이름의 함수를 매개변수 갯수를 달리 해서 정의) - 파이썬에서는 불가(c++,java에서는 가능)\n",
    "class Student(Person):\n",
    "    def __init__(self, name, gender, major):\n",
    "#        self.name = name\n",
    "#        self.gender = gender\n",
    "        super().__init__(name, gender) # super() : \"부모클래스의\"를 의미 \n",
    "#        Person.__init__(self, name, gender) 이렇게도 호출 가능\n",
    "        self.major = major\n",
    "    def __str__(self): # override\n",
    "        return super().__str__() + '이고, 전공은 {}'.format(self.major)"
   ]
  },
  {
   "cell_type": "code",
   "execution_count": 29,
   "id": "d54175f8",
   "metadata": {},
   "outputs": [
    {
     "name": "stdout",
     "output_type": "stream",
     "text": [
      "이름과 성별 초기화\n",
      "홍길숙님은 여자이고, 전공은 AI\n",
      "홍길숙님은 여자이고, 전공은 AI\n"
     ]
    }
   ],
   "source": [
    "s = Student('홍길숙', '여자', 'AI')\n",
    "print(s)\n",
    "s.print_info()"
   ]
  },
  {
   "cell_type": "code",
   "execution_count": 31,
   "id": "6c13600b",
   "metadata": {},
   "outputs": [
    {
     "data": {
      "text/plain": [
       "(True, True, True)"
      ]
     },
     "execution_count": 31,
     "metadata": {},
     "output_type": "execute_result"
    }
   ],
   "source": [
    "isinstance(s, Student), isinstance(s, Person), issubclass(Student, Person)"
   ]
  },
  {
   "cell_type": "markdown",
   "id": "8e223ecb",
   "metadata": {},
   "source": [
    "## 정적변수(static 변수) : 여러 객체들 사이에 데이터를 공유하고 싶을 때 사용\n",
    "- static 변수 앞에 under score 2개 **(__)** 를 붙히면 클래스명.**_**클래스명**__**static변수명으로 참조\n",
    "- 클래스 변수는 외부에서 바로 접근 가능.\n",
    "- static 변수는 외부에서 바로 접근하는 것을 방지.\n",
    "- static 변수는 클래스 내부에서만 접근하도록 하려는 의도."
   ]
  },
  {
   "cell_type": "code",
   "execution_count": 1,
   "id": "92c604c0",
   "metadata": {},
   "outputs": [],
   "source": [
    "# 추상메소드\n",
    "class Person:\n",
    "    def __init__(self, name, gender):\n",
    "        self.name = name\n",
    "        self.gender = gender\n",
    "    def print_info(self): # 추상메소드 : 내꺼쓰지말고 상속받아서 이거 꼭 override 해\n",
    "        raise Exception('이 메소드는 호출하면 예외가 납니다.') # raise : Exception이라는 객체를 일으킴(강제 예외 발생)\n",
    "    def __str__(self):\n",
    "        return f'{self.name}은 {self.gender}'\n",
    "#p = Person('홍길동','남자')\n",
    "#p.print_info()\n",
    "class Student(Person):\n",
    "    __count = 0 # static 변수(객체의 갯수)\n",
    "    # 클래스명._클래스명__count로 사용, 클래스명.__count는 외부에서 접근 불가\n",
    "    def __init__(self, name, gender, major):\n",
    "        super().__init__(name, gender)\n",
    "        self.major = major\n",
    "        Student._Student__count += 1 # 객체가 생성될 때마다 __count 1 증가\n",
    "    def __del__(self):\n",
    "        print('객체 소멸')\n",
    "        Student._Student__count -= 1 # 객체가 소멸될 때마다 __count 1 감소\n",
    "    def print_info(self):\n",
    "        print('{}는 {}이고, 전공은 {}({}번째 객체)'.format(self.name,\n",
    "                                              self.gender,\n",
    "                                              self.major,\n",
    "                                              Student._Student__count))\n",
    "    def __str__(self):\n",
    "        return super().__str__() + '이고, 전공은 {}'.format(self.major)\n",
    "    @classmethod\n",
    "    def get_count(cls):\n",
    "        return Student._Student__count"
   ]
  },
  {
   "cell_type": "code",
   "execution_count": 39,
   "id": "61f19cf4",
   "metadata": {
    "collapsed": true
   },
   "outputs": [
    {
     "ename": "Exception",
     "evalue": "이 메소드는 호출하면 예외가 납니다.",
     "output_type": "error",
     "traceback": [
      "\u001b[1;31m---------------------------------------\u001b[0m",
      "\u001b[1;31mException\u001b[0mTraceback (most recent call last)",
      "Cell \u001b[1;32mIn[39], line 2\u001b[0m\n\u001b[0;32m      1\u001b[0m p \u001b[38;5;241m=\u001b[39m Person(\u001b[38;5;124m'\u001b[39m\u001b[38;5;124m홍\u001b[39m\u001b[38;5;124m'\u001b[39m,\u001b[38;5;124m'\u001b[39m\u001b[38;5;124m남자\u001b[39m\u001b[38;5;124m'\u001b[39m)\n\u001b[1;32m----> 2\u001b[0m \u001b[43mp\u001b[49m\u001b[38;5;241;43m.\u001b[39;49m\u001b[43mprint_info\u001b[49m\u001b[43m(\u001b[49m\u001b[43m)\u001b[49m\n",
      "Cell \u001b[1;32mIn[38], line 7\u001b[0m, in \u001b[0;36mPerson.print_info\u001b[1;34m(self)\u001b[0m\n\u001b[0;32m      6\u001b[0m \u001b[38;5;28;01mdef\u001b[39;00m \u001b[38;5;21mprint_info\u001b[39m(\u001b[38;5;28mself\u001b[39m): \u001b[38;5;66;03m# 추상메소드 : 내꺼쓰지말고 상속받아서 이거 꼭 override 해\u001b[39;00m\n\u001b[1;32m----> 7\u001b[0m     \u001b[38;5;28;01mraise\u001b[39;00m \u001b[38;5;167;01mException\u001b[39;00m(\u001b[38;5;124m'\u001b[39m\u001b[38;5;124m이 메소드는 호출하면 예외가 납니다.\u001b[39m\u001b[38;5;124m'\u001b[39m)\n",
      "\u001b[1;31mException\u001b[0m: 이 메소드는 호출하면 예외가 납니다."
     ]
    }
   ],
   "source": [
    "p = Person('홍','남자')\n",
    "p.print_info() # Person 클래스에 추상메소드가 포함되어 있어서 실행되지 않음"
   ]
  },
  {
   "cell_type": "code",
   "execution_count": 2,
   "id": "b6621745",
   "metadata": {},
   "outputs": [
    {
     "name": "stdout",
     "output_type": "stream",
     "text": [
      "홍길동는 남자이고, 전공은 AI(1번째 객체)\n"
     ]
    }
   ],
   "source": [
    "s1 = Student('홍길동', '남자', 'AI')\n",
    "s1.print_info()"
   ]
  },
  {
   "cell_type": "code",
   "execution_count": 3,
   "id": "dce1b1e1",
   "metadata": {},
   "outputs": [
    {
     "name": "stdout",
     "output_type": "stream",
     "text": [
      "김길숙는 여자이고, 전공은 데이터(2번째 객체)\n"
     ]
    }
   ],
   "source": [
    "s2 = Student('김길숙', '여자', '데이터')\n",
    "s2.print_info()"
   ]
  },
  {
   "cell_type": "code",
   "execution_count": 4,
   "id": "30285670",
   "metadata": {},
   "outputs": [
    {
     "name": "stdout",
     "output_type": "stream",
     "text": [
      "신길동는 남자이고, 전공은 컴공(3번째 객체)\n"
     ]
    }
   ],
   "source": [
    "s3 = Student('신길동', '남자', '컴공')\n",
    "s3.print_info()"
   ]
  },
  {
   "cell_type": "code",
   "execution_count": 5,
   "id": "a25f57b5",
   "metadata": {},
   "outputs": [
    {
     "data": {
      "text/plain": [
       "3"
      ]
     },
     "execution_count": 5,
     "metadata": {},
     "output_type": "execute_result"
    }
   ],
   "source": [
    "Student.get_count()"
   ]
  },
  {
   "cell_type": "code",
   "execution_count": 6,
   "id": "26dcbb8c",
   "metadata": {},
   "outputs": [
    {
     "name": "stdout",
     "output_type": "stream",
     "text": [
      "객체 소멸\n",
      "객체 소멸\n"
     ]
    }
   ],
   "source": [
    "del s3, s2"
   ]
  },
  {
   "cell_type": "code",
   "execution_count": 7,
   "id": "7d9da709",
   "metadata": {},
   "outputs": [
    {
     "data": {
      "text/plain": [
       "1"
      ]
     },
     "execution_count": 7,
     "metadata": {},
     "output_type": "execute_result"
    }
   ],
   "source": [
    "Student.get_count()"
   ]
  },
  {
   "cell_type": "markdown",
   "id": "1f891516",
   "metadata": {},
   "source": [
    "# 5절. 연습문제\n",
    "### 실습형"
   ]
  },
  {
   "cell_type": "code",
   "execution_count": 7,
   "id": "7f9901d7",
   "metadata": {},
   "outputs": [],
   "source": [
    "class Shape:\n",
    "    def __init__(self, x=0, y=0):\n",
    "        self.x = x\n",
    "        self.y = y\n",
    "    def move(self, x, y):\n",
    "        self.x += x\n",
    "        self.y += y\n",
    "    def __str__(self):\n",
    "        return f'{self.x}가 {self.y}'\n",
    "    def calc_area(self):\n",
    "        raise Exception('이 메소드는 호출하면 예외가 납니다.')\n",
    "    \n",
    "    @staticmethod\n",
    "    def staticmethod_():\n",
    "        print('도형 클래스 staticmethod 호출')\n",
    "        "
   ]
  },
  {
   "cell_type": "code",
   "execution_count": 14,
   "id": "8d779245",
   "metadata": {},
   "outputs": [],
   "source": [
    "class Triangle(Shape):\n",
    "    __count = 0\n",
    "    def __init__(self, x=0, y=0, width=0, height=0):\n",
    "        super().__init__(x, y)\n",
    "        self.width = width\n",
    "        self.height = height\n",
    "        Triangle._Triangle__count += 1\n",
    "        \n",
    "    def __del__(self):\n",
    "        Triangle._Triangle__count -= 1\n",
    "        \n",
    "    def calc_area(self):\n",
    "        return 0.5 * self.width * self.height\n",
    "    \n",
    "    def __str__(self):\n",
    "        return f'x는 {self.x}, y는 {self.y}, width는 {self.width}, height는 {self.height}, 삼각형의 면적은 {self.calc_area():.2f}'\n",
    "    \n",
    "    @classmethod\n",
    "    def get_count(cls):\n",
    "        #return Triangle._Triangle__count\n",
    "        return cls.__count"
   ]
  },
  {
   "cell_type": "code",
   "execution_count": 12,
   "id": "2fec508c",
   "metadata": {},
   "outputs": [
    {
     "name": "stdout",
     "output_type": "stream",
     "text": [
      "2가 2\n",
      "12가 7\n",
      "도형 클래스 staticmethod 호출\n"
     ]
    }
   ],
   "source": [
    "s = Shape(2,2)\n",
    "print(s)\n",
    "s.move(10,5)\n",
    "print(s)\n",
    "Shape.staticmethod_()\n",
    "#s.staticmethod_()\n",
    "#s.calc_area() 강제예외"
   ]
  },
  {
   "cell_type": "code",
   "execution_count": 17,
   "id": "8a59c556",
   "metadata": {},
   "outputs": [
    {
     "name": "stdout",
     "output_type": "stream",
     "text": [
      "x는 4, y는 3, width는 0, height는 10, 삼각형의 면적은 0.00\n",
      "x는 10, y는 5, width는 0, height는 0, 삼각형의 면적은 0.00\n",
      "x는 6, y는 4, width는 1, height는 2, 삼각형의 면적은 1.00\n",
      "Triangle 객체 갯수 : 1\n",
      "도형 클래스 staticmethod 호출\n",
      "x는 60, y는 55, width는 0, height는 0, 삼각형의 면적은 0.00\n"
     ]
    }
   ],
   "source": [
    "p = Triangle(4, 3, 0, 10)\n",
    "p1 = Triangle(10, 5)\n",
    "p2 = Triangle(6, 4, 1, 2)\n",
    "print(p)\n",
    "print(p1)\n",
    "print(p2)\n",
    "print('Triangle 객체 갯수 :', Triangle.get_count())\n",
    "Triangle.staticmethod_()\n",
    "p1.move(50,50)\n",
    "print(p1)"
   ]
  },
  {
   "cell_type": "code",
   "execution_count": 18,
   "id": "0d48f2d4",
   "metadata": {},
   "outputs": [
    {
     "name": "stdout",
     "output_type": "stream",
     "text": [
      "Triangle 객체 갯수 : -1\n"
     ]
    }
   ],
   "source": [
    "del p, p1\n",
    "print('Triangle 객체 갯수 :', Triangle.get_count())"
   ]
  },
  {
   "cell_type": "markdown",
   "id": "db620706",
   "metadata": {},
   "source": [
    "### 객관식"
   ]
  },
  {
   "cell_type": "markdown",
   "id": "ea6d36fe",
   "metadata": {},
   "source": [
    "```\n",
    "1번문제 1. class Person:\n",
    "2번문제 2. p1 = Person()\n",
    "3번문제 4. def print_info(self):\n",
    "4번문제 1. 생성자는 중복(Ovsrloading) 정의해서 사용할 수 있다.\n",
    "5번문제 2. class Student(Person):\n",
    "6번문제 3. 재정의는 메소드의 이름은 같고, 매개변수의 수는 다르게 정의해야 한다.\n",
    "7번문제 3. SomeClass.method_a()\n",
    "8번문제 3. super.do_(a)\n",
    "9번문제 2. __str__() 메소드는 print()함수의 인자로 객체를 전달할 때 호출되는 메소드이다. 이 메소드는 매개변수를 가질 수 없다.\n",
    "```"
   ]
  },
  {
   "cell_type": "code",
   "execution_count": 25,
   "id": "b785faff",
   "metadata": {},
   "outputs": [
    {
     "name": "stdout",
     "output_type": "stream",
     "text": [
      "{'name': '홍길동', 'gender': '남자'}\n",
      "{'name': '홍길동', 'gender': '남자'}\n",
      "독스트링은 클래스 첫번째 줄에 있는 문자열(클래스 설명서)\n"
     ]
    }
   ],
   "source": [
    "#9\n",
    "class Person:\n",
    "    '독스트링은 클래스 첫번째 줄에 있는 문자열(클래스 설명서)'\n",
    "    def __init__(self, name, gender): #생성자함수\n",
    "        self.name = name # 객체안의 변수(인스턴스 변수)\n",
    "        self.gender = gender\n",
    "    def print_info(self):\n",
    "        print(\"{}는 {}입니다 {}를 다닙니다\".format(self.name,\n",
    "                                                 self.gender,\n",
    "                                                 self.accademy))\n",
    "    def __str__(self):\n",
    "        return \"{}는 {}입니다 {}를 다닙니다\".format(self.name,\n",
    "                                                  self.gender,\n",
    "                                                  self.accademy)\n",
    "    def as_dict(self):\n",
    "        return {'name':self.name,\n",
    "                 'gender':self.gender}\n",
    "\n",
    "p = Person('홍길동', '남자')\n",
    "p.__dict__ # __dict__ 객체를 딕셔너리 타입으로 전환(바꿀 수 있음)\n",
    "print(p.__dict__)\n",
    "print(p.as_dict())\n",
    "print(Person.__doc__)"
   ]
  },
  {
   "cell_type": "code",
   "execution_count": null,
   "id": "8fc471a0",
   "metadata": {},
   "outputs": [],
   "source": []
  }
 ],
 "metadata": {
  "kernelspec": {
   "display_name": "Python 3 (ipykernel)",
   "language": "python",
   "name": "python3"
  },
  "language_info": {
   "codemirror_mode": {
    "name": "ipython",
    "version": 3
   },
   "file_extension": ".py",
   "mimetype": "text/x-python",
   "name": "python",
   "nbconvert_exporter": "python",
   "pygments_lexer": "ipython3",
   "version": "3.10.9"
  },
  "toc": {
   "base_numbering": 1,
   "nav_menu": {},
   "number_sections": false,
   "sideBar": true,
   "skip_h1_title": false,
   "title_cell": "Table of Contents",
   "title_sidebar": "Contents",
   "toc_cell": false,
   "toc_position": {
    "height": "calc(100% - 180px)",
    "left": "10px",
    "top": "150px",
    "width": "199px"
   },
   "toc_section_display": true,
   "toc_window_display": true
  }
 },
 "nbformat": 4,
 "nbformat_minor": 5
}
