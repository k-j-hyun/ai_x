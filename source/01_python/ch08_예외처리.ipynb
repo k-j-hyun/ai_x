{
 "cells": [
  {
   "cell_type": "code",
   "execution_count": 1,
   "id": "de55ade5",
   "metadata": {},
   "outputs": [
    {
     "data": {
      "text/html": [
       "\n",
       "<style>\n",
       "div.container{width:86% !important;}\n",
       "div.cell.code_cell.rendered{width:100%;}\n",
       "div.CodeMirror {font family: Consolas; font-size:12pt;}\n",
       "div.output {font-size:12pt; font-weight:bold;}\n",
       "div.input {font-family: Consolas; font-size:12pt;}\n",
       "div.prompt {min-width:70px;}\n",
       "div#toc-wrapper{padding top:120px;}\n",
       "div.text_cell_render ul li {font-size:12pt;padding:5px;}\n",
       "table.dataframe{font-size:12px;}\n",
       "</style>\n"
      ],
      "text/plain": [
       "<IPython.core.display.HTML object>"
      ]
     },
     "metadata": {},
     "output_type": "display_data"
    }
   ],
   "source": [
    "from IPython.display import display, HTML\n",
    "display(HTML(\"\"\"\n",
    "<style>\n",
    "div.container{width:86% !important;}\n",
    "div.cell.code_cell.rendered{width:100%;}\n",
    "div.CodeMirror {font family: Consolas; font-size:12pt;}\n",
    "div.output {font-size:12pt; font-weight:bold;}\n",
    "div.input {font-family: Consolas; font-size:12pt;}\n",
    "div.prompt {min-width:70px;}\n",
    "div#toc-wrapper{padding top:120px;}\n",
    "div.text_cell_render ul li {font-size:12pt;padding:5px;}\n",
    "table.dataframe{font-size:12px;}\n",
    "</style>\n",
    "\"\"\"))"
   ]
  },
  {
   "cell_type": "markdown",
   "id": "bed2650a",
   "metadata": {},
   "source": [
    "<b><font color=\"red\" size=\"6\"> 8장. 예외처리 </font></b>\n",
    "# 1절. 예외처리\n",
    "- 예외가 날 가능성이 있는 부분에 대해 미리 예상하고, 그에 대한 처리를 프로그래밍 하는 것\n",
    "  <br><t>(이유 : 좀 더 안정적으로 실행)</br></t>\n",
    "``` \n",
    "ex. 파일을 다룰 때 : 파일이 없거나, 쓰기 금지로 인한 오류\n",
    "ex. 데이터베이스 프로그래밍 시 제약조건 등으로 CRUD(CRATE, READ, UPDATE, DELETE) 오류\n",
    "ex. 네트워크 프로그래밍 시 일시적인 네트워크 장애시 연결 실패 오류\n",
    "ex. 리스트나 튜플의 인덱스를 벗어난 오류\n",
    "\n",
    "```"
   ]
  },
  {
   "cell_type": "markdown",
   "id": "6e59d523",
   "metadata": {},
   "source": [
    "### 에러\n",
    "```\n",
    "-문법 에러 : 문법적으로 나타나는 에러\n",
    "-실행 에러(실행시 에러)\n",
    "-1. 논리에러 : 프로그래머가 잘못 작성해서 이상한 결과가 나오는 경우\n",
    "-2. 시스템에러 : 프로그래머의 의지와 상관없이 나타나는 에러\n",
    "-3. 예외사항 : 정상적으로 프로그램이 동작하는 과정에서 나타나는 에러\n",
    "               프로그램 실행 중에 발생하는 예지치 않는 사건\n",
    "              ex. 정수를 0으로 나누는 경우, 배열 인덱스 벗어난 경우,\n",
    "                  부적절한 형변환이 일어나는 경우\n",
    "                  입출력을 위한 파일이 없는 경우\n",
    "```"
   ]
  },
  {
   "cell_type": "code",
   "execution_count": 6,
   "id": "0649f041",
   "metadata": {},
   "outputs": [
    {
     "name": "stdout",
     "output_type": "stream",
     "text": [
      "파일명은(ch08.txt)?ch08.txt\n",
      "Hello\n",
      "World\n"
     ]
    }
   ],
   "source": [
    "filename = input('파일명은(ch08.txt)?')\n",
    "f = open('data/'+filename, 'r') # r은 읽기전용 w는 쓰기전용\n",
    "print(f.read()) # 파일 읽기\n",
    "f.close()"
   ]
  },
  {
   "cell_type": "code",
   "execution_count": 8,
   "id": "22587cac",
   "metadata": {},
   "outputs": [
    {
     "ename": "ZeroDivisionError",
     "evalue": "division by zero",
     "output_type": "error",
     "traceback": [
      "\u001b[1;31m---------------------------------------\u001b[0m",
      "\u001b[1;31mZeroDivisionError\u001b[0mTraceback (most recent call last)",
      "Cell \u001b[1;32mIn[8], line 1\u001b[0m\n\u001b[1;32m----> 1\u001b[0m \u001b[38;5;241;43m4\u001b[39;49m\u001b[43m \u001b[49m\u001b[38;5;241;43m/\u001b[39;49m\u001b[43m \u001b[49m\u001b[38;5;241;43m0\u001b[39;49m\n",
      "\u001b[1;31mZeroDivisionError\u001b[0m: division by zero"
     ]
    }
   ],
   "source": [
    "4 / 0 # 오류예제"
   ]
  },
  {
   "cell_type": "code",
   "execution_count": 12,
   "id": "6bfaf515",
   "metadata": {},
   "outputs": [
    {
     "ename": "IndexError",
     "evalue": "list index out of range",
     "output_type": "error",
     "traceback": [
      "\u001b[1;31m---------------------------------------\u001b[0m",
      "\u001b[1;31mIndexError\u001b[0mTraceback (most recent call last)",
      "Cell \u001b[1;32mIn[12], line 2\u001b[0m\n\u001b[0;32m      1\u001b[0m a \u001b[38;5;241m=\u001b[39m [\u001b[38;5;241m1\u001b[39m, \u001b[38;5;241m2\u001b[39m, \u001b[38;5;241m3\u001b[39m] \u001b[38;5;66;03m#오류예제\u001b[39;00m\n\u001b[1;32m----> 2\u001b[0m \u001b[43ma\u001b[49m\u001b[43m[\u001b[49m\u001b[38;5;241;43m3\u001b[39;49m\u001b[43m]\u001b[49m\n",
      "\u001b[1;31mIndexError\u001b[0m: list index out of range"
     ]
    }
   ],
   "source": [
    "a = [1, 2, 3] #오류예제\n",
    "a[3]"
   ]
  },
  {
   "cell_type": "markdown",
   "id": "48109c61",
   "metadata": {},
   "source": [
    "# 2절. try ~ except 로 예외처리\n",
    "## 2.1 try ~ except\n",
    "```\n",
    "try:\n",
    "    예외가 발생할 가능성이 있는 명령어\n",
    "except:\n",
    "    예외가 발생했을 경우 실행할 명령어\n",
    "\n",
    "```"
   ]
  },
  {
   "cell_type": "code",
   "execution_count": 17,
   "id": "5f2dd055",
   "metadata": {},
   "outputs": [
    {
     "name": "stdout",
     "output_type": "stream",
     "text": [
      "정수를 입력하세요 :7\n",
      "100을 입력한 정수로 나누면 14.286\n"
     ]
    }
   ],
   "source": [
    "# 100을 입력받은 정수값으로 나눠 출력\n",
    "# 0을 입력했을 때 : ZeroDivisionError: division by zero\n",
    "# a를 입력했을 때 : ValueError: invalid literal for int() with base 10: 'a'\n",
    "x = int(input('정수를 입력하세요 :'))\n",
    "print('100을 입력한 정수로 나누면 {:.3f}'.format(100/x))"
   ]
  },
  {
   "cell_type": "code",
   "execution_count": 22,
   "id": "ae76ae50",
   "metadata": {},
   "outputs": [
    {
     "name": "stdout",
     "output_type": "stream",
     "text": [
      "정수를 입력하세요 :99\n",
      "x값 입력 받음 99\n",
      "100을 입력한 정수로 나누면 1.010\n",
      "예외가 발생 안 됨\n"
     ]
    }
   ],
   "source": [
    "# 100을 입력받은 정수값으로 나눠 출력\n",
    "# 0을 입력했을 때 : ZeroDivisionError: division by zero\n",
    "# a를 입력했을 때 : ValueError: invalid literal for int() with base 10: 'a'\n",
    "try:\n",
    "    x = int(input('정수를 입력하세요 :'))\n",
    "    print('x값 입력 받음', x)\n",
    "    print('100을 입력한 정수로 나누면 {:.3f}'.format(100/x))\n",
    "    print('예외가 발생 안 됨')\n",
    "except:\n",
    "    print('유효한 정수가 아닙니다.')"
   ]
  },
  {
   "cell_type": "code",
   "execution_count": 3,
   "id": "231e79a8",
   "metadata": {},
   "outputs": [
    {
     "name": "stdout",
     "output_type": "stream",
     "text": [
      "정수를 입력하세요: 3\n",
      "100을 입력한 정수로 나누면 33.33\n"
     ]
    }
   ],
   "source": [
    "# 100을 나눌 유효한 정수를 입력할때까지 입력받아\n",
    "# 유효한 정수를 입력하면, 100을 입력한 수로 나눈 결과를 출력\n",
    "# 나눈 결과가 .0으로 끝나면 정수 결과를 출력/ .0으로 끝나지 않으면 소수점 2자리까지 출력\n",
    "while True:\n",
    "    try:\n",
    "        x = int(input('정수를 입력하세요: '))\n",
    "        result = 100 / x\n",
    "        rounded = round(result, 2)\n",
    "\n",
    "        # 소수점 아래가 0인지 확인\n",
    "        if rounded == int(rounded):\n",
    "            print(f\"100을 입력한 정수로 나누면 {int(rounded)}\")\n",
    "        else:\n",
    "            print(f\"100을 입력한 정수로 나누면 {rounded:.2f}\")\n",
    "        break\n",
    "    except:\n",
    "        print('유효한 정수가 아닙니다. 다시 시도하세요.')"
   ]
  },
  {
   "cell_type": "code",
   "execution_count": 3,
   "id": "7060ba8c",
   "metadata": {},
   "outputs": [
    {
     "name": "stdout",
     "output_type": "stream",
     "text": [
      "정수를 입력하세요 :ㅁ\n",
      "숫자가 아닌 값을 입력했어요. 정수를 입력하세요.\n",
      "정수를 입력하세요 :a\n",
      "숫자가 아닌 값을 입력했어요. 정수를 입력하세요.\n",
      "정수를 입력하세요 :0\n",
      "0으로는 나눌 수 없어요!\n",
      "정수를 입력하세요 :4\n",
      "25\n"
     ]
    }
   ],
   "source": [
    "##### 정답\n",
    "while True:\n",
    "    try:\n",
    "        x = int(input('정수를 입력하세요 :'))\n",
    "        result = 100/x\n",
    "        result = f'{100/x:.0f}' if round(result) == result else f'{100/x:.2f}'\n",
    "        print(result)\n",
    "        break\n",
    "    except:\n",
    "        print('유효한 정수를 입력하세요')"
   ]
  },
  {
   "cell_type": "markdown",
   "id": "e760d21d",
   "metadata": {},
   "source": [
    "## 2.2 예외\n",
    "### try ~ except\n",
    "```\n",
    "try:\n",
    "    예외가 발생할 수도 있는 문장들\n",
    "except 예외타입1:\n",
    "    해당 예외가 발생할 경우 실행할 문장\n",
    "except 예외타입2:\n",
    "    해당 예외가 발생할 경우 실행할 문장\n",
    "```"
   ]
  },
  {
   "cell_type": "code",
   "execution_count": 9,
   "id": "fa9c8111",
   "metadata": {},
   "outputs": [
    {
     "name": "stdout",
     "output_type": "stream",
     "text": [
      "정수를 입력하세요 :5\n",
      "20\n"
     ]
    }
   ],
   "source": [
    "##### 정답\n",
    "# 0을 입력했을 때 : ZeroDivisionError: division by zero\n",
    "# a를 입력했을 때 : ValueError: invalid literal for int() with base 10: 'a'\n",
    "while True:\n",
    "    try:\n",
    "        x = int(input('정수를 입력하세요 :'))\n",
    "        result = 100/x\n",
    "        result = f'{100/x:.0f}' if round(result) == result else f'{100/x:.2f}'\n",
    "        print(result)\n",
    "        break\n",
    "    except ValueError:\n",
    "        print('정수를 입력하세요.')\n",
    "    except ZeroDivisionError:\n",
    "        print('0으로는 나눌 수 없어요')\n",
    "    except Exception:\n",
    "        # Exception 절이 많은 경우 하위 클래스(자식클래스)가 위에 나와야 함\n",
    "        print('그외 다른 예외. 다시 시도하세요')\n",
    "        "
   ]
  },
  {
   "cell_type": "code",
   "execution_count": 8,
   "id": "ba508584",
   "metadata": {},
   "outputs": [
    {
     "name": "stdout",
     "output_type": "stream",
     "text": [
      "정수를 입력하세요 :5\n",
      "20\n"
     ]
    }
   ],
   "source": [
    "##### 정답\n",
    "# 0을 입력했을 때 : ZeroDivisionError: division by zero\n",
    "# a를 입력했을 때 : ValueError: invalid literal for int() with base 10: 'a'\n",
    "while True:\n",
    "    try:\n",
    "        x = int(input('정수를 입력하세요 :'))\n",
    "        result = 100/x\n",
    "        result = f'{100/x:.0f}' if round(result) == result else f'{100/x:.2f}'\n",
    "        print(result)\n",
    "        break\n",
    "    except Exception: # 최상위 오류 함수를 사용하면 하위 에러들은 소용이 없어지므로 Exception 순서는 맨 아래 예외로 두어야함\n",
    "        print('그외 다른 예외. 다시 시도하세요')\n",
    "    except ZeroDivisionError:\n",
    "        print('0으로는 나눌 수 없어요')\n",
    "    except ValueError:\n",
    "        print('정수를 입력하세요.')        "
   ]
  },
  {
   "cell_type": "code",
   "execution_count": 11,
   "id": "613cbebc",
   "metadata": {},
   "outputs": [
    {
     "name": "stdout",
     "output_type": "stream",
     "text": [
      "정수를 입력하세요 :5\n",
      "20\n"
     ]
    }
   ],
   "source": [
    "##### 정답\n",
    "# 0을 입력했을 때 : ZeroDivisionError: division by zero\n",
    "# a를 입력했을 때 : ValueError: invalid literal for int() with base 10: 'a'\n",
    "while True:\n",
    "    try:\n",
    "        x = int(input('정수를 입력하세요 :'))\n",
    "        result = 100/x\n",
    "        result = f'{100/x:.0f}' if round(result) == result else f'{100/x:.2f}'\n",
    "        print(result)\n",
    "        break\n",
    "    except (ValueError, ZeroDivisionError): # 에러 여러개를 한번에 사용 가능 except (오류1, 오류2):\n",
    "        print('0으로 적었거나 정수가 아닙니다')\n",
    "    except Exception:\n",
    "        # Exception 절이 많은 경우 하위 클래스(자식클래스)가 위에 나와야 함\n",
    "        print('그외 다른 예외. 다시 시도하세요')\n",
    "        "
   ]
  },
  {
   "cell_type": "markdown",
   "id": "1d6183bc",
   "metadata": {},
   "source": [
    "## 2.3 예외메세지(예외인수)"
   ]
  },
  {
   "cell_type": "code",
   "execution_count": 13,
   "id": "728565f9",
   "metadata": {},
   "outputs": [
    {
     "name": "stdout",
     "output_type": "stream",
     "text": [
      "정수를 입력하세요 :a\n",
      "invalid literal for int() with base 10: 'a'\n",
      "<class 'ValueError'>\n",
      "예외메세지 : (\"invalid literal for int() with base 10: 'a'\",)\n",
      "예외메세지 : invalid literal for int() with base 10: 'a'\n",
      "정수를 입력하세요 :0\n",
      "division by zero\n",
      "<class 'ZeroDivisionError'>\n",
      "예외메세지 : ('division by zero',)\n",
      "예외메세지 : division by zero\n",
      "정수를 입력하세요 :5\n",
      "20\n"
     ]
    }
   ],
   "source": [
    "# 예외메세지를 개발자에게 출력할경우\n",
    "while True:\n",
    "    try:\n",
    "        x = int(input('정수를 입력하세요 :'))\n",
    "        result = 100/x\n",
    "        result = f'{100/x:.0f}' if round(result) == result else f'{100/x:.2f}'\n",
    "        print(result)\n",
    "        break\n",
    "        \n",
    "    except (ZeroDivisionError, ValueError) as e: # 예외가 나서 자동으로 만들어진 예외 객체\n",
    "        print(e) #e.__str__() : 예외메세지를 반환\n",
    "        print(type(e)) # 타입으로 확인해주면 오류 전체이름이 나옴\n",
    "        print('예외메세지 :', e.args)\n",
    "        print('예외메세지 :', e.args[0])\n",
    "    \n",
    "    except Exception:\n",
    "        print('그외 다른 예외. 다시 시도하세요')\n",
    "        "
   ]
  },
  {
   "cell_type": "markdown",
   "id": "9cf3ede2",
   "metadata": {},
   "source": [
    "### PDF12page(try ~ except ~ else ~ finally)\n",
    "```\n",
    "try:\n",
    "    예외가 발생할 수도 있는 구문\n",
    "    try절을 수행하다 예외가 발생 안되면 else절을 한번 수행\n",
    "except [예외타입 as e]:\n",
    "    예외가 발생 되었을 경우 수행할 구문\n",
    "else: (else는 생략 가능하다)\n",
    "    try절을 수행하다 예외가 발생 안되면 else절을 한번 수행\n",
    "finally:\n",
    "    예외가 발생 안하면 try-else-finally 순으로 실행됨\n",
    "    예외가 발생하면 try수행중 except절로 빠짐 이후 finally절 수행\n",
    "\n",
    "```"
   ]
  },
  {
   "cell_type": "code",
   "execution_count": 17,
   "id": "6658d16d",
   "metadata": {},
   "outputs": [
    {
     "name": "stdout",
     "output_type": "stream",
     "text": [
      "[Errno 2] No such file or directory: 'data/ch08.tt'\n",
      "<class 'FileNotFoundError'>\n",
      "해당 파일이 없습니다\n"
     ]
    }
   ],
   "source": [
    "try:\n",
    "    f = open(r'data/ch08.tt', 'r')\n",
    "except FileNotFoundError as e:\n",
    "    print(e)\n",
    "    print(type(e))\n",
    "    print('해당 파일이 없습니다')\n",
    "else: # 예외가 발생하지 않을 때\n",
    "    data = f.read()\n",
    "    print(data)\n",
    "finally: # 무조건 실행됨\n",
    "    f.close()"
   ]
  },
  {
   "cell_type": "code",
   "execution_count": 18,
   "id": "8a881154",
   "metadata": {},
   "outputs": [
    {
     "name": "stdout",
     "output_type": "stream",
     "text": [
      "Hello\n",
      "World\n"
     ]
    }
   ],
   "source": [
    "try:\n",
    "    f = open(r'data/ch08.txt', 'r')\n",
    "except FileNotFoundError as e:\n",
    "    print(e)\n",
    "    print(type(e))\n",
    "    print('해당 파일이 없습니다')\n",
    "else: # 예외가 발생하지 않을 때\n",
    "    data = f.read()\n",
    "    print(data)\n",
    "finally: # 무조건 실행됨\n",
    "    f.close()"
   ]
  },
  {
   "cell_type": "code",
   "execution_count": 23,
   "id": "6cea3603",
   "metadata": {},
   "outputs": [
    {
     "name": "stdout",
     "output_type": "stream",
     "text": [
      "Hello\n",
      "World\n",
      "반드시 실행됨\n"
     ]
    }
   ],
   "source": [
    "# else 부분을 try로 올린 후 else를 사용하지 않아도 결과는 같음\n",
    "try:\n",
    "    f = open(r'data/ch08.txt', 'r')\n",
    "    data = f.read()\n",
    "    print(data)\n",
    "except FileNotFoundError as e:\n",
    "    print(e)\n",
    "    print(type(e))\n",
    "    print('해당 파일이 없습니다')\n",
    "\n",
    "finally: # 무조건 실행됨\n",
    "    print('반드시 실행됨')\n",
    "    f.close()"
   ]
  },
  {
   "cell_type": "markdown",
   "id": "5e30ba60",
   "metadata": {},
   "source": [
    "# 3절. raise\n",
    "- 강제 예외 발생"
   ]
  },
  {
   "cell_type": "code",
   "execution_count": 24,
   "id": "e459ac75",
   "metadata": {},
   "outputs": [
    {
     "ename": "NameError",
     "evalue": "예외 발생함",
     "output_type": "error",
     "traceback": [
      "\u001b[1;31m---------------------------------------\u001b[0m",
      "\u001b[1;31mNameError\u001b[0mTraceback (most recent call last)",
      "Cell \u001b[1;32mIn[24], line 1\u001b[0m\n\u001b[1;32m----> 1\u001b[0m \u001b[38;5;28;01mraise\u001b[39;00m \u001b[38;5;167;01mNameError\u001b[39;00m(\u001b[38;5;124m'\u001b[39m\u001b[38;5;124m예외 발생함\u001b[39m\u001b[38;5;124m'\u001b[39m)\n",
      "\u001b[1;31mNameError\u001b[0m: 예외 발생함"
     ]
    }
   ],
   "source": [
    "raise NameError('예외 발생함')"
   ]
  },
  {
   "cell_type": "code",
   "execution_count": 1,
   "id": "4ca80087",
   "metadata": {},
   "outputs": [],
   "source": [
    "# 나만의 예외 만들기\n",
    "# 사용자 정의 예외 : Exception 클래스 또는 그 하위 클래스를 상속받아 구현\n",
    "class LengthZeroError(Exception): # Exception 부모클래스에서 상속받기(자식클래스:LengthZeroError)\n",
    "    '길이가 0일 때 발생할 예외'\n",
    "    pass\n",
    "#    def __init__(self, message): 이미 Exception 안에 있는 코드임\n",
    "#        self.message = message"
   ]
  },
  {
   "cell_type": "code",
   "execution_count": 2,
   "id": "21b47a62",
   "metadata": {},
   "outputs": [],
   "source": [
    "def insert(*data): # 튜플 매개변수\n",
    "    if len(data) == 0:\n",
    "        raise LengthZeroError('매개변수가 0인 예외입니다')\n",
    "    for item in data:\n",
    "        print(item, end=' ')\n",
    "    print('등을 입력하셨습니다')"
   ]
  },
  {
   "cell_type": "code",
   "execution_count": 8,
   "id": "46784afd",
   "metadata": {
    "scrolled": true
   },
   "outputs": [
    {
     "ename": "LengthZeroError",
     "evalue": "매개변수가 0인 예외입니다",
     "output_type": "error",
     "traceback": [
      "\u001b[1;31m---------------------------------------\u001b[0m",
      "\u001b[1;31mLengthZeroError\u001b[0mTraceback (most recent call last)",
      "Cell \u001b[1;32mIn[8], line 2\u001b[0m\n\u001b[0;32m      1\u001b[0m data \u001b[38;5;241m=\u001b[39m []\n\u001b[1;32m----> 2\u001b[0m \u001b[43minsert\u001b[49m\u001b[43m(\u001b[49m\u001b[38;5;241;43m*\u001b[39;49m\u001b[43mdata\u001b[49m\u001b[43m)\u001b[49m\n",
      "Cell \u001b[1;32mIn[2], line 3\u001b[0m, in \u001b[0;36minsert\u001b[1;34m(*data)\u001b[0m\n\u001b[0;32m      1\u001b[0m \u001b[38;5;28;01mdef\u001b[39;00m \u001b[38;5;21minsert\u001b[39m(\u001b[38;5;241m*\u001b[39mdata): \u001b[38;5;66;03m# 튜플 매개변수\u001b[39;00m\n\u001b[0;32m      2\u001b[0m     \u001b[38;5;28;01mif\u001b[39;00m \u001b[38;5;28mlen\u001b[39m(data) \u001b[38;5;241m==\u001b[39m \u001b[38;5;241m0\u001b[39m:\n\u001b[1;32m----> 3\u001b[0m         \u001b[38;5;28;01mraise\u001b[39;00m LengthZeroError(\u001b[38;5;124m'\u001b[39m\u001b[38;5;124m매개변수가 0인 예외입니다\u001b[39m\u001b[38;5;124m'\u001b[39m)\n\u001b[0;32m      4\u001b[0m     \u001b[38;5;28;01mfor\u001b[39;00m item \u001b[38;5;129;01min\u001b[39;00m data:\n\u001b[0;32m      5\u001b[0m         \u001b[38;5;28mprint\u001b[39m(item, end\u001b[38;5;241m=\u001b[39m\u001b[38;5;124m'\u001b[39m\u001b[38;5;124m \u001b[39m\u001b[38;5;124m'\u001b[39m)\n",
      "\u001b[1;31mLengthZeroError\u001b[0m: 매개변수가 0인 예외입니다"
     ]
    }
   ],
   "source": [
    "data = []\n",
    "insert(*data)"
   ]
  },
  {
   "cell_type": "code",
   "execution_count": 9,
   "id": "3c86e3d5",
   "metadata": {},
   "outputs": [
    {
     "name": "stdout",
     "output_type": "stream",
     "text": [
      "1 2 등을 입력하셨습니다\n"
     ]
    }
   ],
   "source": [
    "data = [1, 2]\n",
    "insert(*data)"
   ]
  },
  {
   "cell_type": "code",
   "execution_count": 11,
   "id": "b131862f",
   "metadata": {},
   "outputs": [
    {
     "name": "stdout",
     "output_type": "stream",
     "text": [
      "<class '__main__.LengthZeroError'>\n",
      "매개변수가 0인 예외입니다\n",
      "무조건 실행하는 부분 DONE\n"
     ]
    }
   ],
   "source": [
    "data = []\n",
    "try:\n",
    "    insert(*data)\n",
    "except LengthZeroError as e:\n",
    "    print(type(e))\n",
    "    print(e)\n",
    "finally:\n",
    "    print('무조건 실행하는 부분 DONE')"
   ]
  },
  {
   "cell_type": "code",
   "execution_count": 30,
   "id": "335c5f17",
   "metadata": {},
   "outputs": [
    {
     "name": "stdout",
     "output_type": "stream",
     "text": [
      "1 2 등을 입력하셨습니다\n",
      "[1, 2] 등을 입력하셨습니다\n",
      "{1: 2, 2: 3} 등을 입력하셨습니다\n"
     ]
    }
   ],
   "source": [
    "insert(1, 2)\n",
    "insert([1, 2])\n",
    "insert({1:2,2:3})"
   ]
  },
  {
   "cell_type": "markdown",
   "id": "8a7775bd",
   "metadata": {},
   "source": [
    "# 4절. 추상클래스 & 추상메소드\n",
    "- 추상클래스 : 객체를 생성할 수 없는 클래스. 상속받을 클래스의 포맷 제공\n",
    "- 추상메소드 : 호출할 수 없는 메소드"
   ]
  },
  {
   "cell_type": "code",
   "execution_count": 12,
   "id": "55ce37b1",
   "metadata": {},
   "outputs": [],
   "source": [
    "# Shape 클래스 : 객체를 만드는게 목적이 아니고, 자식클래스(서브클래스)를 잘 만들게 하는게 목적\n",
    "# Shape 클래스를 상속받은 클래스들의 표준 제시\n",
    "class Shape:\n",
    "    def __init__(self):\n",
    "        raise NotImplementedError('추상 클래스 역할') # NotImplementedError 추상 클래스 만들때 자주 씀\n",
    "    def calc_area(self):\n",
    "        raise NotImplementedError('추상 메소드 역할')"
   ]
  },
  {
   "cell_type": "code",
   "execution_count": 15,
   "id": "f64a08b8",
   "metadata": {},
   "outputs": [
    {
     "data": {
      "text/plain": [
       "28.26"
      ]
     },
     "execution_count": 15,
     "metadata": {},
     "output_type": "execute_result"
    }
   ],
   "source": [
    "# s = Shape()\n",
    "class Circle(Shape):\n",
    "    def __init__(self, r=3):\n",
    "        self.r = r\n",
    "    def calc_area(self):\n",
    "        return 3.14 * (self.r ** 2)\n",
    "        #return 3.14 * selr.r * self.r 도 가능\n",
    "c = Circle(3)\n",
    "c.calc_area()"
   ]
  },
  {
   "cell_type": "markdown",
   "id": "f52e306e",
   "metadata": {},
   "source": [
    "# 5절. 파일 정리 작업(with 절 이용)"
   ]
  },
  {
   "cell_type": "code",
   "execution_count": 19,
   "id": "2269ee63",
   "metadata": {},
   "outputs": [
    {
     "name": "stdout",
     "output_type": "stream",
     "text": [
      "Hello\n",
      "World\n"
     ]
    }
   ],
   "source": [
    "try:\n",
    "    f = open(r'data/ch08.txt', 'r')\n",
    "    print(f.read())\n",
    "except Exception as e:\n",
    "    print(type(e))\n",
    "finally:\n",
    "    f.close()"
   ]
  },
  {
   "cell_type": "code",
   "execution_count": 17,
   "id": "12e7bf73",
   "metadata": {},
   "outputs": [
    {
     "name": "stdout",
     "output_type": "stream",
     "text": [
      "Hello\n",
      "World\n"
     ]
    }
   ],
   "source": [
    "f = open(r'data/ch08.txt', 'r')\n",
    "print(f.read())\n",
    "f.close()"
   ]
  },
  {
   "cell_type": "code",
   "execution_count": 20,
   "id": "a058fa29",
   "metadata": {
    "scrolled": true
   },
   "outputs": [
    {
     "name": "stdout",
     "output_type": "stream",
     "text": [
      "Hello\n",
      "World\n"
     ]
    }
   ],
   "source": [
    "with open(r'data/ch08.txt', 'r') as f:\n",
    "    print(f.read())\n",
    "# with절 이후에는 자동 close() 실행"
   ]
  },
  {
   "cell_type": "markdown",
   "id": "dea5d3f4",
   "metadata": {},
   "source": [
    "# 6절. 연습문제"
   ]
  },
  {
   "cell_type": "code",
   "execution_count": null,
   "id": "1a02cc95",
   "metadata": {},
   "outputs": [],
   "source": [
    "# 1. 숫자 두개를 입력받아 나눗셈 연산을 하는 프로그램을 작성하세요.\n",
    "#    - 두 숫자는 정수 또는 실수일 수 있으며, 0으로 나눌 수 없습니다.\n",
    "#    - 올바른 두 수를 입력하고 나눗셈 연산 결과를 출력한 후 종료해야 합니다.\n",
    "#    - 다음은 실행 후 출력 예시입니다.\n",
    "'''\n",
    "첫번째 숫자를 입력하세요 : hello\n",
    "유효한 숫자가 아닙니다. 다시 시도하세요.\n",
    "\n",
    "첫번째 숫자를 입력하세요 : 10\n",
    "두번째 숫자를 입력하세요 : 0\n",
    "\n",
    "입력한 수는 10.0와 0.0 입니다.\n",
    "\n",
    "유효한 숫자가 아닙니다. 다시 시도하세요.\n",
    "\n",
    "첫번째 숫자를 입력하세요 : 3.5\n",
    "두번째 숫자를 입력하세요 : hello\n",
    "\n",
    "유효한 숫자가 아닙니다. 다시 시도하세요.\n",
    "\n",
    "첫번째 숫자를 입력하세요 : 3.5\n",
    "두번째 숫자를 입력하세요 : 2\n",
    "입력한 수는 3.5와 2.0입니다.\n",
    "3.5를 2.0으로 나누면 1.75입니다.\n",
    "'''"
   ]
  },
  {
   "cell_type": "code",
   "execution_count": null,
   "id": "8a3ad587",
   "metadata": {},
   "outputs": [],
   "source": [
    "##### 1번\n",
    "while True:\n",
    "    try:\n",
    "        x = int(input('정수를 입력하세요 :'))\n",
    "        result = 100/x\n",
    "        result = f'{100/x:.0f}' if round(result) == result else f'{100/x:.2f}'\n",
    "        print(result)\n",
    "        break\n",
    "    except ValueError:\n",
    "        print('정수를 입력하세요.')\n",
    "    except ZeroDivisionError:\n",
    "        print('0으로는 나눌 수 없어요')\n",
    "    except Exception:\n",
    "        # Exception 절이 많은 경우 하위 클래스(자식클래스)가 위에 나와야 함\n",
    "        print('그외 다른 예외. 다시 시도하세요')\n",
    "        "
   ]
  },
  {
   "cell_type": "code",
   "execution_count": null,
   "id": "89bd97f9",
   "metadata": {},
   "outputs": [],
   "source": [
    "# 2. 1번 코드의 예외처리를 예외에 따라 다르게 처리하세요.\n",
    "#    - 숫자로 바꿀 수 없을 경우 ValueError가 발생합니다.\n",
    "#    - 0으로 나누려고 할 때 ZeroDivisionError가 발생합니다.\n",
    "#    - 다음은 실행 후 출력 예시입니다.\n",
    "'''\n",
    "첫번째 숫자를 입력하세요 : abc\n",
    "유효한 숫자가 아닙니다. 다시 시도하세요.\n",
    "\n",
    "첫번째 숫자를 입력하세요 : 10\n",
    "두번째 숫자를 입력하세요 : 0\n",
    "\n",
    "입력한 수는 10.0와 0.0입니다.\n",
    "0으로 나눌 수 없습니다. 다시 시도하세요.\n",
    "\n",
    "첫번째 숫자를 입력하세요 : 5\n",
    "두번째 숫자를 입력하세요 : 3\n",
    "\n",
    "입력한 수는 5.0과 3.0입니다.\n",
    "5.0을 3.0으로 나누면 1.666666666666입니다.\n",
    "'''"
   ]
  },
  {
   "cell_type": "code",
   "execution_count": null,
   "id": "284e5a22",
   "metadata": {},
   "outputs": [],
   "source": [
    "##### 2번\n",
    "\n",
    "while True:\n",
    "    try:\n",
    "        x = int(input('정수를 입력하세요 :'))\n",
    "        result = 100/x\n",
    "        result = f'{100/x:.0f}' if round(result) == result else f'{100/x:.2f}'\n",
    "        print(result)\n",
    "        break\n",
    "    except ValueError:\n",
    "        print('정수를 입력하세요.')\n",
    "    except ZeroDivisionError:\n",
    "        print('0으로는 나눌 수 없어요')\n",
    "    except Exception:\n",
    "        # Exception 절이 많은 경우 하위 클래스(자식클래스)가 위에 나와야 함\n",
    "        print('그외 다른 예외. 다시 시도하세요')\n",
    "        "
   ]
  },
  {
   "cell_type": "code",
   "execution_count": null,
   "id": "cb955362",
   "metadata": {},
   "outputs": [],
   "source": []
  },
  {
   "cell_type": "code",
   "execution_count": null,
   "id": "0f19810e",
   "metadata": {},
   "outputs": [],
   "source": []
  },
  {
   "cell_type": "code",
   "execution_count": null,
   "id": "01d494a2",
   "metadata": {},
   "outputs": [],
   "source": []
  }
 ],
 "metadata": {
  "kernelspec": {
   "display_name": "Python 3 (ipykernel)",
   "language": "python",
   "name": "python3"
  },
  "language_info": {
   "codemirror_mode": {
    "name": "ipython",
    "version": 3
   },
   "file_extension": ".py",
   "mimetype": "text/x-python",
   "name": "python",
   "nbconvert_exporter": "python",
   "pygments_lexer": "ipython3",
   "version": "3.10.9"
  },
  "toc": {
   "base_numbering": 1,
   "nav_menu": {},
   "number_sections": false,
   "sideBar": true,
   "skip_h1_title": false,
   "title_cell": "Table of Contents",
   "title_sidebar": "Contents",
   "toc_cell": false,
   "toc_position": {
    "height": "calc(100% - 180px)",
    "left": "10px",
    "top": "150px",
    "width": "175.6px"
   },
   "toc_section_display": true,
   "toc_window_display": true
  }
 },
 "nbformat": 4,
 "nbformat_minor": 5
}
