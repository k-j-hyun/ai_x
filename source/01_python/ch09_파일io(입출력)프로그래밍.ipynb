{
 "cells": [
  {
   "cell_type": "code",
   "execution_count": 1,
   "id": "d1f9b1a9",
   "metadata": {},
   "outputs": [
    {
     "data": {
      "text/html": [
       "\n",
       "<style>\n",
       "div.container{width:86% !important;}\n",
       "div.cell.code_cell.rendered{width:100%;}\n",
       "div.CodeMirror {font family: Consolas; font-size:12pt;}\n",
       "div.output {font-size:12pt; font-weight:bold;}\n",
       "div.input {font-family: Consolas; font-size:12pt;}\n",
       "div.prompt {min-width:70px;}\n",
       "div#toc-wrapper{padding top:120px;}\n",
       "div.text_cell_render ul li {font-size:12pt;padding:5px;}\n",
       "table.dataframe{font-size:12px;}\n",
       "</style>\n"
      ],
      "text/plain": [
       "<IPython.core.display.HTML object>"
      ]
     },
     "metadata": {},
     "output_type": "display_data"
    }
   ],
   "source": [
    "from IPython.display import display, HTML\n",
    "display(HTML(\"\"\"\n",
    "<style>\n",
    "div.container{width:86% !important;}\n",
    "div.cell.code_cell.rendered{width:100%;}\n",
    "div.CodeMirror {font family: Consolas; font-size:12pt;}\n",
    "div.output {font-size:12pt; font-weight:bold;}\n",
    "div.input {font-family: Consolas; font-size:12pt;}\n",
    "div.prompt {min-width:70px;}\n",
    "div#toc-wrapper{padding top:120px;}\n",
    "div.text_cell_render ul li {font-size:12pt;padding:5px;}\n",
    "table.dataframe{font-size:12px;}\n",
    "</style>\n",
    "\"\"\"))"
   ]
  },
  {
   "cell_type": "markdown",
   "id": "1968d0ff",
   "metadata": {},
   "source": [
    "<b><font color=\"red\" size=\"6\"> 9장. 파일 io(입출력) 프로그래밍 </font></b>\n",
    "파일 : txt, pickle, csv, json, hdf5(h5)\n",
    "\n",
    "# 1절. txt파일에 데이터 저장하고 불러오기"
   ]
  },
  {
   "cell_type": "code",
   "execution_count": 2,
   "id": "6a1f4714",
   "metadata": {},
   "outputs": [
    {
     "name": "stdout",
     "output_type": "stream",
     "text": [
      "<class 'FileNotFoundError'>\n",
      "[Errno 2] No such file or directory: 'daa/ch09.txt'\n"
     ]
    }
   ],
   "source": [
    "try:\n",
    "    f = open('data/ch09.txt', 'w')\n",
    "    # 데이터 출력\n",
    "except FileNotFoundError as e:\n",
    "    print(type(e))\n",
    "    print(e)\n",
    "finally:\n",
    "    f.close()"
   ]
  },
  {
   "cell_type": "code",
   "execution_count": 5,
   "id": "18c0149f",
   "metadata": {},
   "outputs": [
    {
     "name": "stdout",
     "output_type": "stream",
     "text": [
      "쓰기 가능한지 여부 : True\n"
     ]
    }
   ],
   "source": [
    "f = open('data/ch09.txt', 'w')\n",
    "print('쓰기 가능한지 여부 :', f.writable())"
   ]
  },
  {
   "cell_type": "code",
   "execution_count": 6,
   "id": "76b1f1ec",
   "metadata": {},
   "outputs": [],
   "source": [
    "f.write('Hello\\nWorld')\n",
    "f.close() # close()를 하지 않으면 쓰기한 내용이 저장이 안됨"
   ]
  },
  {
   "cell_type": "code",
   "execution_count": 7,
   "id": "e92495bd",
   "metadata": {
    "scrolled": true
   },
   "outputs": [
    {
     "name": "stdout",
     "output_type": "stream",
     "text": [
      "쓰기 가능한지 여부 : True\n"
     ]
    }
   ],
   "source": [
    "with open('data/ch09.txt', 'w') as f:\n",
    "    print('쓰기 가능한지 여부 :', f.writable())\n",
    "    f.write('Hello\\nPython')"
   ]
  },
  {
   "cell_type": "markdown",
   "id": "56105264",
   "metadata": {},
   "source": [
    "### mode\n",
    "- mode : 'r' 또는 'rt'(텍스트모드) : 읽기 (파일이 없는 경우 예외, 파일이 있는 경우 text읽기 모드)\n",
    "         'rb' : 바이너리 읽기모드\n",
    "         'w' 또는 'wt' : 쓰기 (text쓰기 모드) (파일이 있으면 덮어씀, 파일이 없으면 파일 생성)\n",
    "         'wb' : 바이너리 쓰기 모드\n",
    "         'a' 또는 'at' : text 추가(append) 모드(파일이 있으면 append, 파일이 없으면 파일 생성)\n",
    "         읽기모드에서 파일이 없으면 예외/쓰기모드에서는 폴더가 없으면 예외\n",
    "       \n",
    "### encoding\n",
    "         euc-kr (한글완성형) 믜x\n",
    "         cp949 (확장된 한글완성형) : open()함수 기본 encoding방식(windows)\n",
    "         utf-8 (한글조합형) : open()함수 기본 encoding방식(mac, linux), 주피터노트북 기본\n",
    "\n",
    "### text파일 읽기 명령어\n",
    "         f.readline() : 한줄 읽기\n",
    "         f.read() : 모두 읽기\n",
    "         f.readlines() : 딕셔너리로 생성하여 모두 읽기"
   ]
  },
  {
   "cell_type": "code",
   "execution_count": null,
   "id": "63cf7936",
   "metadata": {},
   "outputs": [],
   "source": [
    "# mode : 'r' 또는 'rt'(텍스트모드) : 읽기 (파일이 없는 경우 예외, 파일이 있는 경우 text읽기 모드)\n",
    "        #'rb' : 바이너리 읽기모드\n",
    "        #'w' 또는 'wt' : 쓰기 (text쓰기 모드) (파일이 있으면 덮어씀, 파일이 없으면 파일 생성)\n",
    "        #'wb' : 바이너리 쓰기 모드\n",
    "        #'a' 또는 'at' : text 추가(append) 모드(파일이 있으면 append, 파일이 없으면 파일 생성)\n",
    "        #읽기모드에서 파일이 없으면 예외/쓰기모드에서는 폴더가 없으면 예외\n",
    "# encoding\n",
    "        #euc-kr (한글완성형) 믜x\n",
    "        #cp949 (euc-kr 한글완성형) : open()함수 기본 encoding방식(windows)\n",
    "        #utf-8 (한글조합형) : open()함수 기본 encoding방식(mac, linux), 주피터노트북 기본\n",
    "with open('data/ch09.txt', 'w') as f:\n",
    "    print('쓰기 가능한지 여부 :', f.writable())\n",
    "    f.write('Hello\\nPython')"
   ]
  },
  {
   "cell_type": "code",
   "execution_count": 11,
   "id": "021ab148",
   "metadata": {},
   "outputs": [],
   "source": [
    "with open('data/ch09.txt', 'a', encoding='utf-8') as f:\n",
    "    # 방법 1\n",
    "    f.write('홍길동, 33, 아무동9\\n')\n",
    "    f.write('김길동, 22, 아무동9\\n')\n",
    "    # 방법 2\n",
    "    textlist = ['홍길동, 33, 아무동9\\n','김길동, 22, 아무동9\\n']\n",
    "    for line in textlist:\n",
    "        f.write(line)\n",
    "    # 방법 3\n",
    "    f.writelines(textlist)"
   ]
  },
  {
   "cell_type": "code",
   "execution_count": 12,
   "id": "0b684e8f",
   "metadata": {},
   "outputs": [],
   "source": [
    "with open('data/ch09.txt', 'w',) as f: # encoding 안쓰면 cp949\n",
    "    # 방법 1\n",
    "    f.write('홍길동, 33, 아무동9\\n')\n",
    "    f.write('김길동, 22, 아무동9\\n')\n",
    "    # 방법 2\n",
    "    textlist = ['홍길동, 33, 아무동9\\n','김길동, 22, 아무동9\\n']\n",
    "    for line in textlist:\n",
    "        f.write(line)\n",
    "    # 방법 3\n",
    "    f.writelines(textlist)"
   ]
  },
  {
   "cell_type": "code",
   "execution_count": 14,
   "id": "71a32a10",
   "metadata": {},
   "outputs": [
    {
     "name": "stdout",
     "output_type": "stream",
     "text": [
      "홍길동, 33, 아무동9\n",
      "\n",
      "홍길동, 33, 아무동9\n",
      "김길동, 22, 아무동9\n",
      "홍길동, 33, 아무동9\n",
      "김길동, 22, 아무동9\n",
      "홍길동, 33, 아무동9\n",
      "김길동, 22, 아무동9\n"
     ]
    }
   ],
   "source": [
    "# 한줄씩 읽기\n",
    "with open('data/ch09.txt', 'r') as f:\n",
    "    line = f.readline()\n",
    "    # print(line)\n",
    "    while line != '':\n",
    "        print(line, end='')\n",
    "        line = f.readline()"
   ]
  },
  {
   "cell_type": "code",
   "execution_count": 16,
   "id": "3b00a9a4",
   "metadata": {},
   "outputs": [
    {
     "name": "stdout",
     "output_type": "stream",
     "text": [
      "['홍길동, 33, 아무동9\\n', '김길동, 22, 아무동9\\n', '홍길동, 33, 아무동9\\n', '김길동, 22, 아무동9\\n', '홍길동, 33, 아무동9\\n', '김길동, 22, 아무동9\\n']\n"
     ]
    }
   ],
   "source": [
    "# 모든 줄을 읽기\n",
    "with open('data/ch09.txt', 'r') as f:\n",
    "    lines = f.readlines()\n",
    "    print(lines)"
   ]
  },
  {
   "cell_type": "code",
   "execution_count": 17,
   "id": "b828dd14",
   "metadata": {},
   "outputs": [
    {
     "name": "stdout",
     "output_type": "stream",
     "text": [
      "홍길동, 33, 아무동9\n",
      "김길동, 22, 아무동9\n",
      "홍길동, 33, 아무동9\n",
      "김길동, 22, 아무동9\n",
      "홍길동, 33, 아무동9\n",
      "김길동, 22, 아무동9\n",
      "\n"
     ]
    }
   ],
   "source": [
    "# 모두 읽기\n",
    "with open('data/ch09.txt', 'r') as f:\n",
    "    read = f.read()\n",
    "    print(read)"
   ]
  },
  {
   "cell_type": "markdown",
   "id": "3849bdab",
   "metadata": {},
   "source": [
    "# 2절. 피클을 이용한 객체 저장 및 불러오기\n",
    "## 2.1 형식이 있는 txt 데이터 불러오기"
   ]
  },
  {
   "cell_type": "code",
   "execution_count": 1,
   "id": "a5c58501",
   "metadata": {},
   "outputs": [],
   "source": [
    "class Member:\n",
    "    def __init__(self, name, age, email, address):\n",
    "        self.name = name\n",
    "        self.age = age\n",
    "        self.email = email\n",
    "        self.address = address\n",
    "    def __str__(self):\n",
    "        return '{}, {}, {}, {}'.format(self.name, \n",
    "                                       \"성년\" if self.age>18 else \"미성년\", \n",
    "                                       self.email, \n",
    "                                       self.address) \n",
    "    def as_dict(self):\n",
    "        return {\n",
    "               'name':self.name, \n",
    "               'age':self.age,\n",
    "               'email':self.email,\n",
    "               'address':self.address\n",
    "                   }\n",
    "    def __eq__(self, other):\n",
    "        return self.name == other.name and \\\n",
    "                self.age == other.age and \\\n",
    "                self.email == other.email and \\\n",
    "                self.address == other.address"
   ]
  },
  {
   "cell_type": "code",
   "execution_count": 25,
   "id": "9520faec",
   "metadata": {},
   "outputs": [
    {
     "name": "stdout",
     "output_type": "stream",
     "text": [
      "True\n",
      "True\n"
     ]
    }
   ],
   "source": [
    "user1 = Member('홍',20,'a@a.com','신림동')\n",
    "user2 = Member('홍',20,'a@a.com','신림동')\n",
    "print(user1==user2)\n",
    "print(user1.__eq__(user2)) # 같은 내용이면 True가 되도록 하고 싶음"
   ]
  },
  {
   "cell_type": "markdown",
   "id": "a9fa4282",
   "metadata": {},
   "source": [
    "### 형식이 있는 txt 파일 내용을 member list(피클 저장), 딕셔너리 list(데이터프레임)로 저장하기"
   ]
  },
  {
   "cell_type": "code",
   "execution_count": 2,
   "id": "59489526",
   "metadata": {},
   "outputs": [],
   "source": [
    "# 형식이 있는 txt 파일 내용을 member list(피클 저장), 딕셔너리 list(데이터프레임)로 저장하기\n",
    "user_list = [] # member list\n",
    "user_dict = [] # 딕셔너리 list\n",
    "with open('data/ch09_member.txt', 'r', encoding='utf-8') as txt_file:\n",
    "    lines = txt_file.readlines()\n",
    "#print(lines)\n",
    "for line in lines:\n",
    "    data = line.split(',')\n",
    "    #print(data)\n",
    "    name = data[0]\n",
    "    age = int(data[1].strip()) # int(data[1])해도 공백 자동제거됨. strup() : 좌우 공백(space, \\t, \\n제거\n",
    "    email = data[2].strip()\n",
    "    address = data[3].strip()\n",
    "    user = Member(name, age, email, address)\n",
    "    user_list.append(user)\n",
    "    user_dict.append(user.as_dict())\n",
    "    #user_dict.append(user.__dict__) 클래스 안만들어도 .__dict__ 쓰면 딕셔너리로 바꿔줌"
   ]
  },
  {
   "cell_type": "code",
   "execution_count": 3,
   "id": "56a5e785",
   "metadata": {},
   "outputs": [
    {
     "name": "stdout",
     "output_type": "stream",
     "text": [
      "홍길동, 성년, kildong@hong.com, 서울시 관악구\n",
      "홍길숙, 성년, kilsuk1@hong.com, 서울시 영등포구\n",
      "신길동, 성년, shinkil@hong.com, 서울시 동작구\n"
     ]
    }
   ],
   "source": [
    "for user in user_list:\n",
    "    print(user)"
   ]
  },
  {
   "cell_type": "code",
   "execution_count": 4,
   "id": "5d971113",
   "metadata": {
    "scrolled": true
   },
   "outputs": [
    {
     "name": "stdout",
     "output_type": "stream",
     "text": [
      "[{'name': '홍길동', 'age': 20, 'email': 'kildong@hong.com', 'address': '서울시 관악구'}, {'name': '홍길숙', 'age': 25, 'email': 'kilsuk1@hong.com', 'address': '서울시 영등포구'}, {'name': '신길동', 'age': 30, 'email': 'shinkil@hong.com', 'address': '서울시 동작구'}]\n"
     ]
    }
   ],
   "source": [
    "print(user_dict)"
   ]
  },
  {
   "cell_type": "markdown",
   "id": "573609b5",
   "metadata": {},
   "source": [
    "## 2.2 피클링\n",
    "- 객체 리스트(user_list) -> 피클파일로 쓰기\n",
    "- 피클 파일을 읽기 -> 객체 리스트(load_user_list)"
   ]
  },
  {
   "cell_type": "code",
   "execution_count": 5,
   "id": "b32a5486",
   "metadata": {},
   "outputs": [],
   "source": [
    "# 피클링을 이용한 객체를 저장하기 data, pkl로 저장함\n",
    "import pickle\n",
    "with open('data/ch09_member.data', 'wb') as f:\n",
    "    pickle.dump(user_list, f)"
   ]
  },
  {
   "cell_type": "code",
   "execution_count": 8,
   "id": "aebb9787",
   "metadata": {},
   "outputs": [],
   "source": [
    "# 피클링을 이용한 파일에서 객체 데이터로 읽기\n",
    "with open('data/ch09_member.data', 'rb') as f:\n",
    "    load_user_list = pickle.load(f)"
   ]
  },
  {
   "cell_type": "code",
   "execution_count": 9,
   "id": "dfc9e456",
   "metadata": {},
   "outputs": [
    {
     "data": {
      "text/plain": [
       "True"
      ]
     },
     "execution_count": 9,
     "metadata": {},
     "output_type": "execute_result"
    }
   ],
   "source": [
    "user_list == load_user_list"
   ]
  },
  {
   "cell_type": "code",
   "execution_count": 15,
   "id": "2cc43f55",
   "metadata": {},
   "outputs": [
    {
     "name": "stdout",
     "output_type": "stream",
     "text": [
      "0 홍길동, 성년, kildong@hong.com, 서울시 관악구\n",
      "0 홍길동, 성년, kildong@hong.com, 서울시 관악구\n",
      "1 홍길숙, 성년, kilsuk1@hong.com, 서울시 영등포구\n",
      "1 홍길숙, 성년, kilsuk1@hong.com, 서울시 영등포구\n",
      "2 신길동, 성년, shinkil@hong.com, 서울시 동작구\n",
      "2 신길동, 성년, shinkil@hong.com, 서울시 동작구\n"
     ]
    }
   ],
   "source": [
    "for idx in range(len(user_list)):\n",
    "    print(idx, user[idx])\n",
    "    print(idx, load_user_list[idx])"
   ]
  },
  {
   "cell_type": "code",
   "execution_count": 18,
   "id": "11b1b7c1",
   "metadata": {},
   "outputs": [
    {
     "name": "stdout",
     "output_type": "stream",
     "text": [
      "0 홍길동, 성년, kildong@hong.com, 서울시 관악구\n",
      "0 홍길동, 성년, kildong@hong.com, 서울시 관악구\n",
      "True\n",
      "1 홍길숙, 성년, kilsuk1@hong.com, 서울시 영등포구\n",
      "1 홍길숙, 성년, kilsuk1@hong.com, 서울시 영등포구\n",
      "True\n",
      "2 신길동, 성년, shinkil@hong.com, 서울시 동작구\n",
      "2 신길동, 성년, shinkil@hong.com, 서울시 동작구\n",
      "True\n"
     ]
    }
   ],
   "source": [
    "for idx, (user, load_user) in enumerate(zip(user_list, load_user_list)):\n",
    "    print(idx, user)\n",
    "    print(idx, load_user)\n",
    "    print(user==load_user)"
   ]
  },
  {
   "cell_type": "code",
   "execution_count": 20,
   "id": "5317b323",
   "metadata": {},
   "outputs": [
    {
     "data": {
      "text/plain": [
       "True"
      ]
     },
     "execution_count": 20,
     "metadata": {},
     "output_type": "execute_result"
    }
   ],
   "source": [
    "result = []\n",
    "for user, load_user in zip(user_list, load_user_list):\n",
    "    result.append(user==load_user)\n",
    "all(result)"
   ]
  },
  {
   "cell_type": "markdown",
   "id": "0401b1fb",
   "metadata": {},
   "source": [
    "# 3절. CSV형식 파일 읽기/쓰기\n",
    "- CSV파일 <-> 리스트데이터로 읽기 3.1절(읽기) / 3.2절(쓰기)\n",
    "- CSV파일 <-> 딕셔너리데이터      3.3절(읽기) / 3.4절(쓰기)\n"
   ]
  },
  {
   "cell_type": "markdown",
   "id": "9e0a806d",
   "metadata": {},
   "source": [
    "## 3.1 reader()"
   ]
  },
  {
   "cell_type": "code",
   "execution_count": 22,
   "id": "f5c84df4",
   "metadata": {},
   "outputs": [
    {
     "name": "stdout",
     "output_type": "stream",
     "text": [
      "[['홍길동', '20', 'kildong@hong.com', '서울시 관악구'], ['김길동', '40', 'kimdong@hong.com', '서울시 영등포구'], ['신길동', '30', 'sindong@hong.com', '서울시 동작구']]\n"
     ]
    }
   ],
   "source": [
    "import csv\n",
    "with open('data/ch09_member1.csv', 'r', encoding='utf-8') as f:\n",
    "    reader = csv.reader(f) # 한줄씩 읽어와서 list로 가져옴\n",
    "    result = list(reader)\n",
    "    #print(list(reader))\n",
    "print(result)"
   ]
  },
  {
   "cell_type": "code",
   "execution_count": 23,
   "id": "c34c005a",
   "metadata": {},
   "outputs": [
    {
     "name": "stdout",
     "output_type": "stream",
     "text": [
      "[['홍길동', 20.0, 'kildong@hong.com', '서울시 관악구'], ['김길동', 40.0, 'kimdong@hong.com', '서울시 영등포구'], ['신길동', 30.0, 'sindong@hong.com', '서울시 동작구']]\n"
     ]
    }
   ],
   "source": [
    "# \"\"(따옴표)가 없는 데이터는 numeric으로 가져와라(그냥숫자는 숫자로 가져와라)\n",
    "import csv\n",
    "with open('data/ch09_member1.csv', 'r', encoding='utf-8') as f:\n",
    "    reader = csv.reader(f, \n",
    "                        quoting = csv.QUOTE_NONNUMERIC) # 한줄씩 읽어와서 list로 가져옴. csv.QUOTE_NONNUMERIC : ''없는애들은 걍 가져와라\n",
    "    result = list(reader)\n",
    "    #print(list(reader))\n",
    "print(result)"
   ]
  },
  {
   "cell_type": "code",
   "execution_count": 26,
   "id": "fdc76a6e",
   "metadata": {},
   "outputs": [
    {
     "name": "stdout",
     "output_type": "stream",
     "text": [
      "[{'name': '홍길동', 'age': 20, 'email': 'kildong@hong.com', 'address': '서울시 관악구'}, {'name': '김길동', 'age': 40, 'email': 'kimdong@hong.com', 'address': '서울시 영등포구'}, {'name': '신길동', 'age': 30, 'email': 'sindong@hong.com', 'address': '서울시 동작구'}]\n"
     ]
    }
   ],
   "source": [
    "\n",
    "import csv\n",
    "with open('data/ch09_member1.csv', 'r', encoding='utf-8') as f:\n",
    "    reader = csv.reader(f, \n",
    "                        quoting = csv.QUOTE_NONNUMERIC) # 한줄씩 읽어와서 list로 가져옴. csv.QUOTE_NONNUMERIC : ''없는애들은 걍 가져와라\n",
    "    result = list(reader)\n",
    "\n",
    "dict_list = []\n",
    "for data in result:\n",
    "    dict_list.append({\n",
    "                    \n",
    "                    'name':data[0],\n",
    "                    'age':int(data[1]),\n",
    "                    'email':data[2],\n",
    "                    'address':data[3]\n",
    "                     })\n",
    "print(dict_list)"
   ]
  },
  {
   "cell_type": "markdown",
   "id": "1fcc0540",
   "metadata": {},
   "source": [
    "## 3.2 writer"
   ]
  },
  {
   "cell_type": "code",
   "execution_count": 28,
   "id": "a8c0c0ee",
   "metadata": {},
   "outputs": [],
   "source": [
    "user_list = [['홍길동', 20, 'kildong@hong.com', '서울시 관악구'], \n",
    "             ['김길동', 40, 'kimdong@hong.com', '서울시 영등포구']]"
   ]
  },
  {
   "cell_type": "code",
   "execution_count": 29,
   "id": "cba1f08f",
   "metadata": {},
   "outputs": [],
   "source": [
    "with open('data/ch09_member1_write.csv', 'a', newline='', encoding='utf-8') as f: # newline ='' \\n과 같은 역할\n",
    "    writer = csv.writer(f)\n",
    "    writer.writerows(user_list)"
   ]
  },
  {
   "cell_type": "code",
   "execution_count": 30,
   "id": "4e35a635",
   "metadata": {},
   "outputs": [],
   "source": [
    "import csv\n",
    "with open('data/ch09_member1_write.csv', 'w', newline='', encoding='utf-8') as f: # newline ='' \\n과 같은 역할\n",
    "    writer = csv.writer(f,\n",
    "                       quoting = csv.QUOTE_NONNUMERIC) #csv.QUOTE_NONNUMERIC : ''없는애들은 걍 가져와라\n",
    "    writer.writerows(user_list)"
   ]
  },
  {
   "cell_type": "code",
   "execution_count": 31,
   "id": "030133e6",
   "metadata": {},
   "outputs": [
    {
     "name": "stdout",
     "output_type": "stream",
     "text": [
      "[['홍길동', 20, 'kildong@hong.com', '서울시 관악구'], ['김길동', 40, 'kimdong@hong.com', '서울시 영등포구']]\n"
     ]
    }
   ],
   "source": [
    "print(user_list)"
   ]
  },
  {
   "cell_type": "markdown",
   "id": "84f2f47a",
   "metadata": {},
   "source": [
    "## 3.3 DictReader"
   ]
  },
  {
   "cell_type": "code",
   "execution_count": 33,
   "id": "ad75543c",
   "metadata": {},
   "outputs": [
    {
     "name": "stdout",
     "output_type": "stream",
     "text": [
      "{'name': '홍길동', 'age': '20', 'email': 'h@h.com', 'address': '서울시 관악구', 'job': None}\n",
      "{'name': '신길동', 'age': '40', 'email': 's@h.com', 'address': '서울시 영등포구', 'job': '팀장'}\n",
      "{'name': '김길동', 'age': '30', 'email': 'k@h.com', 'address': '서울시 동작구', 'job': None}\n"
     ]
    }
   ],
   "source": [
    "import csv\n",
    "with open('data/ch09_member3.csv', 'r', encoding='utf-8') as f:\n",
    "    dict_reader = csv.DictReader(f)\n",
    "    for row in dict_reader:\n",
    "        print(row)"
   ]
  },
  {
   "cell_type": "code",
   "execution_count": 37,
   "id": "0258b751",
   "metadata": {},
   "outputs": [
    {
     "name": "stdout",
     "output_type": "stream",
     "text": [
      "홍길동 20 h@h.com 서울시 관악구\n",
      "신길동 40 s@h.com 서울시 영등포구 팀장\n",
      "김길동 30 k@h.com 서울시 동작구\n"
     ]
    }
   ],
   "source": [
    "import csv\n",
    "with open('data/ch09_member3.csv', 'r', encoding='utf-8') as f:\n",
    "    dict_reader = csv.DictReader(f)\n",
    "    for row in dict_reader:\n",
    "        if row['job'] is None:\n",
    "            print(row['name'],row['age'],row['email'],row['address'])\n",
    "        else:\n",
    "            print(row['name'],row['age'],row['email'],row['address'],row['job'])"
   ]
  },
  {
   "cell_type": "code",
   "execution_count": 39,
   "id": "cb4de996",
   "metadata": {},
   "outputs": [
    {
     "name": "stdout",
     "output_type": "stream",
     "text": [
      "[{'name': '홍길동', 'age': '20', 'email': 'h@h.com', 'address': '서울시 관악구', 'job': None}, {'name': '신길동', 'age': '40', 'email': 's@h.com', 'address': '서울시 영등포구', 'job': '팀장'}, {'name': '김길동', 'age': '30', 'email': 'k@h.com', 'address': '서울시 동작구', 'job': None}]\n",
      "홍길동 20 h@h.com 서울시 관악구\n",
      "신길동 40 s@h.com 서울시 영등포구 팀장\n",
      "김길동 30 k@h.com 서울시 동작구\n"
     ]
    }
   ],
   "source": [
    "import csv\n",
    "with open('data/ch09_member3.csv', 'r', encoding='utf-8') as f:\n",
    "    dict_reader = csv.DictReader(f)\n",
    "    dict_list = list(dict_reader)\n",
    "print(dict_list)\n",
    "for row in dict_list:\n",
    "    if row['job'] is None:\n",
    "        print(row['name'],row['age'],row['email'],row['address'])\n",
    "    else:\n",
    "        print(row['name'],row['age'],row['email'],row['address'],row['job'])"
   ]
  },
  {
   "cell_type": "markdown",
   "id": "34d1f657",
   "metadata": {},
   "source": [
    "#### header가 없는 csv파일을 딕셔너리로 읽기"
   ]
  },
  {
   "cell_type": "code",
   "execution_count": 46,
   "id": "0ec84b02",
   "metadata": {},
   "outputs": [
    {
     "name": "stdout",
     "output_type": "stream",
     "text": [
      "{'Name': '홍길동', 'Age': '20', 'Email': 'kildong@hong.com', 'Address': '서울시 관악구', 'Job': ''}\n",
      "{'Name': '김길동', 'Age': '40', 'Email': 'kimdong@hong.com', 'Address': '서울시 영등포구', 'Job': '팀장'}\n",
      "{'Name': '신길동', 'Age': '30', 'Email': 'sindong@hong.com', 'Address': '서울시 동작구', 'Job': ''}\n"
     ]
    }
   ],
   "source": [
    "# header가 없는 csv파일(ch09_member1-cp.csv)을 딕셔너리로 읽기\n",
    "with open('data/ch09_member1-cp.csv', encoding='cp949') as f:\n",
    "    dict_reader = csv.DictReader(f, fieldnames=['Name','Age','Email','Address','Job']) # fieldnames= [] header 생성\n",
    "    #print(list(dict_reader))\n",
    "    result = list(dict_reader)\n",
    "    for row in result:\n",
    "        print(row)"
   ]
  },
  {
   "cell_type": "code",
   "execution_count": 48,
   "id": "efc421c3",
   "metadata": {},
   "outputs": [
    {
     "name": "stdout",
     "output_type": "stream",
     "text": [
      "{'Name': '홍길동', 'Age': '20', 'Email': 'kildong@hong.com', 'Address': '서울시 관악구', 'Job': ['']}\n",
      "{'Name': '김길동', 'Age': '40', 'Email': 'kimdong@hong.com', 'Address': '서울시 영등포구', 'Job': ['팀장']}\n",
      "{'Name': '신길동', 'Age': '30', 'Email': 'sindong@hong.com', 'Address': '서울시 동작구', 'Job': ['']}\n"
     ]
    }
   ],
   "source": [
    "# header가 없는 csv파일(ch09_member1-cp.csv)을 딕셔너리로 읽기\n",
    "with open('data/ch09_member1-cp.csv', encoding='cp949') as f:\n",
    "    dict_reader = csv.DictReader(f, fieldnames=['Name','Age','Email','Address'],\n",
    "                                    restkey='Job') # fieldnames= [] header 생성. restkey='job' 비어있는 키값을 추가해줌\n",
    "    #print(list(dict_reader))\n",
    "    result = list(dict_reader)\n",
    "    for row in result:\n",
    "        print(row)"
   ]
  },
  {
   "cell_type": "markdown",
   "id": "9c3bf733",
   "metadata": {},
   "source": [
    "## 3.4 DictWriter\n",
    "- 딕셔너리 리스트 -> CSV파일로 출력"
   ]
  },
  {
   "cell_type": "code",
   "execution_count": 58,
   "id": "70b785e2",
   "metadata": {},
   "outputs": [],
   "source": [
    "user1 = {'name':'홍길동','age':22,'email':'a@a.com','address':'신림동'}\n",
    "user2 = {'name':'신길동','age':32,'email':'b@a.com','address':'신길동'}\n",
    "user3 = {'name':'김길동','age':42,'email':'c@a.com','address':'신림동'}\n",
    "user_list = [user1,user2,user3]\n",
    "fieldnames = list(user1.keys())"
   ]
  },
  {
   "cell_type": "code",
   "execution_count": 60,
   "id": "27498be4",
   "metadata": {},
   "outputs": [],
   "source": [
    "with open('data/ch09_member4.csv', 'w', encoding='utf-8', newline='') as f:\n",
    "    dict_writer = csv.DictWriter(f, \n",
    "                                 fieldnames=fieldnames)\n",
    "    dict_writer.writeheader() # header 쓰기. 'a' : append 모드로 할때는 헤더 추가할 필요없음. 매개변수.writeheader()\n",
    "    dict_writer.writerows(user_list) # 리스트 내용 전체를 파일안에 넣기. 매개변수.writerows(리스트)"
   ]
  },
  {
   "cell_type": "code",
   "execution_count": 54,
   "id": "611fce1f",
   "metadata": {
    "scrolled": true
   },
   "outputs": [
    {
     "data": {
      "text/plain": [
       "['name', 'age', 'email', 'address']"
      ]
     },
     "execution_count": 54,
     "metadata": {},
     "output_type": "execute_result"
    }
   ],
   "source": [
    "list(user1.keys())"
   ]
  },
  {
   "cell_type": "code",
   "execution_count": 55,
   "id": "b3e3b7d9",
   "metadata": {},
   "outputs": [
    {
     "data": {
      "text/plain": [
       "['홍길동', 22, 'a@a.com', '신림동']"
      ]
     },
     "execution_count": 55,
     "metadata": {},
     "output_type": "execute_result"
    }
   ],
   "source": [
    "list(user1.values())"
   ]
  },
  {
   "cell_type": "code",
   "execution_count": 56,
   "id": "d9c6901b",
   "metadata": {},
   "outputs": [
    {
     "data": {
      "text/plain": [
       "[('name', '홍길동'), ('age', 22), ('email', 'a@a.com'), ('address', '신림동')]"
      ]
     },
     "execution_count": 56,
     "metadata": {},
     "output_type": "execute_result"
    }
   ],
   "source": [
    "list(user1.items())"
   ]
  },
  {
   "cell_type": "markdown",
   "id": "8fd21385",
   "metadata": {},
   "source": [
    "## CSV <-> 데이터프레임\n",
    "#### 판다스 pandas as pd"
   ]
  },
  {
   "cell_type": "code",
   "execution_count": 61,
   "id": "b9b95623",
   "metadata": {},
   "outputs": [
    {
     "data": {
      "text/html": [
       "<div>\n",
       "<style scoped>\n",
       "    .dataframe tbody tr th:only-of-type {\n",
       "        vertical-align: middle;\n",
       "    }\n",
       "\n",
       "    .dataframe tbody tr th {\n",
       "        vertical-align: top;\n",
       "    }\n",
       "\n",
       "    .dataframe thead th {\n",
       "        text-align: right;\n",
       "    }\n",
       "</style>\n",
       "<table border=\"1\" class=\"dataframe\">\n",
       "  <thead>\n",
       "    <tr style=\"text-align: right;\">\n",
       "      <th></th>\n",
       "      <th>name</th>\n",
       "      <th>age</th>\n",
       "      <th>email</th>\n",
       "      <th>address</th>\n",
       "      <th>job</th>\n",
       "    </tr>\n",
       "  </thead>\n",
       "  <tbody>\n",
       "    <tr>\n",
       "      <th>0</th>\n",
       "      <td>홍길동</td>\n",
       "      <td>20</td>\n",
       "      <td>h@h.com</td>\n",
       "      <td>서울시 관악구</td>\n",
       "      <td>NaN</td>\n",
       "    </tr>\n",
       "    <tr>\n",
       "      <th>1</th>\n",
       "      <td>신길동</td>\n",
       "      <td>40</td>\n",
       "      <td>s@h.com</td>\n",
       "      <td>서울시 영등포구</td>\n",
       "      <td>팀장</td>\n",
       "    </tr>\n",
       "    <tr>\n",
       "      <th>2</th>\n",
       "      <td>김길동</td>\n",
       "      <td>30</td>\n",
       "      <td>k@h.com</td>\n",
       "      <td>서울시 동작구</td>\n",
       "      <td>NaN</td>\n",
       "    </tr>\n",
       "  </tbody>\n",
       "</table>\n",
       "</div>"
      ],
      "text/plain": [
       "  name  age    email   address  job\n",
       "0  홍길동   20  h@h.com   서울시 관악구  NaN\n",
       "1  신길동   40  s@h.com  서울시 영등포구   팀장\n",
       "2  김길동   30  k@h.com   서울시 동작구  NaN"
      ]
     },
     "execution_count": 61,
     "metadata": {},
     "output_type": "execute_result"
    }
   ],
   "source": [
    "import pandas as pd\n",
    "member = pd.read_csv('data/ch09_member3.csv', encoding='utf-8') # 판다스는 기본이 utf-8임\n",
    "member"
   ]
  },
  {
   "cell_type": "code",
   "execution_count": 62,
   "id": "e1de3579",
   "metadata": {},
   "outputs": [
    {
     "data": {
      "text/plain": [
       "pandas.core.frame.DataFrame"
      ]
     },
     "execution_count": 62,
     "metadata": {},
     "output_type": "execute_result"
    }
   ],
   "source": [
    "type(member)"
   ]
  },
  {
   "cell_type": "markdown",
   "id": "35877ca1",
   "metadata": {},
   "source": [
    "# 4절. JSON 데이터 저장하고 불러오기(dump, load)\n",
    "- 딕셔너리 리스트 <-> JSON 파일\n",
    "- 객체리스트 <-> JSON 파일\n",
    "## 4.1 dump(파일 출력)\n",
    "```\n",
    "- ensure_ascii 매개변수\n",
    "    True : 비 ASCII문은 유니코드 형태로 저장\n",
    "    False : 비 ASCII 문자 원래 형태로 저장\n",
    "```"
   ]
  },
  {
   "cell_type": "code",
   "execution_count": 63,
   "id": "e8a44532",
   "metadata": {},
   "outputs": [],
   "source": [
    "data = [{'name': '홍길동', 'age': 20, 'email': 'kildong@hong.com', 'address': '서울'},\n",
    "        {'name': '김길동', 'age': 30, 'email': 'giadong@hong.com', 'address': '인천'}]"
   ]
  },
  {
   "cell_type": "code",
   "execution_count": 65,
   "id": "3c264249",
   "metadata": {},
   "outputs": [],
   "source": [
    "# ensure_ascii 매개변수\n",
    "    # True : 비 ASCII문은 유니코드 형태로 저장\n",
    "    # False : 비 ASCII 문자 원래 형태로 저장\n",
    "import json\n",
    "with open('data/ch09_member.json', 'w', encoding='utf-8') as jsonfile:\n",
    "    json.dump(data, # 딕셔너리 리스트\n",
    "             jsonfile,\n",
    "             ensure_ascii=False,\n",
    "             indent='\\t')"
   ]
  },
  {
   "cell_type": "code",
   "execution_count": 79,
   "id": "a7ed7bf4",
   "metadata": {},
   "outputs": [],
   "source": [
    "class Member:\n",
    "    def __init__(self, name, age, email, address):\n",
    "        self.name = name\n",
    "        self.age = age\n",
    "        self.email = email\n",
    "        self.address = address\n",
    "    def __str__(self):\n",
    "        return '{}, {}, {}, {}'.format(self.name, \n",
    "                                       self.age, \n",
    "                                       self.email, \n",
    "                                       self.address) \n",
    "    def as_dict(self):\n",
    "        return {\n",
    "               'name':self.name, \n",
    "               'age':self.age,\n",
    "               'email':self.email,\n",
    "               'address':self.address\n",
    "                   }\n",
    "    def __eq__(self, other):\n",
    "        if isinstance(other, Member):\n",
    "            return self.__dict__ == other.__dict__\n",
    "#               return self.__str__() == other.__str__()\n",
    "#             return self.name == other.name and \\\n",
    "#                     self.age == other.age and \\\n",
    "#                     self.email == other.email and \\\n",
    "#                     self.address == other.address\n",
    "#             return self.__dict__ == other.__dict__\n",
    "        else:\n",
    "            return False"
   ]
  },
  {
   "cell_type": "code",
   "execution_count": 80,
   "id": "d49c3ad3",
   "metadata": {},
   "outputs": [
    {
     "name": "stdout",
     "output_type": "stream",
     "text": [
      "True\n",
      "True\n",
      "False\n",
      "False\n"
     ]
    }
   ],
   "source": [
    "user1 = Member('홍길동',22,'a@a.com','신림동')\n",
    "user2 = Member('홍길동',22,'a@a.com','신림동')\n",
    "print(user1.__eq__(user2))\n",
    "print(user1==user2)\n",
    "print(user1.__eq__('홍길동'))\n",
    "print(user1=='홍길동')"
   ]
  },
  {
   "cell_type": "code",
   "execution_count": 81,
   "id": "8e52fc7e",
   "metadata": {},
   "outputs": [],
   "source": [
    "member_list = [Member('홍길동',22,'a@a.com','인천'),\n",
    "              Member('신길동',32,'a@a.com','서울'),\n",
    "              Member('김길동',42,'a@a.com','경기')]"
   ]
  },
  {
   "cell_type": "code",
   "execution_count": 82,
   "id": "326c810d",
   "metadata": {},
   "outputs": [],
   "source": [
    "with open('data/ch09_member1.json', 'w', encoding='utf-8') as jsonfile:\n",
    "    json.dump(member_list, # 객체 리스트\n",
    "             jsonfile,\n",
    "             ensure_ascii=False,\n",
    "             indent='\\t',\n",
    "             default=Member.as_dict # 객체를 딕셔너리로 return 하는 인스턴스 함수\n",
    "             )"
   ]
  },
  {
   "cell_type": "markdown",
   "id": "13cba804",
   "metadata": {},
   "source": [
    "# 4.2 load(파일 입력)\n",
    "- json파일 -> 딕셔너리 리스트(기본)\n",
    "                    ↓\n",
    "- json파일 -> 객체 리스트"
   ]
  },
  {
   "cell_type": "code",
   "execution_count": 86,
   "id": "904a9061",
   "metadata": {},
   "outputs": [],
   "source": [
    "def as_member(dic):\n",
    "    '매개변수로 딕셔너리를 받아 Member 객체를 return'\n",
    "    return Member(dic.get('name'), dic['age'],dic.get('email'),dic.get('address'))"
   ]
  },
  {
   "cell_type": "code",
   "execution_count": 88,
   "id": "5ef658ed",
   "metadata": {},
   "outputs": [
    {
     "name": "stdout",
     "output_type": "stream",
     "text": [
      "김길동, 20, z@a.com, 관약\n"
     ]
    }
   ],
   "source": [
    "member = as_member({'name':'김길동','age':20,'email':'z@a.com','address':'관약'})\n",
    "print(member)"
   ]
  },
  {
   "cell_type": "code",
   "execution_count": 89,
   "id": "8faae53e",
   "metadata": {},
   "outputs": [
    {
     "data": {
      "text/plain": [
       "[{'name': '홍길동', 'age': 20, 'email': 'kildong@hong.com', 'address': '서울'},\n",
       " {'name': '김길동', 'age': 30, 'email': 'giadong@hong.com', 'address': '인천'}]"
      ]
     },
     "execution_count": 89,
     "metadata": {},
     "output_type": "execute_result"
    }
   ],
   "source": [
    "with open('data/ch09_member.json', 'r', encoding='utf-8') as f:\n",
    "    load_data = json.load(f)\n",
    "load_data"
   ]
  },
  {
   "cell_type": "code",
   "execution_count": 92,
   "id": "dd4c93e4",
   "metadata": {},
   "outputs": [
    {
     "name": "stdout",
     "output_type": "stream",
     "text": [
      "홍길동, 22, a@a.com, 인천\n",
      "신길동, 32, a@a.com, 서울\n",
      "김길동, 42, a@a.com, 경기\n"
     ]
    }
   ],
   "source": [
    "with open('data/ch09_member1.json', 'r', encoding='utf-8') as f:\n",
    "    load_member_list = json.load(f, object_hook=as_member)\n",
    "for load_member in load_member_list:\n",
    "    print(load_member)"
   ]
  },
  {
   "cell_type": "markdown",
   "id": "13071315",
   "metadata": {},
   "source": [
    "## JSON -> 데이터프레임"
   ]
  },
  {
   "cell_type": "code",
   "execution_count": 93,
   "id": "95adf490",
   "metadata": {},
   "outputs": [
    {
     "data": {
      "text/html": [
       "<div>\n",
       "<style scoped>\n",
       "    .dataframe tbody tr th:only-of-type {\n",
       "        vertical-align: middle;\n",
       "    }\n",
       "\n",
       "    .dataframe tbody tr th {\n",
       "        vertical-align: top;\n",
       "    }\n",
       "\n",
       "    .dataframe thead th {\n",
       "        text-align: right;\n",
       "    }\n",
       "</style>\n",
       "<table border=\"1\" class=\"dataframe\">\n",
       "  <thead>\n",
       "    <tr style=\"text-align: right;\">\n",
       "      <th></th>\n",
       "      <th>name</th>\n",
       "      <th>age</th>\n",
       "      <th>email</th>\n",
       "      <th>address</th>\n",
       "    </tr>\n",
       "  </thead>\n",
       "  <tbody>\n",
       "    <tr>\n",
       "      <th>0</th>\n",
       "      <td>홍길동</td>\n",
       "      <td>22</td>\n",
       "      <td>a@a.com</td>\n",
       "      <td>인천</td>\n",
       "    </tr>\n",
       "    <tr>\n",
       "      <th>1</th>\n",
       "      <td>신길동</td>\n",
       "      <td>32</td>\n",
       "      <td>a@a.com</td>\n",
       "      <td>서울</td>\n",
       "    </tr>\n",
       "    <tr>\n",
       "      <th>2</th>\n",
       "      <td>김길동</td>\n",
       "      <td>42</td>\n",
       "      <td>a@a.com</td>\n",
       "      <td>경기</td>\n",
       "    </tr>\n",
       "  </tbody>\n",
       "</table>\n",
       "</div>"
      ],
      "text/plain": [
       "  name  age    email address\n",
       "0  홍길동   22  a@a.com      인천\n",
       "1  신길동   32  a@a.com      서울\n",
       "2  김길동   42  a@a.com      경기"
      ]
     },
     "execution_count": 93,
     "metadata": {},
     "output_type": "execute_result"
    }
   ],
   "source": [
    "import pandas as pd\n",
    "pd.read_json('data/ch09_member1.json') # , encoding='cp949' 등을 정의 해주어도 됨\n",
    "# pd.함수() : encoding='utf-8' 기본값\n",
    "# open(파일, 모드)함수 : encoding='cp949' 기본값"
   ]
  },
  {
   "cell_type": "markdown",
   "id": "5d74dfb5",
   "metadata": {},
   "source": [
    "# 5절. hdf5(h5)파일 쓰기/읽기\n",
    "- h5py 사용\n",
    "## 5.1 hdf5파일 쓰기\n",
    "- 딕셔너리 리스트를 hdf5파일에 쓰기\n",
    "- 데이터프레임을 hdf5파일에 쓰기"
   ]
  },
  {
   "cell_type": "code",
   "execution_count": 9,
   "id": "d8d14b1b",
   "metadata": {},
   "outputs": [
    {
     "data": {
      "text/html": [
       "<div>\n",
       "<style scoped>\n",
       "    .dataframe tbody tr th:only-of-type {\n",
       "        vertical-align: middle;\n",
       "    }\n",
       "\n",
       "    .dataframe tbody tr th {\n",
       "        vertical-align: top;\n",
       "    }\n",
       "\n",
       "    .dataframe thead th {\n",
       "        text-align: right;\n",
       "    }\n",
       "</style>\n",
       "<table border=\"1\" class=\"dataframe\">\n",
       "  <thead>\n",
       "    <tr style=\"text-align: right;\">\n",
       "      <th></th>\n",
       "      <th>sepal_length</th>\n",
       "      <th>sepal_width</th>\n",
       "      <th>petal_length</th>\n",
       "      <th>petal_width</th>\n",
       "      <th>species</th>\n",
       "    </tr>\n",
       "  </thead>\n",
       "  <tbody>\n",
       "    <tr>\n",
       "      <th>0</th>\n",
       "      <td>5.1</td>\n",
       "      <td>3.5</td>\n",
       "      <td>1.4</td>\n",
       "      <td>0.2</td>\n",
       "      <td>setosa</td>\n",
       "    </tr>\n",
       "    <tr>\n",
       "      <th>50</th>\n",
       "      <td>7.0</td>\n",
       "      <td>3.2</td>\n",
       "      <td>4.7</td>\n",
       "      <td>1.4</td>\n",
       "      <td>versicolor</td>\n",
       "    </tr>\n",
       "    <tr>\n",
       "      <th>100</th>\n",
       "      <td>6.3</td>\n",
       "      <td>3.3</td>\n",
       "      <td>6.0</td>\n",
       "      <td>2.5</td>\n",
       "      <td>virginica</td>\n",
       "    </tr>\n",
       "  </tbody>\n",
       "</table>\n",
       "</div>"
      ],
      "text/plain": [
       "     sepal_length  sepal_width  petal_length  petal_width     species\n",
       "0             5.1          3.5           1.4          0.2      setosa\n",
       "50            7.0          3.2           4.7          1.4  versicolor\n",
       "100           6.3          3.3           6.0          2.5   virginica"
      ]
     },
     "metadata": {},
     "output_type": "display_data"
    }
   ],
   "source": [
    "# seaborn : 시각화 패키지. 학습을 위한 데이터셋 다수 \n",
    "import seaborn as sns\n",
    "iris_df = sns.load_dataset('iris')\n",
    "display(iris_df[::50])"
   ]
  },
  {
   "cell_type": "code",
   "execution_count": 10,
   "id": "37119f3f",
   "metadata": {},
   "outputs": [],
   "source": [
    "iris_df.to_hdf(\"data/ch09_iris.hdf5\", key='iris')"
   ]
  },
  {
   "cell_type": "code",
   "execution_count": 18,
   "id": "03d45c1a",
   "metadata": {},
   "outputs": [
    {
     "data": {
      "text/plain": [
       "(dict, pandas.core.frame.DataFrame)"
      ]
     },
     "execution_count": 18,
     "metadata": {},
     "output_type": "execute_result"
    }
   ],
   "source": [
    "iris_dic = iris_df.to_dict()\n",
    "type(iris_dic), type(iris_df)"
   ]
  },
  {
   "cell_type": "code",
   "execution_count": 20,
   "id": "749fe075",
   "metadata": {},
   "outputs": [
    {
     "data": {
      "text/plain": [
       "dict_keys(['sepal_length', 'sepal_width', 'petal_length', 'petal_width', 'species'])"
      ]
     },
     "execution_count": 20,
     "metadata": {},
     "output_type": "execute_result"
    }
   ],
   "source": [
    "iris_dic.keys()"
   ]
  },
  {
   "cell_type": "code",
   "execution_count": 21,
   "id": "8f9d7a60",
   "metadata": {
    "collapsed": true
   },
   "outputs": [
    {
     "name": "stdout",
     "output_type": "stream",
     "text": [
      "그룹명 : sepal_length\n",
      "{0: 5.1, 1: 4.9, 2: 4.7, 3: 4.6, 4: 5.0, 5: 5.4, 6: 4.6, 7: 5.0, 8: 4.4, 9: 4.9, 10: 5.4, 11: 4.8, 12: 4.8, 13: 4.3, 14: 5.8, 15: 5.7, 16: 5.4, 17: 5.1, 18: 5.7, 19: 5.1, 20: 5.4, 21: 5.1, 22: 4.6, 23: 5.1, 24: 4.8, 25: 5.0, 26: 5.0, 27: 5.2, 28: 5.2, 29: 4.7, 30: 4.8, 31: 5.4, 32: 5.2, 33: 5.5, 34: 4.9, 35: 5.0, 36: 5.5, 37: 4.9, 38: 4.4, 39: 5.1, 40: 5.0, 41: 4.5, 42: 4.4, 43: 5.0, 44: 5.1, 45: 4.8, 46: 5.1, 47: 4.6, 48: 5.3, 49: 5.0, 50: 7.0, 51: 6.4, 52: 6.9, 53: 5.5, 54: 6.5, 55: 5.7, 56: 6.3, 57: 4.9, 58: 6.6, 59: 5.2, 60: 5.0, 61: 5.9, 62: 6.0, 63: 6.1, 64: 5.6, 65: 6.7, 66: 5.6, 67: 5.8, 68: 6.2, 69: 5.6, 70: 5.9, 71: 6.1, 72: 6.3, 73: 6.1, 74: 6.4, 75: 6.6, 76: 6.8, 77: 6.7, 78: 6.0, 79: 5.7, 80: 5.5, 81: 5.5, 82: 5.8, 83: 6.0, 84: 5.4, 85: 6.0, 86: 6.7, 87: 6.3, 88: 5.6, 89: 5.5, 90: 5.5, 91: 6.1, 92: 5.8, 93: 5.0, 94: 5.6, 95: 5.7, 96: 5.7, 97: 6.2, 98: 5.1, 99: 5.7, 100: 6.3, 101: 5.8, 102: 7.1, 103: 6.3, 104: 6.5, 105: 7.6, 106: 4.9, 107: 7.3, 108: 6.7, 109: 7.2, 110: 6.5, 111: 6.4, 112: 6.8, 113: 5.7, 114: 5.8, 115: 6.4, 116: 6.5, 117: 7.7, 118: 7.7, 119: 6.0, 120: 6.9, 121: 5.6, 122: 7.7, 123: 6.3, 124: 6.7, 125: 7.2, 126: 6.2, 127: 6.1, 128: 6.4, 129: 7.2, 130: 7.4, 131: 7.9, 132: 6.4, 133: 6.3, 134: 6.1, 135: 7.7, 136: 6.3, 137: 6.4, 138: 6.0, 139: 6.9, 140: 6.7, 141: 6.9, 142: 5.8, 143: 6.8, 144: 6.7, 145: 6.7, 146: 6.3, 147: 6.5, 148: 6.2, 149: 5.9}\n",
      "그룹명 : sepal_width\n",
      "{0: 3.5, 1: 3.0, 2: 3.2, 3: 3.1, 4: 3.6, 5: 3.9, 6: 3.4, 7: 3.4, 8: 2.9, 9: 3.1, 10: 3.7, 11: 3.4, 12: 3.0, 13: 3.0, 14: 4.0, 15: 4.4, 16: 3.9, 17: 3.5, 18: 3.8, 19: 3.8, 20: 3.4, 21: 3.7, 22: 3.6, 23: 3.3, 24: 3.4, 25: 3.0, 26: 3.4, 27: 3.5, 28: 3.4, 29: 3.2, 30: 3.1, 31: 3.4, 32: 4.1, 33: 4.2, 34: 3.1, 35: 3.2, 36: 3.5, 37: 3.6, 38: 3.0, 39: 3.4, 40: 3.5, 41: 2.3, 42: 3.2, 43: 3.5, 44: 3.8, 45: 3.0, 46: 3.8, 47: 3.2, 48: 3.7, 49: 3.3, 50: 3.2, 51: 3.2, 52: 3.1, 53: 2.3, 54: 2.8, 55: 2.8, 56: 3.3, 57: 2.4, 58: 2.9, 59: 2.7, 60: 2.0, 61: 3.0, 62: 2.2, 63: 2.9, 64: 2.9, 65: 3.1, 66: 3.0, 67: 2.7, 68: 2.2, 69: 2.5, 70: 3.2, 71: 2.8, 72: 2.5, 73: 2.8, 74: 2.9, 75: 3.0, 76: 2.8, 77: 3.0, 78: 2.9, 79: 2.6, 80: 2.4, 81: 2.4, 82: 2.7, 83: 2.7, 84: 3.0, 85: 3.4, 86: 3.1, 87: 2.3, 88: 3.0, 89: 2.5, 90: 2.6, 91: 3.0, 92: 2.6, 93: 2.3, 94: 2.7, 95: 3.0, 96: 2.9, 97: 2.9, 98: 2.5, 99: 2.8, 100: 3.3, 101: 2.7, 102: 3.0, 103: 2.9, 104: 3.0, 105: 3.0, 106: 2.5, 107: 2.9, 108: 2.5, 109: 3.6, 110: 3.2, 111: 2.7, 112: 3.0, 113: 2.5, 114: 2.8, 115: 3.2, 116: 3.0, 117: 3.8, 118: 2.6, 119: 2.2, 120: 3.2, 121: 2.8, 122: 2.8, 123: 2.7, 124: 3.3, 125: 3.2, 126: 2.8, 127: 3.0, 128: 2.8, 129: 3.0, 130: 2.8, 131: 3.8, 132: 2.8, 133: 2.8, 134: 2.6, 135: 3.0, 136: 3.4, 137: 3.1, 138: 3.0, 139: 3.1, 140: 3.1, 141: 3.1, 142: 2.7, 143: 3.2, 144: 3.3, 145: 3.0, 146: 2.5, 147: 3.0, 148: 3.4, 149: 3.0}\n",
      "그룹명 : petal_length\n",
      "{0: 1.4, 1: 1.4, 2: 1.3, 3: 1.5, 4: 1.4, 5: 1.7, 6: 1.4, 7: 1.5, 8: 1.4, 9: 1.5, 10: 1.5, 11: 1.6, 12: 1.4, 13: 1.1, 14: 1.2, 15: 1.5, 16: 1.3, 17: 1.4, 18: 1.7, 19: 1.5, 20: 1.7, 21: 1.5, 22: 1.0, 23: 1.7, 24: 1.9, 25: 1.6, 26: 1.6, 27: 1.5, 28: 1.4, 29: 1.6, 30: 1.6, 31: 1.5, 32: 1.5, 33: 1.4, 34: 1.5, 35: 1.2, 36: 1.3, 37: 1.4, 38: 1.3, 39: 1.5, 40: 1.3, 41: 1.3, 42: 1.3, 43: 1.6, 44: 1.9, 45: 1.4, 46: 1.6, 47: 1.4, 48: 1.5, 49: 1.4, 50: 4.7, 51: 4.5, 52: 4.9, 53: 4.0, 54: 4.6, 55: 4.5, 56: 4.7, 57: 3.3, 58: 4.6, 59: 3.9, 60: 3.5, 61: 4.2, 62: 4.0, 63: 4.7, 64: 3.6, 65: 4.4, 66: 4.5, 67: 4.1, 68: 4.5, 69: 3.9, 70: 4.8, 71: 4.0, 72: 4.9, 73: 4.7, 74: 4.3, 75: 4.4, 76: 4.8, 77: 5.0, 78: 4.5, 79: 3.5, 80: 3.8, 81: 3.7, 82: 3.9, 83: 5.1, 84: 4.5, 85: 4.5, 86: 4.7, 87: 4.4, 88: 4.1, 89: 4.0, 90: 4.4, 91: 4.6, 92: 4.0, 93: 3.3, 94: 4.2, 95: 4.2, 96: 4.2, 97: 4.3, 98: 3.0, 99: 4.1, 100: 6.0, 101: 5.1, 102: 5.9, 103: 5.6, 104: 5.8, 105: 6.6, 106: 4.5, 107: 6.3, 108: 5.8, 109: 6.1, 110: 5.1, 111: 5.3, 112: 5.5, 113: 5.0, 114: 5.1, 115: 5.3, 116: 5.5, 117: 6.7, 118: 6.9, 119: 5.0, 120: 5.7, 121: 4.9, 122: 6.7, 123: 4.9, 124: 5.7, 125: 6.0, 126: 4.8, 127: 4.9, 128: 5.6, 129: 5.8, 130: 6.1, 131: 6.4, 132: 5.6, 133: 5.1, 134: 5.6, 135: 6.1, 136: 5.6, 137: 5.5, 138: 4.8, 139: 5.4, 140: 5.6, 141: 5.1, 142: 5.1, 143: 5.9, 144: 5.7, 145: 5.2, 146: 5.0, 147: 5.2, 148: 5.4, 149: 5.1}\n",
      "그룹명 : petal_width\n",
      "{0: 0.2, 1: 0.2, 2: 0.2, 3: 0.2, 4: 0.2, 5: 0.4, 6: 0.3, 7: 0.2, 8: 0.2, 9: 0.1, 10: 0.2, 11: 0.2, 12: 0.1, 13: 0.1, 14: 0.2, 15: 0.4, 16: 0.4, 17: 0.3, 18: 0.3, 19: 0.3, 20: 0.2, 21: 0.4, 22: 0.2, 23: 0.5, 24: 0.2, 25: 0.2, 26: 0.4, 27: 0.2, 28: 0.2, 29: 0.2, 30: 0.2, 31: 0.4, 32: 0.1, 33: 0.2, 34: 0.2, 35: 0.2, 36: 0.2, 37: 0.1, 38: 0.2, 39: 0.2, 40: 0.3, 41: 0.3, 42: 0.2, 43: 0.6, 44: 0.4, 45: 0.3, 46: 0.2, 47: 0.2, 48: 0.2, 49: 0.2, 50: 1.4, 51: 1.5, 52: 1.5, 53: 1.3, 54: 1.5, 55: 1.3, 56: 1.6, 57: 1.0, 58: 1.3, 59: 1.4, 60: 1.0, 61: 1.5, 62: 1.0, 63: 1.4, 64: 1.3, 65: 1.4, 66: 1.5, 67: 1.0, 68: 1.5, 69: 1.1, 70: 1.8, 71: 1.3, 72: 1.5, 73: 1.2, 74: 1.3, 75: 1.4, 76: 1.4, 77: 1.7, 78: 1.5, 79: 1.0, 80: 1.1, 81: 1.0, 82: 1.2, 83: 1.6, 84: 1.5, 85: 1.6, 86: 1.5, 87: 1.3, 88: 1.3, 89: 1.3, 90: 1.2, 91: 1.4, 92: 1.2, 93: 1.0, 94: 1.3, 95: 1.2, 96: 1.3, 97: 1.3, 98: 1.1, 99: 1.3, 100: 2.5, 101: 1.9, 102: 2.1, 103: 1.8, 104: 2.2, 105: 2.1, 106: 1.7, 107: 1.8, 108: 1.8, 109: 2.5, 110: 2.0, 111: 1.9, 112: 2.1, 113: 2.0, 114: 2.4, 115: 2.3, 116: 1.8, 117: 2.2, 118: 2.3, 119: 1.5, 120: 2.3, 121: 2.0, 122: 2.0, 123: 1.8, 124: 2.1, 125: 1.8, 126: 1.8, 127: 1.8, 128: 2.1, 129: 1.6, 130: 1.9, 131: 2.0, 132: 2.2, 133: 1.5, 134: 1.4, 135: 2.3, 136: 2.4, 137: 1.8, 138: 1.8, 139: 2.1, 140: 2.4, 141: 2.3, 142: 1.9, 143: 2.3, 144: 2.5, 145: 2.3, 146: 1.9, 147: 2.0, 148: 2.3, 149: 1.8}\n",
      "그룹명 : species\n",
      "{0: 'setosa', 1: 'setosa', 2: 'setosa', 3: 'setosa', 4: 'setosa', 5: 'setosa', 6: 'setosa', 7: 'setosa', 8: 'setosa', 9: 'setosa', 10: 'setosa', 11: 'setosa', 12: 'setosa', 13: 'setosa', 14: 'setosa', 15: 'setosa', 16: 'setosa', 17: 'setosa', 18: 'setosa', 19: 'setosa', 20: 'setosa', 21: 'setosa', 22: 'setosa', 23: 'setosa', 24: 'setosa', 25: 'setosa', 26: 'setosa', 27: 'setosa', 28: 'setosa', 29: 'setosa', 30: 'setosa', 31: 'setosa', 32: 'setosa', 33: 'setosa', 34: 'setosa', 35: 'setosa', 36: 'setosa', 37: 'setosa', 38: 'setosa', 39: 'setosa', 40: 'setosa', 41: 'setosa', 42: 'setosa', 43: 'setosa', 44: 'setosa', 45: 'setosa', 46: 'setosa', 47: 'setosa', 48: 'setosa', 49: 'setosa', 50: 'versicolor', 51: 'versicolor', 52: 'versicolor', 53: 'versicolor', 54: 'versicolor', 55: 'versicolor', 56: 'versicolor', 57: 'versicolor', 58: 'versicolor', 59: 'versicolor', 60: 'versicolor', 61: 'versicolor', 62: 'versicolor', 63: 'versicolor', 64: 'versicolor', 65: 'versicolor', 66: 'versicolor', 67: 'versicolor', 68: 'versicolor', 69: 'versicolor', 70: 'versicolor', 71: 'versicolor', 72: 'versicolor', 73: 'versicolor', 74: 'versicolor', 75: 'versicolor', 76: 'versicolor', 77: 'versicolor', 78: 'versicolor', 79: 'versicolor', 80: 'versicolor', 81: 'versicolor', 82: 'versicolor', 83: 'versicolor', 84: 'versicolor', 85: 'versicolor', 86: 'versicolor', 87: 'versicolor', 88: 'versicolor', 89: 'versicolor', 90: 'versicolor', 91: 'versicolor', 92: 'versicolor', 93: 'versicolor', 94: 'versicolor', 95: 'versicolor', 96: 'versicolor', 97: 'versicolor', 98: 'versicolor', 99: 'versicolor', 100: 'virginica', 101: 'virginica', 102: 'virginica', 103: 'virginica', 104: 'virginica', 105: 'virginica', 106: 'virginica', 107: 'virginica', 108: 'virginica', 109: 'virginica', 110: 'virginica', 111: 'virginica', 112: 'virginica', 113: 'virginica', 114: 'virginica', 115: 'virginica', 116: 'virginica', 117: 'virginica', 118: 'virginica', 119: 'virginica', 120: 'virginica', 121: 'virginica', 122: 'virginica', 123: 'virginica', 124: 'virginica', 125: 'virginica', 126: 'virginica', 127: 'virginica', 128: 'virginica', 129: 'virginica', 130: 'virginica', 131: 'virginica', 132: 'virginica', 133: 'virginica', 134: 'virginica', 135: 'virginica', 136: 'virginica', 137: 'virginica', 138: 'virginica', 139: 'virginica', 140: 'virginica', 141: 'virginica', 142: 'virginica', 143: 'virginica', 144: 'virginica', 145: 'virginica', 146: 'virginica', 147: 'virginica', 148: 'virginica', 149: 'virginica'}\n"
     ]
    }
   ],
   "source": [
    "for group, value in iris_dic.items():\n",
    "    print('그룹명 :', group)\n",
    "    #print(value)"
   ]
  },
  {
   "cell_type": "code",
   "execution_count": 25,
   "id": "926b46d9",
   "metadata": {
    "collapsed": true
   },
   "outputs": [
    {
     "name": "stdout",
     "output_type": "stream",
     "text": [
      "그룹명 : sepal_length\n",
      "0:5.1\t1:4.9\t2:4.7\t3:4.6\t4:5.0\t5:5.4\t6:4.6\t7:5.0\t8:4.4\t9:4.9\t10:5.4\t11:4.8\t12:4.8\t13:4.3\t14:5.8\t15:5.7\t16:5.4\t17:5.1\t18:5.7\t19:5.1\t20:5.4\t21:5.1\t22:4.6\t23:5.1\t24:4.8\t25:5.0\t26:5.0\t27:5.2\t28:5.2\t29:4.7\t30:4.8\t31:5.4\t32:5.2\t33:5.5\t34:4.9\t35:5.0\t36:5.5\t37:4.9\t38:4.4\t39:5.1\t40:5.0\t41:4.5\t42:4.4\t43:5.0\t44:5.1\t45:4.8\t46:5.1\t47:4.6\t48:5.3\t49:5.0\t50:7.0\t51:6.4\t52:6.9\t53:5.5\t54:6.5\t55:5.7\t56:6.3\t57:4.9\t58:6.6\t59:5.2\t60:5.0\t61:5.9\t62:6.0\t63:6.1\t64:5.6\t65:6.7\t66:5.6\t67:5.8\t68:6.2\t69:5.6\t70:5.9\t71:6.1\t72:6.3\t73:6.1\t74:6.4\t75:6.6\t76:6.8\t77:6.7\t78:6.0\t79:5.7\t80:5.5\t81:5.5\t82:5.8\t83:6.0\t84:5.4\t85:6.0\t86:6.7\t87:6.3\t88:5.6\t89:5.5\t90:5.5\t91:6.1\t92:5.8\t93:5.0\t94:5.6\t95:5.7\t96:5.7\t97:6.2\t98:5.1\t99:5.7\t100:6.3\t101:5.8\t102:7.1\t103:6.3\t104:6.5\t105:7.6\t106:4.9\t107:7.3\t108:6.7\t109:7.2\t110:6.5\t111:6.4\t112:6.8\t113:5.7\t114:5.8\t115:6.4\t116:6.5\t117:7.7\t118:7.7\t119:6.0\t120:6.9\t121:5.6\t122:7.7\t123:6.3\t124:6.7\t125:7.2\t126:6.2\t127:6.1\t128:6.4\t129:7.2\t130:7.4\t131:7.9\t132:6.4\t133:6.3\t134:6.1\t135:7.7\t136:6.3\t137:6.4\t138:6.0\t139:6.9\t140:6.7\t141:6.9\t142:5.8\t143:6.8\t144:6.7\t145:6.7\t146:6.3\t147:6.5\t148:6.2\t149:5.9\t\n",
      "그룹명 : sepal_width\n",
      "0:3.5\t1:3.0\t2:3.2\t3:3.1\t4:3.6\t5:3.9\t6:3.4\t7:3.4\t8:2.9\t9:3.1\t10:3.7\t11:3.4\t12:3.0\t13:3.0\t14:4.0\t15:4.4\t16:3.9\t17:3.5\t18:3.8\t19:3.8\t20:3.4\t21:3.7\t22:3.6\t23:3.3\t24:3.4\t25:3.0\t26:3.4\t27:3.5\t28:3.4\t29:3.2\t30:3.1\t31:3.4\t32:4.1\t33:4.2\t34:3.1\t35:3.2\t36:3.5\t37:3.6\t38:3.0\t39:3.4\t40:3.5\t41:2.3\t42:3.2\t43:3.5\t44:3.8\t45:3.0\t46:3.8\t47:3.2\t48:3.7\t49:3.3\t50:3.2\t51:3.2\t52:3.1\t53:2.3\t54:2.8\t55:2.8\t56:3.3\t57:2.4\t58:2.9\t59:2.7\t60:2.0\t61:3.0\t62:2.2\t63:2.9\t64:2.9\t65:3.1\t66:3.0\t67:2.7\t68:2.2\t69:2.5\t70:3.2\t71:2.8\t72:2.5\t73:2.8\t74:2.9\t75:3.0\t76:2.8\t77:3.0\t78:2.9\t79:2.6\t80:2.4\t81:2.4\t82:2.7\t83:2.7\t84:3.0\t85:3.4\t86:3.1\t87:2.3\t88:3.0\t89:2.5\t90:2.6\t91:3.0\t92:2.6\t93:2.3\t94:2.7\t95:3.0\t96:2.9\t97:2.9\t98:2.5\t99:2.8\t100:3.3\t101:2.7\t102:3.0\t103:2.9\t104:3.0\t105:3.0\t106:2.5\t107:2.9\t108:2.5\t109:3.6\t110:3.2\t111:2.7\t112:3.0\t113:2.5\t114:2.8\t115:3.2\t116:3.0\t117:3.8\t118:2.6\t119:2.2\t120:3.2\t121:2.8\t122:2.8\t123:2.7\t124:3.3\t125:3.2\t126:2.8\t127:3.0\t128:2.8\t129:3.0\t130:2.8\t131:3.8\t132:2.8\t133:2.8\t134:2.6\t135:3.0\t136:3.4\t137:3.1\t138:3.0\t139:3.1\t140:3.1\t141:3.1\t142:2.7\t143:3.2\t144:3.3\t145:3.0\t146:2.5\t147:3.0\t148:3.4\t149:3.0\t\n",
      "그룹명 : petal_length\n",
      "0:1.4\t1:1.4\t2:1.3\t3:1.5\t4:1.4\t5:1.7\t6:1.4\t7:1.5\t8:1.4\t9:1.5\t10:1.5\t11:1.6\t12:1.4\t13:1.1\t14:1.2\t15:1.5\t16:1.3\t17:1.4\t18:1.7\t19:1.5\t20:1.7\t21:1.5\t22:1.0\t23:1.7\t24:1.9\t25:1.6\t26:1.6\t27:1.5\t28:1.4\t29:1.6\t30:1.6\t31:1.5\t32:1.5\t33:1.4\t34:1.5\t35:1.2\t36:1.3\t37:1.4\t38:1.3\t39:1.5\t40:1.3\t41:1.3\t42:1.3\t43:1.6\t44:1.9\t45:1.4\t46:1.6\t47:1.4\t48:1.5\t49:1.4\t50:4.7\t51:4.5\t52:4.9\t53:4.0\t54:4.6\t55:4.5\t56:4.7\t57:3.3\t58:4.6\t59:3.9\t60:3.5\t61:4.2\t62:4.0\t63:4.7\t64:3.6\t65:4.4\t66:4.5\t67:4.1\t68:4.5\t69:3.9\t70:4.8\t71:4.0\t72:4.9\t73:4.7\t74:4.3\t75:4.4\t76:4.8\t77:5.0\t78:4.5\t79:3.5\t80:3.8\t81:3.7\t82:3.9\t83:5.1\t84:4.5\t85:4.5\t86:4.7\t87:4.4\t88:4.1\t89:4.0\t90:4.4\t91:4.6\t92:4.0\t93:3.3\t94:4.2\t95:4.2\t96:4.2\t97:4.3\t98:3.0\t99:4.1\t100:6.0\t101:5.1\t102:5.9\t103:5.6\t104:5.8\t105:6.6\t106:4.5\t107:6.3\t108:5.8\t109:6.1\t110:5.1\t111:5.3\t112:5.5\t113:5.0\t114:5.1\t115:5.3\t116:5.5\t117:6.7\t118:6.9\t119:5.0\t120:5.7\t121:4.9\t122:6.7\t123:4.9\t124:5.7\t125:6.0\t126:4.8\t127:4.9\t128:5.6\t129:5.8\t130:6.1\t131:6.4\t132:5.6\t133:5.1\t134:5.6\t135:6.1\t136:5.6\t137:5.5\t138:4.8\t139:5.4\t140:5.6\t141:5.1\t142:5.1\t143:5.9\t144:5.7\t145:5.2\t146:5.0\t147:5.2\t148:5.4\t149:5.1\t\n",
      "그룹명 : petal_width\n",
      "0:0.2\t1:0.2\t2:0.2\t3:0.2\t4:0.2\t5:0.4\t6:0.3\t7:0.2\t8:0.2\t9:0.1\t10:0.2\t11:0.2\t12:0.1\t13:0.1\t14:0.2\t15:0.4\t16:0.4\t17:0.3\t18:0.3\t19:0.3\t20:0.2\t21:0.4\t22:0.2\t23:0.5\t24:0.2\t25:0.2\t26:0.4\t27:0.2\t28:0.2\t29:0.2\t30:0.2\t31:0.4\t32:0.1\t33:0.2\t34:0.2\t35:0.2\t36:0.2\t37:0.1\t38:0.2\t39:0.2\t40:0.3\t41:0.3\t42:0.2\t43:0.6\t44:0.4\t45:0.3\t46:0.2\t47:0.2\t48:0.2\t49:0.2\t50:1.4\t51:1.5\t52:1.5\t53:1.3\t54:1.5\t55:1.3\t56:1.6\t57:1.0\t58:1.3\t59:1.4\t60:1.0\t61:1.5\t62:1.0\t63:1.4\t64:1.3\t65:1.4\t66:1.5\t67:1.0\t68:1.5\t69:1.1\t70:1.8\t71:1.3\t72:1.5\t73:1.2\t74:1.3\t75:1.4\t76:1.4\t77:1.7\t78:1.5\t79:1.0\t80:1.1\t81:1.0\t82:1.2\t83:1.6\t84:1.5\t85:1.6\t86:1.5\t87:1.3\t88:1.3\t89:1.3\t90:1.2\t91:1.4\t92:1.2\t93:1.0\t94:1.3\t95:1.2\t96:1.3\t97:1.3\t98:1.1\t99:1.3\t100:2.5\t101:1.9\t102:2.1\t103:1.8\t104:2.2\t105:2.1\t106:1.7\t107:1.8\t108:1.8\t109:2.5\t110:2.0\t111:1.9\t112:2.1\t113:2.0\t114:2.4\t115:2.3\t116:1.8\t117:2.2\t118:2.3\t119:1.5\t120:2.3\t121:2.0\t122:2.0\t123:1.8\t124:2.1\t125:1.8\t126:1.8\t127:1.8\t128:2.1\t129:1.6\t130:1.9\t131:2.0\t132:2.2\t133:1.5\t134:1.4\t135:2.3\t136:2.4\t137:1.8\t138:1.8\t139:2.1\t140:2.4\t141:2.3\t142:1.9\t143:2.3\t144:2.5\t145:2.3\t146:1.9\t147:2.0\t148:2.3\t149:1.8\t\n",
      "그룹명 : species\n",
      "0:setosa\t1:setosa\t2:setosa\t3:setosa\t4:setosa\t5:setosa\t6:setosa\t7:setosa\t8:setosa\t9:setosa\t10:setosa\t11:setosa\t12:setosa\t13:setosa\t14:setosa\t15:setosa\t16:setosa\t17:setosa\t18:setosa\t19:setosa\t20:setosa\t21:setosa\t22:setosa\t23:setosa\t24:setosa\t25:setosa\t26:setosa\t27:setosa\t28:setosa\t29:setosa\t30:setosa\t31:setosa\t32:setosa\t33:setosa\t34:setosa\t35:setosa\t36:setosa\t37:setosa\t38:setosa\t39:setosa\t40:setosa\t41:setosa\t42:setosa\t43:setosa\t44:setosa\t45:setosa\t46:setosa\t47:setosa\t48:setosa\t49:setosa\t50:versicolor\t51:versicolor\t52:versicolor\t53:versicolor\t54:versicolor\t55:versicolor\t56:versicolor\t57:versicolor\t58:versicolor\t59:versicolor\t60:versicolor\t61:versicolor\t62:versicolor\t63:versicolor\t64:versicolor\t65:versicolor\t66:versicolor\t67:versicolor\t68:versicolor\t69:versicolor\t70:versicolor\t71:versicolor\t72:versicolor\t73:versicolor\t74:versicolor\t75:versicolor\t76:versicolor\t77:versicolor\t78:versicolor\t79:versicolor\t80:versicolor\t81:versicolor\t82:versicolor\t83:versicolor\t84:versicolor\t85:versicolor\t86:versicolor\t87:versicolor\t88:versicolor\t89:versicolor\t90:versicolor\t91:versicolor\t92:versicolor\t93:versicolor\t94:versicolor\t95:versicolor\t96:versicolor\t97:versicolor\t98:versicolor\t99:versicolor\t100:virginica\t101:virginica\t102:virginica\t103:virginica\t104:virginica\t105:virginica\t106:virginica\t107:virginica\t108:virginica\t109:virginica\t110:virginica\t111:virginica\t112:virginica\t113:virginica\t114:virginica\t115:virginica\t116:virginica\t117:virginica\t118:virginica\t119:virginica\t120:virginica\t121:virginica\t122:virginica\t123:virginica\t124:virginica\t125:virginica\t126:virginica\t127:virginica\t128:virginica\t129:virginica\t130:virginica\t131:virginica\t132:virginica\t133:virginica\t134:virginica\t135:virginica\t136:virginica\t137:virginica\t138:virginica\t139:virginica\t140:virginica\t141:virginica\t142:virginica\t143:virginica\t144:virginica\t145:virginica\t146:virginica\t147:virginica\t148:virginica\t149:virginica\t\n"
     ]
    }
   ],
   "source": [
    "for group, value in iris_dic.items():\n",
    "    print('그룹명 :', group)\n",
    "    for key, data in value.items():\n",
    "        print('{}:{}'.format(str(key), data), end = '\\t')\n",
    "    print() # 개행"
   ]
  },
  {
   "cell_type": "markdown",
   "id": "2f31dfb8",
   "metadata": {},
   "source": [
    "### 딕셔너리 리스트를 hdf파일로 쓰기"
   ]
  },
  {
   "cell_type": "code",
   "execution_count": 29,
   "id": "39b3f378",
   "metadata": {},
   "outputs": [],
   "source": [
    "import h5py\n",
    "with h5py.File('data/ch09_iris_dic.hdf5', 'w') as f:\n",
    "    for group, value in iris_dic.items():\n",
    "        grp = f.create_group(group)\n",
    "        for key, data in value.items():\n",
    "            grp.create_dataset(str(key), data=data)"
   ]
  },
  {
   "cell_type": "markdown",
   "id": "6fdb5f74",
   "metadata": {},
   "source": [
    "## 5.2 hdf5 파일 읽기\n",
    "- hdf5파일을 딕셔너리 리스트로 읽기\n",
    "- hdf5파일을 데이터 프레임으로 읽기"
   ]
  },
  {
   "cell_type": "code",
   "execution_count": 15,
   "id": "23e1b969",
   "metadata": {},
   "outputs": [
    {
     "data": {
      "text/plain": [
       "True"
      ]
     },
     "execution_count": 15,
     "metadata": {},
     "output_type": "execute_result"
    }
   ],
   "source": [
    "import pandas as pd\n",
    "load_iris_df = pd.read_hdf('data/ch09_iris.hdf5', key='iris')\n",
    "load_iris_df[::50]"
   ]
  },
  {
   "cell_type": "code",
   "execution_count": 14,
   "id": "7d6bac2d",
   "metadata": {},
   "outputs": [
    {
     "data": {
      "text/html": [
       "<div>\n",
       "<style scoped>\n",
       "    .dataframe tbody tr th:only-of-type {\n",
       "        vertical-align: middle;\n",
       "    }\n",
       "\n",
       "    .dataframe tbody tr th {\n",
       "        vertical-align: top;\n",
       "    }\n",
       "\n",
       "    .dataframe thead th {\n",
       "        text-align: right;\n",
       "    }\n",
       "</style>\n",
       "<table border=\"1\" class=\"dataframe\">\n",
       "  <thead>\n",
       "    <tr style=\"text-align: right;\">\n",
       "      <th></th>\n",
       "      <th>sepal_length</th>\n",
       "      <th>sepal_width</th>\n",
       "      <th>petal_length</th>\n",
       "      <th>petal_width</th>\n",
       "      <th>species</th>\n",
       "    </tr>\n",
       "  </thead>\n",
       "  <tbody>\n",
       "    <tr>\n",
       "      <th>0</th>\n",
       "      <td>True</td>\n",
       "      <td>True</td>\n",
       "      <td>True</td>\n",
       "      <td>True</td>\n",
       "      <td>True</td>\n",
       "    </tr>\n",
       "    <tr>\n",
       "      <th>50</th>\n",
       "      <td>True</td>\n",
       "      <td>True</td>\n",
       "      <td>True</td>\n",
       "      <td>True</td>\n",
       "      <td>True</td>\n",
       "    </tr>\n",
       "    <tr>\n",
       "      <th>100</th>\n",
       "      <td>True</td>\n",
       "      <td>True</td>\n",
       "      <td>True</td>\n",
       "      <td>True</td>\n",
       "      <td>True</td>\n",
       "    </tr>\n",
       "  </tbody>\n",
       "</table>\n",
       "</div>"
      ],
      "text/plain": [
       "     sepal_length  sepal_width  petal_length  petal_width  species\n",
       "0            True         True          True         True     True\n",
       "50           True         True          True         True     True\n",
       "100          True         True          True         True     True"
      ]
     },
     "execution_count": 14,
     "metadata": {},
     "output_type": "execute_result"
    }
   ],
   "source": [
    "iris_df[::50] == load_iris_df[::50]"
   ]
  },
  {
   "cell_type": "code",
   "execution_count": 16,
   "id": "e33275c8",
   "metadata": {},
   "outputs": [
    {
     "data": {
      "text/plain": [
       "True"
      ]
     },
     "execution_count": 16,
     "metadata": {},
     "output_type": "execute_result"
    }
   ],
   "source": [
    "all(iris_df == load_iris_df) # 두 데이터프레임 변수의 모든 행과 열의 값이 같은지 여부"
   ]
  },
  {
   "cell_type": "code",
   "execution_count": 33,
   "id": "3c86eb35",
   "metadata": {
    "collapsed": true
   },
   "outputs": [
    {
     "name": "stdout",
     "output_type": "stream",
     "text": [
      "그룹 :  petal_length\n",
      "0:1.4\t1:1.4\t10:1.5\t100:6.0\t101:5.1\t102:5.9\t103:5.6\t104:5.8\t105:6.6\t106:4.5\t107:6.3\t108:5.8\t109:6.1\t11:1.6\t110:5.1\t111:5.3\t112:5.5\t113:5.0\t114:5.1\t115:5.3\t116:5.5\t117:6.7\t118:6.9\t119:5.0\t12:1.4\t120:5.7\t121:4.9\t122:6.7\t123:4.9\t124:5.7\t125:6.0\t126:4.8\t127:4.9\t128:5.6\t129:5.8\t13:1.1\t130:6.1\t131:6.4\t132:5.6\t133:5.1\t134:5.6\t135:6.1\t136:5.6\t137:5.5\t138:4.8\t139:5.4\t14:1.2\t140:5.6\t141:5.1\t142:5.1\t143:5.9\t144:5.7\t145:5.2\t146:5.0\t147:5.2\t148:5.4\t149:5.1\t15:1.5\t16:1.3\t17:1.4\t18:1.7\t19:1.5\t2:1.3\t20:1.7\t21:1.5\t22:1.0\t23:1.7\t24:1.9\t25:1.6\t26:1.6\t27:1.5\t28:1.4\t29:1.6\t3:1.5\t30:1.6\t31:1.5\t32:1.5\t33:1.4\t34:1.5\t35:1.2\t36:1.3\t37:1.4\t38:1.3\t39:1.5\t4:1.4\t40:1.3\t41:1.3\t42:1.3\t43:1.6\t44:1.9\t45:1.4\t46:1.6\t47:1.4\t48:1.5\t49:1.4\t5:1.7\t50:4.7\t51:4.5\t52:4.9\t53:4.0\t54:4.6\t55:4.5\t56:4.7\t57:3.3\t58:4.6\t59:3.9\t6:1.4\t60:3.5\t61:4.2\t62:4.0\t63:4.7\t64:3.6\t65:4.4\t66:4.5\t67:4.1\t68:4.5\t69:3.9\t7:1.5\t70:4.8\t71:4.0\t72:4.9\t73:4.7\t74:4.3\t75:4.4\t76:4.8\t77:5.0\t78:4.5\t79:3.5\t8:1.4\t80:3.8\t81:3.7\t82:3.9\t83:5.1\t84:4.5\t85:4.5\t86:4.7\t87:4.4\t88:4.1\t89:4.0\t9:1.5\t90:4.4\t91:4.6\t92:4.0\t93:3.3\t94:4.2\t95:4.2\t96:4.2\t97:4.3\t98:3.0\t99:4.1\t\n",
      "그룹 :  petal_width\n",
      "0:0.2\t1:0.2\t10:0.2\t100:2.5\t101:1.9\t102:2.1\t103:1.8\t104:2.2\t105:2.1\t106:1.7\t107:1.8\t108:1.8\t109:2.5\t11:0.2\t110:2.0\t111:1.9\t112:2.1\t113:2.0\t114:2.4\t115:2.3\t116:1.8\t117:2.2\t118:2.3\t119:1.5\t12:0.1\t120:2.3\t121:2.0\t122:2.0\t123:1.8\t124:2.1\t125:1.8\t126:1.8\t127:1.8\t128:2.1\t129:1.6\t13:0.1\t130:1.9\t131:2.0\t132:2.2\t133:1.5\t134:1.4\t135:2.3\t136:2.4\t137:1.8\t138:1.8\t139:2.1\t14:0.2\t140:2.4\t141:2.3\t142:1.9\t143:2.3\t144:2.5\t145:2.3\t146:1.9\t147:2.0\t148:2.3\t149:1.8\t15:0.4\t16:0.4\t17:0.3\t18:0.3\t19:0.3\t2:0.2\t20:0.2\t21:0.4\t22:0.2\t23:0.5\t24:0.2\t25:0.2\t26:0.4\t27:0.2\t28:0.2\t29:0.2\t3:0.2\t30:0.2\t31:0.4\t32:0.1\t33:0.2\t34:0.2\t35:0.2\t36:0.2\t37:0.1\t38:0.2\t39:0.2\t4:0.2\t40:0.3\t41:0.3\t42:0.2\t43:0.6\t44:0.4\t45:0.3\t46:0.2\t47:0.2\t48:0.2\t49:0.2\t5:0.4\t50:1.4\t51:1.5\t52:1.5\t53:1.3\t54:1.5\t55:1.3\t56:1.6\t57:1.0\t58:1.3\t59:1.4\t6:0.3\t60:1.0\t61:1.5\t62:1.0\t63:1.4\t64:1.3\t65:1.4\t66:1.5\t67:1.0\t68:1.5\t69:1.1\t7:0.2\t70:1.8\t71:1.3\t72:1.5\t73:1.2\t74:1.3\t75:1.4\t76:1.4\t77:1.7\t78:1.5\t79:1.0\t8:0.2\t80:1.1\t81:1.0\t82:1.2\t83:1.6\t84:1.5\t85:1.6\t86:1.5\t87:1.3\t88:1.3\t89:1.3\t9:0.1\t90:1.2\t91:1.4\t92:1.2\t93:1.0\t94:1.3\t95:1.2\t96:1.3\t97:1.3\t98:1.1\t99:1.3\t\n",
      "그룹 :  sepal_length\n",
      "0:5.1\t1:4.9\t10:5.4\t100:6.3\t101:5.8\t102:7.1\t103:6.3\t104:6.5\t105:7.6\t106:4.9\t107:7.3\t108:6.7\t109:7.2\t11:4.8\t110:6.5\t111:6.4\t112:6.8\t113:5.7\t114:5.8\t115:6.4\t116:6.5\t117:7.7\t118:7.7\t119:6.0\t12:4.8\t120:6.9\t121:5.6\t122:7.7\t123:6.3\t124:6.7\t125:7.2\t126:6.2\t127:6.1\t128:6.4\t129:7.2\t13:4.3\t130:7.4\t131:7.9\t132:6.4\t133:6.3\t134:6.1\t135:7.7\t136:6.3\t137:6.4\t138:6.0\t139:6.9\t14:5.8\t140:6.7\t141:6.9\t142:5.8\t143:6.8\t144:6.7\t145:6.7\t146:6.3\t147:6.5\t148:6.2\t149:5.9\t15:5.7\t16:5.4\t17:5.1\t18:5.7\t19:5.1\t2:4.7\t20:5.4\t21:5.1\t22:4.6\t23:5.1\t24:4.8\t25:5.0\t26:5.0\t27:5.2\t28:5.2\t29:4.7\t3:4.6\t30:4.8\t31:5.4\t32:5.2\t33:5.5\t34:4.9\t35:5.0\t36:5.5\t37:4.9\t38:4.4\t39:5.1\t4:5.0\t40:5.0\t41:4.5\t42:4.4\t43:5.0\t44:5.1\t45:4.8\t46:5.1\t47:4.6\t48:5.3\t49:5.0\t5:5.4\t50:7.0\t51:6.4\t52:6.9\t53:5.5\t54:6.5\t55:5.7\t56:6.3\t57:4.9\t58:6.6\t59:5.2\t6:4.6\t60:5.0\t61:5.9\t62:6.0\t63:6.1\t64:5.6\t65:6.7\t66:5.6\t67:5.8\t68:6.2\t69:5.6\t7:5.0\t70:5.9\t71:6.1\t72:6.3\t73:6.1\t74:6.4\t75:6.6\t76:6.8\t77:6.7\t78:6.0\t79:5.7\t8:4.4\t80:5.5\t81:5.5\t82:5.8\t83:6.0\t84:5.4\t85:6.0\t86:6.7\t87:6.3\t88:5.6\t89:5.5\t9:4.9\t90:5.5\t91:6.1\t92:5.8\t93:5.0\t94:5.6\t95:5.7\t96:5.7\t97:6.2\t98:5.1\t99:5.7\t\n",
      "그룹 :  sepal_width\n",
      "0:3.5\t1:3.0\t10:3.7\t100:3.3\t101:2.7\t102:3.0\t103:2.9\t104:3.0\t105:3.0\t106:2.5\t107:2.9\t108:2.5\t109:3.6\t11:3.4\t110:3.2\t111:2.7\t112:3.0\t113:2.5\t114:2.8\t115:3.2\t116:3.0\t117:3.8\t118:2.6\t119:2.2\t12:3.0\t120:3.2\t121:2.8\t122:2.8\t123:2.7\t124:3.3\t125:3.2\t126:2.8\t127:3.0\t128:2.8\t129:3.0\t13:3.0\t130:2.8\t131:3.8\t132:2.8\t133:2.8\t134:2.6\t135:3.0\t136:3.4\t137:3.1\t138:3.0\t139:3.1\t14:4.0\t140:3.1\t141:3.1\t142:2.7\t143:3.2\t144:3.3\t145:3.0\t146:2.5\t147:3.0\t148:3.4\t149:3.0\t15:4.4\t16:3.9\t17:3.5\t18:3.8\t19:3.8\t2:3.2\t20:3.4\t21:3.7\t22:3.6\t23:3.3\t24:3.4\t25:3.0\t26:3.4\t27:3.5\t28:3.4\t29:3.2\t3:3.1\t30:3.1\t31:3.4\t32:4.1\t33:4.2\t34:3.1\t35:3.2\t36:3.5\t37:3.6\t38:3.0\t39:3.4\t4:3.6\t40:3.5\t41:2.3\t42:3.2\t43:3.5\t44:3.8\t45:3.0\t46:3.8\t47:3.2\t48:3.7\t49:3.3\t5:3.9\t50:3.2\t51:3.2\t52:3.1\t53:2.3\t54:2.8\t55:2.8\t56:3.3\t57:2.4\t58:2.9\t59:2.7\t6:3.4\t60:2.0\t61:3.0\t62:2.2\t63:2.9\t64:2.9\t65:3.1\t66:3.0\t67:2.7\t68:2.2\t69:2.5\t7:3.4\t70:3.2\t71:2.8\t72:2.5\t73:2.8\t74:2.9\t75:3.0\t76:2.8\t77:3.0\t78:2.9\t79:2.6\t8:2.9\t80:2.4\t81:2.4\t82:2.7\t83:2.7\t84:3.0\t85:3.4\t86:3.1\t87:2.3\t88:3.0\t89:2.5\t9:3.1\t90:2.6\t91:3.0\t92:2.6\t93:2.3\t94:2.7\t95:3.0\t96:2.9\t97:2.9\t98:2.5\t99:2.8\t\n",
      "그룹 :  species\n",
      "0:b'setosa'\t1:b'setosa'\t10:b'setosa'\t100:b'virginica'\t101:b'virginica'\t102:b'virginica'\t103:b'virginica'\t104:b'virginica'\t105:b'virginica'\t106:b'virginica'\t107:b'virginica'\t108:b'virginica'\t109:b'virginica'\t11:b'setosa'\t110:b'virginica'\t111:b'virginica'\t112:b'virginica'\t113:b'virginica'\t114:b'virginica'\t115:b'virginica'\t116:b'virginica'\t117:b'virginica'\t118:b'virginica'\t119:b'virginica'\t12:b'setosa'\t120:b'virginica'\t121:b'virginica'\t122:b'virginica'\t123:b'virginica'\t124:b'virginica'\t125:b'virginica'\t126:b'virginica'\t127:b'virginica'\t128:b'virginica'\t129:b'virginica'\t13:b'setosa'\t130:b'virginica'\t131:b'virginica'\t132:b'virginica'\t133:b'virginica'\t134:b'virginica'\t135:b'virginica'\t136:b'virginica'\t137:b'virginica'\t138:b'virginica'\t139:b'virginica'\t14:b'setosa'\t140:b'virginica'\t141:b'virginica'\t142:b'virginica'\t143:b'virginica'\t144:b'virginica'\t145:b'virginica'\t146:b'virginica'\t147:b'virginica'\t148:b'virginica'\t149:b'virginica'\t15:b'setosa'\t16:b'setosa'\t17:b'setosa'\t18:b'setosa'\t19:b'setosa'\t2:b'setosa'\t20:b'setosa'\t21:b'setosa'\t22:b'setosa'\t23:b'setosa'\t24:b'setosa'\t25:b'setosa'\t26:b'setosa'\t27:b'setosa'\t28:b'setosa'\t29:b'setosa'\t3:b'setosa'\t30:b'setosa'\t31:b'setosa'\t32:b'setosa'\t33:b'setosa'\t34:b'setosa'\t35:b'setosa'\t36:b'setosa'\t37:b'setosa'\t38:b'setosa'\t39:b'setosa'\t4:b'setosa'\t40:b'setosa'\t41:b'setosa'\t42:b'setosa'\t43:b'setosa'\t44:b'setosa'\t45:b'setosa'\t46:b'setosa'\t47:b'setosa'\t48:b'setosa'\t49:b'setosa'\t5:b'setosa'\t50:b'versicolor'\t51:b'versicolor'\t52:b'versicolor'\t53:b'versicolor'\t54:b'versicolor'\t55:b'versicolor'\t56:b'versicolor'\t57:b'versicolor'\t58:b'versicolor'\t59:b'versicolor'\t6:b'setosa'\t60:b'versicolor'\t61:b'versicolor'\t62:b'versicolor'\t63:b'versicolor'\t64:b'versicolor'\t65:b'versicolor'\t66:b'versicolor'\t67:b'versicolor'\t68:b'versicolor'\t69:b'versicolor'\t7:b'setosa'\t70:b'versicolor'\t71:b'versicolor'\t72:b'versicolor'\t73:b'versicolor'\t74:b'versicolor'\t75:b'versicolor'\t76:b'versicolor'\t77:b'versicolor'\t78:b'versicolor'\t79:b'versicolor'\t8:b'setosa'\t80:b'versicolor'\t81:b'versicolor'\t82:b'versicolor'\t83:b'versicolor'\t84:b'versicolor'\t85:b'versicolor'\t86:b'versicolor'\t87:b'versicolor'\t88:b'versicolor'\t89:b'versicolor'\t9:b'setosa'\t90:b'versicolor'\t91:b'versicolor'\t92:b'versicolor'\t93:b'versicolor'\t94:b'versicolor'\t95:b'versicolor'\t96:b'versicolor'\t97:b'versicolor'\t98:b'versicolor'\t99:b'versicolor'\t\n"
     ]
    }
   ],
   "source": [
    "import h5py\n",
    "with h5py.File('data/ch09_iris_dic.hdf5', 'r') as f:\n",
    "    for group, value in f.items():\n",
    "        print('그룹 : ', group)\n",
    "        for key, data in value.items():\n",
    "            print('{}:{}'.format(str(key), data[()]), end = '\\t')\n",
    "            # data[()] : h5 DataSet 타입을 가져올 때\n",
    "        print() # 개행"
   ]
  },
  {
   "cell_type": "code",
   "execution_count": 34,
   "id": "2f92e200",
   "metadata": {},
   "outputs": [
    {
     "data": {
      "text/plain": [
       "{'name': '홍'}"
      ]
     },
     "execution_count": 34,
     "metadata": {},
     "output_type": "execute_result"
    }
   ],
   "source": [
    "p = {}\n",
    "p['name'] = '홍'\n",
    "p"
   ]
  },
  {
   "cell_type": "code",
   "execution_count": 35,
   "id": "a5719c39",
   "metadata": {},
   "outputs": [
    {
     "data": {
      "text/plain": [
       "{'name': '홍'}"
      ]
     },
     "execution_count": 35,
     "metadata": {},
     "output_type": "execute_result"
    }
   ],
   "source": [
    "p = {}\n",
    "p.update({'name':'홍'})\n",
    "p"
   ]
  },
  {
   "cell_type": "code",
   "execution_count": 40,
   "id": "6548ecf5",
   "metadata": {},
   "outputs": [
    {
     "data": {
      "text/plain": [
       "dict_keys(['petal_length', 'petal_width', 'sepal_length', 'sepal_width', 'species'])"
      ]
     },
     "execution_count": 40,
     "metadata": {},
     "output_type": "execute_result"
    }
   ],
   "source": [
    "import h5py\n",
    "load_iris_dic = {}\n",
    "with h5py.File('data/ch09_iris_dic.hdf5', 'r') as f:\n",
    "    for group, value in f.items():\n",
    "        temp = {}\n",
    "        for key, data in value.items():\n",
    "            temp[int(key)] = data[()]\n",
    "        load_iris_dic[group] = temp\n",
    "        \n",
    "# load_iris_dic['sepal_length']={0:5.4, 1:4}\n",
    "# load_iris_dic['sepal_width']={0:5.4, 1:4}\n",
    "load_iris_dic.keys()"
   ]
  },
  {
   "cell_type": "markdown",
   "id": "14f41c5f",
   "metadata": {},
   "source": [
    "# 6절. 연습문제 : 고객관리 프로그램\n",
    "- 프로그램 시작시 'data/ch09/customer.txt'(고객 데이터 백업용)\"의 내용을 load(객체list) \n",
    "                파일이 없을 경우 빈 파일 생성\n",
    "- \"data/ch09_customers.txt(고객 데이터 백업용)\"의 내용 \n",
    "    홍길동, 010-9999-9999, a@a.com, 30, 3, 까칠해 홍길동, 010-9999-9999, a@a.com, 30, 3, 까칠해"
   ]
  },
  {
   "cell_type": "markdown",
   "id": "4f2f501e",
   "metadata": {},
   "source": [
    "## Customer 클래스 작성"
   ]
  },
  {
   "cell_type": "markdown",
   "id": "aa74d668",
   "metadata": {},
   "source": [
    "### 수업"
   ]
  },
  {
   "cell_type": "code",
   "execution_count": 1,
   "id": "c0a5bbd3",
   "metadata": {},
   "outputs": [],
   "source": [
    "class Customer:\n",
    "    '고객데이터와 as_dic(), to_list_style(txt백업시), __str__()'\n",
    "    def __init__(self, name, phone, email, age, grade, etc):\n",
    "        self.name = name\n",
    "        self.phone = phone\n",
    "        self.email = email\n",
    "        self.age  = age\n",
    "        self.grade = grade\n",
    "        self.etc = etc\n",
    "    def as_dic(self):\n",
    "        return {\"name\":self.name, \n",
    "                \"phone\":self.phone, \n",
    "                \"email\":self.email,\n",
    "                \"age\":self.age, \n",
    "                \"grade\":self.grade, \n",
    "                \"etc\":self.etc}\n",
    "    def to_list_style(self):\n",
    "        # return \"홍길동, 010-9999-9999, a@a.com, 30, 3, 까칠해\"\n",
    "#         return \"{}, {}, {}, {}, {}, {}\".format(self.name, self.phone, self.email,\n",
    "#                                               self.age, self.grade, self.etc)\n",
    "        temp = [self.name, \n",
    "                self.phone, \n",
    "                self.email, \n",
    "                str(self.age), \n",
    "                str(self.grade), \n",
    "                self.etc]\n",
    "        return ', '.join(temp)\n",
    "    def __str__(self):\n",
    "        # return \"  *** 홍길동, 010-9999-9999, a@a.com, 30, 까칠해\"\n",
    "        return \"{:>5}\\t{:3}\\t{:13}\\t{:15}\\t{:3}\\t{}\".format('*'*self.grade,\n",
    "                       self.name, self.phone, self.email, self.age, self.etc)"
   ]
  },
  {
   "cell_type": "code",
   "execution_count": 2,
   "id": "59524e4a",
   "metadata": {},
   "outputs": [
    {
     "data": {
      "text/plain": [
       "'홍길동, 010-9999-9999, a@a.com, 30, 3, 까칠해'"
      ]
     },
     "execution_count": 2,
     "metadata": {},
     "output_type": "execute_result"
    }
   ],
   "source": [
    "temp = ['홍길동','010-9999-9999', 'a@a.com', '30', '3', '까칠해']\n",
    "', '.join(temp)"
   ]
  },
  {
   "cell_type": "code",
   "execution_count": 3,
   "id": "65141ef9",
   "metadata": {},
   "outputs": [],
   "source": [
    "def to_customer(row):\n",
    "    '''\n",
    "    row = \"홍길동, 010-9999-9999, a@a.com, 30, 3, 까칠해\"(txt파일 내용)을 매개변수로 받아\n",
    "    Customer 객체로 return \n",
    "    '''\n",
    "    data = row.split(',')\n",
    "    name = data[0]\n",
    "    phone = data[1].strip() # strip은 앞뒤 white space 제거\n",
    "    email = data[2].strip()\n",
    "    age = int(data[3].strip())\n",
    "    grade = int(data[4].strip())\n",
    "    etc = data[5].strip()\n",
    "    return Customer(name, phone, email, age, grade, etc)"
   ]
  },
  {
   "cell_type": "code",
   "execution_count": 4,
   "id": "962c6580",
   "metadata": {},
   "outputs": [
    {
     "name": "stdout",
     "output_type": "stream",
     "text": [
      "  ***\t홍길동\t010-9999-9999\ta@a.com        \t 30\t까칠해\n",
      "as_dic() = {'name': '홍길동', 'phone': '010-9999-9999', 'email': 'a@a.com', 'age': 30, 'grade': 3, 'etc': '까칠해'}\n",
      "to_list_style() = 홍길동, 010-9999-9999, a@a.com, 30, 3, 까칠해\n",
      "  ***\t홍길동\t010-9999-9999\ta@a.com        \t 30\t까칠해\n"
     ]
    }
   ],
   "source": [
    "c1 = Customer(\"홍길동\", \"010-9999-9999\", \"a@a.com\", 30, 3, \"까칠해\")\n",
    "print(c1)\n",
    "print('as_dic() =',c1.as_dic())\n",
    "print('to_list_style() =',c1.to_list_style())\n",
    "c2 = to_customer(\"홍길동, 010-9999-9999, a@a.com, 30, 3, 까칠해\")\n",
    "print(c2)"
   ]
  },
  {
   "cell_type": "markdown",
   "id": "f1f4f7a8",
   "metadata": {},
   "source": [
    "## 0. 처음 실행시 호출\n",
    "- ch09_customers.txt(백업데이터)에서 customer_list return\n",
    "- 파일이 없으면 빈 파일 생성, customer_list = [] return"
   ]
  },
  {
   "cell_type": "code",
   "execution_count": 5,
   "id": "085c06b4",
   "metadata": {},
   "outputs": [],
   "source": [
    "def load_customers():\n",
    "    customer_list = []\n",
    "    try:\n",
    "        with open('data/ch09_customers.txt', 'r', encoding='utf-8') as f:\n",
    "            # txt 데이터 한줄씩 customer 객체로 받아 customer_list.append\n",
    "            lines = f.readlines()\n",
    "            for line in lines:\n",
    "                #line = \"홍길동, 010-9999-9999, a@a.com, 30, 3, 까칠해\"\n",
    "                customer = to_customer(line)\n",
    "                # print(customer)\n",
    "                customer_list.append(customer)\n",
    "    except:\n",
    "        with open('data/ch09_customers.txt', 'w', encoding='utf-8') as f:\n",
    "            print('초기화 파일을 생성했습니다')\n",
    "    return customer_list"
   ]
  },
  {
   "cell_type": "code",
   "execution_count": 6,
   "id": "159aa503",
   "metadata": {},
   "outputs": [
    {
     "name": "stdout",
     "output_type": "stream",
     "text": [
      "*****\t마길동\t010-9999-9999\ta@a.com        \t 30\t까칠해\n",
      "  ***\t홍길동\t010-9939-9999\ta@a.com        \t 20\t가칠해\n",
      "    *\t홍길동\t010-9929-9999\ta@a.com        \t 40\t김칠해\n",
      "   **\t홍급똥\t010-9799-9999\ta@a.com        \t 35\t그냥칠해\n",
      "  ***\t사금길동\t010-9599-9999\ta@a.com        \t 34\t까칠칠해\n",
      " ****\t김동 \t010-9999-9399\ta@a.com        \t 33\t까칠해해\n",
      "*****\t홍곰동\t010-9999-9949\ta@a.com        \t 21\t칠해\n",
      "   **\t최길동\t010-9999-9959\ta@a.com        \t 39\t까까칠해\n"
     ]
    }
   ],
   "source": [
    "customer_list = load_customers()\n",
    "for customer in customer_list:\n",
    "    print(customer)"
   ]
  },
  {
   "cell_type": "markdown",
   "id": "42c7b11d",
   "metadata": {},
   "source": [
    "## 1. 입력"
   ]
  },
  {
   "cell_type": "code",
   "execution_count": 7,
   "id": "1697b861",
   "metadata": {},
   "outputs": [],
   "source": [
    "def fn1_insert_customer_info():\n",
    "    '''\n",
    "    사용자로부터 name, phone, email, age, grade, etc를 입력받아 Customer형 객체 반환\n",
    "    '''\n",
    "    import re\n",
    "    name = input('이름 :')\n",
    "    name_pattern = r'[가-힣]{2,}'\n",
    "    \n",
    "    while not re.search(name_pattern, name):\n",
    "        print('이름을 제대로 입력하세요(한글 2글자 이상)')\n",
    "        name = input('이름 :')\n",
    "    \n",
    "    phone = input('전화번호 :')\n",
    "    email = input('이메일 :')\n",
    "\n",
    "    while True:\n",
    "        try:\n",
    "            age = int(input('나이 :'))\n",
    "            if (age < 0 or age > 130):\n",
    "                raise Exception('나이 범위는 1살 ~ 129살입니다.')\n",
    "            break\n",
    "        except:\n",
    "            print('올바른 나이를 입력하세요')\n",
    "    \n",
    "    try:\n",
    "        grade = int(input('등급(1~5) :'))\n",
    "        #grade = 1 if grade < 1 else 5 if grade > 5 else grade\n",
    "        if grade < 1:\n",
    "            grade = 1\n",
    "        if grade > 5:\n",
    "            grade = 5\n",
    "    except:\n",
    "        print('유효하지 않은 등급 입력시 1등급으로 초기화')\n",
    "        grade = 1\n",
    "    \n",
    "    etc = (input('기타 :'))\n",
    "    return Customer(name, phone, email, age, grade, etc)"
   ]
  },
  {
   "cell_type": "code",
   "execution_count": 8,
   "id": "7bc9d167",
   "metadata": {},
   "outputs": [
    {
     "name": "stdout",
     "output_type": "stream",
     "text": [
      "이름 :3\n",
      "이름을 제대로 입력하세요(한글 2글자 이상)\n",
      "이름 :감자\n",
      "전화번호 :010-2122-3333\n",
      "이메일 :qwe@weqwqe.com\n",
      "나이 :33\n",
      "등급(1~5) :2\n",
      "기타 :gg\n",
      "*****\t마길동\t010-9999-9999\ta@a.com        \t 30\t까칠해\n",
      "  ***\t홍길동\t010-9939-9999\ta@a.com        \t 20\t가칠해\n",
      "    *\t홍길동\t010-9929-9999\ta@a.com        \t 40\t김칠해\n",
      "   **\t홍급똥\t010-9799-9999\ta@a.com        \t 35\t그냥칠해\n",
      "  ***\t사금길동\t010-9599-9999\ta@a.com        \t 34\t까칠칠해\n",
      " ****\t김동 \t010-9999-9399\ta@a.com        \t 33\t까칠해해\n",
      "*****\t홍곰동\t010-9999-9949\ta@a.com        \t 21\t칠해\n",
      "   **\t최길동\t010-9999-9959\ta@a.com        \t 39\t까까칠해\n",
      "   **\t감자 \t010-2122-3333\tqwe@weqwqe.com \t 33\tgg\n"
     ]
    }
   ],
   "source": [
    "#customer_list = load_customers() 데이터가 너무 많아지면 초기화하는 코드\n",
    "customer = fn1_insert_customer_info()\n",
    "customer_list.append(customer)\n",
    "\n",
    "for customer in customer_list:\n",
    "    print(customer)"
   ]
  },
  {
   "cell_type": "markdown",
   "id": "b229f605",
   "metadata": {},
   "source": [
    "## 2. 전체 출력"
   ]
  },
  {
   "cell_type": "code",
   "execution_count": 9,
   "id": "bad9ade8",
   "metadata": {},
   "outputs": [],
   "source": [
    "def fn2_print_customers(customer_list):\n",
    "    'customer_list를 출력(pdf 40page 스타일)'\n",
    "    print('='*70)\n",
    "    print('{:^70}'.format('고객 정보'))\n",
    "    print('-'*70)\n",
    "    print(\"{:>5}\\t{:3}\\t{:13}\\t{:15}\\t{:3}\\t{}\".format('GRADE','이름','전화','이메일','나이','기타'))\n",
    "\n",
    "    print('='*70)\n",
    "    for customer in customer_list:\n",
    "        print(customer)\n",
    "    print('='*70)"
   ]
  },
  {
   "cell_type": "code",
   "execution_count": 10,
   "id": "fe6e988e",
   "metadata": {
    "scrolled": true
   },
   "outputs": [
    {
     "name": "stdout",
     "output_type": "stream",
     "text": [
      "======================================================================\n",
      "                                고객 정보                                 \n",
      "----------------------------------------------------------------------\n",
      "GRADE\t이름 \t전화           \t이메일            \t나이 \t기타\n",
      "======================================================================\n",
      "*****\t마길동\t010-9999-9999\ta@a.com        \t 30\t까칠해\n",
      "  ***\t홍길동\t010-9939-9999\ta@a.com        \t 20\t가칠해\n",
      "    *\t홍길동\t010-9929-9999\ta@a.com        \t 40\t김칠해\n",
      "   **\t홍급똥\t010-9799-9999\ta@a.com        \t 35\t그냥칠해\n",
      "  ***\t사금길동\t010-9599-9999\ta@a.com        \t 34\t까칠칠해\n",
      " ****\t김동 \t010-9999-9399\ta@a.com        \t 33\t까칠해해\n",
      "*****\t홍곰동\t010-9999-9949\ta@a.com        \t 21\t칠해\n",
      "   **\t최길동\t010-9999-9959\ta@a.com        \t 39\t까까칠해\n",
      "   **\t감자 \t010-2122-3333\tqwe@weqwqe.com \t 33\tgg\n",
      "======================================================================\n"
     ]
    }
   ],
   "source": [
    "#customer_list = load_customers() #데이터가 너무 많아지면 초기화하는 코드\n",
    "fn2_print_customers(customer_list)"
   ]
  },
  {
   "cell_type": "markdown",
   "id": "8627438d",
   "metadata": {},
   "source": [
    "## 3. 삭제"
   ]
  },
  {
   "cell_type": "code",
   "execution_count": 28,
   "id": "1755f179",
   "metadata": {},
   "outputs": [],
   "source": [
    "# 3. 삭제 (동명이인이 없을 경우 구현)\n",
    "def fn3_delete_customer(customer_list):\n",
    "    '''삭제하고자하는 고객이름을 input으로 받아 매개변수로 들어온\n",
    "    customer_list에서 삭제하고 \"삭제했음/삭제못했음\"을 메세지로 출력'''\n",
    "    delete_name = input('삭제할 고객 이름은?')\n",
    "    \n",
    "    for customer in customer_list:\n",
    "        if customer.name == delete_name:\n",
    "            customer_list.remove(customer)\n",
    "            print('{}님 데이터를 삭제하였습니다.'.format(delete_name))\n",
    "            break\n",
    "    else:\n",
    "        print('{}님 데이터는 존재하지 않습니다'.format(delete_name))"
   ]
  },
  {
   "cell_type": "code",
   "execution_count": 14,
   "id": "30e6b360",
   "metadata": {},
   "outputs": [],
   "source": [
    "# 3. 삭제 (동명이인이 있을 경우 구현)\n",
    "def fn3_delete_customer(customer_list):\n",
    "    '''삭제하고자하는 고객이름을 input으로 받아 매개변수로 들어온\n",
    "    customer_list에서 삭제하고 \"삭제했음/삭제못했음\"을 메세지로 출력'''\n",
    "    delete_name = input('삭제할 고객 이름은?')\n",
    "    delete_idx = [] # 삭제할 인덱스를 저장하는 용도\n",
    "    for idx, customer in enumerate(customer_list):\n",
    "        if customer.name == delete_name:\n",
    "            delete_idx.append(idx)\n",
    "    if delete_idx:\n",
    "        for idx in delete_idx[::-1]: # [0,1]\n",
    "            del customer_list[idx]\n",
    "        print('{}님 {}명 삭제하였습니다.'.format(delete_name, len(delete_idx)))\n",
    "    else:\n",
    "        print('{}님 데이터가 존재하지 않습니다.'.format(delete_name))"
   ]
  },
  {
   "cell_type": "code",
   "execution_count": 15,
   "id": "ac21aaaa",
   "metadata": {
    "scrolled": true
   },
   "outputs": [
    {
     "name": "stdout",
     "output_type": "stream",
     "text": [
      "삭제할 고객 이름은?홍길동\n",
      "홍길동님 2명 삭제하였습니다.\n"
     ]
    }
   ],
   "source": [
    "#customer_list = load_customers() #데이터가 너무 많아지면 초기화하는 코드\n",
    "fn3_delete_customer(customer_list)"
   ]
  },
  {
   "cell_type": "code",
   "execution_count": 19,
   "id": "9eb2e105",
   "metadata": {
    "scrolled": false
   },
   "outputs": [
    {
     "name": "stdout",
     "output_type": "stream",
     "text": [
      "======================================================================\n",
      "                                고객 정보                                 \n",
      "----------------------------------------------------------------------\n",
      "GRADE\t이름 \t전화           \t이메일            \t나이 \t기타\n",
      "======================================================================\n",
      "*****\t마길동\t010-9999-9999\ta@a.com        \t 30\t까칠해\n",
      "  ***\t홍길동\t010-9939-9999\ta@a.com        \t 20\t가칠해\n",
      "    *\t홍길동\t010-9929-9999\ta@a.com        \t 40\t김칠해\n",
      "   **\t홍급똥\t010-9799-9999\ta@a.com        \t 35\t그냥칠해\n",
      "  ***\t사금길동\t010-9599-9999\ta@a.com        \t 34\t까칠칠해\n",
      " ****\t김동 \t010-9999-9399\ta@a.com        \t 33\t까칠해해\n",
      "*****\t홍곰동\t010-9999-9949\ta@a.com        \t 21\t칠해\n",
      "   **\t최길동\t010-9999-9959\ta@a.com        \t 39\t까까칠해\n",
      "======================================================================\n"
     ]
    }
   ],
   "source": [
    "fn2_print_customers(customer_list)"
   ]
  },
  {
   "cell_type": "markdown",
   "id": "b6f471d9",
   "metadata": {},
   "source": [
    "### GPT식 삭제방법"
   ]
  },
  {
   "cell_type": "code",
   "execution_count": 20,
   "id": "1fca3e68",
   "metadata": {},
   "outputs": [],
   "source": [
    "def fn3_delete_customer(customer_list):\n",
    "    delete_name = input('삭제할 고객 이름은? ')\n",
    "    matched = [(idx, customer) for idx, customer in enumerate(customer_list) if customer.name == delete_name]\n",
    "    \n",
    "    if not matched:\n",
    "        print(f'{delete_name}님 데이터가 존재하지 않습니다.')\n",
    "        return\n",
    "\n",
    "    print(f\"\\n[ {delete_name} 님으로 검색된 고객 목록 ]\")\n",
    "    for i, (idx, customer) in enumerate(matched):\n",
    "        print(f'{i}: {customer}')  # i는 선택 번호, idx는 실제 인덱스\n",
    "\n",
    "    while True:\n",
    "        user_input = input('\\n삭제할 번호를 입력하세요 (종료하려면 q): ')\n",
    "        if user_input.lower() == 'q':\n",
    "            print('삭제를 종료합니다.')\n",
    "            break\n",
    "\n",
    "        if not user_input.isdigit():\n",
    "            print('숫자를 입력해주세요.')\n",
    "            continue\n",
    "\n",
    "        select = int(user_input)\n",
    "        if 0 <= select < len(matched):\n",
    "            del_idx = matched[select][0]\n",
    "            print(f'{customer_list[del_idx].name} 고객 삭제됨.')\n",
    "            del customer_list[del_idx]\n",
    "\n",
    "            # 삭제 후 인덱스 갱신 필요\n",
    "            matched = [(idx, customer) for idx, customer in enumerate(customer_list) if customer.name == delete_name]\n",
    "            for i, (idx, customer) in enumerate(matched):\n",
    "                print(f'{i}: {customer}')\n",
    "            \n",
    "            if not matched:\n",
    "                print('더 이상 삭제할 고객이 없습니다.')\n",
    "                break\n",
    "        else:\n",
    "            print('잘못된 번호입니다.')"
   ]
  },
  {
   "cell_type": "code",
   "execution_count": 33,
   "id": "220e6804",
   "metadata": {},
   "outputs": [],
   "source": [
    "#customer_list = load_customers() #데이터가 너무 많아지면 초기화하는 코드\n",
    "fn3_delete_customer(customer_list)"
   ]
  },
  {
   "cell_type": "code",
   "execution_count": 22,
   "id": "c5550b7f",
   "metadata": {},
   "outputs": [
    {
     "name": "stdout",
     "output_type": "stream",
     "text": [
      "======================================================================\n",
      "                                고객 정보                                 \n",
      "----------------------------------------------------------------------\n",
      "GRADE\t이름 \t전화           \t이메일            \t나이 \t기타\n",
      "======================================================================\n",
      "*****\t마길동\t010-9999-9999\ta@a.com        \t 30\t까칠해\n",
      "    *\t홍길동\t010-9929-9999\ta@a.com        \t 40\t김칠해\n",
      "   **\t홍급똥\t010-9799-9999\ta@a.com        \t 35\t그냥칠해\n",
      "  ***\t사금길동\t010-9599-9999\ta@a.com        \t 34\t까칠칠해\n",
      " ****\t김동 \t010-9999-9399\ta@a.com        \t 33\t까칠해해\n",
      "*****\t홍곰동\t010-9999-9949\ta@a.com        \t 21\t칠해\n",
      "   **\t최길동\t010-9999-9959\ta@a.com        \t 39\t까까칠해\n",
      "======================================================================\n"
     ]
    }
   ],
   "source": [
    "fn2_print_customers(customer_list)"
   ]
  },
  {
   "cell_type": "markdown",
   "id": "9304c28a",
   "metadata": {},
   "source": [
    "## 4. 이름 찾기"
   ]
  },
  {
   "cell_type": "code",
   "execution_count": 45,
   "id": "cb4f306c",
   "metadata": {},
   "outputs": [],
   "source": [
    "# 4. 이름찾기 동명이인이 있음 선생님 ver\n",
    "def fn4_search_customer(customer_list):\n",
    "    search_name = input('검색할 이름은?')\n",
    "    search_list = []\n",
    "    for customer in customer_list:\n",
    "        #if search_name in customer.name:\n",
    "        if search_name == customer.name:\n",
    "            search_list.append(customer)\n",
    "    if search_list:\n",
    "        fn2_print_customers(search_list)\n",
    "    else:\n",
    "        print('{}님 데이터는 존재하지 않습니다.'.format(search_name))"
   ]
  },
  {
   "cell_type": "code",
   "execution_count": 38,
   "id": "cedecc1d",
   "metadata": {},
   "outputs": [],
   "source": [
    "# 4. 이름찾기 (동명이인이 있음) 일부만 입력해도 검색가능\n",
    "def fn4_search_customer(customer_list):\n",
    "    '''찾고자 하는 이름을 input으로 받아, customer_list에서 검색하여\n",
    "    같은 이름은 search_list에 append한 후 search_list를 출력\n",
    "    같은 이름이 없으면 없다고 출력'''\n",
    "    search_name = input('이름은? ')\n",
    "    found = [customer for customer in customer_list if search_name in customer.name]\n",
    "    if found:\n",
    "        fn2_print_customers(found)\n",
    "    else:\n",
    "        print(f'{search_name} 고객을 찾을 수 없습니다.')"
   ]
  },
  {
   "cell_type": "code",
   "execution_count": 46,
   "id": "c7bf5f1c",
   "metadata": {},
   "outputs": [
    {
     "name": "stdout",
     "output_type": "stream",
     "text": [
      "검색할 이름은?홍\n",
      "홍님 데이터는 존재하지 않습니다.\n"
     ]
    }
   ],
   "source": [
    "fn4_search_customer(customer_list)"
   ]
  },
  {
   "cell_type": "code",
   "execution_count": 34,
   "id": "f75da1f2",
   "metadata": {},
   "outputs": [
    {
     "name": "stdout",
     "output_type": "stream",
     "text": [
      "======================================================================\n",
      "                                고객 정보                                 \n",
      "----------------------------------------------------------------------\n",
      "GRADE\t이름 \t전화           \t이메일            \t나이 \t기타\n",
      "======================================================================\n",
      "*****\t마길동\t010-9999-9999\ta@a.com        \t 30\t까칠해\n",
      "  ***\t홍길동\t010-9939-9999\ta@a.com        \t 20\t가칠해\n",
      "    *\t홍길동\t010-9929-9999\ta@a.com        \t 40\t김칠해\n",
      "   **\t홍급똥\t010-9799-9999\ta@a.com        \t 35\t그냥칠해\n",
      "  ***\t사금길동\t010-9599-9999\ta@a.com        \t 34\t까칠칠해\n",
      " ****\t김동 \t010-9999-9399\ta@a.com        \t 33\t까칠해해\n",
      "*****\t홍곰동\t010-9999-9949\ta@a.com        \t 21\t칠해\n",
      "   **\t최길동\t010-9999-9959\ta@a.com        \t 39\t까까칠해\n",
      "======================================================================\n"
     ]
    }
   ],
   "source": [
    "fn2_print_customers(customer_list)"
   ]
  },
  {
   "cell_type": "markdown",
   "id": "633a6085",
   "metadata": {},
   "source": [
    "## 5. 내보내기(CSV)"
   ]
  },
  {
   "cell_type": "code",
   "execution_count": null,
   "id": "f12f63c7",
   "metadata": {},
   "outputs": [],
   "source": [
    "# 5. 내보내기(CSV)\n",
    "def fn5_save_customer_csv(customer_list, filename):\n",
    "    with open(filename, 'w', newline='', encoding='utf-8') as f:\n",
    "        writer = csv.writer(f)\n",
    "        for c in customer_list:\n",
    "            writer.writerow(c.to_list_style())\n",
    "    print(f'{filename} 파일로 저장되었습니다.')"
   ]
  },
  {
   "cell_type": "code",
   "execution_count": null,
   "id": "5d0a67e2",
   "metadata": {},
   "outputs": [],
   "source": [
    "# 5번 기능 테스트"
   ]
  },
  {
   "cell_type": "markdown",
   "id": "b314bae1",
   "metadata": {},
   "source": [
    "## 9. 종료"
   ]
  },
  {
   "cell_type": "code",
   "execution_count": null,
   "id": "a24664df",
   "metadata": {},
   "outputs": [],
   "source": [
    "# 9. 종료 (종료하기 전 customer_list를 txt파일에 저장하고 종료)\n",
    "def fn9_save_customer_txt(customer_list):\n",
    "    with open('data/ch09_customers.txt', 'w', newline='', encoding='utf-8') as f:\n",
    "        writer = csv.writer(f)\n",
    "        for c in customer_list:\n",
    "            writer.writerow(c.to_list_style())\n"
   ]
  },
  {
   "cell_type": "code",
   "execution_count": null,
   "id": "71428bde",
   "metadata": {},
   "outputs": [],
   "source": [
    "# 9번 기능 테스트"
   ]
  },
  {
   "cell_type": "markdown",
   "id": "524da5c1",
   "metadata": {},
   "source": [
    "## 10. 사용자 실행"
   ]
  },
  {
   "cell_type": "code",
   "execution_count": null,
   "id": "6cbfb08d",
   "metadata": {},
   "outputs": [],
   "source": [
    "def main():\n",
    "    customer_list = load_customers()\n",
    "    print('데이터가 로드 되었습니다.')\n",
    "\n",
    "    # 시뮬레이션용 미리 정의된 입력 값들\n",
    "    test_inputs = [\n",
    "        ('1', ['홍길동', '010-8888-8888', 'hong2@abc.com', '31', '5', 'abc']),\n",
    "        ('2',),\n",
    "        ('4', '홍길동'),\n",
    "        ('5', 'abc.csv'),\n",
    "        ('9',)\n",
    "    ]\n",
    "\n",
    "    for command in test_inputs:\n",
    "        choice = command[0]\n",
    "        if choice == '1':\n",
    "            fn1_insert_customer_info(customer_list, command[1])\n",
    "        elif choice == '2':\n",
    "            fn2_print_customers(customer_list)\n",
    "        elif choice == '3':\n",
    "            customer_list = fn3_delete_customer(customer_list, command[1])\n",
    "        elif choice == '4':\n",
    "            fn4_search_customer(customer_list, command[1])\n",
    "        elif choice == '5':\n",
    "            fn5_save_customer_csv(customer_list, command[1])\n",
    "        elif choice == '9':\n",
    "            fn9_save_customer_txt(customer_list)\n",
    "            print('종료합니다.')\n",
    "            break\n",
    "        else:\n",
    "            print('올바른 메뉴를 선택해주세요.')\n",
    "\n",
    "if __name__ == \"__main__\":\n",
    "    try:\n",
    "        main()\n",
    "    except OSError as e:\n",
    "        print(f\"파일 시스템 오류 발생: {e}\")\n",
    "    except Exception as e:\n",
    "        print(f\"알 수 없는 오류 발생: {e}\")"
   ]
  },
  {
   "cell_type": "code",
   "execution_count": null,
   "id": "48521879",
   "metadata": {},
   "outputs": [],
   "source": []
  },
  {
   "cell_type": "code",
   "execution_count": null,
   "id": "ff34e7d0",
   "metadata": {},
   "outputs": [],
   "source": []
  },
  {
   "cell_type": "markdown",
   "id": "a377fd20",
   "metadata": {},
   "source": [
    "### 직접해보기"
   ]
  },
  {
   "cell_type": "code",
   "execution_count": 78,
   "id": "d2ba964b",
   "metadata": {},
   "outputs": [],
   "source": [
    "class Customer:\n",
    "    '고객 데이터와 as_dic(), to_list_style(txt백업시), __str__()'\n",
    "    def __init__(self, name, phone, email, age, grade, etc):\n",
    "        self.name = name\n",
    "        self.phone = phone\n",
    "        self.email = email\n",
    "        self.age = int(age)\n",
    "        self.grade = int(grade)\n",
    "        self.etc = etc\n",
    "        \n",
    "    def as_dic(self):\n",
    "        return {\n",
    "            'name': self.name,\n",
    "            'phone': self.phone,\n",
    "            'email': self.email,\n",
    "            'age': self.age,\n",
    "            'grade': self.grade,\n",
    "            'etc': self.etc\n",
    "        }\n",
    "        \n",
    "    def to_list_style(self):\n",
    "        return [self.name, self.phone, self.email, self.age, self.grade, self.etc]\n",
    "        \n",
    "    def __str__(self):\n",
    "        stars = '*' * self.grade\n",
    "        if 1 <= len(stars) < 6:\n",
    "            return f'{stars:>5} {self.name:<6} {self.phone:<15} {self.email:<20} {self.age:<3} {self.etc}'\n",
    "        else:\n",
    "            stars = '?????'\n",
    "            return f'{stars:<5} {self.name:<6} {self.phone:<15} {self.email:<20} {self.age:<3} {self.etc}'"
   ]
  },
  {
   "cell_type": "code",
   "execution_count": 79,
   "id": "19f5497a",
   "metadata": {},
   "outputs": [],
   "source": [
    "def to_customer(row):\n",
    "    '''\n",
    "    row = '홍길동', 010-8999-9999, e@e.com, 20, 3, 까칠해'(txt파일 내용)을 매개변수로 받아\n",
    "    Customer 객체로 return\n",
    "    '''\n",
    "    if isinstance(row, str):  \n",
    "        row = [r.strip() for r in row.split(',')]\n",
    "        \n",
    "    return Customer(row[0], row[1], row[2], row[3], row[4], row[5])"
   ]
  },
  {
   "cell_type": "code",
   "execution_count": 80,
   "id": "6176f8b9",
   "metadata": {},
   "outputs": [
    {
     "name": "stdout",
     "output_type": "stream",
     "text": [
      "***** 홍길동    010-9999-9999   a@a.com              30  까칠해\n",
      "as_dic() = {'name': '홍길동', 'phone': '010-9999-9999', 'email': 'a@a.com', 'age': 30, 'grade': 5, 'etc': '까칠해'}\n",
      "to_list_style = ['홍길동', '010-9999-9999', 'a@a.com', 30, 5, '까칠해']\n",
      "????? 홍길동    010-9999-9999   a@a.com              30  까칠해\n"
     ]
    }
   ],
   "source": [
    "c1 = Customer(\"홍길동\", \"010-9999-9999\", \"a@a.com\", 30, 5, \"까칠해\")\n",
    "print(c1)\n",
    "print('as_dic() =', c1.as_dic())\n",
    "print('to_list_style =', c1.to_list_style())\n",
    "c2 = to_customer(\"홍길동, 010-9999-9999, a@a.com, 30, 6, 까칠해\")\n",
    "print(c2)"
   ]
  },
  {
   "cell_type": "code",
   "execution_count": null,
   "id": "797b3d05",
   "metadata": {},
   "outputs": [],
   "source": []
  },
  {
   "cell_type": "code",
   "execution_count": null,
   "id": "aad51d76",
   "metadata": {},
   "outputs": [],
   "source": [
    "'''\n",
    "기능별 함수를 작성한다\n",
    "\n",
    "if __name__ == \"__main__\":\n",
    "    main()\n",
    "데이터가 로드 되었습니다.\n",
    "1:입력|2:전체출력|3:삭제|4:이름찾기|5:내보내기(CSV)|9:종료 메뉴 선택 : 1\n",
    "이름 : 홍길동\n",
    "전화번호 : 010-8888-8888\n",
    "이메일 : hong2@abc.com\n",
    "나이 : 31\n",
    "고객등급(1-5) :5\n",
    "기타 정보 : abc\n",
    "1:입력|2:전체출력|3:삭제|4:이름찾기|5:내보내기(CSV)|9:종료 메뉴 선택 : 2\n",
    "========================================================================\n",
    "        고객    정보\n",
    "------------------------------------------------------------------------\n",
    "GRADE 이름    전화               메일                  나이  기타\n",
    "========================================================================\n",
    "   ** 유길동  010-5432-2222     yu@hong.com             20   까칠해\n",
    "***** 홍길동  010-9999-9999     hong@mega_it.com        30   열심히\n",
    "***** 홍길동  010-8888-8888     hong2@abc.com           31   abc\n",
    "========================================================================\n",
    "\n",
    "실행하면 data/ch09_customers.txt 파일의 내용을 load(customer_list),\n",
    "파일이 존재하지 않으면 빈 customers.txt 파일을 생성하고 데이터는 customer_list=[]\n",
    "종료시 data/ch09_customers.txt에 데이터 백업후 종료(9번기능)\n",
    "\n",
    "1:입력|2:전체출력|3:삭제|4:이름찾기|5:내보내기(CSV)|9:종료 메뉴 선택 : 4\n",
    "찾을 고객 이름은 ? 홍길동\n",
    "========================================================================\n",
    "        고객    정보\n",
    "------------------------------------------------------------------------\n",
    "GRADE 이름    전화               메일                  나이  기타\n",
    "========================================================================\n",
    "***** 홍길동  010-9999-9999     hong@mega_it.com        30   열심히\n",
    "***** 홍길동  010-8888-8888     hong2@abc.com           31   abc\n",
    "========================================================================\n",
    "1:입력|2:전체출력|3:삭제|4:이름찾기|5:내보내기(CSV)|9:종료 메뉴 선택 : 5\n",
    "저장할 파일 이름은 : abc.csv\n",
    "1:입력|2:전체출력|3:삭제|4:이름찾기|5:내보내기(CSV)|9:종료 메뉴 선택 : 4\n",
    "찾을 고객 이름은 ? 유길동\n",
    "========================================================================\n",
    "        고객    정보\n",
    "------------------------------------------------------------------------\n",
    "GRADE 이름    전화               메일                  나이  기타\n",
    "========================================================================\n",
    "   ** 유길동  010-5432-2222     yu@hong.com             20   까칠해\n",
    "========================================================================\n",
    "1:입력|2:전체출력|3:삭제|4:이름찾기|5:내보내기(CSV)|9:종료 메뉴 선택 : 9\n",
    "'''"
   ]
  },
  {
   "cell_type": "code",
   "execution_count": 41,
   "id": "0246dceb",
   "metadata": {},
   "outputs": [
    {
     "ename": "IndentationError",
     "evalue": "expected an indented block after function definition on line 2 (2702096181.py, line 3)",
     "output_type": "error",
     "traceback": [
      "\u001b[1;36m  Cell \u001b[1;32mIn[41], line 3\u001b[1;36m\u001b[0m\n\u001b[1;33m    def as_dic(self): #객체를 딕셔너리데이터로 반환 (csv 파일 저장시)\u001b[0m\n\u001b[1;37m    ^\u001b[0m\n\u001b[1;31mIndentationError\u001b[0m\u001b[1;31m:\u001b[0m expected an indented block after function definition on line 2\n"
     ]
    }
   ],
   "source": [
    "class Custmer:\n",
    "    def __init__(self, name, phone, email, age, grade, etc):\n",
    "    def as_dic(self): #객체를 딕셔너리데이터로 반환 (csv 파일 저장시)\n",
    "    def to_list_style(self): #객체를 list return([ 홍길동 010 8999 9999, e@e.com, 20, 3, 까칠해)\n",
    "    def __str__(self): # ***홍길동 010 8999 9999 e@e.com 20 까칠해\n",
    "\n",
    "def to_customer(row): # txt파일 내용 한줄 홍길동 , 010 8999 9999, e@e.com, 20, 3, 까칠해 을 Customer 객체로 반환\n",
    "# 0.실행하면 data/ch09_customers.txt 파일의 내용을 load(customer_list)\n",
    "#       data/ch09_customers.txt이 존재하지 않으면\n",
    "#                       빈 data/ch09_customers.txt 파일을 생성하고\n",
    "#                              데이터는 customer_list=[]\n",
    "def load_customers():\n",
    "\n",
    "# 1.입력\n",
    "def fn1_insert_customer_info():\n",
    "\n",
    "# 2.전체 출력\n",
    "def fn2_print_customers(customer_list):\n",
    "\n",
    "# 3.삭제 동명이인이 있다고 할지 동명이인이 없다고 할지 미리 정해놓고 구현\n",
    "def fn3_delete_customer(customer_list):\n",
    "\n",
    "# 4.이름찾기 동명이인이 있다고 할지 없다고 할지 정한대로 구현\n",
    "def fn4_search_customer(customer_list):\n",
    "\n",
    "# 5.내보내기 (CSV)\n",
    "def fn5_save_customer_csv(customer_list):\n",
    "\n",
    "# 9.종료 종료하기 전 customer_list 를 txt 파일에 저장하고 종료\n",
    "def fn9_save_customer_txt(customer_list):"
   ]
  },
  {
   "cell_type": "code",
   "execution_count": null,
   "id": "4371f90f",
   "metadata": {},
   "outputs": [],
   "source": [
    "import os\n",
    "import csv\n",
    "\n",
    "class Customer:\n",
    "    def __init__(self, name, phone, email, age, grade, etc):\n",
    "        self.name = name\n",
    "        self.phone = phone\n",
    "        self.email = email\n",
    "        self.age = int(age)\n",
    "        self.grade = int(grade)\n",
    "        self.etc = etc\n",
    "\n",
    "    def as_dic(self):\n",
    "        return {\n",
    "            'name': self.name,\n",
    "            'phone': self.phone,\n",
    "            'email': self.email,\n",
    "            'age': self.age,\n",
    "            'grade': self.grade,\n",
    "            'etc': self.etc\n",
    "        }\n",
    "\n",
    "    def to_list_style(self):\n",
    "        return [self.name, self.phone, self.email, self.age, self.grade, self.etc]\n",
    "\n",
    "    def __str__(self):\n",
    "        stars = '*' * self.grade\n",
    "        return f'{stars:>6} {self.name:<6} {self.phone:<15} {self.email:<20} {self.age:<3} {self.etc}'\n",
    "\n",
    "\n",
    "def to_customer(row):\n",
    "    return Customer(row[0], row[1], row[2], row[3], row[4], row[5])\n",
    "\n",
    "\n",
    "def load_customers():\n",
    "    filepath = 'data/ch09_customers.txt'\n",
    "    if not os.path.exists(filepath):\n",
    "        os.makedirs(os.path.dirname(filepath), exist_ok=True)\n",
    "        open(filepath, 'w', encoding='utf-8').close()\n",
    "        return []\n",
    "    with open(filepath, 'r', encoding='utf-8') as f:\n",
    "        lines = csv.reader(f)\n",
    "        return [to_customer(row) for row in lines]\n",
    "\n",
    "\n",
    "def fn1_insert_customer_info(customer_list, inputs):\n",
    "    name, phone, email, age, grade, etc = inputs\n",
    "    customer_list.append(Customer(name, phone, email, age, grade, etc))\n",
    "\n",
    "\n",
    "def fn2_print_customers(customer_list):\n",
    "    print('='*72)\n",
    "    print('        고객    정보')\n",
    "    print('-'*72)\n",
    "    print('GRADE 이름    전화               메일                  나이  기타')\n",
    "    print('='*72)\n",
    "    for c in customer_list:\n",
    "        print(c)\n",
    "    print('='*72)\n",
    "\n",
    "\n",
    "def fn3_delete_customer(customer_list, name):\n",
    "    new_list = [c for c in customer_list if c.name != name]\n",
    "    if len(new_list) != len(customer_list):\n",
    "        print(f'{name} 고객 정보가 삭제되었습니다.')\n",
    "    else:\n",
    "        print(f'{name} 고객을 찾을 수 없습니다.')\n",
    "    return new_list\n",
    "\n",
    "\n",
    "def fn4_search_customer(customer_list, name):\n",
    "    found = [c for c in customer_list if c.name == name]\n",
    "    if found:\n",
    "        fn2_print_customers(found)\n",
    "    else:\n",
    "        print(f'{name} 고객을 찾을 수 없습니다.')\n",
    "\n",
    "\n",
    "def fn5_save_customer_csv(customer_list, filename):\n",
    "    with open(filename, 'w', newline='', encoding='utf-8') as f:\n",
    "        writer = csv.writer(f)\n",
    "        for c in customer_list:\n",
    "            writer.writerow(c.to_list_style())\n",
    "    print(f'{filename} 파일로 저장되었습니다.')\n",
    "\n",
    "\n",
    "def fn9_save_customer_txt(customer_list):\n",
    "    with open('data/ch09_customers.txt', 'w', newline='', encoding='utf-8') as f:\n",
    "        writer = csv.writer(f)\n",
    "        for c in customer_list:\n",
    "            writer.writerow(c.to_list_style())\n",
    "\n",
    "\n",
    "def main():\n",
    "    customer_list = load_customers()\n",
    "    print('데이터가 로드 되었습니다.')\n",
    "\n",
    "    # 시뮬레이션용 미리 정의된 입력 값들\n",
    "    test_inputs = [\n",
    "        ('1', ['홍길동', '010-8888-8888', 'hong2@abc.com', '31', '5', 'abc']),\n",
    "        ('2',),\n",
    "        ('4', '홍길동'),\n",
    "        ('5', 'abc.csv'),\n",
    "        ('9',)\n",
    "    ]\n",
    "\n",
    "    for command in test_inputs:\n",
    "        choice = command[0]\n",
    "        if choice == '1':\n",
    "            fn1_insert_customer_info(customer_list, command[1])\n",
    "        elif choice == '2':\n",
    "            fn2_print_customers(customer_list)\n",
    "        elif choice == '3':\n",
    "            customer_list = fn3_delete_customer(customer_list, command[1])\n",
    "        elif choice == '4':\n",
    "            fn4_search_customer(customer_list, command[1])\n",
    "        elif choice == '5':\n",
    "            fn5_save_customer_csv(customer_list, command[1])\n",
    "        elif choice == '9':\n",
    "            fn9_save_customer_txt(customer_list)\n",
    "            print('종료합니다.')\n",
    "            break\n",
    "        else:\n",
    "            print('올바른 메뉴를 선택해주세요.')\n",
    "\n",
    "if __name__ == \"__main__\":\n",
    "    try:\n",
    "        main()\n",
    "    except OSError as e:\n",
    "        print(f\"파일 시스템 오류 발생: {e}\")\n",
    "    except Exception as e:\n",
    "        print(f\"알 수 없는 오류 발생: {e}\")"
   ]
  }
 ],
 "metadata": {
  "kernelspec": {
   "display_name": "Python 3 (ipykernel)",
   "language": "python",
   "name": "python3"
  },
  "language_info": {
   "codemirror_mode": {
    "name": "ipython",
    "version": 3
   },
   "file_extension": ".py",
   "mimetype": "text/x-python",
   "name": "python",
   "nbconvert_exporter": "python",
   "pygments_lexer": "ipython3",
   "version": "3.10.9"
  },
  "toc": {
   "base_numbering": 1,
   "nav_menu": {},
   "number_sections": false,
   "sideBar": true,
   "skip_h1_title": false,
   "title_cell": "Table of Contents",
   "title_sidebar": "Contents",
   "toc_cell": false,
   "toc_position": {
    "height": "calc(100% - 180px)",
    "left": "10px",
    "top": "150px",
    "width": "178.6px"
   },
   "toc_section_display": true,
   "toc_window_display": true
  }
 },
 "nbformat": 4,
 "nbformat_minor": 5
}
