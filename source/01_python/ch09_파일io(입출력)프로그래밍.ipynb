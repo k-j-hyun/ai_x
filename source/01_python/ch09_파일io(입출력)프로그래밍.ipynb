{
 "cells": [
  {
   "cell_type": "code",
   "execution_count": 1,
   "id": "d1f9b1a9",
   "metadata": {},
   "outputs": [
    {
     "data": {
      "text/html": [
       "\n",
       "<style>\n",
       "div.container{width:86% !important;}\n",
       "div.cell.code_cell.rendered{width:100%;}\n",
       "div.CodeMirror {font family: Consolas; font-size:12pt;}\n",
       "div.output {font-size:12pt; font-weight:bold;}\n",
       "div.input {font-family: Consolas; font-size:12pt;}\n",
       "div.prompt {min-width:70px;}\n",
       "div#toc-wrapper{padding top:120px;}\n",
       "div.text_cell_render ul li {font-size:12pt;padding:5px;}\n",
       "table.dataframe{font-size:12px;}\n",
       "</style>\n"
      ],
      "text/plain": [
       "<IPython.core.display.HTML object>"
      ]
     },
     "metadata": {},
     "output_type": "display_data"
    }
   ],
   "source": [
    "from IPython.display import display, HTML\n",
    "display(HTML(\"\"\"\n",
    "<style>\n",
    "div.container{width:86% !important;}\n",
    "div.cell.code_cell.rendered{width:100%;}\n",
    "div.CodeMirror {font family: Consolas; font-size:12pt;}\n",
    "div.output {font-size:12pt; font-weight:bold;}\n",
    "div.input {font-family: Consolas; font-size:12pt;}\n",
    "div.prompt {min-width:70px;}\n",
    "div#toc-wrapper{padding top:120px;}\n",
    "div.text_cell_render ul li {font-size:12pt;padding:5px;}\n",
    "table.dataframe{font-size:12px;}\n",
    "</style>\n",
    "\"\"\"))"
   ]
  },
  {
   "cell_type": "markdown",
   "id": "1968d0ff",
   "metadata": {},
   "source": [
    "<b><font color=\"red\" size=\"6\"> 9장. 파일 io(입출력) 프로그래밍 </font></b>\n",
    "파일 : txt, pickle, csv, json, hdf5(h5)\n",
    "\n",
    "# 1절. txt파일에 데이터 저장하고 불러오기"
   ]
  },
  {
   "cell_type": "code",
   "execution_count": 2,
   "id": "6a1f4714",
   "metadata": {},
   "outputs": [
    {
     "name": "stdout",
     "output_type": "stream",
     "text": [
      "<class 'FileNotFoundError'>\n",
      "[Errno 2] No such file or directory: 'daa/ch09.txt'\n"
     ]
    }
   ],
   "source": [
    "try:\n",
    "    f = open('data/ch09.txt', 'w')\n",
    "    # 데이터 출력\n",
    "except FileNotFoundError as e:\n",
    "    print(type(e))\n",
    "    print(e)\n",
    "finally:\n",
    "    f.close()"
   ]
  },
  {
   "cell_type": "code",
   "execution_count": 5,
   "id": "18c0149f",
   "metadata": {},
   "outputs": [
    {
     "name": "stdout",
     "output_type": "stream",
     "text": [
      "쓰기 가능한지 여부 : True\n"
     ]
    }
   ],
   "source": [
    "f = open('data/ch09.txt', 'w')\n",
    "print('쓰기 가능한지 여부 :', f.writable())"
   ]
  },
  {
   "cell_type": "code",
   "execution_count": 6,
   "id": "76b1f1ec",
   "metadata": {},
   "outputs": [],
   "source": [
    "f.write('Hello\\nWorld')\n",
    "f.close() # close()를 하지 않으면 쓰기한 내용이 저장이 안됨"
   ]
  },
  {
   "cell_type": "code",
   "execution_count": 7,
   "id": "e92495bd",
   "metadata": {
    "scrolled": true
   },
   "outputs": [
    {
     "name": "stdout",
     "output_type": "stream",
     "text": [
      "쓰기 가능한지 여부 : True\n"
     ]
    }
   ],
   "source": [
    "with open('data/ch09.txt', 'w') as f:\n",
    "    print('쓰기 가능한지 여부 :', f.writable())\n",
    "    f.write('Hello\\nPython')"
   ]
  },
  {
   "cell_type": "markdown",
   "id": "56105264",
   "metadata": {},
   "source": [
    "### mode\n",
    "- mode : 'r' 또는 'rt'(텍스트모드) : 읽기 (파일이 없는 경우 예외, 파일이 있는 경우 text읽기 모드)\n",
    "         'rb' : 바이너리 읽기모드\n",
    "         'w' 또는 'wt' : 쓰기 (text쓰기 모드) (파일이 있으면 덮어씀, 파일이 없으면 파일 생성)\n",
    "         'wb' : 바이너리 쓰기 모드\n",
    "         'a' 또는 'at' : text 추가(append) 모드(파일이 있으면 append, 파일이 없으면 파일 생성)\n",
    "         읽기모드에서 파일이 없으면 예외/쓰기모드에서는 폴더가 없으면 예외\n",
    "       \n",
    "### encoding\n",
    "         euc-kr (한글완성형) 믜x\n",
    "         cp949 (확장된 한글완성형) : open()함수 기본 encoding방식(windows)\n",
    "         utf-8 (한글조합형) : open()함수 기본 encoding방식(mac, linux), 주피터노트북 기본\n",
    "\n",
    "### text파일 읽기 명령어\n",
    "         f.readline() : 한줄 읽기\n",
    "         f.read() : 모두 읽기\n",
    "         f.readlines() : 딕셔너리로 생성하여 모두 읽기"
   ]
  },
  {
   "cell_type": "code",
   "execution_count": null,
   "id": "63cf7936",
   "metadata": {},
   "outputs": [],
   "source": [
    "# mode : 'r' 또는 'rt'(텍스트모드) : 읽기 (파일이 없는 경우 예외, 파일이 있는 경우 text읽기 모드)\n",
    "        #'rb' : 바이너리 읽기모드\n",
    "        #'w' 또는 'wt' : 쓰기 (text쓰기 모드) (파일이 있으면 덮어씀, 파일이 없으면 파일 생성)\n",
    "        #'wb' : 바이너리 쓰기 모드\n",
    "        #'a' 또는 'at' : text 추가(append) 모드(파일이 있으면 append, 파일이 없으면 파일 생성)\n",
    "        #읽기모드에서 파일이 없으면 예외/쓰기모드에서는 폴더가 없으면 예외\n",
    "# encoding\n",
    "        #euc-kr (한글완성형) 믜x\n",
    "        #cp949 (euc-kr 한글완성형) : open()함수 기본 encoding방식(windows)\n",
    "        #utf-8 (한글조합형) : open()함수 기본 encoding방식(mac, linux), 주피터노트북 기본\n",
    "with open('data/ch09.txt', 'w') as f:\n",
    "    print('쓰기 가능한지 여부 :', f.writable())\n",
    "    f.write('Hello\\nPython')"
   ]
  },
  {
   "cell_type": "code",
   "execution_count": 11,
   "id": "021ab148",
   "metadata": {},
   "outputs": [],
   "source": [
    "with open('data/ch09.txt', 'a', encoding='utf-8') as f:\n",
    "    # 방법 1\n",
    "    f.write('홍길동, 33, 아무동9\\n')\n",
    "    f.write('김길동, 22, 아무동9\\n')\n",
    "    # 방법 2\n",
    "    textlist = ['홍길동, 33, 아무동9\\n','김길동, 22, 아무동9\\n']\n",
    "    for line in textlist:\n",
    "        f.write(line)\n",
    "    # 방법 3\n",
    "    f.writelines(textlist)"
   ]
  },
  {
   "cell_type": "code",
   "execution_count": 12,
   "id": "0b684e8f",
   "metadata": {},
   "outputs": [],
   "source": [
    "with open('data/ch09.txt', 'w',) as f: # encoding 안쓰면 cp949\n",
    "    # 방법 1\n",
    "    f.write('홍길동, 33, 아무동9\\n')\n",
    "    f.write('김길동, 22, 아무동9\\n')\n",
    "    # 방법 2\n",
    "    textlist = ['홍길동, 33, 아무동9\\n','김길동, 22, 아무동9\\n']\n",
    "    for line in textlist:\n",
    "        f.write(line)\n",
    "    # 방법 3\n",
    "    f.writelines(textlist)"
   ]
  },
  {
   "cell_type": "code",
   "execution_count": 14,
   "id": "71a32a10",
   "metadata": {},
   "outputs": [
    {
     "name": "stdout",
     "output_type": "stream",
     "text": [
      "홍길동, 33, 아무동9\n",
      "\n",
      "홍길동, 33, 아무동9\n",
      "김길동, 22, 아무동9\n",
      "홍길동, 33, 아무동9\n",
      "김길동, 22, 아무동9\n",
      "홍길동, 33, 아무동9\n",
      "김길동, 22, 아무동9\n"
     ]
    }
   ],
   "source": [
    "# 한줄씩 읽기\n",
    "with open('data/ch09.txt', 'r') as f:\n",
    "    line = f.readline()\n",
    "    # print(line)\n",
    "    while line != '':\n",
    "        print(line, end='')\n",
    "        line = f.readline()"
   ]
  },
  {
   "cell_type": "code",
   "execution_count": 16,
   "id": "3b00a9a4",
   "metadata": {},
   "outputs": [
    {
     "name": "stdout",
     "output_type": "stream",
     "text": [
      "['홍길동, 33, 아무동9\\n', '김길동, 22, 아무동9\\n', '홍길동, 33, 아무동9\\n', '김길동, 22, 아무동9\\n', '홍길동, 33, 아무동9\\n', '김길동, 22, 아무동9\\n']\n"
     ]
    }
   ],
   "source": [
    "# 모든 줄을 읽기\n",
    "with open('data/ch09.txt', 'r') as f:\n",
    "    lines = f.readlines()\n",
    "    print(lines)"
   ]
  },
  {
   "cell_type": "code",
   "execution_count": 17,
   "id": "b828dd14",
   "metadata": {},
   "outputs": [
    {
     "name": "stdout",
     "output_type": "stream",
     "text": [
      "홍길동, 33, 아무동9\n",
      "김길동, 22, 아무동9\n",
      "홍길동, 33, 아무동9\n",
      "김길동, 22, 아무동9\n",
      "홍길동, 33, 아무동9\n",
      "김길동, 22, 아무동9\n",
      "\n"
     ]
    }
   ],
   "source": [
    "# 모두 읽기\n",
    "with open('data/ch09.txt', 'r') as f:\n",
    "    read = f.read()\n",
    "    print(read)"
   ]
  },
  {
   "cell_type": "markdown",
   "id": "3849bdab",
   "metadata": {},
   "source": [
    "# 2절. 피클을 이용한 객체 저장 및 불러오기\n",
    "## 2.1 형식이 있는 txt 데이터 불러오기"
   ]
  },
  {
   "cell_type": "code",
   "execution_count": 1,
   "id": "a5c58501",
   "metadata": {},
   "outputs": [],
   "source": [
    "class Member:\n",
    "    def __init__(self, name, age, email, address):\n",
    "        self.name = name\n",
    "        self.age = age\n",
    "        self.email = email\n",
    "        self.address = address\n",
    "    def __str__(self):\n",
    "        return '{}, {}, {}, {}'.format(self.name, \n",
    "                                       \"성년\" if self.age>18 else \"미성년\", \n",
    "                                       self.email, \n",
    "                                       self.address) \n",
    "    def as_dict(self):\n",
    "        return {\n",
    "               'name':self.name, \n",
    "               'age':self.age,\n",
    "               'email':self.email,\n",
    "               'address':self.address\n",
    "                   }\n",
    "    def __eq__(self, other):\n",
    "        return self.name == other.name and \\\n",
    "                self.age == other.age and \\\n",
    "                self.email == other.email and \\\n",
    "                self.address == other.address"
   ]
  },
  {
   "cell_type": "code",
   "execution_count": 25,
   "id": "9520faec",
   "metadata": {},
   "outputs": [
    {
     "name": "stdout",
     "output_type": "stream",
     "text": [
      "True\n",
      "True\n"
     ]
    }
   ],
   "source": [
    "user1 = Member('홍',20,'a@a.com','신림동')\n",
    "user2 = Member('홍',20,'a@a.com','신림동')\n",
    "print(user1==user2)\n",
    "print(user1.__eq__(user2)) # 같은 내용이면 True가 되도록 하고 싶음"
   ]
  },
  {
   "cell_type": "markdown",
   "id": "a9fa4282",
   "metadata": {},
   "source": [
    "### 형식이 있는 txt 파일 내용을 member list(피클 저장), 딕셔너리 list(데이터프레임)로 저장하기"
   ]
  },
  {
   "cell_type": "code",
   "execution_count": 2,
   "id": "59489526",
   "metadata": {},
   "outputs": [],
   "source": [
    "# 형식이 있는 txt 파일 내용을 member list(피클 저장), 딕셔너리 list(데이터프레임)로 저장하기\n",
    "user_list = [] # member list\n",
    "user_dict = [] # 딕셔너리 list\n",
    "with open('data/ch09_member.txt', 'r', encoding='utf-8') as txt_file:\n",
    "    lines = txt_file.readlines()\n",
    "#print(lines)\n",
    "for line in lines:\n",
    "    data = line.split(',')\n",
    "    #print(data)\n",
    "    name = data[0]\n",
    "    age = int(data[1].strip()) # int(data[1])해도 공백 자동제거됨. strup() : 좌우 공백(space, \\t, \\n제거\n",
    "    email = data[2].strip()\n",
    "    address = data[3].strip()\n",
    "    user = Member(name, age, email, address)\n",
    "    user_list.append(user)\n",
    "    user_dict.append(user.as_dict())\n",
    "    #user_dict.append(user.__dict__) 클래스 안만들어도 .__dict__ 쓰면 딕셔너리로 바꿔줌"
   ]
  },
  {
   "cell_type": "code",
   "execution_count": 3,
   "id": "56a5e785",
   "metadata": {},
   "outputs": [
    {
     "name": "stdout",
     "output_type": "stream",
     "text": [
      "홍길동, 성년, kildong@hong.com, 서울시 관악구\n",
      "홍길숙, 성년, kilsuk1@hong.com, 서울시 영등포구\n",
      "신길동, 성년, shinkil@hong.com, 서울시 동작구\n"
     ]
    }
   ],
   "source": [
    "for user in user_list:\n",
    "    print(user)"
   ]
  },
  {
   "cell_type": "code",
   "execution_count": 4,
   "id": "5d971113",
   "metadata": {
    "scrolled": true
   },
   "outputs": [
    {
     "name": "stdout",
     "output_type": "stream",
     "text": [
      "[{'name': '홍길동', 'age': 20, 'email': 'kildong@hong.com', 'address': '서울시 관악구'}, {'name': '홍길숙', 'age': 25, 'email': 'kilsuk1@hong.com', 'address': '서울시 영등포구'}, {'name': '신길동', 'age': 30, 'email': 'shinkil@hong.com', 'address': '서울시 동작구'}]\n"
     ]
    }
   ],
   "source": [
    "print(user_dict)"
   ]
  },
  {
   "cell_type": "markdown",
   "id": "573609b5",
   "metadata": {},
   "source": [
    "## 2.2 피클링\n",
    "- 객체 리스트(user_list) -> 피클파일로 쓰기\n",
    "- 피클 파일을 읽기 -> 객체 리스트(load_user_list)"
   ]
  },
  {
   "cell_type": "code",
   "execution_count": 5,
   "id": "b32a5486",
   "metadata": {},
   "outputs": [],
   "source": [
    "# 피클링을 이용한 객체를 저장하기 data, pkl로 저장함\n",
    "import pickle\n",
    "with open('data/ch09_member.data', 'wb') as f:\n",
    "    pickle.dump(user_list, f)"
   ]
  },
  {
   "cell_type": "code",
   "execution_count": 8,
   "id": "aebb9787",
   "metadata": {},
   "outputs": [],
   "source": [
    "# 피클링을 이용한 파일에서 객체 데이터로 읽기\n",
    "with open('data/ch09_member.data', 'rb') as f:\n",
    "    load_user_list = pickle.load(f)"
   ]
  },
  {
   "cell_type": "code",
   "execution_count": 9,
   "id": "dfc9e456",
   "metadata": {},
   "outputs": [
    {
     "data": {
      "text/plain": [
       "True"
      ]
     },
     "execution_count": 9,
     "metadata": {},
     "output_type": "execute_result"
    }
   ],
   "source": [
    "user_list == load_user_list"
   ]
  },
  {
   "cell_type": "code",
   "execution_count": 15,
   "id": "2cc43f55",
   "metadata": {},
   "outputs": [
    {
     "name": "stdout",
     "output_type": "stream",
     "text": [
      "0 홍길동, 성년, kildong@hong.com, 서울시 관악구\n",
      "0 홍길동, 성년, kildong@hong.com, 서울시 관악구\n",
      "1 홍길숙, 성년, kilsuk1@hong.com, 서울시 영등포구\n",
      "1 홍길숙, 성년, kilsuk1@hong.com, 서울시 영등포구\n",
      "2 신길동, 성년, shinkil@hong.com, 서울시 동작구\n",
      "2 신길동, 성년, shinkil@hong.com, 서울시 동작구\n"
     ]
    }
   ],
   "source": [
    "for idx in range(len(user_list)):\n",
    "    print(idx, user[idx])\n",
    "    print(idx, load_user_list[idx])"
   ]
  },
  {
   "cell_type": "code",
   "execution_count": 18,
   "id": "11b1b7c1",
   "metadata": {},
   "outputs": [
    {
     "name": "stdout",
     "output_type": "stream",
     "text": [
      "0 홍길동, 성년, kildong@hong.com, 서울시 관악구\n",
      "0 홍길동, 성년, kildong@hong.com, 서울시 관악구\n",
      "True\n",
      "1 홍길숙, 성년, kilsuk1@hong.com, 서울시 영등포구\n",
      "1 홍길숙, 성년, kilsuk1@hong.com, 서울시 영등포구\n",
      "True\n",
      "2 신길동, 성년, shinkil@hong.com, 서울시 동작구\n",
      "2 신길동, 성년, shinkil@hong.com, 서울시 동작구\n",
      "True\n"
     ]
    }
   ],
   "source": [
    "for idx, (user, load_user) in enumerate(zip(user_list, load_user_list)):\n",
    "    print(idx, user)\n",
    "    print(idx, load_user)\n",
    "    print(user==load_user)"
   ]
  },
  {
   "cell_type": "code",
   "execution_count": 20,
   "id": "5317b323",
   "metadata": {},
   "outputs": [
    {
     "data": {
      "text/plain": [
       "True"
      ]
     },
     "execution_count": 20,
     "metadata": {},
     "output_type": "execute_result"
    }
   ],
   "source": [
    "result = []\n",
    "for user, load_user in zip(user_list, load_user_list):\n",
    "    result.append(user==load_user)\n",
    "all(result)"
   ]
  },
  {
   "cell_type": "markdown",
   "id": "0401b1fb",
   "metadata": {},
   "source": [
    "# 3절. CSV형식 파일 읽기/쓰기\n",
    "- CSV파일 <-> 리스트데이터로 읽기 3.1절(읽기) / 3.2절(쓰기)\n",
    "- CSV파일 <-> 딕셔너리데이터      3.3절(읽기) / 3.4절(쓰기)\n"
   ]
  },
  {
   "cell_type": "markdown",
   "id": "9e0a806d",
   "metadata": {},
   "source": [
    "## 3.1 reader()"
   ]
  },
  {
   "cell_type": "code",
   "execution_count": 22,
   "id": "f5c84df4",
   "metadata": {},
   "outputs": [
    {
     "name": "stdout",
     "output_type": "stream",
     "text": [
      "[['홍길동', '20', 'kildong@hong.com', '서울시 관악구'], ['김길동', '40', 'kimdong@hong.com', '서울시 영등포구'], ['신길동', '30', 'sindong@hong.com', '서울시 동작구']]\n"
     ]
    }
   ],
   "source": [
    "import csv\n",
    "with open('data/ch09_member1.csv', 'r', encoding='utf-8') as f:\n",
    "    reader = csv.reader(f) # 한줄씩 읽어와서 list로 가져옴\n",
    "    result = list(reader)\n",
    "    #print(list(reader))\n",
    "print(result)"
   ]
  },
  {
   "cell_type": "code",
   "execution_count": 23,
   "id": "c34c005a",
   "metadata": {},
   "outputs": [
    {
     "name": "stdout",
     "output_type": "stream",
     "text": [
      "[['홍길동', 20.0, 'kildong@hong.com', '서울시 관악구'], ['김길동', 40.0, 'kimdong@hong.com', '서울시 영등포구'], ['신길동', 30.0, 'sindong@hong.com', '서울시 동작구']]\n"
     ]
    }
   ],
   "source": [
    "# \"\"(따옴표)가 없는 데이터는 numeric으로 가져와라(그냥숫자는 숫자로 가져와라)\n",
    "import csv\n",
    "with open('data/ch09_member1.csv', 'r', encoding='utf-8') as f:\n",
    "    reader = csv.reader(f, \n",
    "                        quoting = csv.QUOTE_NONNUMERIC) # 한줄씩 읽어와서 list로 가져옴. csv.QUOTE_NONNUMERIC : ''없는애들은 걍 가져와라\n",
    "    result = list(reader)\n",
    "    #print(list(reader))\n",
    "print(result)"
   ]
  },
  {
   "cell_type": "code",
   "execution_count": 26,
   "id": "fdc76a6e",
   "metadata": {},
   "outputs": [
    {
     "name": "stdout",
     "output_type": "stream",
     "text": [
      "[{'name': '홍길동', 'age': 20, 'email': 'kildong@hong.com', 'address': '서울시 관악구'}, {'name': '김길동', 'age': 40, 'email': 'kimdong@hong.com', 'address': '서울시 영등포구'}, {'name': '신길동', 'age': 30, 'email': 'sindong@hong.com', 'address': '서울시 동작구'}]\n"
     ]
    }
   ],
   "source": [
    "\n",
    "import csv\n",
    "with open('data/ch09_member1.csv', 'r', encoding='utf-8') as f:\n",
    "    reader = csv.reader(f, \n",
    "                        quoting = csv.QUOTE_NONNUMERIC) # 한줄씩 읽어와서 list로 가져옴. csv.QUOTE_NONNUMERIC : ''없는애들은 걍 가져와라\n",
    "    result = list(reader)\n",
    "\n",
    "dict_list = []\n",
    "for data in result:\n",
    "    dict_list.append({\n",
    "                    \n",
    "                    'name':data[0],\n",
    "                    'age':int(data[1]),\n",
    "                    'email':data[2],\n",
    "                    'address':data[3]\n",
    "                     })\n",
    "print(dict_list)"
   ]
  },
  {
   "cell_type": "markdown",
   "id": "1fcc0540",
   "metadata": {},
   "source": [
    "## 3.2 writer"
   ]
  },
  {
   "cell_type": "code",
   "execution_count": 28,
   "id": "a8c0c0ee",
   "metadata": {},
   "outputs": [],
   "source": [
    "user_list = [['홍길동', 20, 'kildong@hong.com', '서울시 관악구'], \n",
    "             ['김길동', 40, 'kimdong@hong.com', '서울시 영등포구']]"
   ]
  },
  {
   "cell_type": "code",
   "execution_count": 29,
   "id": "cba1f08f",
   "metadata": {},
   "outputs": [],
   "source": [
    "with open('data/ch09_member1_write.csv', 'a', newline='', encoding='utf-8') as f: # newline ='' \\n과 같은 역할\n",
    "    writer = csv.writer(f)\n",
    "    writer.writerows(user_list)"
   ]
  },
  {
   "cell_type": "code",
   "execution_count": 30,
   "id": "4e35a635",
   "metadata": {},
   "outputs": [],
   "source": [
    "import csv\n",
    "with open('data/ch09_member1_write.csv', 'w', newline='', encoding='utf-8') as f: # newline ='' \\n과 같은 역할\n",
    "    writer = csv.writer(f,\n",
    "                       quoting = csv.QUOTE_NONNUMERIC) #csv.QUOTE_NONNUMERIC : ''없는애들은 걍 가져와라\n",
    "    writer.writerows(user_list)"
   ]
  },
  {
   "cell_type": "code",
   "execution_count": 31,
   "id": "030133e6",
   "metadata": {},
   "outputs": [
    {
     "name": "stdout",
     "output_type": "stream",
     "text": [
      "[['홍길동', 20, 'kildong@hong.com', '서울시 관악구'], ['김길동', 40, 'kimdong@hong.com', '서울시 영등포구']]\n"
     ]
    }
   ],
   "source": [
    "print(user_list)"
   ]
  },
  {
   "cell_type": "markdown",
   "id": "84f2f47a",
   "metadata": {},
   "source": [
    "## 3.3 DictReader"
   ]
  },
  {
   "cell_type": "code",
   "execution_count": 33,
   "id": "ad75543c",
   "metadata": {},
   "outputs": [
    {
     "name": "stdout",
     "output_type": "stream",
     "text": [
      "{'name': '홍길동', 'age': '20', 'email': 'h@h.com', 'address': '서울시 관악구', 'job': None}\n",
      "{'name': '신길동', 'age': '40', 'email': 's@h.com', 'address': '서울시 영등포구', 'job': '팀장'}\n",
      "{'name': '김길동', 'age': '30', 'email': 'k@h.com', 'address': '서울시 동작구', 'job': None}\n"
     ]
    }
   ],
   "source": [
    "import csv\n",
    "with open('data/ch09_member3.csv', 'r', encoding='utf-8') as f:\n",
    "    dict_reader = csv.DictReader(f)\n",
    "    for row in dict_reader:\n",
    "        print(row)"
   ]
  },
  {
   "cell_type": "code",
   "execution_count": 37,
   "id": "0258b751",
   "metadata": {},
   "outputs": [
    {
     "name": "stdout",
     "output_type": "stream",
     "text": [
      "홍길동 20 h@h.com 서울시 관악구\n",
      "신길동 40 s@h.com 서울시 영등포구 팀장\n",
      "김길동 30 k@h.com 서울시 동작구\n"
     ]
    }
   ],
   "source": [
    "import csv\n",
    "with open('data/ch09_member3.csv', 'r', encoding='utf-8') as f:\n",
    "    dict_reader = csv.DictReader(f)\n",
    "    for row in dict_reader:\n",
    "        if row['job'] is None:\n",
    "            print(row['name'],row['age'],row['email'],row['address'])\n",
    "        else:\n",
    "            print(row['name'],row['age'],row['email'],row['address'],row['job'])"
   ]
  },
  {
   "cell_type": "code",
   "execution_count": 39,
   "id": "cb4de996",
   "metadata": {},
   "outputs": [
    {
     "name": "stdout",
     "output_type": "stream",
     "text": [
      "[{'name': '홍길동', 'age': '20', 'email': 'h@h.com', 'address': '서울시 관악구', 'job': None}, {'name': '신길동', 'age': '40', 'email': 's@h.com', 'address': '서울시 영등포구', 'job': '팀장'}, {'name': '김길동', 'age': '30', 'email': 'k@h.com', 'address': '서울시 동작구', 'job': None}]\n",
      "홍길동 20 h@h.com 서울시 관악구\n",
      "신길동 40 s@h.com 서울시 영등포구 팀장\n",
      "김길동 30 k@h.com 서울시 동작구\n"
     ]
    }
   ],
   "source": [
    "import csv\n",
    "with open('data/ch09_member3.csv', 'r', encoding='utf-8') as f:\n",
    "    dict_reader = csv.DictReader(f)\n",
    "    dict_list = list(dict_reader)\n",
    "print(dict_list)\n",
    "for row in dict_list:\n",
    "    if row['job'] is None:\n",
    "        print(row['name'],row['age'],row['email'],row['address'])\n",
    "    else:\n",
    "        print(row['name'],row['age'],row['email'],row['address'],row['job'])"
   ]
  },
  {
   "cell_type": "markdown",
   "id": "34d1f657",
   "metadata": {},
   "source": [
    "#### header가 없는 csv파일을 딕셔너리로 읽기"
   ]
  },
  {
   "cell_type": "code",
   "execution_count": 46,
   "id": "0ec84b02",
   "metadata": {},
   "outputs": [
    {
     "name": "stdout",
     "output_type": "stream",
     "text": [
      "{'Name': '홍길동', 'Age': '20', 'Email': 'kildong@hong.com', 'Address': '서울시 관악구', 'Job': ''}\n",
      "{'Name': '김길동', 'Age': '40', 'Email': 'kimdong@hong.com', 'Address': '서울시 영등포구', 'Job': '팀장'}\n",
      "{'Name': '신길동', 'Age': '30', 'Email': 'sindong@hong.com', 'Address': '서울시 동작구', 'Job': ''}\n"
     ]
    }
   ],
   "source": [
    "# header가 없는 csv파일(ch09_member1-cp.csv)을 딕셔너리로 읽기\n",
    "with open('data/ch09_member1-cp.csv', encoding='cp949') as f:\n",
    "    dict_reader = csv.DictReader(f, fieldnames=['Name','Age','Email','Address','Job']) # fieldnames= [] header 생성\n",
    "    #print(list(dict_reader))\n",
    "    result = list(dict_reader)\n",
    "    for row in result:\n",
    "        print(row)"
   ]
  },
  {
   "cell_type": "code",
   "execution_count": 48,
   "id": "efc421c3",
   "metadata": {},
   "outputs": [
    {
     "name": "stdout",
     "output_type": "stream",
     "text": [
      "{'Name': '홍길동', 'Age': '20', 'Email': 'kildong@hong.com', 'Address': '서울시 관악구', 'Job': ['']}\n",
      "{'Name': '김길동', 'Age': '40', 'Email': 'kimdong@hong.com', 'Address': '서울시 영등포구', 'Job': ['팀장']}\n",
      "{'Name': '신길동', 'Age': '30', 'Email': 'sindong@hong.com', 'Address': '서울시 동작구', 'Job': ['']}\n"
     ]
    }
   ],
   "source": [
    "# header가 없는 csv파일(ch09_member1-cp.csv)을 딕셔너리로 읽기\n",
    "with open('data/ch09_member1-cp.csv', encoding='cp949') as f:\n",
    "    dict_reader = csv.DictReader(f, fieldnames=['Name','Age','Email','Address'],\n",
    "                                    restkey='Job') # fieldnames= [] header 생성. restkey='job' 비어있는 키값을 추가해줌\n",
    "    #print(list(dict_reader))\n",
    "    result = list(dict_reader)\n",
    "    for row in result:\n",
    "        print(row)"
   ]
  },
  {
   "cell_type": "markdown",
   "id": "9c3bf733",
   "metadata": {},
   "source": [
    "## 3.4 DictWriter\n",
    "- 딕셔너리 리스트 -> CSV파일로 출력"
   ]
  },
  {
   "cell_type": "code",
   "execution_count": 58,
   "id": "70b785e2",
   "metadata": {},
   "outputs": [],
   "source": [
    "user1 = {'name':'홍길동','age':22,'email':'a@a.com','address':'신림동'}\n",
    "user2 = {'name':'신길동','age':32,'email':'b@a.com','address':'신길동'}\n",
    "user3 = {'name':'김길동','age':42,'email':'c@a.com','address':'신림동'}\n",
    "user_list = [user1,user2,user3]\n",
    "fieldnames = list(user1.keys())"
   ]
  },
  {
   "cell_type": "code",
   "execution_count": 60,
   "id": "27498be4",
   "metadata": {},
   "outputs": [],
   "source": [
    "with open('data/ch09_member4.csv', 'w', encoding='utf-8', newline='') as f:\n",
    "    dict_writer = csv.DictWriter(f, \n",
    "                                 fieldnames=fieldnames)\n",
    "    dict_writer.writeheader() # header 쓰기. 'a' : append 모드로 할때는 헤더 추가할 필요없음. 매개변수.writeheader()\n",
    "    dict_writer.writerows(user_list) # 리스트 내용 전체를 파일안에 넣기. 매개변수.writerows(리스트)"
   ]
  },
  {
   "cell_type": "code",
   "execution_count": 54,
   "id": "611fce1f",
   "metadata": {
    "scrolled": true
   },
   "outputs": [
    {
     "data": {
      "text/plain": [
       "['name', 'age', 'email', 'address']"
      ]
     },
     "execution_count": 54,
     "metadata": {},
     "output_type": "execute_result"
    }
   ],
   "source": [
    "list(user1.keys())"
   ]
  },
  {
   "cell_type": "code",
   "execution_count": 55,
   "id": "b3e3b7d9",
   "metadata": {},
   "outputs": [
    {
     "data": {
      "text/plain": [
       "['홍길동', 22, 'a@a.com', '신림동']"
      ]
     },
     "execution_count": 55,
     "metadata": {},
     "output_type": "execute_result"
    }
   ],
   "source": [
    "list(user1.values())"
   ]
  },
  {
   "cell_type": "code",
   "execution_count": 56,
   "id": "d9c6901b",
   "metadata": {},
   "outputs": [
    {
     "data": {
      "text/plain": [
       "[('name', '홍길동'), ('age', 22), ('email', 'a@a.com'), ('address', '신림동')]"
      ]
     },
     "execution_count": 56,
     "metadata": {},
     "output_type": "execute_result"
    }
   ],
   "source": [
    "list(user1.items())"
   ]
  },
  {
   "cell_type": "markdown",
   "id": "8fd21385",
   "metadata": {},
   "source": [
    "## CSV <-> 데이터프레임\n",
    "#### 판다스 pandas as pd"
   ]
  },
  {
   "cell_type": "code",
   "execution_count": 61,
   "id": "b9b95623",
   "metadata": {},
   "outputs": [
    {
     "data": {
      "text/html": [
       "<div>\n",
       "<style scoped>\n",
       "    .dataframe tbody tr th:only-of-type {\n",
       "        vertical-align: middle;\n",
       "    }\n",
       "\n",
       "    .dataframe tbody tr th {\n",
       "        vertical-align: top;\n",
       "    }\n",
       "\n",
       "    .dataframe thead th {\n",
       "        text-align: right;\n",
       "    }\n",
       "</style>\n",
       "<table border=\"1\" class=\"dataframe\">\n",
       "  <thead>\n",
       "    <tr style=\"text-align: right;\">\n",
       "      <th></th>\n",
       "      <th>name</th>\n",
       "      <th>age</th>\n",
       "      <th>email</th>\n",
       "      <th>address</th>\n",
       "      <th>job</th>\n",
       "    </tr>\n",
       "  </thead>\n",
       "  <tbody>\n",
       "    <tr>\n",
       "      <th>0</th>\n",
       "      <td>홍길동</td>\n",
       "      <td>20</td>\n",
       "      <td>h@h.com</td>\n",
       "      <td>서울시 관악구</td>\n",
       "      <td>NaN</td>\n",
       "    </tr>\n",
       "    <tr>\n",
       "      <th>1</th>\n",
       "      <td>신길동</td>\n",
       "      <td>40</td>\n",
       "      <td>s@h.com</td>\n",
       "      <td>서울시 영등포구</td>\n",
       "      <td>팀장</td>\n",
       "    </tr>\n",
       "    <tr>\n",
       "      <th>2</th>\n",
       "      <td>김길동</td>\n",
       "      <td>30</td>\n",
       "      <td>k@h.com</td>\n",
       "      <td>서울시 동작구</td>\n",
       "      <td>NaN</td>\n",
       "    </tr>\n",
       "  </tbody>\n",
       "</table>\n",
       "</div>"
      ],
      "text/plain": [
       "  name  age    email   address  job\n",
       "0  홍길동   20  h@h.com   서울시 관악구  NaN\n",
       "1  신길동   40  s@h.com  서울시 영등포구   팀장\n",
       "2  김길동   30  k@h.com   서울시 동작구  NaN"
      ]
     },
     "execution_count": 61,
     "metadata": {},
     "output_type": "execute_result"
    }
   ],
   "source": [
    "import pandas as pd\n",
    "member = pd.read_csv('data/ch09_member3.csv', encoding='utf-8') # 판다스는 기본이 utf-8임\n",
    "member"
   ]
  },
  {
   "cell_type": "code",
   "execution_count": 62,
   "id": "e1de3579",
   "metadata": {},
   "outputs": [
    {
     "data": {
      "text/plain": [
       "pandas.core.frame.DataFrame"
      ]
     },
     "execution_count": 62,
     "metadata": {},
     "output_type": "execute_result"
    }
   ],
   "source": [
    "type(member)"
   ]
  },
  {
   "cell_type": "markdown",
   "id": "35877ca1",
   "metadata": {},
   "source": [
    "# 4절. JSON 데이터 저장하고 불러오기(dump, load)\n",
    "- 딕셔너리 리스트 <-> JSON 파일\n",
    "- 객체리스트 <-> JSON 파일\n",
    "## 4.1 dump(파일 출력)\n",
    "```\n",
    "- ensure_ascii 매개변수\n",
    "    True : 비 ASCII문은 유니코드 형태로 저장\n",
    "    False : 비 ASCII 문자 원래 형태로 저장\n",
    "```"
   ]
  },
  {
   "cell_type": "code",
   "execution_count": 63,
   "id": "e8a44532",
   "metadata": {},
   "outputs": [],
   "source": [
    "data = [{'name': '홍길동', 'age': 20, 'email': 'kildong@hong.com', 'address': '서울'},\n",
    "        {'name': '김길동', 'age': 30, 'email': 'giadong@hong.com', 'address': '인천'}]"
   ]
  },
  {
   "cell_type": "code",
   "execution_count": 65,
   "id": "3c264249",
   "metadata": {},
   "outputs": [],
   "source": [
    "# ensure_ascii 매개변수\n",
    "    # True : 비 ASCII문은 유니코드 형태로 저장\n",
    "    # False : 비 ASCII 문자 원래 형태로 저장\n",
    "import json\n",
    "with open('data/ch09_member.json', 'w', encoding='utf-8') as jsonfile:\n",
    "    json.dump(data, # 딕셔너리 리스트\n",
    "             jsonfile,\n",
    "             ensure_ascii=False,\n",
    "             indent='\\t')"
   ]
  },
  {
   "cell_type": "code",
   "execution_count": 79,
   "id": "a7ed7bf4",
   "metadata": {},
   "outputs": [],
   "source": [
    "class Member:\n",
    "    def __init__(self, name, age, email, address):\n",
    "        self.name = name\n",
    "        self.age = age\n",
    "        self.email = email\n",
    "        self.address = address\n",
    "    def __str__(self):\n",
    "        return '{}, {}, {}, {}'.format(self.name, \n",
    "                                       self.age, \n",
    "                                       self.email, \n",
    "                                       self.address) \n",
    "    def as_dict(self):\n",
    "        return {\n",
    "               'name':self.name, \n",
    "               'age':self.age,\n",
    "               'email':self.email,\n",
    "               'address':self.address\n",
    "                   }\n",
    "    def __eq__(self, other):\n",
    "        if isinstance(other, Member):\n",
    "            return self.__dict__ == other.__dict__\n",
    "#               return self.__str__() == other.__str__()\n",
    "#             return self.name == other.name and \\\n",
    "#                     self.age == other.age and \\\n",
    "#                     self.email == other.email and \\\n",
    "#                     self.address == other.address\n",
    "#             return self.__dict__ == other.__dict__\n",
    "        else:\n",
    "            return False"
   ]
  },
  {
   "cell_type": "code",
   "execution_count": 80,
   "id": "d49c3ad3",
   "metadata": {},
   "outputs": [
    {
     "name": "stdout",
     "output_type": "stream",
     "text": [
      "True\n",
      "True\n",
      "False\n",
      "False\n"
     ]
    }
   ],
   "source": [
    "user1 = Member('홍길동',22,'a@a.com','신림동')\n",
    "user2 = Member('홍길동',22,'a@a.com','신림동')\n",
    "print(user1.__eq__(user2))\n",
    "print(user1==user2)\n",
    "print(user1.__eq__('홍길동'))\n",
    "print(user1=='홍길동')"
   ]
  },
  {
   "cell_type": "code",
   "execution_count": 81,
   "id": "8e52fc7e",
   "metadata": {},
   "outputs": [],
   "source": [
    "member_list = [Member('홍길동',22,'a@a.com','인천'),\n",
    "              Member('신길동',32,'a@a.com','서울'),\n",
    "              Member('김길동',42,'a@a.com','경기')]"
   ]
  },
  {
   "cell_type": "code",
   "execution_count": 82,
   "id": "326c810d",
   "metadata": {},
   "outputs": [],
   "source": [
    "with open('data/ch09_member1.json', 'w', encoding='utf-8') as jsonfile:\n",
    "    json.dump(member_list, # 객체 리스트\n",
    "             jsonfile,\n",
    "             ensure_ascii=False,\n",
    "             indent='\\t',\n",
    "             default=Member.as_dict # 객체를 딕셔너리로 return 하는 인스턴스 함수\n",
    "             )"
   ]
  },
  {
   "cell_type": "markdown",
   "id": "13cba804",
   "metadata": {},
   "source": [
    "# 4.2 load(파일 입력)\n",
    "- json파일 -> 딕셔너리 리스트(기본)\n",
    "                    ↓\n",
    "- json파일 -> 객체 리스트"
   ]
  },
  {
   "cell_type": "code",
   "execution_count": 86,
   "id": "904a9061",
   "metadata": {},
   "outputs": [],
   "source": [
    "def as_member(dic):\n",
    "    '매개변수로 딕셔너리를 받아 Member 객체를 return'\n",
    "    return Member(dic.get('name'), dic['age'],dic.get('email'),dic.get('address'))"
   ]
  },
  {
   "cell_type": "code",
   "execution_count": 88,
   "id": "5ef658ed",
   "metadata": {},
   "outputs": [
    {
     "name": "stdout",
     "output_type": "stream",
     "text": [
      "김길동, 20, z@a.com, 관약\n"
     ]
    }
   ],
   "source": [
    "member = as_member({'name':'김길동','age':20,'email':'z@a.com','address':'관약'})\n",
    "print(member)"
   ]
  },
  {
   "cell_type": "code",
   "execution_count": 89,
   "id": "8faae53e",
   "metadata": {},
   "outputs": [
    {
     "data": {
      "text/plain": [
       "[{'name': '홍길동', 'age': 20, 'email': 'kildong@hong.com', 'address': '서울'},\n",
       " {'name': '김길동', 'age': 30, 'email': 'giadong@hong.com', 'address': '인천'}]"
      ]
     },
     "execution_count": 89,
     "metadata": {},
     "output_type": "execute_result"
    }
   ],
   "source": [
    "with open('data/ch09_member.json', 'r', encoding='utf-8') as f:\n",
    "    load_data = json.load(f)\n",
    "load_data"
   ]
  },
  {
   "cell_type": "code",
   "execution_count": 92,
   "id": "dd4c93e4",
   "metadata": {},
   "outputs": [
    {
     "name": "stdout",
     "output_type": "stream",
     "text": [
      "홍길동, 22, a@a.com, 인천\n",
      "신길동, 32, a@a.com, 서울\n",
      "김길동, 42, a@a.com, 경기\n"
     ]
    }
   ],
   "source": [
    "with open('data/ch09_member1.json', 'r', encoding='utf-8') as f:\n",
    "    load_member_list = json.load(f, object_hook=as_member)\n",
    "for load_member in load_member_list:\n",
    "    print(load_member)"
   ]
  },
  {
   "cell_type": "markdown",
   "id": "13071315",
   "metadata": {},
   "source": [
    "## JSON -> 데이터프레임"
   ]
  },
  {
   "cell_type": "code",
   "execution_count": 93,
   "id": "95adf490",
   "metadata": {},
   "outputs": [
    {
     "data": {
      "text/html": [
       "<div>\n",
       "<style scoped>\n",
       "    .dataframe tbody tr th:only-of-type {\n",
       "        vertical-align: middle;\n",
       "    }\n",
       "\n",
       "    .dataframe tbody tr th {\n",
       "        vertical-align: top;\n",
       "    }\n",
       "\n",
       "    .dataframe thead th {\n",
       "        text-align: right;\n",
       "    }\n",
       "</style>\n",
       "<table border=\"1\" class=\"dataframe\">\n",
       "  <thead>\n",
       "    <tr style=\"text-align: right;\">\n",
       "      <th></th>\n",
       "      <th>name</th>\n",
       "      <th>age</th>\n",
       "      <th>email</th>\n",
       "      <th>address</th>\n",
       "    </tr>\n",
       "  </thead>\n",
       "  <tbody>\n",
       "    <tr>\n",
       "      <th>0</th>\n",
       "      <td>홍길동</td>\n",
       "      <td>22</td>\n",
       "      <td>a@a.com</td>\n",
       "      <td>인천</td>\n",
       "    </tr>\n",
       "    <tr>\n",
       "      <th>1</th>\n",
       "      <td>신길동</td>\n",
       "      <td>32</td>\n",
       "      <td>a@a.com</td>\n",
       "      <td>서울</td>\n",
       "    </tr>\n",
       "    <tr>\n",
       "      <th>2</th>\n",
       "      <td>김길동</td>\n",
       "      <td>42</td>\n",
       "      <td>a@a.com</td>\n",
       "      <td>경기</td>\n",
       "    </tr>\n",
       "  </tbody>\n",
       "</table>\n",
       "</div>"
      ],
      "text/plain": [
       "  name  age    email address\n",
       "0  홍길동   22  a@a.com      인천\n",
       "1  신길동   32  a@a.com      서울\n",
       "2  김길동   42  a@a.com      경기"
      ]
     },
     "execution_count": 93,
     "metadata": {},
     "output_type": "execute_result"
    }
   ],
   "source": [
    "import pandas as pd\n",
    "pd.read_json('data/ch09_member1.json') # , encoding='cp949' 등을 정의 해주어도 됨\n",
    "# pd.함수() : encoding='utf-8' 기본값\n",
    "# open(파일, 모드)함수 : encoding='cp949' 기본값"
   ]
  },
  {
   "cell_type": "code",
   "execution_count": null,
   "id": "5592c0a5",
   "metadata": {},
   "outputs": [],
   "source": []
  },
  {
   "cell_type": "markdown",
   "id": "14f41c5f",
   "metadata": {},
   "source": [
    "## 연습문제"
   ]
  },
  {
   "cell_type": "code",
   "execution_count": null,
   "id": "aad51d76",
   "metadata": {},
   "outputs": [],
   "source": [
    "'''\n",
    "기능별 함수를 작성한다\n",
    "\n",
    "if __name__ == \"__main__\":\n",
    "    main()\n",
    "데이터가 로드 되었습니다.\n",
    "1:입력|2:전체출력|3:삭제|4:이름찾기|5:내보내기(CSV)|9:종료 메뉴 선택 : 1\n",
    "이름 : 홍길동\n",
    "전화번호 : 010-8888-8888\n",
    "이메일 : hong2@abc.com\n",
    "나이 : 31\n",
    "고객등급(1-5) :5\n",
    "기타 정보 : abc\n",
    "1:입력|2:전체출력|3:삭제|4:이름찾기|5:내보내기(CSV)|9:종료 메뉴 선택 : 2\n",
    "========================================================================\n",
    "        고객    정보\n",
    "------------------------------------------------------------------------\n",
    "GRADE 이름    전화               메일                  나이  기타\n",
    "========================================================================\n",
    "   ** 유길동  010-5432-2222     yu@hong.com             20   까칠해\n",
    "***** 홍길동  010-9999-9999     hong@mega_it.com        30   열심히\n",
    "***** 홍길동  010-8888-8888     hong2@abc.com           31   abc\n",
    "========================================================================\n",
    "\n",
    "실행하면 data/ch09_customers.txt 파일의 내용을 load(customer_list),\n",
    "파일이 존재하지 않으면 빈 customers.txt 파일을 생성하고 데이터는 customer_list=[]\n",
    "종료시 data/ch09_customers.txt에 데이터 백업후 종료(9번기능)\n",
    "\n",
    "1:입력|2:전체출력|3:삭제|4:이름찾기|5:내보내기(CSV)|9:종료 메뉴 선택 : 4\n",
    "찾을 고객 이름은 ? 홍길동\n",
    "========================================================================\n",
    "        고객    정보\n",
    "------------------------------------------------------------------------\n",
    "GRADE 이름    전화               메일                  나이  기타\n",
    "========================================================================\n",
    "***** 홍길동  010-9999-9999     hong@mega_it.com        30   열심히\n",
    "***** 홍길동  010-8888-8888     hong2@abc.com           31   abc\n",
    "========================================================================\n",
    "1:입력|2:전체출력|3:삭제|4:이름찾기|5:내보내기(CSV)|9:종료 메뉴 선택 : 5\n",
    "저장할 파일 이름은 : abc.csv\n",
    "1:입력|2:전체출력|3:삭제|4:이름찾기|5:내보내기(CSV)|9:종료 메뉴 선택 : 4\n",
    "찾을 고객 이름은 ? 유길동\n",
    "========================================================================\n",
    "        고객    정보\n",
    "------------------------------------------------------------------------\n",
    "GRADE 이름    전화               메일                  나이  기타\n",
    "========================================================================\n",
    "   ** 유길동  010-5432-2222     yu@hong.com             20   까칠해\n",
    "========================================================================\n",
    "1:입력|2:전체출력|3:삭제|4:이름찾기|5:내보내기(CSV)|9:종료 메뉴 선택 : 9\n",
    "'''"
   ]
  },
  {
   "cell_type": "code",
   "execution_count": null,
   "id": "0246dceb",
   "metadata": {},
   "outputs": [],
   "source": [
    "class Custmer:\n",
    "    def __init__(self, name, phone, email, age, grade, etc):\n",
    "    def as_dic(self): #객체를 딕셔너리데이터로 반환 (csv 파일 저장시\n",
    "    def to_list_style(self): #객체를 list return([ 홍길동 010 8999 9999, e@e.com, 20, 3, 까칠해\n",
    "    def __str__(self): # ***홍길동 010 8999 9999 e@e.com 20 까칠해\n",
    "\n",
    "def to_customer(row): # txt파일 내용 한줄 홍길동 , 010 8999 9999, e@e.com, 20, 3, 까칠해 을 Customer 객체로 반환\n",
    "# 0.실행하면 data/ch09_customers.txt 파일의 내용을 load(customer_list)\n",
    "#       data/ch09_customers.txt이 존재하지 않으면\n",
    "#                       빈 data/ch09_customers.txt 파일을 생성하고\n",
    "#                              데이터는 customer_list=[]\n",
    "def load_customers():\n",
    "\n",
    "# 1.입력\n",
    "def fn1_insert_customer_info():\n",
    "\n",
    "# 2.전체 출력\n",
    "def fn2_print_customers(customer_list):\n",
    "\n",
    "# 3.삭제 동명이인이 있다고 할지 동명이인이 없다고 할지 미리 정해놓고 구현\n",
    "def fn3_delete_customer(customer_list):\n",
    "\n",
    "# 4.이름찾기 동명이인이 있다고 할지 없다고 할지 정한대로 구현\n",
    "def fn4_search_customer(customer_list):\n",
    "\n",
    "# 5.내보내기 (CSV)\n",
    "def fn5_save_customer_csv(customer_list):\n",
    "\n",
    "# 9.종료 종료하기 전 customer_list 를 txt 파일에 저장하고 종료\n",
    "def fn9_save_customer_txt(customer_list):"
   ]
  },
  {
   "cell_type": "code",
   "execution_count": null,
   "id": "4371f90f",
   "metadata": {},
   "outputs": [],
   "source": [
    "import os\n",
    "import csv\n",
    "\n",
    "class Customer:\n",
    "    def __init__(self, name, phone, email, age, grade, etc):\n",
    "        self.name = name\n",
    "        self.phone = phone\n",
    "        self.email = email\n",
    "        self.age = int(age)\n",
    "        self.grade = int(grade)\n",
    "        self.etc = etc\n",
    "\n",
    "    def as_dic(self):\n",
    "        return {\n",
    "            'name': self.name,\n",
    "            'phone': self.phone,\n",
    "            'email': self.email,\n",
    "            'age': self.age,\n",
    "            'grade': self.grade,\n",
    "            'etc': self.etc\n",
    "        }\n",
    "\n",
    "    def to_list_style(self):\n",
    "        return [self.name, self.phone, self.email, self.age, self.grade, self.etc]\n",
    "\n",
    "    def __str__(self):\n",
    "        stars = '*' * self.grade\n",
    "        return f'{stars:>6} {self.name:<6} {self.phone:<15} {self.email:<20} {self.age:<3} {self.etc}'\n",
    "\n",
    "\n",
    "def to_customer(row):\n",
    "    return Customer(row[0], row[1], row[2], row[3], row[4], row[5])\n",
    "\n",
    "\n",
    "def load_customers():\n",
    "    filepath = 'data/ch09_customers.txt'\n",
    "    if not os.path.exists(filepath):\n",
    "        os.makedirs(os.path.dirname(filepath), exist_ok=True)\n",
    "        open(filepath, 'w', encoding='utf-8').close()\n",
    "        return []\n",
    "    with open(filepath, 'r', encoding='utf-8') as f:\n",
    "        lines = csv.reader(f)\n",
    "        return [to_customer(row) for row in lines]\n",
    "\n",
    "\n",
    "def fn1_insert_customer_info(customer_list, inputs):\n",
    "    name, phone, email, age, grade, etc = inputs\n",
    "    customer_list.append(Customer(name, phone, email, age, grade, etc))\n",
    "\n",
    "\n",
    "def fn2_print_customers(customer_list):\n",
    "    print('='*72)\n",
    "    print('        고객    정보')\n",
    "    print('-'*72)\n",
    "    print('GRADE 이름    전화               메일                  나이  기타')\n",
    "    print('='*72)\n",
    "    for c in customer_list:\n",
    "        print(c)\n",
    "    print('='*72)\n",
    "\n",
    "\n",
    "def fn3_delete_customer(customer_list, name):\n",
    "    new_list = [c for c in customer_list if c.name != name]\n",
    "    if len(new_list) != len(customer_list):\n",
    "        print(f'{name} 고객 정보가 삭제되었습니다.')\n",
    "    else:\n",
    "        print(f'{name} 고객을 찾을 수 없습니다.')\n",
    "    return new_list\n",
    "\n",
    "\n",
    "def fn4_search_customer(customer_list, name):\n",
    "    found = [c for c in customer_list if c.name == name]\n",
    "    if found:\n",
    "        fn2_print_customers(found)\n",
    "    else:\n",
    "        print(f'{name} 고객을 찾을 수 없습니다.')\n",
    "\n",
    "\n",
    "def fn5_save_customer_csv(customer_list, filename):\n",
    "    with open(filename, 'w', newline='', encoding='utf-8') as f:\n",
    "        writer = csv.writer(f)\n",
    "        for c in customer_list:\n",
    "            writer.writerow(c.to_list_style())\n",
    "    print(f'{filename} 파일로 저장되었습니다.')\n",
    "\n",
    "\n",
    "def fn9_save_customer_txt(customer_list):\n",
    "    with open('data/ch09_customers.txt', 'w', newline='', encoding='utf-8') as f:\n",
    "        writer = csv.writer(f)\n",
    "        for c in customer_list:\n",
    "            writer.writerow(c.to_list_style())\n",
    "\n",
    "\n",
    "def main():\n",
    "    customer_list = load_customers()\n",
    "    print('데이터가 로드 되었습니다.')\n",
    "\n",
    "    # 시뮬레이션용 미리 정의된 입력 값들\n",
    "    test_inputs = [\n",
    "        ('1', ['홍길동', '010-8888-8888', 'hong2@abc.com', '31', '5', 'abc']),\n",
    "        ('2',),\n",
    "        ('4', '홍길동'),\n",
    "        ('5', 'abc.csv'),\n",
    "        ('9',)\n",
    "    ]\n",
    "\n",
    "    for command in test_inputs:\n",
    "        choice = command[0]\n",
    "        if choice == '1':\n",
    "            fn1_insert_customer_info(customer_list, command[1])\n",
    "        elif choice == '2':\n",
    "            fn2_print_customers(customer_list)\n",
    "        elif choice == '3':\n",
    "            customer_list = fn3_delete_customer(customer_list, command[1])\n",
    "        elif choice == '4':\n",
    "            fn4_search_customer(customer_list, command[1])\n",
    "        elif choice == '5':\n",
    "            fn5_save_customer_csv(customer_list, command[1])\n",
    "        elif choice == '9':\n",
    "            fn9_save_customer_txt(customer_list)\n",
    "            print('종료합니다.')\n",
    "            break\n",
    "        else:\n",
    "            print('올바른 메뉴를 선택해주세요.')\n",
    "\n",
    "if __name__ == \"__main__\":\n",
    "    try:\n",
    "        main()\n",
    "    except OSError as e:\n",
    "        print(f\"파일 시스템 오류 발생: {e}\")\n",
    "    except Exception as e:\n",
    "        print(f\"알 수 없는 오류 발생: {e}\")"
   ]
  }
 ],
 "metadata": {
  "kernelspec": {
   "display_name": "Python 3 (ipykernel)",
   "language": "python",
   "name": "python3"
  },
  "language_info": {
   "codemirror_mode": {
    "name": "ipython",
    "version": 3
   },
   "file_extension": ".py",
   "mimetype": "text/x-python",
   "name": "python",
   "nbconvert_exporter": "python",
   "pygments_lexer": "ipython3",
   "version": "3.10.9"
  },
  "toc": {
   "base_numbering": 1,
   "nav_menu": {},
   "number_sections": false,
   "sideBar": true,
   "skip_h1_title": false,
   "title_cell": "Table of Contents",
   "title_sidebar": "Contents",
   "toc_cell": false,
   "toc_position": {
    "height": "calc(100% - 180px)",
    "left": "10px",
    "top": "150px",
    "width": "178.6px"
   },
   "toc_section_display": true,
   "toc_window_display": true
  }
 },
 "nbformat": 4,
 "nbformat_minor": 5
}
